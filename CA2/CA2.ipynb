{
 "cells": [
  {
   "cell_type": "markdown",
   "metadata": {},
   "source": [
    "# Compulsory 2 - Erlend Risvik\n",
    "\n",
    "Start by loading in the secret ID"
   ]
  },
  {
   "cell_type": "code",
   "execution_count": 88,
   "metadata": {},
   "outputs": [],
   "source": [
    "import ast\n",
    "import requests\n",
    "import pandas as pd\n",
    "from pyspark.sql import SparkSession\n",
    "import os\n",
    "\n",
    "SECRET_INFO = open(\"../NO_SYNC/weather_api\", 'r').read().replace('\\n', '')\n",
    "SECRET_ID = ast.literal_eval(SECRET_INFO)[\"client_id\"]"
   ]
  },
  {
   "cell_type": "markdown",
   "metadata": {},
   "source": [
    "In CA1, we selected locality 12765.\n",
    "\n",
    "Let's start by finding out the GPS coordinates of our locality"
   ]
  },
  {
   "cell_type": "code",
   "execution_count": 41,
   "metadata": {},
   "outputs": [],
   "source": [
    "os.environ[\"PYSPARK_PYTHON\"] = \"python\"\n",
    "\n",
    "spark = SparkSession.builder.appName('SparkCassandraApp').\\\n",
    "    config('spark.jars.packages', 'com.datastax.spark:spark-cassandra-connector_2.12:3.4.1').\\\n",
    "    config('spark.cassandra.connection.host', 'localhost').\\\n",
    "    config('spark.sql.extensions', 'com.datastax.spark.connector.CassandraSparkExtensions').\\\n",
    "    config('spark.sql.catalog.mycatalog', 'com.datastax.spark.connector.datasource.CassandraCatalog').\\\n",
    "    config('spark.cassandra.connection.port', '9042').getOrCreate()\n",
    "\n",
    "(spark.read.format(\"org.apache.spark.sql.cassandra\")\n",
    " .options(table=\"fish_data_full\", keyspace=\"compulsory\")\n",
    " .load()\n",
    " .createOrReplaceTempView(\"fish_data_full\"))\n",
    "\n",
    "fish_data = spark.sql(\"select localityno, lon, lat, municipality, name from fish_data_full\").toPandas()"
   ]
  },
  {
   "cell_type": "code",
   "execution_count": 109,
   "metadata": {},
   "outputs": [
    {
     "name": "stdout",
     "output_type": "stream",
     "text": [
      "Lon: 9.9740\n",
      "Lat: 62.0940\n",
      "Municipality: Folldal\n",
      "Place: Aasen Gård\n"
     ]
    }
   ],
   "source": [
    "# Select the GPS coordinates of locality 12765, and separate them by space\n",
    "lat = round(fish_data.loc[fish_data['localityno'] == 12765, 'lat'].values[0], 3)\n",
    "lon = round(fish_data.loc[fish_data['localityno'] == 12765, 'lon'].values[0], 3)\n",
    "# Select the municipality and name of the same locality\n",
    "\n",
    "municipality = fish_data.loc[fish_data['localityno'] == 12765, 'municipality'].values[0]\n",
    "name = fish_data.loc[fish_data['localityno'] == 12765, 'name'].values[0]\n",
    "\n",
    "# print lon, lat, municipality, name in f string nicely\n",
    "print(f\"Lon: {lon:.4f}\\nLat: {lat:.4f}\\nMunicipality: {municipality}\\nPlace: {name}\")"
   ]
  },
  {
   "cell_type": "code",
   "execution_count": 94,
   "metadata": {},
   "outputs": [],
   "source": [
    "endpoint = 'https://frost.met.no/sources/v0.jsonld'\n",
    "parameters = {\n",
    "\"geometry\" : f\"nearest(POINT({lon} {lat}))\"\n",
    "}\n",
    "\n",
    "# Issue an HTTP GET request\n",
    "r = requests.get(endpoint, parameters, auth=(SECRET_ID,''))\n",
    "# Extract JSON data\n",
    "json = r.json()"
   ]
  },
  {
   "cell_type": "code",
   "execution_count": 95,
   "metadata": {},
   "outputs": [
    {
     "name": "stdout",
     "output_type": "stream",
     "text": [
      "Data retrieved from frost.met.no!\n"
     ]
    }
   ],
   "source": [
    "# Check if the request worked, print out any errors\n",
    "if r.status_code == 200:\n",
    "    data = json['data']\n",
    "    print('Data retrieved from frost.met.no!')\n",
    "else:\n",
    "    print('Error! Returned status code %s' % r.status_code)\n",
    "    print('Message: %s' % json['error']['message'])\n",
    "    print('Reason: %s' % json['error']['reason'])"
   ]
  }
 ],
 "metadata": {
  "kernelspec": {
   "display_name": "IND",
   "language": "python",
   "name": "python3"
  },
  "language_info": {
   "codemirror_mode": {
    "name": "ipython",
    "version": 3
   },
   "file_extension": ".py",
   "mimetype": "text/x-python",
   "name": "python",
   "nbconvert_exporter": "python",
   "pygments_lexer": "ipython3",
   "version": "3.11.5"
  }
 },
 "nbformat": 4,
 "nbformat_minor": 2
}
