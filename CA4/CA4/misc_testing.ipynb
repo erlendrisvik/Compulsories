{
 "cells": [
  {
   "cell_type": "markdown",
   "metadata": {},
   "source": [
    "# Notebook for testing various things"
   ]
  },
  {
   "cell_type": "code",
   "execution_count": 1,
   "metadata": {},
   "outputs": [],
   "source": [
    "import os\n",
    "from pyspark.sql import SparkSession\n",
    "import pandas as pd\n",
    "from cassandra.cluster import Cluster\n",
    "\n",
    "# Set pyspark env\n",
    "os.environ[\"PYSPARK_PYTHON\"] = \"python\"\n",
    "\n",
    "spark = SparkSession.builder.appName('SparkCassandraApp').\\\n",
    "    config('spark.jars.packages', 'com.datastax.spark:spark-cassandra-connector_2.12:3.4.1').\\\n",
    "    config('spark.cassandra.connection.host', 'localhost').\\\n",
    "    config('spark.sql.extensions', 'com.datastax.spark.connector.CassandraSparkExtensions').\\\n",
    "    config('spark.sql.catalog.mycatalog', 'com.datastax.spark.connector.datasource.CassandraCatalog').\\\n",
    "    config('spark.cassandra.connection.port', '9042').getOrCreate()\n",
    "\n",
    "\n",
    "cluster = Cluster(['localhost'], port=9042)\n",
    "session = cluster.connect()\n",
    "session.set_keyspace('compulsory')\n",
    "\n",
    "def _get_df(table_name):\n",
    "\n",
    "    (spark.read.format(\"org.apache.spark.sql.cassandra\")\n",
    "    .options(table=table_name, keyspace=\"compulsory\")\n",
    "    .load()\n",
    "    .createOrReplaceTempView(table_name))\n",
    "\n",
    "    df = spark.sql(f\"select * from {table_name}\").toPandas()\n",
    "    return df\n"
   ]
  },
  {
   "cell_type": "code",
   "execution_count": 17,
   "metadata": {},
   "outputs": [
    {
     "data": {
      "text/html": [
       "<div>\n",
       "<style scoped>\n",
       "    .dataframe tbody tr th:only-of-type {\n",
       "        vertical-align: middle;\n",
       "    }\n",
       "\n",
       "    .dataframe tbody tr th {\n",
       "        vertical-align: top;\n",
       "    }\n",
       "\n",
       "    .dataframe thead th {\n",
       "        text-align: right;\n",
       "    }\n",
       "</style>\n",
       "<table border=\"1\" class=\"dataframe\">\n",
       "  <thead>\n",
       "    <tr style=\"text-align: right;\">\n",
       "      <th></th>\n",
       "      <th>localityweekid</th>\n",
       "      <th>avgadultfemalelice</th>\n",
       "      <th>hascleanerfishdeployed</th>\n",
       "      <th>hasila</th>\n",
       "      <th>hasmechanicalremoval</th>\n",
       "      <th>haspd</th>\n",
       "      <th>hasreportedlice</th>\n",
       "      <th>hassalmonoids</th>\n",
       "      <th>hassubstancetreatments</th>\n",
       "      <th>infilteredselection</th>\n",
       "      <th>...</th>\n",
       "      <th>isonland</th>\n",
       "      <th>isslaughterholdingcage</th>\n",
       "      <th>lat</th>\n",
       "      <th>localityno</th>\n",
       "      <th>lon</th>\n",
       "      <th>municipality</th>\n",
       "      <th>municipalityno</th>\n",
       "      <th>name</th>\n",
       "      <th>week</th>\n",
       "      <th>year</th>\n",
       "    </tr>\n",
       "  </thead>\n",
       "  <tbody>\n",
       "    <tr>\n",
       "      <th>0</th>\n",
       "      <td>1339821</td>\n",
       "      <td>NaN</td>\n",
       "      <td>False</td>\n",
       "      <td>False</td>\n",
       "      <td>False</td>\n",
       "      <td>False</td>\n",
       "      <td>False</td>\n",
       "      <td>False</td>\n",
       "      <td>False</td>\n",
       "      <td>True</td>\n",
       "      <td>...</td>\n",
       "      <td>False</td>\n",
       "      <td>False</td>\n",
       "      <td>58.251167</td>\n",
       "      <td>45015</td>\n",
       "      <td>6.792650</td>\n",
       "      <td>Kvinesdal</td>\n",
       "      <td>4227</td>\n",
       "      <td>Sagebukta</td>\n",
       "      <td>51</td>\n",
       "      <td>2021</td>\n",
       "    </tr>\n",
       "    <tr>\n",
       "      <th>1</th>\n",
       "      <td>205786</td>\n",
       "      <td>NaN</td>\n",
       "      <td>False</td>\n",
       "      <td>False</td>\n",
       "      <td>False</td>\n",
       "      <td>False</td>\n",
       "      <td>False</td>\n",
       "      <td>True</td>\n",
       "      <td>False</td>\n",
       "      <td>True</td>\n",
       "      <td>...</td>\n",
       "      <td>False</td>\n",
       "      <td>False</td>\n",
       "      <td>65.661636</td>\n",
       "      <td>24915</td>\n",
       "      <td>12.083917</td>\n",
       "      <td>Vega</td>\n",
       "      <td>1815</td>\n",
       "      <td>Bøbukta</td>\n",
       "      <td>50</td>\n",
       "      <td>2015</td>\n",
       "    </tr>\n",
       "    <tr>\n",
       "      <th>2</th>\n",
       "      <td>797343</td>\n",
       "      <td>NaN</td>\n",
       "      <td>False</td>\n",
       "      <td>False</td>\n",
       "      <td>False</td>\n",
       "      <td>False</td>\n",
       "      <td>False</td>\n",
       "      <td>False</td>\n",
       "      <td>False</td>\n",
       "      <td>True</td>\n",
       "      <td>...</td>\n",
       "      <td>True</td>\n",
       "      <td>False</td>\n",
       "      <td>59.278751</td>\n",
       "      <td>14297</td>\n",
       "      <td>5.508750</td>\n",
       "      <td>Tysvær</td>\n",
       "      <td>1146</td>\n",
       "      <td>Iglamyr, Kårstø</td>\n",
       "      <td>8</td>\n",
       "      <td>2014</td>\n",
       "    </tr>\n",
       "    <tr>\n",
       "      <th>3</th>\n",
       "      <td>1474271</td>\n",
       "      <td>0.0</td>\n",
       "      <td>False</td>\n",
       "      <td>False</td>\n",
       "      <td>False</td>\n",
       "      <td>False</td>\n",
       "      <td>True</td>\n",
       "      <td>True</td>\n",
       "      <td>False</td>\n",
       "      <td>True</td>\n",
       "      <td>...</td>\n",
       "      <td>False</td>\n",
       "      <td>False</td>\n",
       "      <td>58.024300</td>\n",
       "      <td>30657</td>\n",
       "      <td>7.026800</td>\n",
       "      <td>Lyngdal</td>\n",
       "      <td>4225</td>\n",
       "      <td>Revøy</td>\n",
       "      <td>44</td>\n",
       "      <td>2022</td>\n",
       "    </tr>\n",
       "    <tr>\n",
       "      <th>4</th>\n",
       "      <td>316224</td>\n",
       "      <td>NaN</td>\n",
       "      <td>False</td>\n",
       "      <td>False</td>\n",
       "      <td>False</td>\n",
       "      <td>False</td>\n",
       "      <td>False</td>\n",
       "      <td>True</td>\n",
       "      <td>False</td>\n",
       "      <td>True</td>\n",
       "      <td>...</td>\n",
       "      <td>False</td>\n",
       "      <td>True</td>\n",
       "      <td>62.845501</td>\n",
       "      <td>27395</td>\n",
       "      <td>6.778383</td>\n",
       "      <td>Aukra</td>\n",
       "      <td>1547</td>\n",
       "      <td>Rindarøy</td>\n",
       "      <td>16</td>\n",
       "      <td>2016</td>\n",
       "    </tr>\n",
       "    <tr>\n",
       "      <th>...</th>\n",
       "      <td>...</td>\n",
       "      <td>...</td>\n",
       "      <td>...</td>\n",
       "      <td>...</td>\n",
       "      <td>...</td>\n",
       "      <td>...</td>\n",
       "      <td>...</td>\n",
       "      <td>...</td>\n",
       "      <td>...</td>\n",
       "      <td>...</td>\n",
       "      <td>...</td>\n",
       "      <td>...</td>\n",
       "      <td>...</td>\n",
       "      <td>...</td>\n",
       "      <td>...</td>\n",
       "      <td>...</td>\n",
       "      <td>...</td>\n",
       "      <td>...</td>\n",
       "      <td>...</td>\n",
       "      <td>...</td>\n",
       "      <td>...</td>\n",
       "    </tr>\n",
       "    <tr>\n",
       "      <th>635723</th>\n",
       "      <td>211891</td>\n",
       "      <td>NaN</td>\n",
       "      <td>False</td>\n",
       "      <td>False</td>\n",
       "      <td>False</td>\n",
       "      <td>False</td>\n",
       "      <td>False</td>\n",
       "      <td>True</td>\n",
       "      <td>False</td>\n",
       "      <td>True</td>\n",
       "      <td>...</td>\n",
       "      <td>False</td>\n",
       "      <td>False</td>\n",
       "      <td>62.615616</td>\n",
       "      <td>12841</td>\n",
       "      <td>7.276500</td>\n",
       "      <td>Rauma</td>\n",
       "      <td>1539</td>\n",
       "      <td>Kormeset</td>\n",
       "      <td>20</td>\n",
       "      <td>2013</td>\n",
       "    </tr>\n",
       "    <tr>\n",
       "      <th>635724</th>\n",
       "      <td>870508</td>\n",
       "      <td>NaN</td>\n",
       "      <td>False</td>\n",
       "      <td>False</td>\n",
       "      <td>False</td>\n",
       "      <td>False</td>\n",
       "      <td>False</td>\n",
       "      <td>False</td>\n",
       "      <td>False</td>\n",
       "      <td>True</td>\n",
       "      <td>...</td>\n",
       "      <td>True</td>\n",
       "      <td>False</td>\n",
       "      <td>60.517090</td>\n",
       "      <td>11748</td>\n",
       "      <td>4.903853</td>\n",
       "      <td>Øygarden</td>\n",
       "      <td>1259</td>\n",
       "      <td>Svartevika</td>\n",
       "      <td>35</td>\n",
       "      <td>2014</td>\n",
       "    </tr>\n",
       "    <tr>\n",
       "      <th>635725</th>\n",
       "      <td>267888</td>\n",
       "      <td>NaN</td>\n",
       "      <td>False</td>\n",
       "      <td>False</td>\n",
       "      <td>False</td>\n",
       "      <td>False</td>\n",
       "      <td>False</td>\n",
       "      <td>True</td>\n",
       "      <td>False</td>\n",
       "      <td>True</td>\n",
       "      <td>...</td>\n",
       "      <td>False</td>\n",
       "      <td>False</td>\n",
       "      <td>70.063782</td>\n",
       "      <td>10576</td>\n",
       "      <td>21.903450</td>\n",
       "      <td>Kvænangen</td>\n",
       "      <td>1943</td>\n",
       "      <td>Hjelnes</td>\n",
       "      <td>44</td>\n",
       "      <td>2016</td>\n",
       "    </tr>\n",
       "    <tr>\n",
       "      <th>635726</th>\n",
       "      <td>1464128</td>\n",
       "      <td>NaN</td>\n",
       "      <td>False</td>\n",
       "      <td>False</td>\n",
       "      <td>False</td>\n",
       "      <td>False</td>\n",
       "      <td>False</td>\n",
       "      <td>True</td>\n",
       "      <td>False</td>\n",
       "      <td>True</td>\n",
       "      <td>...</td>\n",
       "      <td>False</td>\n",
       "      <td>False</td>\n",
       "      <td>69.187119</td>\n",
       "      <td>10544</td>\n",
       "      <td>17.015083</td>\n",
       "      <td>Senja</td>\n",
       "      <td>5421</td>\n",
       "      <td>Flakstadvåg</td>\n",
       "      <td>41</td>\n",
       "      <td>2022</td>\n",
       "    </tr>\n",
       "    <tr>\n",
       "      <th>635727</th>\n",
       "      <td>873443</td>\n",
       "      <td>NaN</td>\n",
       "      <td>False</td>\n",
       "      <td>False</td>\n",
       "      <td>False</td>\n",
       "      <td>False</td>\n",
       "      <td>False</td>\n",
       "      <td>False</td>\n",
       "      <td>False</td>\n",
       "      <td>True</td>\n",
       "      <td>...</td>\n",
       "      <td>False</td>\n",
       "      <td>False</td>\n",
       "      <td>59.247684</td>\n",
       "      <td>25715</td>\n",
       "      <td>5.572433</td>\n",
       "      <td>Tysvær</td>\n",
       "      <td>1146</td>\n",
       "      <td>Brattholmskjæret</td>\n",
       "      <td>6</td>\n",
       "      <td>2013</td>\n",
       "    </tr>\n",
       "  </tbody>\n",
       "</table>\n",
       "<p>635728 rows × 21 columns</p>\n",
       "</div>"
      ],
      "text/plain": [
       "        localityweekid  avgadultfemalelice  hascleanerfishdeployed  hasila  \\\n",
       "0              1339821                 NaN                   False   False   \n",
       "1               205786                 NaN                   False   False   \n",
       "2               797343                 NaN                   False   False   \n",
       "3              1474271                 0.0                   False   False   \n",
       "4               316224                 NaN                   False   False   \n",
       "...                ...                 ...                     ...     ...   \n",
       "635723          211891                 NaN                   False   False   \n",
       "635724          870508                 NaN                   False   False   \n",
       "635725          267888                 NaN                   False   False   \n",
       "635726         1464128                 NaN                   False   False   \n",
       "635727          873443                 NaN                   False   False   \n",
       "\n",
       "        hasmechanicalremoval  haspd  hasreportedlice  hassalmonoids  \\\n",
       "0                      False  False            False          False   \n",
       "1                      False  False            False           True   \n",
       "2                      False  False            False          False   \n",
       "3                      False  False             True           True   \n",
       "4                      False  False            False           True   \n",
       "...                      ...    ...              ...            ...   \n",
       "635723                 False  False            False           True   \n",
       "635724                 False  False            False          False   \n",
       "635725                 False  False            False           True   \n",
       "635726                 False  False            False           True   \n",
       "635727                 False  False            False          False   \n",
       "\n",
       "        hassubstancetreatments  infilteredselection  ...  isonland  \\\n",
       "0                        False                 True  ...     False   \n",
       "1                        False                 True  ...     False   \n",
       "2                        False                 True  ...      True   \n",
       "3                        False                 True  ...     False   \n",
       "4                        False                 True  ...     False   \n",
       "...                        ...                  ...  ...       ...   \n",
       "635723                   False                 True  ...     False   \n",
       "635724                   False                 True  ...      True   \n",
       "635725                   False                 True  ...     False   \n",
       "635726                   False                 True  ...     False   \n",
       "635727                   False                 True  ...     False   \n",
       "\n",
       "        isslaughterholdingcage        lat  localityno        lon  \\\n",
       "0                        False  58.251167       45015   6.792650   \n",
       "1                        False  65.661636       24915  12.083917   \n",
       "2                        False  59.278751       14297   5.508750   \n",
       "3                        False  58.024300       30657   7.026800   \n",
       "4                         True  62.845501       27395   6.778383   \n",
       "...                        ...        ...         ...        ...   \n",
       "635723                   False  62.615616       12841   7.276500   \n",
       "635724                   False  60.517090       11748   4.903853   \n",
       "635725                   False  70.063782       10576  21.903450   \n",
       "635726                   False  69.187119       10544  17.015083   \n",
       "635727                   False  59.247684       25715   5.572433   \n",
       "\n",
       "        municipality municipalityno              name week  year  \n",
       "0          Kvinesdal           4227         Sagebukta   51  2021  \n",
       "1               Vega           1815           Bøbukta   50  2015  \n",
       "2             Tysvær           1146   Iglamyr, Kårstø    8  2014  \n",
       "3            Lyngdal           4225             Revøy   44  2022  \n",
       "4              Aukra           1547          Rindarøy   16  2016  \n",
       "...              ...            ...               ...  ...   ...  \n",
       "635723         Rauma           1539          Kormeset   20  2013  \n",
       "635724      Øygarden           1259        Svartevika   35  2014  \n",
       "635725     Kvænangen           1943           Hjelnes   44  2016  \n",
       "635726         Senja           5421       Flakstadvåg   41  2022  \n",
       "635727        Tysvær           1146  Brattholmskjæret    6  2013  \n",
       "\n",
       "[635728 rows x 21 columns]"
      ]
     },
     "execution_count": 17,
     "metadata": {},
     "output_type": "execute_result"
    }
   ],
   "source": [
    "# lets start by checking whats in the database\n",
    "table_name = 'fish_data_full'\n",
    "fish_data = _get_df(table_name)\n",
    "fish_data"
   ]
  },
  {
   "cell_type": "code",
   "execution_count": 18,
   "metadata": {},
   "outputs": [
    {
     "data": {
      "text/plain": [
       "[False,\n",
       " False,\n",
       " False,\n",
       " False,\n",
       " False,\n",
       " False,\n",
       " False,\n",
       " False,\n",
       " False,\n",
       " False,\n",
       " False,\n",
       " False,\n",
       " False,\n",
       " False,\n",
       " False,\n",
       " False,\n",
       " False,\n",
       " False,\n",
       " False,\n",
       " False,\n",
       " False]"
      ]
     },
     "execution_count": 18,
     "metadata": {},
     "output_type": "execute_result"
    }
   ],
   "source": [
    "fish_data.isnull().all().to_list()"
   ]
  },
  {
   "cell_type": "code",
   "execution_count": 23,
   "metadata": {},
   "outputs": [
    {
     "data": {
      "text/html": [
       "<div>\n",
       "<style scoped>\n",
       "    .dataframe tbody tr th:only-of-type {\n",
       "        vertical-align: middle;\n",
       "    }\n",
       "\n",
       "    .dataframe tbody tr th {\n",
       "        vertical-align: top;\n",
       "    }\n",
       "\n",
       "    .dataframe thead th {\n",
       "        text-align: right;\n",
       "    }\n",
       "</style>\n",
       "<table border=\"1\" class=\"dataframe\">\n",
       "  <thead>\n",
       "    <tr style=\"text-align: right;\">\n",
       "      <th></th>\n",
       "      <th>id</th>\n",
       "      <th>avgadultfemalelice</th>\n",
       "      <th>avgmobilelice</th>\n",
       "      <th>avgstationarylice</th>\n",
       "      <th>hasbathtreatment</th>\n",
       "      <th>hascleanerfishdeployed</th>\n",
       "      <th>hasinfeedtreatment</th>\n",
       "      <th>hasmechanicalremoval</th>\n",
       "      <th>hasreportedlice</th>\n",
       "      <th>hassalmonoids</th>\n",
       "      <th>isfallow</th>\n",
       "      <th>isslaughterholdingcage</th>\n",
       "      <th>localityno</th>\n",
       "      <th>seatemperature</th>\n",
       "      <th>week</th>\n",
       "      <th>year</th>\n",
       "    </tr>\n",
       "  </thead>\n",
       "  <tbody>\n",
       "    <tr>\n",
       "      <th>0</th>\n",
       "      <td>75236</td>\n",
       "      <td>1.93</td>\n",
       "      <td>12.43</td>\n",
       "      <td>3.13</td>\n",
       "      <td>False</td>\n",
       "      <td>False</td>\n",
       "      <td>False</td>\n",
       "      <td>False</td>\n",
       "      <td>True</td>\n",
       "      <td>True</td>\n",
       "      <td>False</td>\n",
       "      <td>False</td>\n",
       "      <td>23695</td>\n",
       "      <td>8.2</td>\n",
       "      <td>5</td>\n",
       "      <td>2015</td>\n",
       "    </tr>\n",
       "    <tr>\n",
       "      <th>1</th>\n",
       "      <td>75232</td>\n",
       "      <td>0.37</td>\n",
       "      <td>1.25</td>\n",
       "      <td>2.72</td>\n",
       "      <td>False</td>\n",
       "      <td>False</td>\n",
       "      <td>False</td>\n",
       "      <td>False</td>\n",
       "      <td>True</td>\n",
       "      <td>True</td>\n",
       "      <td>False</td>\n",
       "      <td>False</td>\n",
       "      <td>23695</td>\n",
       "      <td>7.0</td>\n",
       "      <td>1</td>\n",
       "      <td>2015</td>\n",
       "    </tr>\n",
       "    <tr>\n",
       "      <th>2</th>\n",
       "      <td>75282</td>\n",
       "      <td>0.00</td>\n",
       "      <td>0.91</td>\n",
       "      <td>1.27</td>\n",
       "      <td>False</td>\n",
       "      <td>False</td>\n",
       "      <td>False</td>\n",
       "      <td>False</td>\n",
       "      <td>True</td>\n",
       "      <td>True</td>\n",
       "      <td>False</td>\n",
       "      <td>False</td>\n",
       "      <td>23695</td>\n",
       "      <td>8.8</td>\n",
       "      <td>51</td>\n",
       "      <td>2015</td>\n",
       "    </tr>\n",
       "    <tr>\n",
       "      <th>3</th>\n",
       "      <td>75261</td>\n",
       "      <td>NaN</td>\n",
       "      <td>NaN</td>\n",
       "      <td>NaN</td>\n",
       "      <td>False</td>\n",
       "      <td>False</td>\n",
       "      <td>False</td>\n",
       "      <td>False</td>\n",
       "      <td>False</td>\n",
       "      <td>True</td>\n",
       "      <td>True</td>\n",
       "      <td>False</td>\n",
       "      <td>23695</td>\n",
       "      <td>NaN</td>\n",
       "      <td>30</td>\n",
       "      <td>2015</td>\n",
       "    </tr>\n",
       "    <tr>\n",
       "      <th>4</th>\n",
       "      <td>75240</td>\n",
       "      <td>0.19</td>\n",
       "      <td>2.28</td>\n",
       "      <td>1.18</td>\n",
       "      <td>False</td>\n",
       "      <td>False</td>\n",
       "      <td>False</td>\n",
       "      <td>False</td>\n",
       "      <td>True</td>\n",
       "      <td>True</td>\n",
       "      <td>False</td>\n",
       "      <td>False</td>\n",
       "      <td>23695</td>\n",
       "      <td>7.0</td>\n",
       "      <td>9</td>\n",
       "      <td>2015</td>\n",
       "    </tr>\n",
       "    <tr>\n",
       "      <th>5</th>\n",
       "      <td>75262</td>\n",
       "      <td>NaN</td>\n",
       "      <td>NaN</td>\n",
       "      <td>NaN</td>\n",
       "      <td>False</td>\n",
       "      <td>False</td>\n",
       "      <td>False</td>\n",
       "      <td>False</td>\n",
       "      <td>False</td>\n",
       "      <td>True</td>\n",
       "      <td>True</td>\n",
       "      <td>False</td>\n",
       "      <td>23695</td>\n",
       "      <td>NaN</td>\n",
       "      <td>31</td>\n",
       "      <td>2015</td>\n",
       "    </tr>\n",
       "    <tr>\n",
       "      <th>6</th>\n",
       "      <td>75277</td>\n",
       "      <td>0.01</td>\n",
       "      <td>0.04</td>\n",
       "      <td>0.02</td>\n",
       "      <td>False</td>\n",
       "      <td>False</td>\n",
       "      <td>False</td>\n",
       "      <td>False</td>\n",
       "      <td>True</td>\n",
       "      <td>True</td>\n",
       "      <td>False</td>\n",
       "      <td>False</td>\n",
       "      <td>23695</td>\n",
       "      <td>11.0</td>\n",
       "      <td>46</td>\n",
       "      <td>2015</td>\n",
       "    </tr>\n",
       "    <tr>\n",
       "      <th>7</th>\n",
       "      <td>75273</td>\n",
       "      <td>0.00</td>\n",
       "      <td>0.13</td>\n",
       "      <td>0.12</td>\n",
       "      <td>False</td>\n",
       "      <td>False</td>\n",
       "      <td>False</td>\n",
       "      <td>False</td>\n",
       "      <td>True</td>\n",
       "      <td>True</td>\n",
       "      <td>False</td>\n",
       "      <td>False</td>\n",
       "      <td>23695</td>\n",
       "      <td>13.0</td>\n",
       "      <td>42</td>\n",
       "      <td>2015</td>\n",
       "    </tr>\n",
       "    <tr>\n",
       "      <th>8</th>\n",
       "      <td>75242</td>\n",
       "      <td>0.47</td>\n",
       "      <td>4.07</td>\n",
       "      <td>1.90</td>\n",
       "      <td>True</td>\n",
       "      <td>False</td>\n",
       "      <td>False</td>\n",
       "      <td>False</td>\n",
       "      <td>True</td>\n",
       "      <td>True</td>\n",
       "      <td>False</td>\n",
       "      <td>False</td>\n",
       "      <td>23695</td>\n",
       "      <td>6.3</td>\n",
       "      <td>11</td>\n",
       "      <td>2015</td>\n",
       "    </tr>\n",
       "    <tr>\n",
       "      <th>9</th>\n",
       "      <td>75266</td>\n",
       "      <td>NaN</td>\n",
       "      <td>NaN</td>\n",
       "      <td>NaN</td>\n",
       "      <td>False</td>\n",
       "      <td>False</td>\n",
       "      <td>False</td>\n",
       "      <td>False</td>\n",
       "      <td>False</td>\n",
       "      <td>True</td>\n",
       "      <td>True</td>\n",
       "      <td>False</td>\n",
       "      <td>23695</td>\n",
       "      <td>NaN</td>\n",
       "      <td>35</td>\n",
       "      <td>2015</td>\n",
       "    </tr>\n",
       "    <tr>\n",
       "      <th>10</th>\n",
       "      <td>75235</td>\n",
       "      <td>0.76</td>\n",
       "      <td>8.01</td>\n",
       "      <td>6.73</td>\n",
       "      <td>False</td>\n",
       "      <td>False</td>\n",
       "      <td>False</td>\n",
       "      <td>False</td>\n",
       "      <td>True</td>\n",
       "      <td>True</td>\n",
       "      <td>False</td>\n",
       "      <td>False</td>\n",
       "      <td>23695</td>\n",
       "      <td>8.5</td>\n",
       "      <td>4</td>\n",
       "      <td>2015</td>\n",
       "    </tr>\n",
       "    <tr>\n",
       "      <th>11</th>\n",
       "      <td>75241</td>\n",
       "      <td>0.52</td>\n",
       "      <td>2.90</td>\n",
       "      <td>0.80</td>\n",
       "      <td>False</td>\n",
       "      <td>False</td>\n",
       "      <td>False</td>\n",
       "      <td>False</td>\n",
       "      <td>True</td>\n",
       "      <td>True</td>\n",
       "      <td>False</td>\n",
       "      <td>False</td>\n",
       "      <td>23695</td>\n",
       "      <td>7.0</td>\n",
       "      <td>10</td>\n",
       "      <td>2015</td>\n",
       "    </tr>\n",
       "    <tr>\n",
       "      <th>12</th>\n",
       "      <td>75275</td>\n",
       "      <td>0.01</td>\n",
       "      <td>0.02</td>\n",
       "      <td>0.03</td>\n",
       "      <td>False</td>\n",
       "      <td>False</td>\n",
       "      <td>True</td>\n",
       "      <td>False</td>\n",
       "      <td>True</td>\n",
       "      <td>True</td>\n",
       "      <td>False</td>\n",
       "      <td>False</td>\n",
       "      <td>23695</td>\n",
       "      <td>12.5</td>\n",
       "      <td>44</td>\n",
       "      <td>2015</td>\n",
       "    </tr>\n",
       "    <tr>\n",
       "      <th>13</th>\n",
       "      <td>75249</td>\n",
       "      <td>0.67</td>\n",
       "      <td>1.27</td>\n",
       "      <td>0.40</td>\n",
       "      <td>False</td>\n",
       "      <td>False</td>\n",
       "      <td>False</td>\n",
       "      <td>False</td>\n",
       "      <td>True</td>\n",
       "      <td>True</td>\n",
       "      <td>False</td>\n",
       "      <td>False</td>\n",
       "      <td>23695</td>\n",
       "      <td>7.8</td>\n",
       "      <td>18</td>\n",
       "      <td>2015</td>\n",
       "    </tr>\n",
       "    <tr>\n",
       "      <th>14</th>\n",
       "      <td>75278</td>\n",
       "      <td>0.00</td>\n",
       "      <td>0.13</td>\n",
       "      <td>0.25</td>\n",
       "      <td>False</td>\n",
       "      <td>False</td>\n",
       "      <td>False</td>\n",
       "      <td>False</td>\n",
       "      <td>True</td>\n",
       "      <td>True</td>\n",
       "      <td>False</td>\n",
       "      <td>False</td>\n",
       "      <td>23695</td>\n",
       "      <td>11.1</td>\n",
       "      <td>47</td>\n",
       "      <td>2015</td>\n",
       "    </tr>\n",
       "    <tr>\n",
       "      <th>15</th>\n",
       "      <td>75258</td>\n",
       "      <td>NaN</td>\n",
       "      <td>NaN</td>\n",
       "      <td>NaN</td>\n",
       "      <td>False</td>\n",
       "      <td>False</td>\n",
       "      <td>False</td>\n",
       "      <td>False</td>\n",
       "      <td>False</td>\n",
       "      <td>True</td>\n",
       "      <td>False</td>\n",
       "      <td>False</td>\n",
       "      <td>23695</td>\n",
       "      <td>12.6</td>\n",
       "      <td>27</td>\n",
       "      <td>2015</td>\n",
       "    </tr>\n",
       "    <tr>\n",
       "      <th>16</th>\n",
       "      <td>75246</td>\n",
       "      <td>0.17</td>\n",
       "      <td>1.52</td>\n",
       "      <td>0.15</td>\n",
       "      <td>False</td>\n",
       "      <td>False</td>\n",
       "      <td>False</td>\n",
       "      <td>False</td>\n",
       "      <td>True</td>\n",
       "      <td>True</td>\n",
       "      <td>False</td>\n",
       "      <td>False</td>\n",
       "      <td>23695</td>\n",
       "      <td>7.0</td>\n",
       "      <td>15</td>\n",
       "      <td>2015</td>\n",
       "    </tr>\n",
       "    <tr>\n",
       "      <th>17</th>\n",
       "      <td>75233</td>\n",
       "      <td>0.32</td>\n",
       "      <td>5.09</td>\n",
       "      <td>3.97</td>\n",
       "      <td>False</td>\n",
       "      <td>False</td>\n",
       "      <td>False</td>\n",
       "      <td>False</td>\n",
       "      <td>True</td>\n",
       "      <td>True</td>\n",
       "      <td>False</td>\n",
       "      <td>False</td>\n",
       "      <td>23695</td>\n",
       "      <td>8.0</td>\n",
       "      <td>2</td>\n",
       "      <td>2015</td>\n",
       "    </tr>\n",
       "    <tr>\n",
       "      <th>18</th>\n",
       "      <td>75253</td>\n",
       "      <td>0.50</td>\n",
       "      <td>2.16</td>\n",
       "      <td>0.85</td>\n",
       "      <td>False</td>\n",
       "      <td>False</td>\n",
       "      <td>False</td>\n",
       "      <td>False</td>\n",
       "      <td>True</td>\n",
       "      <td>True</td>\n",
       "      <td>False</td>\n",
       "      <td>False</td>\n",
       "      <td>23695</td>\n",
       "      <td>9.8</td>\n",
       "      <td>22</td>\n",
       "      <td>2015</td>\n",
       "    </tr>\n",
       "    <tr>\n",
       "      <th>19</th>\n",
       "      <td>75280</td>\n",
       "      <td>0.00</td>\n",
       "      <td>0.27</td>\n",
       "      <td>0.51</td>\n",
       "      <td>False</td>\n",
       "      <td>False</td>\n",
       "      <td>False</td>\n",
       "      <td>False</td>\n",
       "      <td>True</td>\n",
       "      <td>True</td>\n",
       "      <td>False</td>\n",
       "      <td>False</td>\n",
       "      <td>23695</td>\n",
       "      <td>7.9</td>\n",
       "      <td>49</td>\n",
       "      <td>2015</td>\n",
       "    </tr>\n",
       "    <tr>\n",
       "      <th>20</th>\n",
       "      <td>75272</td>\n",
       "      <td>0.00</td>\n",
       "      <td>0.06</td>\n",
       "      <td>0.02</td>\n",
       "      <td>False</td>\n",
       "      <td>False</td>\n",
       "      <td>False</td>\n",
       "      <td>False</td>\n",
       "      <td>True</td>\n",
       "      <td>True</td>\n",
       "      <td>False</td>\n",
       "      <td>False</td>\n",
       "      <td>23695</td>\n",
       "      <td>12.7</td>\n",
       "      <td>41</td>\n",
       "      <td>2015</td>\n",
       "    </tr>\n",
       "    <tr>\n",
       "      <th>21</th>\n",
       "      <td>75251</td>\n",
       "      <td>0.46</td>\n",
       "      <td>1.62</td>\n",
       "      <td>0.85</td>\n",
       "      <td>False</td>\n",
       "      <td>False</td>\n",
       "      <td>False</td>\n",
       "      <td>False</td>\n",
       "      <td>True</td>\n",
       "      <td>True</td>\n",
       "      <td>False</td>\n",
       "      <td>False</td>\n",
       "      <td>23695</td>\n",
       "      <td>9.0</td>\n",
       "      <td>20</td>\n",
       "      <td>2015</td>\n",
       "    </tr>\n",
       "    <tr>\n",
       "      <th>22</th>\n",
       "      <td>75279</td>\n",
       "      <td>0.00</td>\n",
       "      <td>0.32</td>\n",
       "      <td>0.60</td>\n",
       "      <td>False</td>\n",
       "      <td>False</td>\n",
       "      <td>False</td>\n",
       "      <td>False</td>\n",
       "      <td>True</td>\n",
       "      <td>True</td>\n",
       "      <td>False</td>\n",
       "      <td>False</td>\n",
       "      <td>23695</td>\n",
       "      <td>8.9</td>\n",
       "      <td>48</td>\n",
       "      <td>2015</td>\n",
       "    </tr>\n",
       "    <tr>\n",
       "      <th>23</th>\n",
       "      <td>75234</td>\n",
       "      <td>0.70</td>\n",
       "      <td>7.83</td>\n",
       "      <td>6.80</td>\n",
       "      <td>False</td>\n",
       "      <td>False</td>\n",
       "      <td>False</td>\n",
       "      <td>False</td>\n",
       "      <td>True</td>\n",
       "      <td>True</td>\n",
       "      <td>False</td>\n",
       "      <td>False</td>\n",
       "      <td>23695</td>\n",
       "      <td>7.7</td>\n",
       "      <td>3</td>\n",
       "      <td>2015</td>\n",
       "    </tr>\n",
       "    <tr>\n",
       "      <th>24</th>\n",
       "      <td>75244</td>\n",
       "      <td>0.22</td>\n",
       "      <td>3.17</td>\n",
       "      <td>0.10</td>\n",
       "      <td>False</td>\n",
       "      <td>False</td>\n",
       "      <td>False</td>\n",
       "      <td>False</td>\n",
       "      <td>True</td>\n",
       "      <td>True</td>\n",
       "      <td>False</td>\n",
       "      <td>False</td>\n",
       "      <td>23695</td>\n",
       "      <td>6.8</td>\n",
       "      <td>13</td>\n",
       "      <td>2015</td>\n",
       "    </tr>\n",
       "    <tr>\n",
       "      <th>25</th>\n",
       "      <td>75255</td>\n",
       "      <td>0.74</td>\n",
       "      <td>4.47</td>\n",
       "      <td>1.52</td>\n",
       "      <td>False</td>\n",
       "      <td>False</td>\n",
       "      <td>False</td>\n",
       "      <td>False</td>\n",
       "      <td>True</td>\n",
       "      <td>True</td>\n",
       "      <td>False</td>\n",
       "      <td>False</td>\n",
       "      <td>23695</td>\n",
       "      <td>10.0</td>\n",
       "      <td>24</td>\n",
       "      <td>2015</td>\n",
       "    </tr>\n",
       "    <tr>\n",
       "      <th>26</th>\n",
       "      <td>75281</td>\n",
       "      <td>0.01</td>\n",
       "      <td>1.31</td>\n",
       "      <td>1.79</td>\n",
       "      <td>False</td>\n",
       "      <td>False</td>\n",
       "      <td>False</td>\n",
       "      <td>False</td>\n",
       "      <td>True</td>\n",
       "      <td>True</td>\n",
       "      <td>False</td>\n",
       "      <td>False</td>\n",
       "      <td>23695</td>\n",
       "      <td>7.5</td>\n",
       "      <td>50</td>\n",
       "      <td>2015</td>\n",
       "    </tr>\n",
       "    <tr>\n",
       "      <th>27</th>\n",
       "      <td>75264</td>\n",
       "      <td>NaN</td>\n",
       "      <td>NaN</td>\n",
       "      <td>NaN</td>\n",
       "      <td>False</td>\n",
       "      <td>False</td>\n",
       "      <td>False</td>\n",
       "      <td>False</td>\n",
       "      <td>False</td>\n",
       "      <td>True</td>\n",
       "      <td>True</td>\n",
       "      <td>False</td>\n",
       "      <td>23695</td>\n",
       "      <td>NaN</td>\n",
       "      <td>33</td>\n",
       "      <td>2015</td>\n",
       "    </tr>\n",
       "    <tr>\n",
       "      <th>28</th>\n",
       "      <td>75271</td>\n",
       "      <td>0.00</td>\n",
       "      <td>0.00</td>\n",
       "      <td>0.01</td>\n",
       "      <td>False</td>\n",
       "      <td>False</td>\n",
       "      <td>False</td>\n",
       "      <td>False</td>\n",
       "      <td>True</td>\n",
       "      <td>True</td>\n",
       "      <td>False</td>\n",
       "      <td>False</td>\n",
       "      <td>23695</td>\n",
       "      <td>13.3</td>\n",
       "      <td>40</td>\n",
       "      <td>2015</td>\n",
       "    </tr>\n",
       "    <tr>\n",
       "      <th>29</th>\n",
       "      <td>75252</td>\n",
       "      <td>0.60</td>\n",
       "      <td>2.62</td>\n",
       "      <td>0.25</td>\n",
       "      <td>False</td>\n",
       "      <td>False</td>\n",
       "      <td>False</td>\n",
       "      <td>False</td>\n",
       "      <td>True</td>\n",
       "      <td>True</td>\n",
       "      <td>False</td>\n",
       "      <td>False</td>\n",
       "      <td>23695</td>\n",
       "      <td>9.4</td>\n",
       "      <td>21</td>\n",
       "      <td>2015</td>\n",
       "    </tr>\n",
       "    <tr>\n",
       "      <th>30</th>\n",
       "      <td>75267</td>\n",
       "      <td>NaN</td>\n",
       "      <td>NaN</td>\n",
       "      <td>NaN</td>\n",
       "      <td>False</td>\n",
       "      <td>False</td>\n",
       "      <td>False</td>\n",
       "      <td>False</td>\n",
       "      <td>False</td>\n",
       "      <td>True</td>\n",
       "      <td>True</td>\n",
       "      <td>False</td>\n",
       "      <td>23695</td>\n",
       "      <td>NaN</td>\n",
       "      <td>36</td>\n",
       "      <td>2015</td>\n",
       "    </tr>\n",
       "    <tr>\n",
       "      <th>31</th>\n",
       "      <td>75274</td>\n",
       "      <td>0.00</td>\n",
       "      <td>0.11</td>\n",
       "      <td>0.04</td>\n",
       "      <td>False</td>\n",
       "      <td>False</td>\n",
       "      <td>True</td>\n",
       "      <td>False</td>\n",
       "      <td>True</td>\n",
       "      <td>True</td>\n",
       "      <td>False</td>\n",
       "      <td>False</td>\n",
       "      <td>23695</td>\n",
       "      <td>12.5</td>\n",
       "      <td>43</td>\n",
       "      <td>2015</td>\n",
       "    </tr>\n",
       "    <tr>\n",
       "      <th>32</th>\n",
       "      <td>75256</td>\n",
       "      <td>NaN</td>\n",
       "      <td>NaN</td>\n",
       "      <td>NaN</td>\n",
       "      <td>False</td>\n",
       "      <td>False</td>\n",
       "      <td>False</td>\n",
       "      <td>False</td>\n",
       "      <td>False</td>\n",
       "      <td>True</td>\n",
       "      <td>False</td>\n",
       "      <td>False</td>\n",
       "      <td>23695</td>\n",
       "      <td>10.4</td>\n",
       "      <td>25</td>\n",
       "      <td>2015</td>\n",
       "    </tr>\n",
       "    <tr>\n",
       "      <th>33</th>\n",
       "      <td>75248</td>\n",
       "      <td>0.25</td>\n",
       "      <td>2.05</td>\n",
       "      <td>0.45</td>\n",
       "      <td>False</td>\n",
       "      <td>False</td>\n",
       "      <td>False</td>\n",
       "      <td>False</td>\n",
       "      <td>True</td>\n",
       "      <td>True</td>\n",
       "      <td>False</td>\n",
       "      <td>False</td>\n",
       "      <td>23695</td>\n",
       "      <td>7.1</td>\n",
       "      <td>17</td>\n",
       "      <td>2015</td>\n",
       "    </tr>\n",
       "    <tr>\n",
       "      <th>34</th>\n",
       "      <td>75254</td>\n",
       "      <td>0.51</td>\n",
       "      <td>3.51</td>\n",
       "      <td>1.22</td>\n",
       "      <td>False</td>\n",
       "      <td>False</td>\n",
       "      <td>False</td>\n",
       "      <td>False</td>\n",
       "      <td>True</td>\n",
       "      <td>True</td>\n",
       "      <td>False</td>\n",
       "      <td>False</td>\n",
       "      <td>23695</td>\n",
       "      <td>9.9</td>\n",
       "      <td>23</td>\n",
       "      <td>2015</td>\n",
       "    </tr>\n",
       "    <tr>\n",
       "      <th>35</th>\n",
       "      <td>75265</td>\n",
       "      <td>NaN</td>\n",
       "      <td>NaN</td>\n",
       "      <td>NaN</td>\n",
       "      <td>False</td>\n",
       "      <td>False</td>\n",
       "      <td>False</td>\n",
       "      <td>False</td>\n",
       "      <td>False</td>\n",
       "      <td>True</td>\n",
       "      <td>True</td>\n",
       "      <td>False</td>\n",
       "      <td>23695</td>\n",
       "      <td>NaN</td>\n",
       "      <td>34</td>\n",
       "      <td>2015</td>\n",
       "    </tr>\n",
       "    <tr>\n",
       "      <th>36</th>\n",
       "      <td>75257</td>\n",
       "      <td>NaN</td>\n",
       "      <td>NaN</td>\n",
       "      <td>NaN</td>\n",
       "      <td>False</td>\n",
       "      <td>False</td>\n",
       "      <td>False</td>\n",
       "      <td>False</td>\n",
       "      <td>False</td>\n",
       "      <td>True</td>\n",
       "      <td>False</td>\n",
       "      <td>False</td>\n",
       "      <td>23695</td>\n",
       "      <td>12.8</td>\n",
       "      <td>26</td>\n",
       "      <td>2015</td>\n",
       "    </tr>\n",
       "    <tr>\n",
       "      <th>37</th>\n",
       "      <td>75276</td>\n",
       "      <td>0.00</td>\n",
       "      <td>0.02</td>\n",
       "      <td>0.00</td>\n",
       "      <td>False</td>\n",
       "      <td>False</td>\n",
       "      <td>False</td>\n",
       "      <td>False</td>\n",
       "      <td>True</td>\n",
       "      <td>True</td>\n",
       "      <td>False</td>\n",
       "      <td>False</td>\n",
       "      <td>23695</td>\n",
       "      <td>11.7</td>\n",
       "      <td>45</td>\n",
       "      <td>2015</td>\n",
       "    </tr>\n",
       "    <tr>\n",
       "      <th>38</th>\n",
       "      <td>75238</td>\n",
       "      <td>0.19</td>\n",
       "      <td>1.12</td>\n",
       "      <td>0.71</td>\n",
       "      <td>False</td>\n",
       "      <td>False</td>\n",
       "      <td>False</td>\n",
       "      <td>False</td>\n",
       "      <td>True</td>\n",
       "      <td>True</td>\n",
       "      <td>False</td>\n",
       "      <td>False</td>\n",
       "      <td>23695</td>\n",
       "      <td>7.7</td>\n",
       "      <td>7</td>\n",
       "      <td>2015</td>\n",
       "    </tr>\n",
       "    <tr>\n",
       "      <th>39</th>\n",
       "      <td>75239</td>\n",
       "      <td>0.07</td>\n",
       "      <td>0.55</td>\n",
       "      <td>0.10</td>\n",
       "      <td>False</td>\n",
       "      <td>False</td>\n",
       "      <td>False</td>\n",
       "      <td>False</td>\n",
       "      <td>True</td>\n",
       "      <td>True</td>\n",
       "      <td>False</td>\n",
       "      <td>False</td>\n",
       "      <td>23695</td>\n",
       "      <td>5.2</td>\n",
       "      <td>8</td>\n",
       "      <td>2015</td>\n",
       "    </tr>\n",
       "    <tr>\n",
       "      <th>40</th>\n",
       "      <td>75263</td>\n",
       "      <td>NaN</td>\n",
       "      <td>NaN</td>\n",
       "      <td>NaN</td>\n",
       "      <td>False</td>\n",
       "      <td>False</td>\n",
       "      <td>False</td>\n",
       "      <td>False</td>\n",
       "      <td>False</td>\n",
       "      <td>True</td>\n",
       "      <td>True</td>\n",
       "      <td>False</td>\n",
       "      <td>23695</td>\n",
       "      <td>NaN</td>\n",
       "      <td>32</td>\n",
       "      <td>2015</td>\n",
       "    </tr>\n",
       "    <tr>\n",
       "      <th>41</th>\n",
       "      <td>75269</td>\n",
       "      <td>0.00</td>\n",
       "      <td>0.00</td>\n",
       "      <td>0.00</td>\n",
       "      <td>False</td>\n",
       "      <td>False</td>\n",
       "      <td>False</td>\n",
       "      <td>False</td>\n",
       "      <td>True</td>\n",
       "      <td>True</td>\n",
       "      <td>False</td>\n",
       "      <td>False</td>\n",
       "      <td>23695</td>\n",
       "      <td>14.1</td>\n",
       "      <td>38</td>\n",
       "      <td>2015</td>\n",
       "    </tr>\n",
       "    <tr>\n",
       "      <th>42</th>\n",
       "      <td>75245</td>\n",
       "      <td>0.17</td>\n",
       "      <td>3.20</td>\n",
       "      <td>0.12</td>\n",
       "      <td>False</td>\n",
       "      <td>False</td>\n",
       "      <td>False</td>\n",
       "      <td>False</td>\n",
       "      <td>True</td>\n",
       "      <td>True</td>\n",
       "      <td>False</td>\n",
       "      <td>False</td>\n",
       "      <td>23695</td>\n",
       "      <td>6.6</td>\n",
       "      <td>14</td>\n",
       "      <td>2015</td>\n",
       "    </tr>\n",
       "    <tr>\n",
       "      <th>43</th>\n",
       "      <td>75260</td>\n",
       "      <td>NaN</td>\n",
       "      <td>NaN</td>\n",
       "      <td>NaN</td>\n",
       "      <td>False</td>\n",
       "      <td>False</td>\n",
       "      <td>False</td>\n",
       "      <td>False</td>\n",
       "      <td>False</td>\n",
       "      <td>True</td>\n",
       "      <td>True</td>\n",
       "      <td>False</td>\n",
       "      <td>23695</td>\n",
       "      <td>NaN</td>\n",
       "      <td>29</td>\n",
       "      <td>2015</td>\n",
       "    </tr>\n",
       "    <tr>\n",
       "      <th>44</th>\n",
       "      <td>75268</td>\n",
       "      <td>0.00</td>\n",
       "      <td>0.00</td>\n",
       "      <td>0.00</td>\n",
       "      <td>False</td>\n",
       "      <td>False</td>\n",
       "      <td>False</td>\n",
       "      <td>False</td>\n",
       "      <td>True</td>\n",
       "      <td>True</td>\n",
       "      <td>False</td>\n",
       "      <td>False</td>\n",
       "      <td>23695</td>\n",
       "      <td>13.8</td>\n",
       "      <td>37</td>\n",
       "      <td>2015</td>\n",
       "    </tr>\n",
       "    <tr>\n",
       "      <th>45</th>\n",
       "      <td>75243</td>\n",
       "      <td>0.15</td>\n",
       "      <td>2.20</td>\n",
       "      <td>0.97</td>\n",
       "      <td>False</td>\n",
       "      <td>False</td>\n",
       "      <td>False</td>\n",
       "      <td>False</td>\n",
       "      <td>True</td>\n",
       "      <td>True</td>\n",
       "      <td>False</td>\n",
       "      <td>False</td>\n",
       "      <td>23695</td>\n",
       "      <td>6.6</td>\n",
       "      <td>12</td>\n",
       "      <td>2015</td>\n",
       "    </tr>\n",
       "    <tr>\n",
       "      <th>46</th>\n",
       "      <td>75250</td>\n",
       "      <td>0.65</td>\n",
       "      <td>2.42</td>\n",
       "      <td>0.43</td>\n",
       "      <td>False</td>\n",
       "      <td>False</td>\n",
       "      <td>False</td>\n",
       "      <td>False</td>\n",
       "      <td>True</td>\n",
       "      <td>True</td>\n",
       "      <td>False</td>\n",
       "      <td>False</td>\n",
       "      <td>23695</td>\n",
       "      <td>8.2</td>\n",
       "      <td>19</td>\n",
       "      <td>2015</td>\n",
       "    </tr>\n",
       "    <tr>\n",
       "      <th>47</th>\n",
       "      <td>75283</td>\n",
       "      <td>0.04</td>\n",
       "      <td>0.80</td>\n",
       "      <td>0.59</td>\n",
       "      <td>False</td>\n",
       "      <td>False</td>\n",
       "      <td>False</td>\n",
       "      <td>False</td>\n",
       "      <td>True</td>\n",
       "      <td>True</td>\n",
       "      <td>False</td>\n",
       "      <td>False</td>\n",
       "      <td>23695</td>\n",
       "      <td>8.0</td>\n",
       "      <td>52</td>\n",
       "      <td>2015</td>\n",
       "    </tr>\n",
       "    <tr>\n",
       "      <th>48</th>\n",
       "      <td>75259</td>\n",
       "      <td>NaN</td>\n",
       "      <td>NaN</td>\n",
       "      <td>NaN</td>\n",
       "      <td>False</td>\n",
       "      <td>False</td>\n",
       "      <td>False</td>\n",
       "      <td>False</td>\n",
       "      <td>False</td>\n",
       "      <td>True</td>\n",
       "      <td>True</td>\n",
       "      <td>False</td>\n",
       "      <td>23695</td>\n",
       "      <td>NaN</td>\n",
       "      <td>28</td>\n",
       "      <td>2015</td>\n",
       "    </tr>\n",
       "    <tr>\n",
       "      <th>49</th>\n",
       "      <td>75237</td>\n",
       "      <td>3.30</td>\n",
       "      <td>12.23</td>\n",
       "      <td>3.18</td>\n",
       "      <td>False</td>\n",
       "      <td>False</td>\n",
       "      <td>False</td>\n",
       "      <td>False</td>\n",
       "      <td>True</td>\n",
       "      <td>True</td>\n",
       "      <td>False</td>\n",
       "      <td>False</td>\n",
       "      <td>23695</td>\n",
       "      <td>8.5</td>\n",
       "      <td>6</td>\n",
       "      <td>2015</td>\n",
       "    </tr>\n",
       "    <tr>\n",
       "      <th>50</th>\n",
       "      <td>75247</td>\n",
       "      <td>0.30</td>\n",
       "      <td>1.12</td>\n",
       "      <td>0.27</td>\n",
       "      <td>False</td>\n",
       "      <td>False</td>\n",
       "      <td>False</td>\n",
       "      <td>False</td>\n",
       "      <td>True</td>\n",
       "      <td>True</td>\n",
       "      <td>False</td>\n",
       "      <td>False</td>\n",
       "      <td>23695</td>\n",
       "      <td>7.1</td>\n",
       "      <td>16</td>\n",
       "      <td>2015</td>\n",
       "    </tr>\n",
       "    <tr>\n",
       "      <th>51</th>\n",
       "      <td>75270</td>\n",
       "      <td>0.00</td>\n",
       "      <td>0.00</td>\n",
       "      <td>0.00</td>\n",
       "      <td>False</td>\n",
       "      <td>False</td>\n",
       "      <td>False</td>\n",
       "      <td>False</td>\n",
       "      <td>True</td>\n",
       "      <td>True</td>\n",
       "      <td>False</td>\n",
       "      <td>False</td>\n",
       "      <td>23695</td>\n",
       "      <td>13.1</td>\n",
       "      <td>39</td>\n",
       "      <td>2015</td>\n",
       "    </tr>\n",
       "  </tbody>\n",
       "</table>\n",
       "</div>"
      ],
      "text/plain": [
       "       id  avgadultfemalelice  avgmobilelice  avgstationarylice  \\\n",
       "0   75236                1.93          12.43               3.13   \n",
       "1   75232                0.37           1.25               2.72   \n",
       "2   75282                0.00           0.91               1.27   \n",
       "3   75261                 NaN            NaN                NaN   \n",
       "4   75240                0.19           2.28               1.18   \n",
       "5   75262                 NaN            NaN                NaN   \n",
       "6   75277                0.01           0.04               0.02   \n",
       "7   75273                0.00           0.13               0.12   \n",
       "8   75242                0.47           4.07               1.90   \n",
       "9   75266                 NaN            NaN                NaN   \n",
       "10  75235                0.76           8.01               6.73   \n",
       "11  75241                0.52           2.90               0.80   \n",
       "12  75275                0.01           0.02               0.03   \n",
       "13  75249                0.67           1.27               0.40   \n",
       "14  75278                0.00           0.13               0.25   \n",
       "15  75258                 NaN            NaN                NaN   \n",
       "16  75246                0.17           1.52               0.15   \n",
       "17  75233                0.32           5.09               3.97   \n",
       "18  75253                0.50           2.16               0.85   \n",
       "19  75280                0.00           0.27               0.51   \n",
       "20  75272                0.00           0.06               0.02   \n",
       "21  75251                0.46           1.62               0.85   \n",
       "22  75279                0.00           0.32               0.60   \n",
       "23  75234                0.70           7.83               6.80   \n",
       "24  75244                0.22           3.17               0.10   \n",
       "25  75255                0.74           4.47               1.52   \n",
       "26  75281                0.01           1.31               1.79   \n",
       "27  75264                 NaN            NaN                NaN   \n",
       "28  75271                0.00           0.00               0.01   \n",
       "29  75252                0.60           2.62               0.25   \n",
       "30  75267                 NaN            NaN                NaN   \n",
       "31  75274                0.00           0.11               0.04   \n",
       "32  75256                 NaN            NaN                NaN   \n",
       "33  75248                0.25           2.05               0.45   \n",
       "34  75254                0.51           3.51               1.22   \n",
       "35  75265                 NaN            NaN                NaN   \n",
       "36  75257                 NaN            NaN                NaN   \n",
       "37  75276                0.00           0.02               0.00   \n",
       "38  75238                0.19           1.12               0.71   \n",
       "39  75239                0.07           0.55               0.10   \n",
       "40  75263                 NaN            NaN                NaN   \n",
       "41  75269                0.00           0.00               0.00   \n",
       "42  75245                0.17           3.20               0.12   \n",
       "43  75260                 NaN            NaN                NaN   \n",
       "44  75268                0.00           0.00               0.00   \n",
       "45  75243                0.15           2.20               0.97   \n",
       "46  75250                0.65           2.42               0.43   \n",
       "47  75283                0.04           0.80               0.59   \n",
       "48  75259                 NaN            NaN                NaN   \n",
       "49  75237                3.30          12.23               3.18   \n",
       "50  75247                0.30           1.12               0.27   \n",
       "51  75270                0.00           0.00               0.00   \n",
       "\n",
       "    hasbathtreatment  hascleanerfishdeployed  hasinfeedtreatment  \\\n",
       "0              False                   False               False   \n",
       "1              False                   False               False   \n",
       "2              False                   False               False   \n",
       "3              False                   False               False   \n",
       "4              False                   False               False   \n",
       "5              False                   False               False   \n",
       "6              False                   False               False   \n",
       "7              False                   False               False   \n",
       "8               True                   False               False   \n",
       "9              False                   False               False   \n",
       "10             False                   False               False   \n",
       "11             False                   False               False   \n",
       "12             False                   False                True   \n",
       "13             False                   False               False   \n",
       "14             False                   False               False   \n",
       "15             False                   False               False   \n",
       "16             False                   False               False   \n",
       "17             False                   False               False   \n",
       "18             False                   False               False   \n",
       "19             False                   False               False   \n",
       "20             False                   False               False   \n",
       "21             False                   False               False   \n",
       "22             False                   False               False   \n",
       "23             False                   False               False   \n",
       "24             False                   False               False   \n",
       "25             False                   False               False   \n",
       "26             False                   False               False   \n",
       "27             False                   False               False   \n",
       "28             False                   False               False   \n",
       "29             False                   False               False   \n",
       "30             False                   False               False   \n",
       "31             False                   False                True   \n",
       "32             False                   False               False   \n",
       "33             False                   False               False   \n",
       "34             False                   False               False   \n",
       "35             False                   False               False   \n",
       "36             False                   False               False   \n",
       "37             False                   False               False   \n",
       "38             False                   False               False   \n",
       "39             False                   False               False   \n",
       "40             False                   False               False   \n",
       "41             False                   False               False   \n",
       "42             False                   False               False   \n",
       "43             False                   False               False   \n",
       "44             False                   False               False   \n",
       "45             False                   False               False   \n",
       "46             False                   False               False   \n",
       "47             False                   False               False   \n",
       "48             False                   False               False   \n",
       "49             False                   False               False   \n",
       "50             False                   False               False   \n",
       "51             False                   False               False   \n",
       "\n",
       "    hasmechanicalremoval  hasreportedlice  hassalmonoids  isfallow  \\\n",
       "0                  False             True           True     False   \n",
       "1                  False             True           True     False   \n",
       "2                  False             True           True     False   \n",
       "3                  False            False           True      True   \n",
       "4                  False             True           True     False   \n",
       "5                  False            False           True      True   \n",
       "6                  False             True           True     False   \n",
       "7                  False             True           True     False   \n",
       "8                  False             True           True     False   \n",
       "9                  False            False           True      True   \n",
       "10                 False             True           True     False   \n",
       "11                 False             True           True     False   \n",
       "12                 False             True           True     False   \n",
       "13                 False             True           True     False   \n",
       "14                 False             True           True     False   \n",
       "15                 False            False           True     False   \n",
       "16                 False             True           True     False   \n",
       "17                 False             True           True     False   \n",
       "18                 False             True           True     False   \n",
       "19                 False             True           True     False   \n",
       "20                 False             True           True     False   \n",
       "21                 False             True           True     False   \n",
       "22                 False             True           True     False   \n",
       "23                 False             True           True     False   \n",
       "24                 False             True           True     False   \n",
       "25                 False             True           True     False   \n",
       "26                 False             True           True     False   \n",
       "27                 False            False           True      True   \n",
       "28                 False             True           True     False   \n",
       "29                 False             True           True     False   \n",
       "30                 False            False           True      True   \n",
       "31                 False             True           True     False   \n",
       "32                 False            False           True     False   \n",
       "33                 False             True           True     False   \n",
       "34                 False             True           True     False   \n",
       "35                 False            False           True      True   \n",
       "36                 False            False           True     False   \n",
       "37                 False             True           True     False   \n",
       "38                 False             True           True     False   \n",
       "39                 False             True           True     False   \n",
       "40                 False            False           True      True   \n",
       "41                 False             True           True     False   \n",
       "42                 False             True           True     False   \n",
       "43                 False            False           True      True   \n",
       "44                 False             True           True     False   \n",
       "45                 False             True           True     False   \n",
       "46                 False             True           True     False   \n",
       "47                 False             True           True     False   \n",
       "48                 False            False           True      True   \n",
       "49                 False             True           True     False   \n",
       "50                 False             True           True     False   \n",
       "51                 False             True           True     False   \n",
       "\n",
       "    isslaughterholdingcage  localityno  seatemperature  week  year  \n",
       "0                    False       23695             8.2     5  2015  \n",
       "1                    False       23695             7.0     1  2015  \n",
       "2                    False       23695             8.8    51  2015  \n",
       "3                    False       23695             NaN    30  2015  \n",
       "4                    False       23695             7.0     9  2015  \n",
       "5                    False       23695             NaN    31  2015  \n",
       "6                    False       23695            11.0    46  2015  \n",
       "7                    False       23695            13.0    42  2015  \n",
       "8                    False       23695             6.3    11  2015  \n",
       "9                    False       23695             NaN    35  2015  \n",
       "10                   False       23695             8.5     4  2015  \n",
       "11                   False       23695             7.0    10  2015  \n",
       "12                   False       23695            12.5    44  2015  \n",
       "13                   False       23695             7.8    18  2015  \n",
       "14                   False       23695            11.1    47  2015  \n",
       "15                   False       23695            12.6    27  2015  \n",
       "16                   False       23695             7.0    15  2015  \n",
       "17                   False       23695             8.0     2  2015  \n",
       "18                   False       23695             9.8    22  2015  \n",
       "19                   False       23695             7.9    49  2015  \n",
       "20                   False       23695            12.7    41  2015  \n",
       "21                   False       23695             9.0    20  2015  \n",
       "22                   False       23695             8.9    48  2015  \n",
       "23                   False       23695             7.7     3  2015  \n",
       "24                   False       23695             6.8    13  2015  \n",
       "25                   False       23695            10.0    24  2015  \n",
       "26                   False       23695             7.5    50  2015  \n",
       "27                   False       23695             NaN    33  2015  \n",
       "28                   False       23695            13.3    40  2015  \n",
       "29                   False       23695             9.4    21  2015  \n",
       "30                   False       23695             NaN    36  2015  \n",
       "31                   False       23695            12.5    43  2015  \n",
       "32                   False       23695            10.4    25  2015  \n",
       "33                   False       23695             7.1    17  2015  \n",
       "34                   False       23695             9.9    23  2015  \n",
       "35                   False       23695             NaN    34  2015  \n",
       "36                   False       23695            12.8    26  2015  \n",
       "37                   False       23695            11.7    45  2015  \n",
       "38                   False       23695             7.7     7  2015  \n",
       "39                   False       23695             5.2     8  2015  \n",
       "40                   False       23695             NaN    32  2015  \n",
       "41                   False       23695            14.1    38  2015  \n",
       "42                   False       23695             6.6    14  2015  \n",
       "43                   False       23695             NaN    29  2015  \n",
       "44                   False       23695            13.8    37  2015  \n",
       "45                   False       23695             6.6    12  2015  \n",
       "46                   False       23695             8.2    19  2015  \n",
       "47                   False       23695             8.0    52  2015  \n",
       "48                   False       23695             NaN    28  2015  \n",
       "49                   False       23695             8.5     6  2015  \n",
       "50                   False       23695             7.1    16  2015  \n",
       "51                   False       23695            13.1    39  2015  "
      ]
     },
     "execution_count": 23,
     "metadata": {},
     "output_type": "execute_result"
    }
   ],
   "source": [
    "table_name = 'lice_data_full'\n",
    "\n",
    "lice_data = _get_df(table_name)\n",
    "lice_data"
   ]
  },
  {
   "cell_type": "code",
   "execution_count": 4,
   "metadata": {},
   "outputs": [
    {
     "ename": "WritingToDatabaseError",
     "evalue": "Error writing to database",
     "output_type": "error",
     "traceback": [
      "\u001b[1;31m---------------------------------------------------------------------------\u001b[0m",
      "\u001b[1;31mValueError\u001b[0m                                Traceback (most recent call last)",
      "File \u001b[1;32mg:\\My Drive\\Skolemappe\\NMBU\\Datavitenskap\\År 5\\1. Semester\\IND320\\Compulsories\\CA4\\CA4\\data_utils.py:246\u001b[0m, in \u001b[0;36mget_one_year_lice_data\u001b[1;34m(locality, year, access_token)\u001b[0m\n\u001b[0;32m    245\u001b[0m \u001b[39mtry\u001b[39;00m:\n\u001b[1;32m--> 246\u001b[0m     write_to_cassandra(df \u001b[39m=\u001b[39;49m df, table_name \u001b[39m=\u001b[39;49m \u001b[39m\"\u001b[39;49m\u001b[39mlice_data_full\u001b[39;49m\u001b[39m\"\u001b[39;49m)\n\u001b[0;32m    247\u001b[0m \u001b[39mexcept\u001b[39;00m:\n",
      "File \u001b[1;32mg:\\My Drive\\Skolemappe\\NMBU\\Datavitenskap\\År 5\\1. Semester\\IND320\\Compulsories\\CA4\\CA4\\data_utils.py:60\u001b[0m, in \u001b[0;36mwrite_to_cassandra\u001b[1;34m(df, table_name)\u001b[0m\n\u001b[0;32m     50\u001b[0m \u001b[39m\u001b[39m\u001b[39m\"\"\"Function to write data to cassandra database\u001b[39;00m\n\u001b[0;32m     51\u001b[0m \n\u001b[0;32m     52\u001b[0m \u001b[39mParameters:\u001b[39;00m\n\u001b[1;32m   (...)\u001b[0m\n\u001b[0;32m     57\u001b[0m \u001b[39m    Name of table to write to\u001b[39;00m\n\u001b[0;32m     58\u001b[0m \u001b[39m\"\"\"\u001b[39;00m\n\u001b[1;32m---> 60\u001b[0m df_spark \u001b[39m=\u001b[39m convert_to_spark(df)\n\u001b[0;32m     61\u001b[0m (df_spark\u001b[39m.\u001b[39mwrite\n\u001b[0;32m     62\u001b[0m  \u001b[39m.\u001b[39mformat(\u001b[39m\"\u001b[39m\u001b[39morg.apache.spark.sql.cassandra\u001b[39m\u001b[39m\"\u001b[39m)\n\u001b[0;32m     63\u001b[0m  \u001b[39m.\u001b[39moptions(table\u001b[39m=\u001b[39mtable_name, keyspace\u001b[39m=\u001b[39m\u001b[39m\"\u001b[39m\u001b[39mcompulsory\u001b[39m\u001b[39m\"\u001b[39m)\n\u001b[0;32m     64\u001b[0m  \u001b[39m.\u001b[39mmode(\u001b[39m\"\u001b[39m\u001b[39mappend\u001b[39m\u001b[39m\"\u001b[39m)\n\u001b[0;32m     65\u001b[0m  \u001b[39m.\u001b[39msave())\n",
      "File \u001b[1;32mg:\\My Drive\\Skolemappe\\NMBU\\Datavitenskap\\År 5\\1. Semester\\IND320\\Compulsories\\CA4\\CA4\\data_utils.py:47\u001b[0m, in \u001b[0;36mconvert_to_spark\u001b[1;34m(df)\u001b[0m\n\u001b[0;32m     36\u001b[0m \u001b[39m\u001b[39m\u001b[39m\"\"\"Function to convert pandas dataframe to spark dataframe\u001b[39;00m\n\u001b[0;32m     37\u001b[0m \n\u001b[0;32m     38\u001b[0m \u001b[39mParameters:\u001b[39;00m\n\u001b[1;32m   (...)\u001b[0m\n\u001b[0;32m     45\u001b[0m \u001b[39mspark dataframe\u001b[39;00m\n\u001b[0;32m     46\u001b[0m \u001b[39m\"\"\"\u001b[39;00m\n\u001b[1;32m---> 47\u001b[0m \u001b[39mreturn\u001b[39;00m spark\u001b[39m.\u001b[39;49mcreateDataFrame(df)\n",
      "File \u001b[1;32mc:\\Users\\erlen\\.conda\\envs\\IND\\Lib\\site-packages\\pyspark\\sql\\session.py:1273\u001b[0m, in \u001b[0;36mSparkSession.createDataFrame\u001b[1;34m(self, data, schema, samplingRatio, verifySchema)\u001b[0m\n\u001b[0;32m   1271\u001b[0m \u001b[39mif\u001b[39;00m has_pandas \u001b[39mand\u001b[39;00m \u001b[39misinstance\u001b[39m(data, pd\u001b[39m.\u001b[39mDataFrame):\n\u001b[0;32m   1272\u001b[0m     \u001b[39m# Create a DataFrame from pandas DataFrame.\u001b[39;00m\n\u001b[1;32m-> 1273\u001b[0m     \u001b[39mreturn\u001b[39;00m \u001b[39msuper\u001b[39;49m(SparkSession, \u001b[39mself\u001b[39;49m)\u001b[39m.\u001b[39;49mcreateDataFrame(  \u001b[39m# type: ignore[call-overload]\u001b[39;49;00m\n\u001b[0;32m   1274\u001b[0m         data, schema, samplingRatio, verifySchema\n\u001b[0;32m   1275\u001b[0m     )\n\u001b[0;32m   1276\u001b[0m \u001b[39mreturn\u001b[39;00m \u001b[39mself\u001b[39m\u001b[39m.\u001b[39m_create_dataframe(\n\u001b[0;32m   1277\u001b[0m     data, schema, samplingRatio, verifySchema  \u001b[39m# type: ignore[arg-type]\u001b[39;00m\n\u001b[0;32m   1278\u001b[0m )\n",
      "File \u001b[1;32mc:\\Users\\erlen\\.conda\\envs\\IND\\Lib\\site-packages\\pyspark\\sql\\pandas\\conversion.py:440\u001b[0m, in \u001b[0;36mSparkConversionMixin.createDataFrame\u001b[1;34m(self, data, schema, samplingRatio, verifySchema)\u001b[0m\n\u001b[0;32m    439\u001b[0m converted_data \u001b[39m=\u001b[39m \u001b[39mself\u001b[39m\u001b[39m.\u001b[39m_convert_from_pandas(data, schema, timezone)\n\u001b[1;32m--> 440\u001b[0m \u001b[39mreturn\u001b[39;00m \u001b[39mself\u001b[39;49m\u001b[39m.\u001b[39;49m_create_dataframe(converted_data, schema, samplingRatio, verifySchema)\n",
      "File \u001b[1;32mc:\\Users\\erlen\\.conda\\envs\\IND\\Lib\\site-packages\\pyspark\\sql\\session.py:1318\u001b[0m, in \u001b[0;36mSparkSession._create_dataframe\u001b[1;34m(self, data, schema, samplingRatio, verifySchema)\u001b[0m\n\u001b[0;32m   1317\u001b[0m \u001b[39melse\u001b[39;00m:\n\u001b[1;32m-> 1318\u001b[0m     rdd, struct \u001b[39m=\u001b[39m \u001b[39mself\u001b[39;49m\u001b[39m.\u001b[39;49m_createFromLocal(\u001b[39mmap\u001b[39;49m(prepare, data), schema)\n\u001b[0;32m   1319\u001b[0m \u001b[39massert\u001b[39;00m \u001b[39mself\u001b[39m\u001b[39m.\u001b[39m_jvm \u001b[39mis\u001b[39;00m \u001b[39mnot\u001b[39;00m \u001b[39mNone\u001b[39;00m\n",
      "File \u001b[1;32mc:\\Users\\erlen\\.conda\\envs\\IND\\Lib\\site-packages\\pyspark\\sql\\session.py:962\u001b[0m, in \u001b[0;36mSparkSession._createFromLocal\u001b[1;34m(self, data, schema)\u001b[0m\n\u001b[0;32m    961\u001b[0m \u001b[39mif\u001b[39;00m schema \u001b[39mis\u001b[39;00m \u001b[39mNone\u001b[39;00m \u001b[39mor\u001b[39;00m \u001b[39misinstance\u001b[39m(schema, (\u001b[39mlist\u001b[39m, \u001b[39mtuple\u001b[39m)):\n\u001b[1;32m--> 962\u001b[0m     struct \u001b[39m=\u001b[39m \u001b[39mself\u001b[39;49m\u001b[39m.\u001b[39;49m_inferSchemaFromList(data, names\u001b[39m=\u001b[39;49mschema)\n\u001b[0;32m    963\u001b[0m     converter \u001b[39m=\u001b[39m _create_converter(struct)\n",
      "File \u001b[1;32mc:\\Users\\erlen\\.conda\\envs\\IND\\Lib\\site-packages\\pyspark\\sql\\session.py:850\u001b[0m, in \u001b[0;36mSparkSession._inferSchemaFromList\u001b[1;34m(self, data, names)\u001b[0m\n\u001b[0;32m    849\u001b[0m \u001b[39mif\u001b[39;00m _has_nulltype(schema):\n\u001b[1;32m--> 850\u001b[0m     \u001b[39mraise\u001b[39;00m \u001b[39mValueError\u001b[39;00m(\u001b[39m\"\u001b[39m\u001b[39mSome of types cannot be determined after inferring\u001b[39m\u001b[39m\"\u001b[39m)\n\u001b[0;32m    851\u001b[0m \u001b[39mreturn\u001b[39;00m schema\n",
      "\u001b[1;31mValueError\u001b[0m: Some of types cannot be determined after inferring",
      "\nDuring handling of the above exception, another exception occurred:\n",
      "\u001b[1;31mWritingToDatabaseError\u001b[0m                    Traceback (most recent call last)",
      "\u001b[1;32mg:\\My Drive\\Skolemappe\\NMBU\\Datavitenskap\\År 5\\1. Semester\\IND320\\Compulsories\\CA4\\CA4\\misc_testing.ipynb Cell 5\u001b[0m line \u001b[0;36m3\n\u001b[0;32m      <a href='vscode-notebook-cell:/g%3A/My%20Drive/Skolemappe/NMBU/Datavitenskap/%C3%85r%205/1.%20Semester/IND320/Compulsories/CA4/CA4/misc_testing.ipynb#W4sZmlsZQ%3D%3D?line=0'>1</a>\u001b[0m \u001b[39mfrom\u001b[39;00m \u001b[39mdata_utils\u001b[39;00m \u001b[39mimport\u001b[39;00m \u001b[39m*\u001b[39m\n\u001b[1;32m----> <a href='vscode-notebook-cell:/g%3A/My%20Drive/Skolemappe/NMBU/Datavitenskap/%C3%85r%205/1.%20Semester/IND320/Compulsories/CA4/CA4/misc_testing.ipynb#W4sZmlsZQ%3D%3D?line=2'>3</a>\u001b[0m get_one_year_lice_data(\u001b[39m10335\u001b[39;49m, \u001b[39m2022\u001b[39;49m, access_token\u001b[39m=\u001b[39;49m get_access_token())\n",
      "File \u001b[1;32mg:\\My Drive\\Skolemappe\\NMBU\\Datavitenskap\\År 5\\1. Semester\\IND320\\Compulsories\\CA4\\CA4\\data_utils.py:248\u001b[0m, in \u001b[0;36mget_one_year_lice_data\u001b[1;34m(locality, year, access_token)\u001b[0m\n\u001b[0;32m    246\u001b[0m     write_to_cassandra(df \u001b[39m=\u001b[39m df, table_name \u001b[39m=\u001b[39m \u001b[39m\"\u001b[39m\u001b[39mlice_data_full\u001b[39m\u001b[39m\"\u001b[39m)\n\u001b[0;32m    247\u001b[0m \u001b[39mexcept\u001b[39;00m:\n\u001b[1;32m--> 248\u001b[0m     \u001b[39mraise\u001b[39;00m WritingToDatabaseError(\u001b[39m\"\u001b[39m\u001b[39mError writing to database\u001b[39m\u001b[39m\"\u001b[39m)\n",
      "\u001b[1;31mWritingToDatabaseError\u001b[0m: Error writing to database"
     ]
    }
   ],
   "source": [
    "# from data_utils import *\n",
    "\n",
    "# get_one_year_lice_data(10335, 2022, access_token= get_access_token())"
   ]
  },
  {
   "cell_type": "code",
   "execution_count": 10,
   "metadata": {},
   "outputs": [
    {
     "data": {
      "text/html": [
       "<div>\n",
       "<style scoped>\n",
       "    .dataframe tbody tr th:only-of-type {\n",
       "        vertical-align: middle;\n",
       "    }\n",
       "\n",
       "    .dataframe tbody tr th {\n",
       "        vertical-align: top;\n",
       "    }\n",
       "\n",
       "    .dataframe thead th {\n",
       "        text-align: right;\n",
       "    }\n",
       "</style>\n",
       "<table border=\"1\" class=\"dataframe\">\n",
       "  <thead>\n",
       "    <tr style=\"text-align: right;\">\n",
       "      <th></th>\n",
       "      <th>id</th>\n",
       "      <th>localityno</th>\n",
       "      <th>year</th>\n",
       "      <th>week</th>\n",
       "      <th>hasreportedlice</th>\n",
       "      <th>hasmechanicalremoval</th>\n",
       "      <th>hasbathtreatment</th>\n",
       "      <th>hasinfeedtreatment</th>\n",
       "      <th>hascleanerfishdeployed</th>\n",
       "      <th>isfallow</th>\n",
       "      <th>avgadultfemalelice</th>\n",
       "      <th>avgmobilelice</th>\n",
       "      <th>avgstationarylice</th>\n",
       "      <th>seatemperature</th>\n",
       "      <th>hassalmonoids</th>\n",
       "      <th>isslaughterholdingcage</th>\n",
       "    </tr>\n",
       "  </thead>\n",
       "  <tbody>\n",
       "    <tr>\n",
       "      <th>0</th>\n",
       "      <td>325732</td>\n",
       "      <td>10423</td>\n",
       "      <td>2015</td>\n",
       "      <td>1</td>\n",
       "      <td>False</td>\n",
       "      <td>False</td>\n",
       "      <td>False</td>\n",
       "      <td>False</td>\n",
       "      <td>False</td>\n",
       "      <td>True</td>\n",
       "      <td>None</td>\n",
       "      <td>None</td>\n",
       "      <td>None</td>\n",
       "      <td>None</td>\n",
       "      <td>True</td>\n",
       "      <td>False</td>\n",
       "    </tr>\n",
       "    <tr>\n",
       "      <th>1</th>\n",
       "      <td>325733</td>\n",
       "      <td>10423</td>\n",
       "      <td>2015</td>\n",
       "      <td>2</td>\n",
       "      <td>False</td>\n",
       "      <td>False</td>\n",
       "      <td>False</td>\n",
       "      <td>False</td>\n",
       "      <td>False</td>\n",
       "      <td>True</td>\n",
       "      <td>None</td>\n",
       "      <td>None</td>\n",
       "      <td>None</td>\n",
       "      <td>None</td>\n",
       "      <td>True</td>\n",
       "      <td>False</td>\n",
       "    </tr>\n",
       "    <tr>\n",
       "      <th>2</th>\n",
       "      <td>325734</td>\n",
       "      <td>10423</td>\n",
       "      <td>2015</td>\n",
       "      <td>3</td>\n",
       "      <td>False</td>\n",
       "      <td>False</td>\n",
       "      <td>False</td>\n",
       "      <td>False</td>\n",
       "      <td>False</td>\n",
       "      <td>True</td>\n",
       "      <td>None</td>\n",
       "      <td>None</td>\n",
       "      <td>None</td>\n",
       "      <td>None</td>\n",
       "      <td>True</td>\n",
       "      <td>False</td>\n",
       "    </tr>\n",
       "    <tr>\n",
       "      <th>3</th>\n",
       "      <td>325735</td>\n",
       "      <td>10423</td>\n",
       "      <td>2015</td>\n",
       "      <td>4</td>\n",
       "      <td>False</td>\n",
       "      <td>False</td>\n",
       "      <td>False</td>\n",
       "      <td>False</td>\n",
       "      <td>False</td>\n",
       "      <td>True</td>\n",
       "      <td>None</td>\n",
       "      <td>None</td>\n",
       "      <td>None</td>\n",
       "      <td>None</td>\n",
       "      <td>True</td>\n",
       "      <td>False</td>\n",
       "    </tr>\n",
       "    <tr>\n",
       "      <th>4</th>\n",
       "      <td>325736</td>\n",
       "      <td>10423</td>\n",
       "      <td>2015</td>\n",
       "      <td>5</td>\n",
       "      <td>False</td>\n",
       "      <td>False</td>\n",
       "      <td>False</td>\n",
       "      <td>False</td>\n",
       "      <td>False</td>\n",
       "      <td>True</td>\n",
       "      <td>None</td>\n",
       "      <td>None</td>\n",
       "      <td>None</td>\n",
       "      <td>None</td>\n",
       "      <td>True</td>\n",
       "      <td>False</td>\n",
       "    </tr>\n",
       "    <tr>\n",
       "      <th>5</th>\n",
       "      <td>325737</td>\n",
       "      <td>10423</td>\n",
       "      <td>2015</td>\n",
       "      <td>6</td>\n",
       "      <td>False</td>\n",
       "      <td>False</td>\n",
       "      <td>False</td>\n",
       "      <td>False</td>\n",
       "      <td>False</td>\n",
       "      <td>True</td>\n",
       "      <td>None</td>\n",
       "      <td>None</td>\n",
       "      <td>None</td>\n",
       "      <td>None</td>\n",
       "      <td>True</td>\n",
       "      <td>False</td>\n",
       "    </tr>\n",
       "    <tr>\n",
       "      <th>6</th>\n",
       "      <td>325738</td>\n",
       "      <td>10423</td>\n",
       "      <td>2015</td>\n",
       "      <td>7</td>\n",
       "      <td>False</td>\n",
       "      <td>False</td>\n",
       "      <td>False</td>\n",
       "      <td>False</td>\n",
       "      <td>False</td>\n",
       "      <td>True</td>\n",
       "      <td>None</td>\n",
       "      <td>None</td>\n",
       "      <td>None</td>\n",
       "      <td>None</td>\n",
       "      <td>True</td>\n",
       "      <td>False</td>\n",
       "    </tr>\n",
       "    <tr>\n",
       "      <th>7</th>\n",
       "      <td>325739</td>\n",
       "      <td>10423</td>\n",
       "      <td>2015</td>\n",
       "      <td>8</td>\n",
       "      <td>False</td>\n",
       "      <td>False</td>\n",
       "      <td>False</td>\n",
       "      <td>False</td>\n",
       "      <td>False</td>\n",
       "      <td>True</td>\n",
       "      <td>None</td>\n",
       "      <td>None</td>\n",
       "      <td>None</td>\n",
       "      <td>None</td>\n",
       "      <td>True</td>\n",
       "      <td>False</td>\n",
       "    </tr>\n",
       "    <tr>\n",
       "      <th>8</th>\n",
       "      <td>325740</td>\n",
       "      <td>10423</td>\n",
       "      <td>2015</td>\n",
       "      <td>9</td>\n",
       "      <td>False</td>\n",
       "      <td>False</td>\n",
       "      <td>False</td>\n",
       "      <td>False</td>\n",
       "      <td>False</td>\n",
       "      <td>True</td>\n",
       "      <td>None</td>\n",
       "      <td>None</td>\n",
       "      <td>None</td>\n",
       "      <td>None</td>\n",
       "      <td>True</td>\n",
       "      <td>False</td>\n",
       "    </tr>\n",
       "    <tr>\n",
       "      <th>9</th>\n",
       "      <td>325741</td>\n",
       "      <td>10423</td>\n",
       "      <td>2015</td>\n",
       "      <td>10</td>\n",
       "      <td>False</td>\n",
       "      <td>False</td>\n",
       "      <td>False</td>\n",
       "      <td>False</td>\n",
       "      <td>False</td>\n",
       "      <td>True</td>\n",
       "      <td>None</td>\n",
       "      <td>None</td>\n",
       "      <td>None</td>\n",
       "      <td>None</td>\n",
       "      <td>True</td>\n",
       "      <td>False</td>\n",
       "    </tr>\n",
       "    <tr>\n",
       "      <th>10</th>\n",
       "      <td>325742</td>\n",
       "      <td>10423</td>\n",
       "      <td>2015</td>\n",
       "      <td>11</td>\n",
       "      <td>False</td>\n",
       "      <td>False</td>\n",
       "      <td>False</td>\n",
       "      <td>False</td>\n",
       "      <td>False</td>\n",
       "      <td>True</td>\n",
       "      <td>None</td>\n",
       "      <td>None</td>\n",
       "      <td>None</td>\n",
       "      <td>None</td>\n",
       "      <td>True</td>\n",
       "      <td>False</td>\n",
       "    </tr>\n",
       "    <tr>\n",
       "      <th>11</th>\n",
       "      <td>325743</td>\n",
       "      <td>10423</td>\n",
       "      <td>2015</td>\n",
       "      <td>12</td>\n",
       "      <td>False</td>\n",
       "      <td>False</td>\n",
       "      <td>False</td>\n",
       "      <td>False</td>\n",
       "      <td>False</td>\n",
       "      <td>True</td>\n",
       "      <td>None</td>\n",
       "      <td>None</td>\n",
       "      <td>None</td>\n",
       "      <td>None</td>\n",
       "      <td>True</td>\n",
       "      <td>False</td>\n",
       "    </tr>\n",
       "    <tr>\n",
       "      <th>12</th>\n",
       "      <td>325744</td>\n",
       "      <td>10423</td>\n",
       "      <td>2015</td>\n",
       "      <td>13</td>\n",
       "      <td>False</td>\n",
       "      <td>False</td>\n",
       "      <td>False</td>\n",
       "      <td>False</td>\n",
       "      <td>False</td>\n",
       "      <td>True</td>\n",
       "      <td>None</td>\n",
       "      <td>None</td>\n",
       "      <td>None</td>\n",
       "      <td>None</td>\n",
       "      <td>True</td>\n",
       "      <td>False</td>\n",
       "    </tr>\n",
       "    <tr>\n",
       "      <th>13</th>\n",
       "      <td>325745</td>\n",
       "      <td>10423</td>\n",
       "      <td>2015</td>\n",
       "      <td>14</td>\n",
       "      <td>False</td>\n",
       "      <td>False</td>\n",
       "      <td>False</td>\n",
       "      <td>False</td>\n",
       "      <td>False</td>\n",
       "      <td>True</td>\n",
       "      <td>None</td>\n",
       "      <td>None</td>\n",
       "      <td>None</td>\n",
       "      <td>None</td>\n",
       "      <td>True</td>\n",
       "      <td>False</td>\n",
       "    </tr>\n",
       "    <tr>\n",
       "      <th>14</th>\n",
       "      <td>325746</td>\n",
       "      <td>10423</td>\n",
       "      <td>2015</td>\n",
       "      <td>15</td>\n",
       "      <td>False</td>\n",
       "      <td>False</td>\n",
       "      <td>False</td>\n",
       "      <td>False</td>\n",
       "      <td>False</td>\n",
       "      <td>True</td>\n",
       "      <td>None</td>\n",
       "      <td>None</td>\n",
       "      <td>None</td>\n",
       "      <td>None</td>\n",
       "      <td>True</td>\n",
       "      <td>False</td>\n",
       "    </tr>\n",
       "    <tr>\n",
       "      <th>15</th>\n",
       "      <td>325747</td>\n",
       "      <td>10423</td>\n",
       "      <td>2015</td>\n",
       "      <td>16</td>\n",
       "      <td>False</td>\n",
       "      <td>False</td>\n",
       "      <td>False</td>\n",
       "      <td>False</td>\n",
       "      <td>False</td>\n",
       "      <td>True</td>\n",
       "      <td>None</td>\n",
       "      <td>None</td>\n",
       "      <td>None</td>\n",
       "      <td>None</td>\n",
       "      <td>True</td>\n",
       "      <td>False</td>\n",
       "    </tr>\n",
       "    <tr>\n",
       "      <th>16</th>\n",
       "      <td>325748</td>\n",
       "      <td>10423</td>\n",
       "      <td>2015</td>\n",
       "      <td>17</td>\n",
       "      <td>False</td>\n",
       "      <td>False</td>\n",
       "      <td>False</td>\n",
       "      <td>False</td>\n",
       "      <td>False</td>\n",
       "      <td>True</td>\n",
       "      <td>None</td>\n",
       "      <td>None</td>\n",
       "      <td>None</td>\n",
       "      <td>None</td>\n",
       "      <td>True</td>\n",
       "      <td>False</td>\n",
       "    </tr>\n",
       "    <tr>\n",
       "      <th>17</th>\n",
       "      <td>325749</td>\n",
       "      <td>10423</td>\n",
       "      <td>2015</td>\n",
       "      <td>18</td>\n",
       "      <td>False</td>\n",
       "      <td>False</td>\n",
       "      <td>False</td>\n",
       "      <td>False</td>\n",
       "      <td>False</td>\n",
       "      <td>True</td>\n",
       "      <td>None</td>\n",
       "      <td>None</td>\n",
       "      <td>None</td>\n",
       "      <td>None</td>\n",
       "      <td>True</td>\n",
       "      <td>False</td>\n",
       "    </tr>\n",
       "    <tr>\n",
       "      <th>18</th>\n",
       "      <td>325750</td>\n",
       "      <td>10423</td>\n",
       "      <td>2015</td>\n",
       "      <td>19</td>\n",
       "      <td>False</td>\n",
       "      <td>False</td>\n",
       "      <td>False</td>\n",
       "      <td>False</td>\n",
       "      <td>False</td>\n",
       "      <td>True</td>\n",
       "      <td>None</td>\n",
       "      <td>None</td>\n",
       "      <td>None</td>\n",
       "      <td>None</td>\n",
       "      <td>True</td>\n",
       "      <td>False</td>\n",
       "    </tr>\n",
       "    <tr>\n",
       "      <th>19</th>\n",
       "      <td>325751</td>\n",
       "      <td>10423</td>\n",
       "      <td>2015</td>\n",
       "      <td>20</td>\n",
       "      <td>False</td>\n",
       "      <td>False</td>\n",
       "      <td>False</td>\n",
       "      <td>False</td>\n",
       "      <td>False</td>\n",
       "      <td>True</td>\n",
       "      <td>None</td>\n",
       "      <td>None</td>\n",
       "      <td>None</td>\n",
       "      <td>None</td>\n",
       "      <td>True</td>\n",
       "      <td>False</td>\n",
       "    </tr>\n",
       "    <tr>\n",
       "      <th>20</th>\n",
       "      <td>325752</td>\n",
       "      <td>10423</td>\n",
       "      <td>2015</td>\n",
       "      <td>21</td>\n",
       "      <td>False</td>\n",
       "      <td>False</td>\n",
       "      <td>False</td>\n",
       "      <td>False</td>\n",
       "      <td>False</td>\n",
       "      <td>True</td>\n",
       "      <td>None</td>\n",
       "      <td>None</td>\n",
       "      <td>None</td>\n",
       "      <td>None</td>\n",
       "      <td>True</td>\n",
       "      <td>False</td>\n",
       "    </tr>\n",
       "    <tr>\n",
       "      <th>21</th>\n",
       "      <td>325753</td>\n",
       "      <td>10423</td>\n",
       "      <td>2015</td>\n",
       "      <td>22</td>\n",
       "      <td>False</td>\n",
       "      <td>False</td>\n",
       "      <td>False</td>\n",
       "      <td>False</td>\n",
       "      <td>False</td>\n",
       "      <td>True</td>\n",
       "      <td>None</td>\n",
       "      <td>None</td>\n",
       "      <td>None</td>\n",
       "      <td>None</td>\n",
       "      <td>True</td>\n",
       "      <td>False</td>\n",
       "    </tr>\n",
       "    <tr>\n",
       "      <th>22</th>\n",
       "      <td>325754</td>\n",
       "      <td>10423</td>\n",
       "      <td>2015</td>\n",
       "      <td>23</td>\n",
       "      <td>False</td>\n",
       "      <td>False</td>\n",
       "      <td>False</td>\n",
       "      <td>False</td>\n",
       "      <td>False</td>\n",
       "      <td>True</td>\n",
       "      <td>None</td>\n",
       "      <td>None</td>\n",
       "      <td>None</td>\n",
       "      <td>None</td>\n",
       "      <td>True</td>\n",
       "      <td>False</td>\n",
       "    </tr>\n",
       "    <tr>\n",
       "      <th>23</th>\n",
       "      <td>325755</td>\n",
       "      <td>10423</td>\n",
       "      <td>2015</td>\n",
       "      <td>24</td>\n",
       "      <td>False</td>\n",
       "      <td>False</td>\n",
       "      <td>False</td>\n",
       "      <td>False</td>\n",
       "      <td>False</td>\n",
       "      <td>True</td>\n",
       "      <td>None</td>\n",
       "      <td>None</td>\n",
       "      <td>None</td>\n",
       "      <td>None</td>\n",
       "      <td>True</td>\n",
       "      <td>False</td>\n",
       "    </tr>\n",
       "    <tr>\n",
       "      <th>24</th>\n",
       "      <td>325756</td>\n",
       "      <td>10423</td>\n",
       "      <td>2015</td>\n",
       "      <td>25</td>\n",
       "      <td>False</td>\n",
       "      <td>False</td>\n",
       "      <td>False</td>\n",
       "      <td>False</td>\n",
       "      <td>False</td>\n",
       "      <td>True</td>\n",
       "      <td>None</td>\n",
       "      <td>None</td>\n",
       "      <td>None</td>\n",
       "      <td>None</td>\n",
       "      <td>True</td>\n",
       "      <td>False</td>\n",
       "    </tr>\n",
       "    <tr>\n",
       "      <th>25</th>\n",
       "      <td>325757</td>\n",
       "      <td>10423</td>\n",
       "      <td>2015</td>\n",
       "      <td>26</td>\n",
       "      <td>False</td>\n",
       "      <td>False</td>\n",
       "      <td>False</td>\n",
       "      <td>False</td>\n",
       "      <td>False</td>\n",
       "      <td>True</td>\n",
       "      <td>None</td>\n",
       "      <td>None</td>\n",
       "      <td>None</td>\n",
       "      <td>None</td>\n",
       "      <td>True</td>\n",
       "      <td>False</td>\n",
       "    </tr>\n",
       "    <tr>\n",
       "      <th>26</th>\n",
       "      <td>325758</td>\n",
       "      <td>10423</td>\n",
       "      <td>2015</td>\n",
       "      <td>27</td>\n",
       "      <td>False</td>\n",
       "      <td>False</td>\n",
       "      <td>False</td>\n",
       "      <td>False</td>\n",
       "      <td>False</td>\n",
       "      <td>True</td>\n",
       "      <td>None</td>\n",
       "      <td>None</td>\n",
       "      <td>None</td>\n",
       "      <td>None</td>\n",
       "      <td>True</td>\n",
       "      <td>False</td>\n",
       "    </tr>\n",
       "    <tr>\n",
       "      <th>27</th>\n",
       "      <td>325759</td>\n",
       "      <td>10423</td>\n",
       "      <td>2015</td>\n",
       "      <td>28</td>\n",
       "      <td>False</td>\n",
       "      <td>False</td>\n",
       "      <td>False</td>\n",
       "      <td>False</td>\n",
       "      <td>False</td>\n",
       "      <td>True</td>\n",
       "      <td>None</td>\n",
       "      <td>None</td>\n",
       "      <td>None</td>\n",
       "      <td>None</td>\n",
       "      <td>True</td>\n",
       "      <td>False</td>\n",
       "    </tr>\n",
       "    <tr>\n",
       "      <th>28</th>\n",
       "      <td>325760</td>\n",
       "      <td>10423</td>\n",
       "      <td>2015</td>\n",
       "      <td>29</td>\n",
       "      <td>False</td>\n",
       "      <td>False</td>\n",
       "      <td>False</td>\n",
       "      <td>False</td>\n",
       "      <td>False</td>\n",
       "      <td>True</td>\n",
       "      <td>None</td>\n",
       "      <td>None</td>\n",
       "      <td>None</td>\n",
       "      <td>None</td>\n",
       "      <td>True</td>\n",
       "      <td>False</td>\n",
       "    </tr>\n",
       "    <tr>\n",
       "      <th>29</th>\n",
       "      <td>325761</td>\n",
       "      <td>10423</td>\n",
       "      <td>2015</td>\n",
       "      <td>30</td>\n",
       "      <td>False</td>\n",
       "      <td>False</td>\n",
       "      <td>False</td>\n",
       "      <td>False</td>\n",
       "      <td>False</td>\n",
       "      <td>True</td>\n",
       "      <td>None</td>\n",
       "      <td>None</td>\n",
       "      <td>None</td>\n",
       "      <td>None</td>\n",
       "      <td>True</td>\n",
       "      <td>False</td>\n",
       "    </tr>\n",
       "    <tr>\n",
       "      <th>30</th>\n",
       "      <td>325762</td>\n",
       "      <td>10423</td>\n",
       "      <td>2015</td>\n",
       "      <td>31</td>\n",
       "      <td>False</td>\n",
       "      <td>False</td>\n",
       "      <td>False</td>\n",
       "      <td>False</td>\n",
       "      <td>False</td>\n",
       "      <td>True</td>\n",
       "      <td>None</td>\n",
       "      <td>None</td>\n",
       "      <td>None</td>\n",
       "      <td>None</td>\n",
       "      <td>True</td>\n",
       "      <td>False</td>\n",
       "    </tr>\n",
       "    <tr>\n",
       "      <th>31</th>\n",
       "      <td>325763</td>\n",
       "      <td>10423</td>\n",
       "      <td>2015</td>\n",
       "      <td>32</td>\n",
       "      <td>False</td>\n",
       "      <td>False</td>\n",
       "      <td>False</td>\n",
       "      <td>False</td>\n",
       "      <td>False</td>\n",
       "      <td>True</td>\n",
       "      <td>None</td>\n",
       "      <td>None</td>\n",
       "      <td>None</td>\n",
       "      <td>None</td>\n",
       "      <td>True</td>\n",
       "      <td>False</td>\n",
       "    </tr>\n",
       "    <tr>\n",
       "      <th>32</th>\n",
       "      <td>325764</td>\n",
       "      <td>10423</td>\n",
       "      <td>2015</td>\n",
       "      <td>33</td>\n",
       "      <td>False</td>\n",
       "      <td>False</td>\n",
       "      <td>False</td>\n",
       "      <td>False</td>\n",
       "      <td>False</td>\n",
       "      <td>True</td>\n",
       "      <td>None</td>\n",
       "      <td>None</td>\n",
       "      <td>None</td>\n",
       "      <td>None</td>\n",
       "      <td>True</td>\n",
       "      <td>False</td>\n",
       "    </tr>\n",
       "    <tr>\n",
       "      <th>33</th>\n",
       "      <td>325765</td>\n",
       "      <td>10423</td>\n",
       "      <td>2015</td>\n",
       "      <td>34</td>\n",
       "      <td>False</td>\n",
       "      <td>False</td>\n",
       "      <td>False</td>\n",
       "      <td>False</td>\n",
       "      <td>False</td>\n",
       "      <td>True</td>\n",
       "      <td>None</td>\n",
       "      <td>None</td>\n",
       "      <td>None</td>\n",
       "      <td>None</td>\n",
       "      <td>True</td>\n",
       "      <td>False</td>\n",
       "    </tr>\n",
       "    <tr>\n",
       "      <th>34</th>\n",
       "      <td>325766</td>\n",
       "      <td>10423</td>\n",
       "      <td>2015</td>\n",
       "      <td>35</td>\n",
       "      <td>False</td>\n",
       "      <td>False</td>\n",
       "      <td>False</td>\n",
       "      <td>False</td>\n",
       "      <td>False</td>\n",
       "      <td>True</td>\n",
       "      <td>None</td>\n",
       "      <td>None</td>\n",
       "      <td>None</td>\n",
       "      <td>None</td>\n",
       "      <td>True</td>\n",
       "      <td>False</td>\n",
       "    </tr>\n",
       "    <tr>\n",
       "      <th>35</th>\n",
       "      <td>325767</td>\n",
       "      <td>10423</td>\n",
       "      <td>2015</td>\n",
       "      <td>36</td>\n",
       "      <td>False</td>\n",
       "      <td>False</td>\n",
       "      <td>False</td>\n",
       "      <td>False</td>\n",
       "      <td>False</td>\n",
       "      <td>True</td>\n",
       "      <td>None</td>\n",
       "      <td>None</td>\n",
       "      <td>None</td>\n",
       "      <td>None</td>\n",
       "      <td>True</td>\n",
       "      <td>False</td>\n",
       "    </tr>\n",
       "    <tr>\n",
       "      <th>36</th>\n",
       "      <td>325768</td>\n",
       "      <td>10423</td>\n",
       "      <td>2015</td>\n",
       "      <td>37</td>\n",
       "      <td>False</td>\n",
       "      <td>False</td>\n",
       "      <td>False</td>\n",
       "      <td>False</td>\n",
       "      <td>False</td>\n",
       "      <td>True</td>\n",
       "      <td>None</td>\n",
       "      <td>None</td>\n",
       "      <td>None</td>\n",
       "      <td>None</td>\n",
       "      <td>True</td>\n",
       "      <td>False</td>\n",
       "    </tr>\n",
       "    <tr>\n",
       "      <th>37</th>\n",
       "      <td>325769</td>\n",
       "      <td>10423</td>\n",
       "      <td>2015</td>\n",
       "      <td>38</td>\n",
       "      <td>False</td>\n",
       "      <td>False</td>\n",
       "      <td>False</td>\n",
       "      <td>False</td>\n",
       "      <td>False</td>\n",
       "      <td>True</td>\n",
       "      <td>None</td>\n",
       "      <td>None</td>\n",
       "      <td>None</td>\n",
       "      <td>None</td>\n",
       "      <td>True</td>\n",
       "      <td>False</td>\n",
       "    </tr>\n",
       "    <tr>\n",
       "      <th>38</th>\n",
       "      <td>325770</td>\n",
       "      <td>10423</td>\n",
       "      <td>2015</td>\n",
       "      <td>39</td>\n",
       "      <td>False</td>\n",
       "      <td>False</td>\n",
       "      <td>False</td>\n",
       "      <td>False</td>\n",
       "      <td>False</td>\n",
       "      <td>True</td>\n",
       "      <td>None</td>\n",
       "      <td>None</td>\n",
       "      <td>None</td>\n",
       "      <td>None</td>\n",
       "      <td>True</td>\n",
       "      <td>False</td>\n",
       "    </tr>\n",
       "    <tr>\n",
       "      <th>39</th>\n",
       "      <td>325771</td>\n",
       "      <td>10423</td>\n",
       "      <td>2015</td>\n",
       "      <td>40</td>\n",
       "      <td>False</td>\n",
       "      <td>False</td>\n",
       "      <td>False</td>\n",
       "      <td>False</td>\n",
       "      <td>False</td>\n",
       "      <td>True</td>\n",
       "      <td>None</td>\n",
       "      <td>None</td>\n",
       "      <td>None</td>\n",
       "      <td>None</td>\n",
       "      <td>True</td>\n",
       "      <td>False</td>\n",
       "    </tr>\n",
       "    <tr>\n",
       "      <th>40</th>\n",
       "      <td>325772</td>\n",
       "      <td>10423</td>\n",
       "      <td>2015</td>\n",
       "      <td>41</td>\n",
       "      <td>False</td>\n",
       "      <td>False</td>\n",
       "      <td>False</td>\n",
       "      <td>False</td>\n",
       "      <td>False</td>\n",
       "      <td>True</td>\n",
       "      <td>None</td>\n",
       "      <td>None</td>\n",
       "      <td>None</td>\n",
       "      <td>None</td>\n",
       "      <td>True</td>\n",
       "      <td>False</td>\n",
       "    </tr>\n",
       "    <tr>\n",
       "      <th>41</th>\n",
       "      <td>325773</td>\n",
       "      <td>10423</td>\n",
       "      <td>2015</td>\n",
       "      <td>42</td>\n",
       "      <td>False</td>\n",
       "      <td>False</td>\n",
       "      <td>False</td>\n",
       "      <td>False</td>\n",
       "      <td>False</td>\n",
       "      <td>True</td>\n",
       "      <td>None</td>\n",
       "      <td>None</td>\n",
       "      <td>None</td>\n",
       "      <td>None</td>\n",
       "      <td>True</td>\n",
       "      <td>False</td>\n",
       "    </tr>\n",
       "    <tr>\n",
       "      <th>42</th>\n",
       "      <td>325774</td>\n",
       "      <td>10423</td>\n",
       "      <td>2015</td>\n",
       "      <td>43</td>\n",
       "      <td>False</td>\n",
       "      <td>False</td>\n",
       "      <td>False</td>\n",
       "      <td>False</td>\n",
       "      <td>False</td>\n",
       "      <td>True</td>\n",
       "      <td>None</td>\n",
       "      <td>None</td>\n",
       "      <td>None</td>\n",
       "      <td>None</td>\n",
       "      <td>True</td>\n",
       "      <td>False</td>\n",
       "    </tr>\n",
       "    <tr>\n",
       "      <th>43</th>\n",
       "      <td>325775</td>\n",
       "      <td>10423</td>\n",
       "      <td>2015</td>\n",
       "      <td>44</td>\n",
       "      <td>False</td>\n",
       "      <td>False</td>\n",
       "      <td>False</td>\n",
       "      <td>False</td>\n",
       "      <td>False</td>\n",
       "      <td>True</td>\n",
       "      <td>None</td>\n",
       "      <td>None</td>\n",
       "      <td>None</td>\n",
       "      <td>None</td>\n",
       "      <td>True</td>\n",
       "      <td>False</td>\n",
       "    </tr>\n",
       "    <tr>\n",
       "      <th>44</th>\n",
       "      <td>325776</td>\n",
       "      <td>10423</td>\n",
       "      <td>2015</td>\n",
       "      <td>45</td>\n",
       "      <td>False</td>\n",
       "      <td>False</td>\n",
       "      <td>False</td>\n",
       "      <td>False</td>\n",
       "      <td>False</td>\n",
       "      <td>True</td>\n",
       "      <td>None</td>\n",
       "      <td>None</td>\n",
       "      <td>None</td>\n",
       "      <td>None</td>\n",
       "      <td>True</td>\n",
       "      <td>False</td>\n",
       "    </tr>\n",
       "    <tr>\n",
       "      <th>45</th>\n",
       "      <td>325777</td>\n",
       "      <td>10423</td>\n",
       "      <td>2015</td>\n",
       "      <td>46</td>\n",
       "      <td>False</td>\n",
       "      <td>False</td>\n",
       "      <td>False</td>\n",
       "      <td>False</td>\n",
       "      <td>False</td>\n",
       "      <td>True</td>\n",
       "      <td>None</td>\n",
       "      <td>None</td>\n",
       "      <td>None</td>\n",
       "      <td>None</td>\n",
       "      <td>True</td>\n",
       "      <td>False</td>\n",
       "    </tr>\n",
       "    <tr>\n",
       "      <th>46</th>\n",
       "      <td>325778</td>\n",
       "      <td>10423</td>\n",
       "      <td>2015</td>\n",
       "      <td>47</td>\n",
       "      <td>False</td>\n",
       "      <td>False</td>\n",
       "      <td>False</td>\n",
       "      <td>False</td>\n",
       "      <td>False</td>\n",
       "      <td>True</td>\n",
       "      <td>None</td>\n",
       "      <td>None</td>\n",
       "      <td>None</td>\n",
       "      <td>None</td>\n",
       "      <td>True</td>\n",
       "      <td>False</td>\n",
       "    </tr>\n",
       "    <tr>\n",
       "      <th>47</th>\n",
       "      <td>325779</td>\n",
       "      <td>10423</td>\n",
       "      <td>2015</td>\n",
       "      <td>48</td>\n",
       "      <td>False</td>\n",
       "      <td>False</td>\n",
       "      <td>False</td>\n",
       "      <td>False</td>\n",
       "      <td>False</td>\n",
       "      <td>True</td>\n",
       "      <td>None</td>\n",
       "      <td>None</td>\n",
       "      <td>None</td>\n",
       "      <td>None</td>\n",
       "      <td>True</td>\n",
       "      <td>False</td>\n",
       "    </tr>\n",
       "    <tr>\n",
       "      <th>48</th>\n",
       "      <td>325780</td>\n",
       "      <td>10423</td>\n",
       "      <td>2015</td>\n",
       "      <td>49</td>\n",
       "      <td>False</td>\n",
       "      <td>False</td>\n",
       "      <td>False</td>\n",
       "      <td>False</td>\n",
       "      <td>False</td>\n",
       "      <td>True</td>\n",
       "      <td>None</td>\n",
       "      <td>None</td>\n",
       "      <td>None</td>\n",
       "      <td>None</td>\n",
       "      <td>True</td>\n",
       "      <td>False</td>\n",
       "    </tr>\n",
       "    <tr>\n",
       "      <th>49</th>\n",
       "      <td>325781</td>\n",
       "      <td>10423</td>\n",
       "      <td>2015</td>\n",
       "      <td>50</td>\n",
       "      <td>False</td>\n",
       "      <td>False</td>\n",
       "      <td>False</td>\n",
       "      <td>False</td>\n",
       "      <td>False</td>\n",
       "      <td>True</td>\n",
       "      <td>None</td>\n",
       "      <td>None</td>\n",
       "      <td>None</td>\n",
       "      <td>None</td>\n",
       "      <td>True</td>\n",
       "      <td>False</td>\n",
       "    </tr>\n",
       "    <tr>\n",
       "      <th>50</th>\n",
       "      <td>325782</td>\n",
       "      <td>10423</td>\n",
       "      <td>2015</td>\n",
       "      <td>51</td>\n",
       "      <td>False</td>\n",
       "      <td>False</td>\n",
       "      <td>False</td>\n",
       "      <td>False</td>\n",
       "      <td>False</td>\n",
       "      <td>True</td>\n",
       "      <td>None</td>\n",
       "      <td>None</td>\n",
       "      <td>None</td>\n",
       "      <td>None</td>\n",
       "      <td>True</td>\n",
       "      <td>False</td>\n",
       "    </tr>\n",
       "    <tr>\n",
       "      <th>51</th>\n",
       "      <td>325783</td>\n",
       "      <td>10423</td>\n",
       "      <td>2015</td>\n",
       "      <td>52</td>\n",
       "      <td>False</td>\n",
       "      <td>False</td>\n",
       "      <td>False</td>\n",
       "      <td>False</td>\n",
       "      <td>False</td>\n",
       "      <td>True</td>\n",
       "      <td>None</td>\n",
       "      <td>None</td>\n",
       "      <td>None</td>\n",
       "      <td>None</td>\n",
       "      <td>False</td>\n",
       "      <td>False</td>\n",
       "    </tr>\n",
       "  </tbody>\n",
       "</table>\n",
       "</div>"
      ],
      "text/plain": [
       "        id  localityno  year  week  hasreportedlice  hasmechanicalremoval  \\\n",
       "0   325732       10423  2015     1            False                 False   \n",
       "1   325733       10423  2015     2            False                 False   \n",
       "2   325734       10423  2015     3            False                 False   \n",
       "3   325735       10423  2015     4            False                 False   \n",
       "4   325736       10423  2015     5            False                 False   \n",
       "5   325737       10423  2015     6            False                 False   \n",
       "6   325738       10423  2015     7            False                 False   \n",
       "7   325739       10423  2015     8            False                 False   \n",
       "8   325740       10423  2015     9            False                 False   \n",
       "9   325741       10423  2015    10            False                 False   \n",
       "10  325742       10423  2015    11            False                 False   \n",
       "11  325743       10423  2015    12            False                 False   \n",
       "12  325744       10423  2015    13            False                 False   \n",
       "13  325745       10423  2015    14            False                 False   \n",
       "14  325746       10423  2015    15            False                 False   \n",
       "15  325747       10423  2015    16            False                 False   \n",
       "16  325748       10423  2015    17            False                 False   \n",
       "17  325749       10423  2015    18            False                 False   \n",
       "18  325750       10423  2015    19            False                 False   \n",
       "19  325751       10423  2015    20            False                 False   \n",
       "20  325752       10423  2015    21            False                 False   \n",
       "21  325753       10423  2015    22            False                 False   \n",
       "22  325754       10423  2015    23            False                 False   \n",
       "23  325755       10423  2015    24            False                 False   \n",
       "24  325756       10423  2015    25            False                 False   \n",
       "25  325757       10423  2015    26            False                 False   \n",
       "26  325758       10423  2015    27            False                 False   \n",
       "27  325759       10423  2015    28            False                 False   \n",
       "28  325760       10423  2015    29            False                 False   \n",
       "29  325761       10423  2015    30            False                 False   \n",
       "30  325762       10423  2015    31            False                 False   \n",
       "31  325763       10423  2015    32            False                 False   \n",
       "32  325764       10423  2015    33            False                 False   \n",
       "33  325765       10423  2015    34            False                 False   \n",
       "34  325766       10423  2015    35            False                 False   \n",
       "35  325767       10423  2015    36            False                 False   \n",
       "36  325768       10423  2015    37            False                 False   \n",
       "37  325769       10423  2015    38            False                 False   \n",
       "38  325770       10423  2015    39            False                 False   \n",
       "39  325771       10423  2015    40            False                 False   \n",
       "40  325772       10423  2015    41            False                 False   \n",
       "41  325773       10423  2015    42            False                 False   \n",
       "42  325774       10423  2015    43            False                 False   \n",
       "43  325775       10423  2015    44            False                 False   \n",
       "44  325776       10423  2015    45            False                 False   \n",
       "45  325777       10423  2015    46            False                 False   \n",
       "46  325778       10423  2015    47            False                 False   \n",
       "47  325779       10423  2015    48            False                 False   \n",
       "48  325780       10423  2015    49            False                 False   \n",
       "49  325781       10423  2015    50            False                 False   \n",
       "50  325782       10423  2015    51            False                 False   \n",
       "51  325783       10423  2015    52            False                 False   \n",
       "\n",
       "    hasbathtreatment  hasinfeedtreatment  hascleanerfishdeployed  isfallow  \\\n",
       "0              False               False                   False      True   \n",
       "1              False               False                   False      True   \n",
       "2              False               False                   False      True   \n",
       "3              False               False                   False      True   \n",
       "4              False               False                   False      True   \n",
       "5              False               False                   False      True   \n",
       "6              False               False                   False      True   \n",
       "7              False               False                   False      True   \n",
       "8              False               False                   False      True   \n",
       "9              False               False                   False      True   \n",
       "10             False               False                   False      True   \n",
       "11             False               False                   False      True   \n",
       "12             False               False                   False      True   \n",
       "13             False               False                   False      True   \n",
       "14             False               False                   False      True   \n",
       "15             False               False                   False      True   \n",
       "16             False               False                   False      True   \n",
       "17             False               False                   False      True   \n",
       "18             False               False                   False      True   \n",
       "19             False               False                   False      True   \n",
       "20             False               False                   False      True   \n",
       "21             False               False                   False      True   \n",
       "22             False               False                   False      True   \n",
       "23             False               False                   False      True   \n",
       "24             False               False                   False      True   \n",
       "25             False               False                   False      True   \n",
       "26             False               False                   False      True   \n",
       "27             False               False                   False      True   \n",
       "28             False               False                   False      True   \n",
       "29             False               False                   False      True   \n",
       "30             False               False                   False      True   \n",
       "31             False               False                   False      True   \n",
       "32             False               False                   False      True   \n",
       "33             False               False                   False      True   \n",
       "34             False               False                   False      True   \n",
       "35             False               False                   False      True   \n",
       "36             False               False                   False      True   \n",
       "37             False               False                   False      True   \n",
       "38             False               False                   False      True   \n",
       "39             False               False                   False      True   \n",
       "40             False               False                   False      True   \n",
       "41             False               False                   False      True   \n",
       "42             False               False                   False      True   \n",
       "43             False               False                   False      True   \n",
       "44             False               False                   False      True   \n",
       "45             False               False                   False      True   \n",
       "46             False               False                   False      True   \n",
       "47             False               False                   False      True   \n",
       "48             False               False                   False      True   \n",
       "49             False               False                   False      True   \n",
       "50             False               False                   False      True   \n",
       "51             False               False                   False      True   \n",
       "\n",
       "   avgadultfemalelice avgmobilelice avgstationarylice seatemperature  \\\n",
       "0                None          None              None           None   \n",
       "1                None          None              None           None   \n",
       "2                None          None              None           None   \n",
       "3                None          None              None           None   \n",
       "4                None          None              None           None   \n",
       "5                None          None              None           None   \n",
       "6                None          None              None           None   \n",
       "7                None          None              None           None   \n",
       "8                None          None              None           None   \n",
       "9                None          None              None           None   \n",
       "10               None          None              None           None   \n",
       "11               None          None              None           None   \n",
       "12               None          None              None           None   \n",
       "13               None          None              None           None   \n",
       "14               None          None              None           None   \n",
       "15               None          None              None           None   \n",
       "16               None          None              None           None   \n",
       "17               None          None              None           None   \n",
       "18               None          None              None           None   \n",
       "19               None          None              None           None   \n",
       "20               None          None              None           None   \n",
       "21               None          None              None           None   \n",
       "22               None          None              None           None   \n",
       "23               None          None              None           None   \n",
       "24               None          None              None           None   \n",
       "25               None          None              None           None   \n",
       "26               None          None              None           None   \n",
       "27               None          None              None           None   \n",
       "28               None          None              None           None   \n",
       "29               None          None              None           None   \n",
       "30               None          None              None           None   \n",
       "31               None          None              None           None   \n",
       "32               None          None              None           None   \n",
       "33               None          None              None           None   \n",
       "34               None          None              None           None   \n",
       "35               None          None              None           None   \n",
       "36               None          None              None           None   \n",
       "37               None          None              None           None   \n",
       "38               None          None              None           None   \n",
       "39               None          None              None           None   \n",
       "40               None          None              None           None   \n",
       "41               None          None              None           None   \n",
       "42               None          None              None           None   \n",
       "43               None          None              None           None   \n",
       "44               None          None              None           None   \n",
       "45               None          None              None           None   \n",
       "46               None          None              None           None   \n",
       "47               None          None              None           None   \n",
       "48               None          None              None           None   \n",
       "49               None          None              None           None   \n",
       "50               None          None              None           None   \n",
       "51               None          None              None           None   \n",
       "\n",
       "    hassalmonoids  isslaughterholdingcage  \n",
       "0            True                   False  \n",
       "1            True                   False  \n",
       "2            True                   False  \n",
       "3            True                   False  \n",
       "4            True                   False  \n",
       "5            True                   False  \n",
       "6            True                   False  \n",
       "7            True                   False  \n",
       "8            True                   False  \n",
       "9            True                   False  \n",
       "10           True                   False  \n",
       "11           True                   False  \n",
       "12           True                   False  \n",
       "13           True                   False  \n",
       "14           True                   False  \n",
       "15           True                   False  \n",
       "16           True                   False  \n",
       "17           True                   False  \n",
       "18           True                   False  \n",
       "19           True                   False  \n",
       "20           True                   False  \n",
       "21           True                   False  \n",
       "22           True                   False  \n",
       "23           True                   False  \n",
       "24           True                   False  \n",
       "25           True                   False  \n",
       "26           True                   False  \n",
       "27           True                   False  \n",
       "28           True                   False  \n",
       "29           True                   False  \n",
       "30           True                   False  \n",
       "31           True                   False  \n",
       "32           True                   False  \n",
       "33           True                   False  \n",
       "34           True                   False  \n",
       "35           True                   False  \n",
       "36           True                   False  \n",
       "37           True                   False  \n",
       "38           True                   False  \n",
       "39           True                   False  \n",
       "40           True                   False  \n",
       "41           True                   False  \n",
       "42           True                   False  \n",
       "43           True                   False  \n",
       "44           True                   False  \n",
       "45           True                   False  \n",
       "46           True                   False  \n",
       "47           True                   False  \n",
       "48           True                   False  \n",
       "49           True                   False  \n",
       "50           True                   False  \n",
       "51          False                   False  "
      ]
     },
     "execution_count": 10,
     "metadata": {},
     "output_type": "execute_result"
    }
   ],
   "source": [
    "def get_one_year_lice_data(locality, year, access_token):\n",
    "    \"\"\"\n",
    "    Function to get all lice count data from Barentswatch API limited to one year.\n",
    "\n",
    "    Parameters:\n",
    "    -----------\n",
    "    localty : int\n",
    "        Localty number\n",
    "    year : int\n",
    "        Year of data\n",
    "    access_token : str\n",
    "        Access token from Barentswatch API\n",
    "    Returns:\n",
    "    --------\n",
    "    df: pandas dataframe with data\n",
    "    \"\"\"\n",
    "\n",
    "    #if year < 2010 or year > 2023:\n",
    "     #   raise InvalidYearError(\"Year invalid\")\n",
    "\n",
    "\n",
    "    # Set list of weeks (1-52).\n",
    "    weeks = np.arange(1, 53)\n",
    "    df = pd.DataFrame()\n",
    "\n",
    "    for week in weeks:\n",
    "        data = get_one_week_lice_data(localty = locality, year = year, week = week, access_token = access_token)[\"localityWeek\"]\n",
    "        for key, value in data.items():\n",
    "            # Set to list to make it compatible to convert to pandas dataframe\n",
    "            data[key] = [value]\n",
    "        # Dropping columns that contain purely None and nested dictionaries\n",
    "        data = pd.DataFrame(data).drop(columns = [\"bathTreatments\", \"cleanerFish\", \"inFeedTreatments\", \\\n",
    "                                                \"mechanicalRemoval\", \"timeSinceLastChitinSynthesisInhibitorTreatment\"]) \n",
    "        data[\"year\"] = year\n",
    "        data[\"week\"] = week\n",
    "        df = pd.concat([df, data], ignore_index=True)\n",
    "    # Lowercase column names\n",
    "    df.columns = df.columns.str.lower()\n",
    "    return df\n",
    "\n",
    "df = get_one_year_lice_data(10423, 2015, access_token= get_access_token())\n",
    "df"
   ]
  },
  {
   "cell_type": "code",
   "execution_count": 14,
   "metadata": {},
   "outputs": [
    {
     "ename": "ValueError",
     "evalue": "No data for this year",
     "output_type": "error",
     "traceback": [
      "\u001b[1;31m---------------------------------------------------------------------------\u001b[0m",
      "\u001b[1;31mValueError\u001b[0m                                Traceback (most recent call last)",
      "\u001b[1;32mg:\\My Drive\\Skolemappe\\NMBU\\Datavitenskap\\År 5\\1. Semester\\IND320\\Compulsories\\CA4\\CA4\\misc_testing.ipynb Cell 7\u001b[0m line \u001b[0;36m3\n\u001b[0;32m      <a href='vscode-notebook-cell:/g%3A/My%20Drive/Skolemappe/NMBU/Datavitenskap/%C3%85r%205/1.%20Semester/IND320/Compulsories/CA4/CA4/misc_testing.ipynb#X36sZmlsZQ%3D%3D?line=0'>1</a>\u001b[0m \u001b[39mfrom\u001b[39;00m \u001b[39mexceptions\u001b[39;00m \u001b[39mimport\u001b[39;00m \u001b[39m*\u001b[39m\n\u001b[0;32m      <a href='vscode-notebook-cell:/g%3A/My%20Drive/Skolemappe/NMBU/Datavitenskap/%C3%85r%205/1.%20Semester/IND320/Compulsories/CA4/CA4/misc_testing.ipynb#X36sZmlsZQ%3D%3D?line=1'>2</a>\u001b[0m \u001b[39mif\u001b[39;00m \u001b[39mTrue\u001b[39;00m \u001b[39min\u001b[39;00m df\u001b[39m.\u001b[39misnull()\u001b[39m.\u001b[39mall()\u001b[39m.\u001b[39mto_list():\n\u001b[1;32m----> <a href='vscode-notebook-cell:/g%3A/My%20Drive/Skolemappe/NMBU/Datavitenskap/%C3%85r%205/1.%20Semester/IND320/Compulsories/CA4/CA4/misc_testing.ipynb#X36sZmlsZQ%3D%3D?line=2'>3</a>\u001b[0m     \u001b[39mraise\u001b[39;00m \u001b[39mValueError\u001b[39;00m(\u001b[39m\"\u001b[39m\u001b[39mNo data for this year\u001b[39m\u001b[39m\"\u001b[39m)\n",
      "\u001b[1;31mValueError\u001b[0m: No data for this year"
     ]
    }
   ],
   "source": [
    "from exceptions import *\n",
    "if True in df.isnull().all().to_list():\n",
    "    raise ValueError(\"No data for this year\")"
   ]
  },
  {
   "cell_type": "code",
   "execution_count": 29,
   "metadata": {},
   "outputs": [
    {
     "data": {
      "text/html": [
       "<div>\n",
       "<style scoped>\n",
       "    .dataframe tbody tr th:only-of-type {\n",
       "        vertical-align: middle;\n",
       "    }\n",
       "\n",
       "    .dataframe tbody tr th {\n",
       "        vertical-align: top;\n",
       "    }\n",
       "\n",
       "    .dataframe thead th {\n",
       "        text-align: right;\n",
       "    }\n",
       "</style>\n",
       "<table border=\"1\" class=\"dataframe\">\n",
       "  <thead>\n",
       "    <tr style=\"text-align: right;\">\n",
       "      <th></th>\n",
       "      <th>localityweekid</th>\n",
       "      <th>avgadultfemalelice</th>\n",
       "      <th>hascleanerfishdeployed</th>\n",
       "      <th>hasila</th>\n",
       "      <th>hasmechanicalremoval</th>\n",
       "      <th>haspd</th>\n",
       "      <th>hasreportedlice</th>\n",
       "      <th>hassalmonoids</th>\n",
       "      <th>hassubstancetreatments</th>\n",
       "      <th>infilteredselection</th>\n",
       "      <th>...</th>\n",
       "      <th>isonland</th>\n",
       "      <th>isslaughterholdingcage</th>\n",
       "      <th>lat</th>\n",
       "      <th>localityno</th>\n",
       "      <th>lon</th>\n",
       "      <th>municipality</th>\n",
       "      <th>municipalityno</th>\n",
       "      <th>name</th>\n",
       "      <th>week</th>\n",
       "      <th>year</th>\n",
       "    </tr>\n",
       "  </thead>\n",
       "  <tbody>\n",
       "    <tr>\n",
       "      <th>0</th>\n",
       "      <td>1439901</td>\n",
       "      <td>NaN</td>\n",
       "      <td>False</td>\n",
       "      <td>False</td>\n",
       "      <td>False</td>\n",
       "      <td>False</td>\n",
       "      <td>False</td>\n",
       "      <td>True</td>\n",
       "      <td>False</td>\n",
       "      <td>True</td>\n",
       "      <td>...</td>\n",
       "      <td>False</td>\n",
       "      <td>False</td>\n",
       "      <td>69.987152</td>\n",
       "      <td>45083</td>\n",
       "      <td>20.664618</td>\n",
       "      <td>Skjervøy</td>\n",
       "      <td>5427</td>\n",
       "      <td>Vorterøyskagen</td>\n",
       "      <td>31</td>\n",
       "      <td>2022</td>\n",
       "    </tr>\n",
       "    <tr>\n",
       "      <th>26491</th>\n",
       "      <td>1450117</td>\n",
       "      <td>NaN</td>\n",
       "      <td>False</td>\n",
       "      <td>False</td>\n",
       "      <td>False</td>\n",
       "      <td>False</td>\n",
       "      <td>False</td>\n",
       "      <td>True</td>\n",
       "      <td>False</td>\n",
       "      <td>True</td>\n",
       "      <td>...</td>\n",
       "      <td>False</td>\n",
       "      <td>False</td>\n",
       "      <td>69.987152</td>\n",
       "      <td>45083</td>\n",
       "      <td>20.664618</td>\n",
       "      <td>Skjervøy</td>\n",
       "      <td>5427</td>\n",
       "      <td>Vorterøyskagen</td>\n",
       "      <td>35</td>\n",
       "      <td>2022</td>\n",
       "    </tr>\n",
       "    <tr>\n",
       "      <th>27777</th>\n",
       "      <td>1286940</td>\n",
       "      <td>NaN</td>\n",
       "      <td>False</td>\n",
       "      <td>False</td>\n",
       "      <td>False</td>\n",
       "      <td>False</td>\n",
       "      <td>False</td>\n",
       "      <td>True</td>\n",
       "      <td>False</td>\n",
       "      <td>True</td>\n",
       "      <td>...</td>\n",
       "      <td>False</td>\n",
       "      <td>False</td>\n",
       "      <td>69.987152</td>\n",
       "      <td>45083</td>\n",
       "      <td>20.664618</td>\n",
       "      <td>Skjervøy</td>\n",
       "      <td>5427</td>\n",
       "      <td>Vorterøyskagen</td>\n",
       "      <td>33</td>\n",
       "      <td>2021</td>\n",
       "    </tr>\n",
       "    <tr>\n",
       "      <th>35305</th>\n",
       "      <td>1417622</td>\n",
       "      <td>NaN</td>\n",
       "      <td>False</td>\n",
       "      <td>False</td>\n",
       "      <td>False</td>\n",
       "      <td>False</td>\n",
       "      <td>False</td>\n",
       "      <td>True</td>\n",
       "      <td>False</td>\n",
       "      <td>True</td>\n",
       "      <td>...</td>\n",
       "      <td>False</td>\n",
       "      <td>False</td>\n",
       "      <td>69.987152</td>\n",
       "      <td>45083</td>\n",
       "      <td>20.664618</td>\n",
       "      <td>Skjervøy</td>\n",
       "      <td>5427</td>\n",
       "      <td>Vorterøyskagen</td>\n",
       "      <td>24</td>\n",
       "      <td>2022</td>\n",
       "    </tr>\n",
       "    <tr>\n",
       "      <th>39153</th>\n",
       "      <td>1351527</td>\n",
       "      <td>NaN</td>\n",
       "      <td>False</td>\n",
       "      <td>False</td>\n",
       "      <td>False</td>\n",
       "      <td>False</td>\n",
       "      <td>False</td>\n",
       "      <td>True</td>\n",
       "      <td>False</td>\n",
       "      <td>True</td>\n",
       "      <td>...</td>\n",
       "      <td>False</td>\n",
       "      <td>False</td>\n",
       "      <td>69.987152</td>\n",
       "      <td>45083</td>\n",
       "      <td>20.664618</td>\n",
       "      <td>Skjervøy</td>\n",
       "      <td>5427</td>\n",
       "      <td>Vorterøyskagen</td>\n",
       "      <td>3</td>\n",
       "      <td>2022</td>\n",
       "    </tr>\n",
       "    <tr>\n",
       "      <th>...</th>\n",
       "      <td>...</td>\n",
       "      <td>...</td>\n",
       "      <td>...</td>\n",
       "      <td>...</td>\n",
       "      <td>...</td>\n",
       "      <td>...</td>\n",
       "      <td>...</td>\n",
       "      <td>...</td>\n",
       "      <td>...</td>\n",
       "      <td>...</td>\n",
       "      <td>...</td>\n",
       "      <td>...</td>\n",
       "      <td>...</td>\n",
       "      <td>...</td>\n",
       "      <td>...</td>\n",
       "      <td>...</td>\n",
       "      <td>...</td>\n",
       "      <td>...</td>\n",
       "      <td>...</td>\n",
       "      <td>...</td>\n",
       "      <td>...</td>\n",
       "    </tr>\n",
       "    <tr>\n",
       "      <th>590560</th>\n",
       "      <td>1466566</td>\n",
       "      <td>NaN</td>\n",
       "      <td>False</td>\n",
       "      <td>False</td>\n",
       "      <td>False</td>\n",
       "      <td>False</td>\n",
       "      <td>False</td>\n",
       "      <td>True</td>\n",
       "      <td>False</td>\n",
       "      <td>True</td>\n",
       "      <td>...</td>\n",
       "      <td>False</td>\n",
       "      <td>False</td>\n",
       "      <td>69.987152</td>\n",
       "      <td>45083</td>\n",
       "      <td>20.664618</td>\n",
       "      <td>Skjervøy</td>\n",
       "      <td>5427</td>\n",
       "      <td>Vorterøyskagen</td>\n",
       "      <td>41</td>\n",
       "      <td>2022</td>\n",
       "    </tr>\n",
       "    <tr>\n",
       "      <th>591661</th>\n",
       "      <td>1434792</td>\n",
       "      <td>NaN</td>\n",
       "      <td>False</td>\n",
       "      <td>False</td>\n",
       "      <td>False</td>\n",
       "      <td>False</td>\n",
       "      <td>False</td>\n",
       "      <td>True</td>\n",
       "      <td>False</td>\n",
       "      <td>True</td>\n",
       "      <td>...</td>\n",
       "      <td>False</td>\n",
       "      <td>False</td>\n",
       "      <td>69.987152</td>\n",
       "      <td>45083</td>\n",
       "      <td>20.664618</td>\n",
       "      <td>Skjervøy</td>\n",
       "      <td>5427</td>\n",
       "      <td>Vorterøyskagen</td>\n",
       "      <td>29</td>\n",
       "      <td>2022</td>\n",
       "    </tr>\n",
       "    <tr>\n",
       "      <th>598277</th>\n",
       "      <td>1471678</td>\n",
       "      <td>NaN</td>\n",
       "      <td>False</td>\n",
       "      <td>False</td>\n",
       "      <td>False</td>\n",
       "      <td>False</td>\n",
       "      <td>False</td>\n",
       "      <td>True</td>\n",
       "      <td>False</td>\n",
       "      <td>True</td>\n",
       "      <td>...</td>\n",
       "      <td>False</td>\n",
       "      <td>False</td>\n",
       "      <td>69.987152</td>\n",
       "      <td>45083</td>\n",
       "      <td>20.664618</td>\n",
       "      <td>Skjervøy</td>\n",
       "      <td>5427</td>\n",
       "      <td>Vorterøyskagen</td>\n",
       "      <td>43</td>\n",
       "      <td>2022</td>\n",
       "    </tr>\n",
       "    <tr>\n",
       "      <th>601369</th>\n",
       "      <td>1336826</td>\n",
       "      <td>NaN</td>\n",
       "      <td>False</td>\n",
       "      <td>False</td>\n",
       "      <td>False</td>\n",
       "      <td>False</td>\n",
       "      <td>False</td>\n",
       "      <td>True</td>\n",
       "      <td>False</td>\n",
       "      <td>True</td>\n",
       "      <td>...</td>\n",
       "      <td>False</td>\n",
       "      <td>False</td>\n",
       "      <td>69.987152</td>\n",
       "      <td>45083</td>\n",
       "      <td>20.664618</td>\n",
       "      <td>Skjervøy</td>\n",
       "      <td>5427</td>\n",
       "      <td>Vorterøyskagen</td>\n",
       "      <td>50</td>\n",
       "      <td>2021</td>\n",
       "    </tr>\n",
       "    <tr>\n",
       "      <th>606504</th>\n",
       "      <td>1398170</td>\n",
       "      <td>NaN</td>\n",
       "      <td>False</td>\n",
       "      <td>False</td>\n",
       "      <td>False</td>\n",
       "      <td>False</td>\n",
       "      <td>False</td>\n",
       "      <td>True</td>\n",
       "      <td>False</td>\n",
       "      <td>True</td>\n",
       "      <td>...</td>\n",
       "      <td>False</td>\n",
       "      <td>False</td>\n",
       "      <td>69.987152</td>\n",
       "      <td>45083</td>\n",
       "      <td>20.664618</td>\n",
       "      <td>Skjervøy</td>\n",
       "      <td>5427</td>\n",
       "      <td>Vorterøyskagen</td>\n",
       "      <td>17</td>\n",
       "      <td>2022</td>\n",
       "    </tr>\n",
       "  </tbody>\n",
       "</table>\n",
       "<p>84 rows × 21 columns</p>\n",
       "</div>"
      ],
      "text/plain": [
       "        localityweekid  avgadultfemalelice  hascleanerfishdeployed  hasila  \\\n",
       "0              1439901                 NaN                   False   False   \n",
       "26491          1450117                 NaN                   False   False   \n",
       "27777          1286940                 NaN                   False   False   \n",
       "35305          1417622                 NaN                   False   False   \n",
       "39153          1351527                 NaN                   False   False   \n",
       "...                ...                 ...                     ...     ...   \n",
       "590560         1466566                 NaN                   False   False   \n",
       "591661         1434792                 NaN                   False   False   \n",
       "598277         1471678                 NaN                   False   False   \n",
       "601369         1336826                 NaN                   False   False   \n",
       "606504         1398170                 NaN                   False   False   \n",
       "\n",
       "        hasmechanicalremoval  haspd  hasreportedlice  hassalmonoids  \\\n",
       "0                      False  False            False           True   \n",
       "26491                  False  False            False           True   \n",
       "27777                  False  False            False           True   \n",
       "35305                  False  False            False           True   \n",
       "39153                  False  False            False           True   \n",
       "...                      ...    ...              ...            ...   \n",
       "590560                 False  False            False           True   \n",
       "591661                 False  False            False           True   \n",
       "598277                 False  False            False           True   \n",
       "601369                 False  False            False           True   \n",
       "606504                 False  False            False           True   \n",
       "\n",
       "        hassubstancetreatments  infilteredselection  ...  isonland  \\\n",
       "0                        False                 True  ...     False   \n",
       "26491                    False                 True  ...     False   \n",
       "27777                    False                 True  ...     False   \n",
       "35305                    False                 True  ...     False   \n",
       "39153                    False                 True  ...     False   \n",
       "...                        ...                  ...  ...       ...   \n",
       "590560                   False                 True  ...     False   \n",
       "591661                   False                 True  ...     False   \n",
       "598277                   False                 True  ...     False   \n",
       "601369                   False                 True  ...     False   \n",
       "606504                   False                 True  ...     False   \n",
       "\n",
       "        isslaughterholdingcage        lat  localityno        lon  \\\n",
       "0                        False  69.987152       45083  20.664618   \n",
       "26491                    False  69.987152       45083  20.664618   \n",
       "27777                    False  69.987152       45083  20.664618   \n",
       "35305                    False  69.987152       45083  20.664618   \n",
       "39153                    False  69.987152       45083  20.664618   \n",
       "...                        ...        ...         ...        ...   \n",
       "590560                   False  69.987152       45083  20.664618   \n",
       "591661                   False  69.987152       45083  20.664618   \n",
       "598277                   False  69.987152       45083  20.664618   \n",
       "601369                   False  69.987152       45083  20.664618   \n",
       "606504                   False  69.987152       45083  20.664618   \n",
       "\n",
       "        municipality municipalityno            name week  year  \n",
       "0           Skjervøy           5427  Vorterøyskagen   31  2022  \n",
       "26491       Skjervøy           5427  Vorterøyskagen   35  2022  \n",
       "27777       Skjervøy           5427  Vorterøyskagen   33  2021  \n",
       "35305       Skjervøy           5427  Vorterøyskagen   24  2022  \n",
       "39153       Skjervøy           5427  Vorterøyskagen    3  2022  \n",
       "...              ...            ...             ...  ...   ...  \n",
       "590560      Skjervøy           5427  Vorterøyskagen   41  2022  \n",
       "591661      Skjervøy           5427  Vorterøyskagen   29  2022  \n",
       "598277      Skjervøy           5427  Vorterøyskagen   43  2022  \n",
       "601369      Skjervøy           5427  Vorterøyskagen   50  2021  \n",
       "606504      Skjervøy           5427  Vorterøyskagen   17  2022  \n",
       "\n",
       "[84 rows x 21 columns]"
      ]
     },
     "execution_count": 29,
     "metadata": {},
     "output_type": "execute_result"
    }
   ],
   "source": [
    "# select locality fish_data 45083\n",
    "\n",
    "fish_data.loc[fish_data['localityno'] == 45083]"
   ]
  },
  {
   "cell_type": "code",
   "execution_count": 31,
   "metadata": {},
   "outputs": [
    {
     "data": {
      "text/html": [
       "<div>\n",
       "<style scoped>\n",
       "    .dataframe tbody tr th:only-of-type {\n",
       "        vertical-align: middle;\n",
       "    }\n",
       "\n",
       "    .dataframe tbody tr th {\n",
       "        vertical-align: top;\n",
       "    }\n",
       "\n",
       "    .dataframe thead th {\n",
       "        text-align: right;\n",
       "    }\n",
       "</style>\n",
       "<table border=\"1\" class=\"dataframe\">\n",
       "  <thead>\n",
       "    <tr style=\"text-align: right;\">\n",
       "      <th></th>\n",
       "      <th>localityweekid</th>\n",
       "      <th>avgadultfemalelice</th>\n",
       "      <th>hascleanerfishdeployed</th>\n",
       "      <th>hasila</th>\n",
       "      <th>hasmechanicalremoval</th>\n",
       "      <th>haspd</th>\n",
       "      <th>hasreportedlice</th>\n",
       "      <th>hassalmonoids</th>\n",
       "      <th>hassubstancetreatments</th>\n",
       "      <th>infilteredselection</th>\n",
       "      <th>...</th>\n",
       "      <th>isonland</th>\n",
       "      <th>isslaughterholdingcage</th>\n",
       "      <th>lat</th>\n",
       "      <th>localityno</th>\n",
       "      <th>lon</th>\n",
       "      <th>municipality</th>\n",
       "      <th>municipalityno</th>\n",
       "      <th>name</th>\n",
       "      <th>week</th>\n",
       "      <th>year</th>\n",
       "    </tr>\n",
       "  </thead>\n",
       "  <tbody>\n",
       "    <tr>\n",
       "      <th>0</th>\n",
       "      <td>1439901</td>\n",
       "      <td>NaN</td>\n",
       "      <td>False</td>\n",
       "      <td>False</td>\n",
       "      <td>False</td>\n",
       "      <td>False</td>\n",
       "      <td>False</td>\n",
       "      <td>True</td>\n",
       "      <td>False</td>\n",
       "      <td>True</td>\n",
       "      <td>...</td>\n",
       "      <td>False</td>\n",
       "      <td>False</td>\n",
       "      <td>69.987152</td>\n",
       "      <td>45083</td>\n",
       "      <td>20.664618</td>\n",
       "      <td>Skjervøy</td>\n",
       "      <td>5427</td>\n",
       "      <td>Vorterøyskagen</td>\n",
       "      <td>31</td>\n",
       "      <td>2022</td>\n",
       "    </tr>\n",
       "    <tr>\n",
       "      <th>1</th>\n",
       "      <td>722007</td>\n",
       "      <td>NaN</td>\n",
       "      <td>False</td>\n",
       "      <td>False</td>\n",
       "      <td>False</td>\n",
       "      <td>False</td>\n",
       "      <td>False</td>\n",
       "      <td>False</td>\n",
       "      <td>False</td>\n",
       "      <td>True</td>\n",
       "      <td>...</td>\n",
       "      <td>True</td>\n",
       "      <td>False</td>\n",
       "      <td>61.917191</td>\n",
       "      <td>13619</td>\n",
       "      <td>5.297075</td>\n",
       "      <td>Vågsøy</td>\n",
       "      <td>1439</td>\n",
       "      <td>Rødhjelle I</td>\n",
       "      <td>20</td>\n",
       "      <td>2015</td>\n",
       "    </tr>\n",
       "    <tr>\n",
       "      <th>2</th>\n",
       "      <td>99938</td>\n",
       "      <td>NaN</td>\n",
       "      <td>False</td>\n",
       "      <td>False</td>\n",
       "      <td>False</td>\n",
       "      <td>False</td>\n",
       "      <td>False</td>\n",
       "      <td>True</td>\n",
       "      <td>False</td>\n",
       "      <td>True</td>\n",
       "      <td>...</td>\n",
       "      <td>False</td>\n",
       "      <td>False</td>\n",
       "      <td>64.958992</td>\n",
       "      <td>10417</td>\n",
       "      <td>11.611913</td>\n",
       "      <td>Nærøy</td>\n",
       "      <td>1751</td>\n",
       "      <td>Storbukta</td>\n",
       "      <td>35</td>\n",
       "      <td>2013</td>\n",
       "    </tr>\n",
       "    <tr>\n",
       "      <th>3</th>\n",
       "      <td>1243220</td>\n",
       "      <td>0.0</td>\n",
       "      <td>False</td>\n",
       "      <td>False</td>\n",
       "      <td>False</td>\n",
       "      <td>False</td>\n",
       "      <td>True</td>\n",
       "      <td>True</td>\n",
       "      <td>False</td>\n",
       "      <td>True</td>\n",
       "      <td>...</td>\n",
       "      <td>False</td>\n",
       "      <td>False</td>\n",
       "      <td>61.684849</td>\n",
       "      <td>24615</td>\n",
       "      <td>4.915633</td>\n",
       "      <td>Kinn</td>\n",
       "      <td>4602</td>\n",
       "      <td>Grunnsøya</td>\n",
       "      <td>19</td>\n",
       "      <td>2021</td>\n",
       "    </tr>\n",
       "    <tr>\n",
       "      <th>4</th>\n",
       "      <td>851694</td>\n",
       "      <td>NaN</td>\n",
       "      <td>False</td>\n",
       "      <td>False</td>\n",
       "      <td>False</td>\n",
       "      <td>False</td>\n",
       "      <td>False</td>\n",
       "      <td>False</td>\n",
       "      <td>False</td>\n",
       "      <td>True</td>\n",
       "      <td>...</td>\n",
       "      <td>False</td>\n",
       "      <td>False</td>\n",
       "      <td>59.073769</td>\n",
       "      <td>24436</td>\n",
       "      <td>5.432783</td>\n",
       "      <td>Kvitsøy</td>\n",
       "      <td>1144</td>\n",
       "      <td>Nordre Hestholmen S</td>\n",
       "      <td>19</td>\n",
       "      <td>2015</td>\n",
       "    </tr>\n",
       "    <tr>\n",
       "      <th>...</th>\n",
       "      <td>...</td>\n",
       "      <td>...</td>\n",
       "      <td>...</td>\n",
       "      <td>...</td>\n",
       "      <td>...</td>\n",
       "      <td>...</td>\n",
       "      <td>...</td>\n",
       "      <td>...</td>\n",
       "      <td>...</td>\n",
       "      <td>...</td>\n",
       "      <td>...</td>\n",
       "      <td>...</td>\n",
       "      <td>...</td>\n",
       "      <td>...</td>\n",
       "      <td>...</td>\n",
       "      <td>...</td>\n",
       "      <td>...</td>\n",
       "      <td>...</td>\n",
       "      <td>...</td>\n",
       "      <td>...</td>\n",
       "      <td>...</td>\n",
       "    </tr>\n",
       "    <tr>\n",
       "      <th>2558</th>\n",
       "      <td>822114</td>\n",
       "      <td>NaN</td>\n",
       "      <td>False</td>\n",
       "      <td>False</td>\n",
       "      <td>False</td>\n",
       "      <td>False</td>\n",
       "      <td>False</td>\n",
       "      <td>False</td>\n",
       "      <td>False</td>\n",
       "      <td>True</td>\n",
       "      <td>...</td>\n",
       "      <td>False</td>\n",
       "      <td>False</td>\n",
       "      <td>59.844532</td>\n",
       "      <td>11505</td>\n",
       "      <td>5.251183</td>\n",
       "      <td>Bømlo</td>\n",
       "      <td>1219</td>\n",
       "      <td>Austnesvågen</td>\n",
       "      <td>1</td>\n",
       "      <td>2012</td>\n",
       "    </tr>\n",
       "    <tr>\n",
       "      <th>2559</th>\n",
       "      <td>390746</td>\n",
       "      <td>NaN</td>\n",
       "      <td>False</td>\n",
       "      <td>False</td>\n",
       "      <td>False</td>\n",
       "      <td>False</td>\n",
       "      <td>False</td>\n",
       "      <td>True</td>\n",
       "      <td>False</td>\n",
       "      <td>True</td>\n",
       "      <td>...</td>\n",
       "      <td>False</td>\n",
       "      <td>False</td>\n",
       "      <td>63.281235</td>\n",
       "      <td>30056</td>\n",
       "      <td>8.332067</td>\n",
       "      <td>Aure</td>\n",
       "      <td>1576</td>\n",
       "      <td>Steinholmen</td>\n",
       "      <td>1</td>\n",
       "      <td>2012</td>\n",
       "    </tr>\n",
       "    <tr>\n",
       "      <th>2560</th>\n",
       "      <td>368136</td>\n",
       "      <td>NaN</td>\n",
       "      <td>False</td>\n",
       "      <td>False</td>\n",
       "      <td>False</td>\n",
       "      <td>False</td>\n",
       "      <td>False</td>\n",
       "      <td>True</td>\n",
       "      <td>False</td>\n",
       "      <td>True</td>\n",
       "      <td>...</td>\n",
       "      <td>False</td>\n",
       "      <td>False</td>\n",
       "      <td>63.134968</td>\n",
       "      <td>30016</td>\n",
       "      <td>7.985067</td>\n",
       "      <td>Aure</td>\n",
       "      <td>1576</td>\n",
       "      <td>Kråkøya</td>\n",
       "      <td>1</td>\n",
       "      <td>2012</td>\n",
       "    </tr>\n",
       "    <tr>\n",
       "      <th>2561</th>\n",
       "      <td>407238</td>\n",
       "      <td>NaN</td>\n",
       "      <td>False</td>\n",
       "      <td>False</td>\n",
       "      <td>False</td>\n",
       "      <td>False</td>\n",
       "      <td>False</td>\n",
       "      <td>True</td>\n",
       "      <td>False</td>\n",
       "      <td>True</td>\n",
       "      <td>...</td>\n",
       "      <td>False</td>\n",
       "      <td>True</td>\n",
       "      <td>69.611771</td>\n",
       "      <td>23315</td>\n",
       "      <td>19.874166</td>\n",
       "      <td>Lyngen</td>\n",
       "      <td>1938</td>\n",
       "      <td>Storsteinnes</td>\n",
       "      <td>1</td>\n",
       "      <td>2012</td>\n",
       "    </tr>\n",
       "    <tr>\n",
       "      <th>2562</th>\n",
       "      <td>914479</td>\n",
       "      <td>NaN</td>\n",
       "      <td>False</td>\n",
       "      <td>False</td>\n",
       "      <td>False</td>\n",
       "      <td>False</td>\n",
       "      <td>False</td>\n",
       "      <td>False</td>\n",
       "      <td>False</td>\n",
       "      <td>True</td>\n",
       "      <td>...</td>\n",
       "      <td>False</td>\n",
       "      <td>False</td>\n",
       "      <td>68.081024</td>\n",
       "      <td>11157</td>\n",
       "      <td>13.192233</td>\n",
       "      <td>Flakstad</td>\n",
       "      <td>1859</td>\n",
       "      <td>Kubbholmen N</td>\n",
       "      <td>1</td>\n",
       "      <td>2012</td>\n",
       "    </tr>\n",
       "  </tbody>\n",
       "</table>\n",
       "<p>2563 rows × 21 columns</p>\n",
       "</div>"
      ],
      "text/plain": [
       "      localityweekid  avgadultfemalelice  hascleanerfishdeployed  hasila  \\\n",
       "0            1439901                 NaN                   False   False   \n",
       "1             722007                 NaN                   False   False   \n",
       "2              99938                 NaN                   False   False   \n",
       "3            1243220                 0.0                   False   False   \n",
       "4             851694                 NaN                   False   False   \n",
       "...              ...                 ...                     ...     ...   \n",
       "2558          822114                 NaN                   False   False   \n",
       "2559          390746                 NaN                   False   False   \n",
       "2560          368136                 NaN                   False   False   \n",
       "2561          407238                 NaN                   False   False   \n",
       "2562          914479                 NaN                   False   False   \n",
       "\n",
       "      hasmechanicalremoval  haspd  hasreportedlice  hassalmonoids  \\\n",
       "0                    False  False            False           True   \n",
       "1                    False  False            False          False   \n",
       "2                    False  False            False           True   \n",
       "3                    False  False             True           True   \n",
       "4                    False  False            False          False   \n",
       "...                    ...    ...              ...            ...   \n",
       "2558                 False  False            False          False   \n",
       "2559                 False  False            False           True   \n",
       "2560                 False  False            False           True   \n",
       "2561                 False  False            False           True   \n",
       "2562                 False  False            False          False   \n",
       "\n",
       "      hassubstancetreatments  infilteredselection  ...  isonland  \\\n",
       "0                      False                 True  ...     False   \n",
       "1                      False                 True  ...      True   \n",
       "2                      False                 True  ...     False   \n",
       "3                      False                 True  ...     False   \n",
       "4                      False                 True  ...     False   \n",
       "...                      ...                  ...  ...       ...   \n",
       "2558                   False                 True  ...     False   \n",
       "2559                   False                 True  ...     False   \n",
       "2560                   False                 True  ...     False   \n",
       "2561                   False                 True  ...     False   \n",
       "2562                   False                 True  ...     False   \n",
       "\n",
       "      isslaughterholdingcage        lat  localityno        lon  municipality  \\\n",
       "0                      False  69.987152       45083  20.664618      Skjervøy   \n",
       "1                      False  61.917191       13619   5.297075        Vågsøy   \n",
       "2                      False  64.958992       10417  11.611913         Nærøy   \n",
       "3                      False  61.684849       24615   4.915633          Kinn   \n",
       "4                      False  59.073769       24436   5.432783       Kvitsøy   \n",
       "...                      ...        ...         ...        ...           ...   \n",
       "2558                   False  59.844532       11505   5.251183         Bømlo   \n",
       "2559                   False  63.281235       30056   8.332067          Aure   \n",
       "2560                   False  63.134968       30016   7.985067          Aure   \n",
       "2561                    True  69.611771       23315  19.874166        Lyngen   \n",
       "2562                   False  68.081024       11157  13.192233      Flakstad   \n",
       "\n",
       "     municipalityno                 name week  year  \n",
       "0              5427       Vorterøyskagen   31  2022  \n",
       "1              1439          Rødhjelle I   20  2015  \n",
       "2              1751            Storbukta   35  2013  \n",
       "3              4602            Grunnsøya   19  2021  \n",
       "4              1144  Nordre Hestholmen S   19  2015  \n",
       "...             ...                  ...  ...   ...  \n",
       "2558           1219         Austnesvågen    1  2012  \n",
       "2559           1576          Steinholmen    1  2012  \n",
       "2560           1576              Kråkøya    1  2012  \n",
       "2561           1938         Storsteinnes    1  2012  \n",
       "2562           1859         Kubbholmen N    1  2012  \n",
       "\n",
       "[2563 rows x 21 columns]"
      ]
     },
     "execution_count": 31,
     "metadata": {},
     "output_type": "execute_result"
    }
   ],
   "source": [
    "# select the unique rows based on localityno \n",
    "fish_data_unique = fish_data.drop_duplicates(subset=['localityno']).reset_index(drop=True)\n",
    "fish_data_unique"
   ]
  },
  {
   "cell_type": "code",
   "execution_count": 23,
   "metadata": {},
   "outputs": [
    {
     "data": {
      "text/plain": [
       "{0: 'avgadultfemalelice',\n",
       " 1: 'hascleanerfishdeployed',\n",
       " 2: 'hasila',\n",
       " 3: 'hasmechanicalremoval',\n",
       " 4: 'haspd',\n",
       " 5: 'hasreportedlice',\n",
       " 6: 'hassalmonoids',\n",
       " 7: 'hassubstancetreatments',\n",
       " 8: 'infilteredselection',\n",
       " 9: 'isfallow',\n",
       " 10: 'isonland',\n",
       " 11: 'isslaughterholdingcage'}"
      ]
     },
     "execution_count": 23,
     "metadata": {},
     "output_type": "execute_result"
    }
   ],
   "source": [
    "# take the columns and convert them to a dict with key as index (0,1,..p) and value as column name. # sort it by alphabetical order.\n",
    "cols = ['lat', 'lon', 'localityweekid', 'localityno', 'municipality', 'municipalityno', 'name', 'week', 'year']\n",
    "\n",
    "test = fish_data.drop(columns=cols)\n",
    "columns = test.columns.sort_values().tolist()\n",
    "columns = dict(enumerate(columns))\n",
    "columns"
   ]
  },
  {
   "cell_type": "code",
   "execution_count": 24,
   "metadata": {},
   "outputs": [
    {
     "name": "stdout",
     "output_type": "stream",
     "text": [
      "{0: 'avgadultfemalelice', 1: 'hascleanerfishdeployed', 2: 'hasila', 3: 'hasmechanicalremoval', 4: 'haspd', 5: 'hasreportedlice', 6: 'hassalmonoids', 7: 'hassubstancetreatments', 8: 'infilteredselection', 9: 'isfallow', 10: 'isonland', 11: 'isslaughterholdingcage'}\n"
     ]
    }
   ],
   "source": [
    "print(columns)"
   ]
  },
  {
   "cell_type": "code",
   "execution_count": 6,
   "metadata": {},
   "outputs": [
    {
     "ename": "",
     "evalue": "",
     "output_type": "error",
     "traceback": [
      "\u001b[1;31mThe Kernel crashed while executing code in the the current cell or a previous cell. Please review the code in the cell(s) to identify a possible cause of the failure. Click <a href='https://aka.ms/vscodeJupyterKernelCrash'>here</a> for more info. View Jupyter <a href='command:jupyter.viewOutput'>log</a> for further details."
     ]
    }
   ],
   "source": [
    "import geopandas\n",
    "test = fish_data.copy()\n",
    "\n",
    "test_fish = geopandas.GeoDataFrame(\n",
    "    test, geometry=geopandas.points_from_xy(test.lat, test.lon), crs=\"EPSG:4326\"\n",
    ")\n",
    "\n",
    "test_fish[\"lat\"] = (\n",
    "    test_fish.to_crs(test_fish.estimate_utm_crs()).simplify(1000).to_crs(test_fish.crs)\n",
    ")"
   ]
  },
  {
   "cell_type": "code",
   "execution_count": 1,
   "metadata": {},
   "outputs": [
    {
     "ename": "NameError",
     "evalue": "name 'test_fish' is not defined",
     "output_type": "error",
     "traceback": [
      "\u001b[1;31m---------------------------------------------------------------------------\u001b[0m",
      "\u001b[1;31mNameError\u001b[0m                                 Traceback (most recent call last)",
      "\u001b[1;32mg:\\My Drive\\Skolemappe\\NMBU\\Datavitenskap\\År 5\\1. Semester\\IND320\\Compulsories\\CA4\\CA4\\misc_testing.ipynb Cell 5\u001b[0m line \u001b[0;36m1\n\u001b[1;32m----> <a href='vscode-notebook-cell:/g%3A/My%20Drive/Skolemappe/NMBU/Datavitenskap/%C3%85r%205/1.%20Semester/IND320/Compulsories/CA4/CA4/misc_testing.ipynb#X25sZmlsZQ%3D%3D?line=0'>1</a>\u001b[0m test_fish\n",
      "\u001b[1;31mNameError\u001b[0m: name 'test_fish' is not defined"
     ]
    }
   ],
   "source": [
    "test_fish"
   ]
  },
  {
   "cell_type": "code",
   "execution_count": 5,
   "metadata": {},
   "outputs": [
    {
     "data": {
      "text/plain": [
       "Index(['localityweekid', 'avgadultfemalelice', 'hascleanerfishdeployed',\n",
       "       'hasila', 'hasmechanicalremoval', 'haspd', 'hasreportedlice',\n",
       "       'hassalmonoids', 'hassubstancetreatments', 'infilteredselection',\n",
       "       'isfallow', 'isonland', 'isslaughterholdingcage', 'lat', 'localityno',\n",
       "       'lon', 'municipality', 'municipalityno', 'name', 'week', 'year'],\n",
       "      dtype='object')"
      ]
     },
     "execution_count": 5,
     "metadata": {},
     "output_type": "execute_result"
    }
   ],
   "source": [
    "fish_data.columns"
   ]
  },
  {
   "cell_type": "code",
   "execution_count": 14,
   "metadata": {},
   "outputs": [],
   "source": [
    "import numpy as np\n",
    "fish_data['lat'] = fish_data['lat'].astype(np.float64)"
   ]
  },
  {
   "cell_type": "code",
   "execution_count": 16,
   "metadata": {},
   "outputs": [
    {
     "data": {
      "text/plain": [
       "2012    99549\n",
       "2013    92282\n",
       "2014    90528\n",
       "2022    89084\n",
       "2015    88664\n",
       "Name: year, dtype: int64"
      ]
     },
     "execution_count": 16,
     "metadata": {},
     "output_type": "execute_result"
    }
   ],
   "source": [
    "fish_data['year'].value_counts()"
   ]
  },
  {
   "cell_type": "code",
   "execution_count": 14,
   "metadata": {},
   "outputs": [
    {
     "ename": "InvalidYearError",
     "evalue": "Invalid year",
     "output_type": "error",
     "traceback": [
      "\u001b[1;31m---------------------------------------------------------------------------\u001b[0m",
      "\u001b[1;31mInvalidYearError\u001b[0m                          Traceback (most recent call last)",
      "\u001b[1;32mg:\\My Drive\\Skolemappe\\NMBU\\Datavitenskap\\År 5\\1. Semester\\IND320\\Compulsories\\CA4\\CA4\\misc_testing.ipynb Cell 7\u001b[0m line \u001b[0;36m1\n\u001b[0;32m     <a href='vscode-notebook-cell:/g%3A/My%20Drive/Skolemappe/NMBU/Datavitenskap/%C3%85r%205/1.%20Semester/IND320/Compulsories/CA4/CA4/misc_testing.ipynb#W6sZmlsZQ%3D%3D?line=16'>17</a>\u001b[0m     \u001b[39mif\u001b[39;00m year \u001b[39m<\u001b[39m \u001b[39m2010\u001b[39m \u001b[39mor\u001b[39;00m year \u001b[39m>\u001b[39m \u001b[39m2023\u001b[39m:\n\u001b[0;32m     <a href='vscode-notebook-cell:/g%3A/My%20Drive/Skolemappe/NMBU/Datavitenskap/%C3%85r%205/1.%20Semester/IND320/Compulsories/CA4/CA4/misc_testing.ipynb#W6sZmlsZQ%3D%3D?line=17'>18</a>\u001b[0m         \u001b[39mraise\u001b[39;00m InvalidYearError\n\u001b[1;32m---> <a href='vscode-notebook-cell:/g%3A/My%20Drive/Skolemappe/NMBU/Datavitenskap/%C3%85r%205/1.%20Semester/IND320/Compulsories/CA4/CA4/misc_testing.ipynb#W6sZmlsZQ%3D%3D?line=18'>19</a>\u001b[0m test(\u001b[39m209\u001b[39;49m)\n",
      "\u001b[1;32mg:\\My Drive\\Skolemappe\\NMBU\\Datavitenskap\\År 5\\1. Semester\\IND320\\Compulsories\\CA4\\CA4\\misc_testing.ipynb Cell 7\u001b[0m line \u001b[0;36m1\n\u001b[0;32m     <a href='vscode-notebook-cell:/g%3A/My%20Drive/Skolemappe/NMBU/Datavitenskap/%C3%85r%205/1.%20Semester/IND320/Compulsories/CA4/CA4/misc_testing.ipynb#W6sZmlsZQ%3D%3D?line=15'>16</a>\u001b[0m \u001b[39mdef\u001b[39;00m \u001b[39mtest\u001b[39m(year):\n\u001b[0;32m     <a href='vscode-notebook-cell:/g%3A/My%20Drive/Skolemappe/NMBU/Datavitenskap/%C3%85r%205/1.%20Semester/IND320/Compulsories/CA4/CA4/misc_testing.ipynb#W6sZmlsZQ%3D%3D?line=16'>17</a>\u001b[0m     \u001b[39mif\u001b[39;00m year \u001b[39m<\u001b[39m \u001b[39m2010\u001b[39m \u001b[39mor\u001b[39;00m year \u001b[39m>\u001b[39m \u001b[39m2023\u001b[39m:\n\u001b[1;32m---> <a href='vscode-notebook-cell:/g%3A/My%20Drive/Skolemappe/NMBU/Datavitenskap/%C3%85r%205/1.%20Semester/IND320/Compulsories/CA4/CA4/misc_testing.ipynb#W6sZmlsZQ%3D%3D?line=17'>18</a>\u001b[0m         \u001b[39mraise\u001b[39;00m InvalidYearError\n",
      "\u001b[1;31mInvalidYearError\u001b[0m: Invalid year"
     ]
    }
   ],
   "source": [
    "class InvalidYearError(Exception):\n",
    "    def __init__(self, message=\"Invalid year\"):\n",
    "        self.message = message\n",
    "        super().__init__(self.message)\n",
    "\n",
    "class DataExistsError(Exception):\n",
    "    def __init__(self, message=\"Data already exists in database\"):\n",
    "        self.message = message\n",
    "        super().__init__(self.message)\n",
    "\n",
    "class WritingToDatabaseError(Exception):\n",
    "    def __init__(self, message=\"Error writing to database\"):\n",
    "        self.message = message\n",
    "        super().__init__(self.message)\n",
    "\n",
    "def test(year):\n",
    "    if year < 2010 or year > 2023:\n",
    "        raise InvalidYearError\n",
    "test(209)"
   ]
  },
  {
   "cell_type": "code",
   "execution_count": 36,
   "metadata": {},
   "outputs": [
    {
     "data": {
      "text/plain": [
       "{'0': 2004, '1': 2014, '2': 2015}"
      ]
     },
     "execution_count": 36,
     "metadata": {},
     "output_type": "execute_result"
    }
   ],
   "source": [
    "years = [2014, 2004, 2015]\n",
    "# sort the years \n",
    "years.sort()\n",
    "\n",
    "test = {str(i): int(years[i]) for i in range(len(years))}\n",
    "\n",
    "test"
   ]
  },
  {
   "cell_type": "code",
   "execution_count": 32,
   "metadata": {},
   "outputs": [
    {
     "data": {
      "text/plain": [
       "{'1': 2004, '0': 2014, '2': 2015}"
      ]
     },
     "execution_count": 32,
     "metadata": {},
     "output_type": "execute_result"
    }
   ],
   "source": [
    "# sort test by value\n",
    "sorted_test = dict(sorted(test.items(), key=lambda x: x[1]))\n",
    "sorted_test"
   ]
  },
  {
   "cell_type": "code",
   "execution_count": 33,
   "metadata": {},
   "outputs": [
    {
     "data": {
      "text/plain": [
       "{0: 2014, 1: 2004, 2: 2015}"
      ]
     },
     "execution_count": 33,
     "metadata": {},
     "output_type": "execute_result"
    }
   ],
   "source": [
    "# next, replace the keys with values ranging from 0 to len(test)\n",
    "sorted_test = {i: sorted_test[str(i)] for i in range(len(sorted_test))}\n",
    "sorted_test"
   ]
  },
  {
   "cell_type": "code",
   "execution_count": 35,
   "metadata": {},
   "outputs": [
    {
     "data": {
      "text/plain": [
       "{0: 2014, 1: 2004, 2: 2015}"
      ]
     },
     "execution_count": 35,
     "metadata": {},
     "output_type": "execute_result"
    }
   ],
   "source": [
    "years_dict = {str(i): int(years[i]) for i in range(len(years))}\n",
    "years_dict_sorted_vals = dict(sorted(years_dict.items(), key=lambda item: item[1]))\n",
    "years_dict_sorted_keys = {i: years_dict_sorted_vals[str(i)] for i in range(len(years_dict_sorted_vals))}\n",
    "years_dict_sorted_keys"
   ]
  },
  {
   "cell_type": "code",
   "execution_count": 3,
   "metadata": {},
   "outputs": [],
   "source": [
    "import streamsync as ss\n",
    "import plotly.express as px\n",
    "\n",
    "def _update_plotly_fish(state, data):\n",
    "    fish_data = data\n",
    "    selected_num = state[\"plotly_settings\"][\"selected_num\"]\n",
    "    sizes = [10]*len(fish_data)\n",
    "\n",
    "    if selected_num != -1:\n",
    "        sizes[selected_num] = 20\n",
    "\n",
    "    fig_fish = px.scatter_mapbox(\n",
    "        fish_data,\n",
    "        lat=\"lat\",\n",
    "        lon=\"lon\",\n",
    "        hover_name=\"name\",\n",
    "        hover_data=[\"municipality\",\"lat\",\"lon\"],\n",
    "        color_discrete_sequence=[\"darkgreen\"],\n",
    "        zoom=14,\n",
    "        height=600,\n",
    "        width=700,\n",
    "    )\n",
    "    overlay = fig_fish['data'][0]\n",
    "    overlay['marker']['size'] = sizes\n",
    "    fig_fish.update_layout(mapbox_style=\"open-street-map\")\n",
    "    fig_fish.update_layout(margin={\"r\": 0, \"t\": 0, \"l\": 0, \"b\": 0})\n",
    "    state[\"plotly_settings\"][\"fish_map\"] = fig_fish\n",
    "\n",
    "initial_state = ss.init_state({\n",
    "\"plotly_settings\": {\"selected_name\": \"Click to select\",\n",
    "                      \"selected_num\": -1,\n",
    "                      \"fish_map\": None\n",
    "    }\n",
    "})\n",
    "\n",
    "\n",
    "_update_plotly_fish(initial_state, fish_data)"
   ]
  },
  {
   "cell_type": "code",
   "execution_count": 7,
   "metadata": {},
   "outputs": [],
   "source": [
    "# select the first 10 rows\n",
    "fish_data_10 = fish_data.iloc[:1000]"
   ]
  },
  {
   "cell_type": "code",
   "execution_count": 22,
   "metadata": {},
   "outputs": [
    {
     "data": {
      "application/vnd.plotly.v1+json": {
       "config": {
        "plotlyServerURL": "https://plot.ly"
       },
       "data": [
        {
         "customdata": [
          [
           "Sortland",
           68.63044738769531,
           15.482067108154297
          ],
          [
           "Vestvågøy",
           68.08343505859375,
           13.56725025177002
          ],
          [
           "Steigen",
           67.89718627929688,
           15.158883094787598
          ],
          [
           "Værøy",
           67.66157531738281,
           12.665440559387207
          ],
          [
           "Kvam",
           60.14103317260742,
           5.906932830810547
          ],
          [
           "Vestvågøy",
           68.10486602783203,
           13.790066719055176
          ],
          [
           "Salangen",
           68.86687469482422,
           17.86150360107422
          ],
          [
           "Nærøy",
           64.94988250732422,
           11.5733003616333
          ],
          [
           "Sirdal",
           58.65299987792969,
           6.701333045959473
          ],
          [
           "Kvinnherad",
           60.159515380859375,
           5.983567237854004
          ],
          [
           "Lenvik",
           69.50056457519531,
           17.919017791748047
          ],
          [
           "Bodø",
           67.23898315429688,
           14.836899757385254
          ],
          [
           "Vestre Slidre",
           61.03691482543945,
           9.048128128051758
          ],
          [
           "Alstahaug",
           65.85144805908203,
           12.287199974060059
          ],
          [
           "Stord",
           59.80928421020508,
           5.3572001457214355
          ],
          [
           "Skjervøy",
           69.99361419677734,
           20.711149215698242
          ],
          [
           "Vestvågøy",
           68.1258316040039,
           13.77331256866455
          ],
          [
           "Øksnes",
           68.90270233154297,
           15.286749839782715
          ],
          [
           "Fitjar",
           59.84476089477539,
           5.24055290222168
          ],
          [
           "Leirfjord",
           66.03285217285156,
           12.877374649047852
          ],
          [
           "Hjelmeland",
           59.22013473510742,
           6.036832809448242
          ],
          [
           "Eidsberg",
           59.696632385253906,
           11.315208435058594
          ],
          [
           "Averøy",
           63.09993362426758,
           7.670267105102539
          ],
          [
           "Øksnes",
           68.94143676757812,
           15.307450294494629
          ],
          [
           "Salangen",
           68.86039733886719,
           17.521883010864258
          ],
          [
           "Solund",
           61.104766845703125,
           5.0184831619262695
          ],
          [
           "Askvoll",
           61.32008361816406,
           4.978967189788818
          ],
          [
           "Nærøy",
           64.89313507080078,
           11.762832641601562
          ],
          [
           "Åfjord",
           63.94438171386719,
           9.880666732788086
          ],
          [
           "Sykkylven",
           62.45123291015625,
           6.73371696472168
          ],
          [
           "Nærøy",
           64.77224731445312,
           11.178333282470703
          ],
          [
           "Herøy I Møre Og Romsdal",
           62.20970153808594,
           5.784900188446045
          ],
          [
           "Sveio",
           59.6573486328125,
           5.404167175292969
          ],
          [
           "Kvinnherad",
           60.107418060302734,
           5.939833164215088
          ],
          [
           "Smøla",
           63.449951171875,
           8.167133331298828
          ],
          [
           "Arendal",
           58.578250885009766,
           8.987783432006836
          ],
          [
           "Hadsel",
           68.57475280761719,
           14.850882530212402
          ],
          [
           "Øygarden",
           60.554141998291016,
           4.88090181350708
          ],
          [
           "Nærøy",
           64.78656768798828,
           11.727916717529297
          ],
          [
           "Stord",
           59.87834930419922,
           5.526916980743408
          ],
          [
           "Giske",
           62.517398834228516,
           6.158050060272217
          ],
          [
           "Haugesund",
           59.42878341674805,
           5.098949909210205
          ],
          [
           "Karlsøy",
           69.93671417236328,
           19.832183837890625
          ],
          [
           "Bergen",
           60.40006637573242,
           5.303417205810547
          ],
          [
           "Tysvær",
           59.40826416015625,
           5.721049785614014
          ],
          [
           "Gildeskål",
           67.1183853149414,
           13.898417472839355
          ],
          [
           "Steigen",
           68.00592041015625,
           15.26433277130127
          ],
          [
           "Nærøy",
           64.94640350341797,
           11.462300300598145
          ],
          [
           "Øygarden",
           60.59233474731445,
           4.857832908630371
          ],
          [
           "Hyllestad",
           61.20600128173828,
           5.131732940673828
          ],
          [
           "Namsos",
           64.60980224609375,
           11.280850410461426
          ],
          [
           "Herøy I Nordland",
           66.08927154541016,
           12.24434757232666
          ],
          [
           "Kvinnherad",
           59.742610931396484,
           5.722145080566406
          ],
          [
           "Alta",
           70.32066345214844,
           22.89715003967285
          ],
          [
           "Gjesdal",
           58.8387336730957,
           6.18464994430542
          ],
          [
           "Bodø",
           67.1849365234375,
           14.386500358581543
          ],
          [
           "Tromsø",
           69.86808013916016,
           18.931032180786133
          ],
          [
           "Namsos",
           64.62273406982422,
           11.417733192443848
          ],
          [
           "Dønna",
           66.15809631347656,
           12.68201732635498
          ],
          [
           "Tromsø",
           69.78656768798828,
           18.650667190551758
          ],
          [
           "Vevelstad",
           65.665283203125,
           12.650016784667969
          ],
          [
           "Lurøy",
           66.3487319946289,
           12.779417037963867
          ],
          [
           "Volda",
           62.05933380126953,
           6.305850028991699
          ],
          [
           "Eide",
           62.928531646728516,
           7.580516815185547
          ],
          [
           "Kristiansund",
           63.04071807861328,
           7.849699974060059
          ],
          [
           "Sørfold",
           67.60568237304688,
           15.36848258972168
          ],
          [
           "Alver",
           60.727882385253906,
           4.864099979400635
          ],
          [
           "Kvæfjord",
           68.65650177001953,
           15.900349617004395
          ],
          [
           "Kvæfjord",
           68.6991195678711,
           15.978933334350586
          ],
          [
           "Bodø",
           67.4020004272461,
           13.910882949829102
          ],
          [
           "Bømlo",
           59.598846435546875,
           5.191829204559326
          ],
          [
           "Kvænangen",
           69.90727996826172,
           21.82976722717285
          ],
          [
           "Alta",
           70.21558380126953,
           22.626583099365234
          ],
          [
           "Smøla",
           63.457733154296875,
           7.856100082397461
          ],
          [
           "Hjelmeland",
           59.2320671081543,
           6.008316993713379
          ],
          [
           "Kvam",
           60.234981536865234,
           6.006217002868652
          ],
          [
           "Saltdal",
           67.13742065429688,
           15.405082702636719
          ],
          [
           "Tysvær",
           59.408748626708984,
           5.6130499839782715
          ],
          [
           "Bokn",
           59.19496536254883,
           5.478617191314697
          ],
          [
           "Gulen",
           60.89378356933594,
           4.837100028991699
          ],
          [
           "Vevelstad",
           65.665283203125,
           12.650016784667969
          ],
          [
           "Lyngdal",
           58.051368713378906,
           6.999149799346924
          ],
          [
           "Sortland",
           68.77283477783203,
           15.446582794189453
          ],
          [
           "Hammerfest",
           70.62551879882812,
           23.107933044433594
          ],
          [
           "Frøya",
           63.904850006103516,
           8.589133262634277
          ],
          [
           "Flora",
           61.60395050048828,
           5.186532974243164
          ],
          [
           "Moskenes",
           67.95034790039062,
           13.077716827392578
          ],
          [
           "Sveio",
           59.68531799316406,
           5.431099891662598
          ],
          [
           "Gratangen",
           68.73133087158203,
           17.234350204467773
          ],
          [
           "Nærøy",
           64.93387603759766,
           11.409242630004883
          ],
          [
           "Dyrøy",
           69.018798828125,
           17.52006721496582
          ],
          [
           "Vevelstad",
           65.72323608398438,
           12.475317001342773
          ],
          [
           "Kvænangen",
           69.90454864501953,
           21.876832962036133
          ],
          [
           "Rødøy",
           66.53775024414062,
           13.3242826461792
          ],
          [
           "Lebesby",
           70.6717300415039,
           27.133949279785156
          ],
          [
           "Hjelmeland",
           59.2686653137207,
           6.334667205810547
          ],
          [
           "Bokn",
           59.21616744995117,
           5.390638828277588
          ],
          [
           "Tranøy",
           69.10623168945312,
           17.280282974243164
          ],
          [
           "Kvinnherad",
           60.136165618896484,
           6.146032810211182
          ],
          [
           "Averøy",
           63.06938171386719,
           7.601916790008545
          ],
          [
           "Hasvik",
           70.48149871826172,
           22.1560001373291
          ],
          [
           "Kvinnherad",
           59.97793197631836,
           5.7756500244140625
          ],
          [
           "Kvinnherad",
           60.159515380859375,
           5.983567237854004
          ],
          [
           "Frøya",
           63.87946701049805,
           8.543083190917969
          ],
          [
           "Hadsel",
           68.56863403320312,
           15.328619956970215
          ],
          [
           "Gildeskål",
           67.13766479492188,
           13.981200218200684
          ],
          [
           "Vestvågøy",
           68.11054992675781,
           13.743049621582031
          ],
          [
           "Heim",
           63.04964828491211,
           8.21619987487793
          ],
          [
           "Tromsø",
           69.77559661865234,
           19.367366790771484
          ],
          [
           "Tromsø",
           69.63764953613281,
           18.038816452026367
          ],
          [
           "Hitra",
           63.54533386230469,
           8.383091926574707
          ],
          [
           "Tingvoll",
           62.979217529296875,
           8.242420196533203
          ],
          [
           "Stord",
           59.80928421020508,
           5.3572001457214355
          ],
          [
           "Hadsel",
           68.67398071289062,
           14.98248291015625
          ],
          [
           "Herøy I Nordland",
           66.08231353759766,
           12.201167106628418
          ],
          [
           "Flora",
           61.576148986816406,
           4.807332992553711
          ],
          [
           "Tromsø",
           69.75338745117188,
           19.029321670532227
          ],
          [
           "Øksnes",
           68.88853454589844,
           15.06016731262207
          ],
          [
           "Vestvågøy",
           68.10486602783203,
           13.790066719055176
          ],
          [
           "Vågan",
           68.26828002929688,
           15.104117393493652
          ],
          [
           "Sund",
           60.217586517333984,
           5.047933101654053
          ],
          [
           "Fusa",
           60.17599868774414,
           5.724400043487549
          ],
          [
           "Frøya",
           63.78238296508789,
           8.526350021362305
          ],
          [
           "Skjervøy",
           69.89971923828125,
           20.73430061340332
          ],
          [
           "Frøya",
           63.80076599121094,
           8.650500297546387
          ],
          [
           "Sveio",
           59.50471878051758,
           5.240182876586914
          ],
          [
           "Kristiansand",
           58.16168212890625,
           8.054383277893066
          ],
          [
           "Stord",
           59.87801742553711,
           5.575517177581787
          ],
          [
           "Steigen",
           67.93948364257812,
           15.503168106079102
          ],
          [
           "Bremanger",
           61.78144836425781,
           4.947717189788818
          ],
          [
           "Rennesøy",
           59.027618408203125,
           5.664933204650879
          ],
          [
           "Åfjord",
           63.93603515625,
           10.209362983703613
          ],
          [
           "Alstahaug",
           65.81574249267578,
           12.582308769226074
          ],
          [
           "Steigen",
           67.95092010498047,
           15.638667106628418
          ],
          [
           "Åmot",
           61.0756721496582,
           11.354072570800781
          ],
          [
           "Haugesund",
           59.42901611328125,
           5.09641695022583
          ],
          [
           "Vestre Slidre",
           61.13381576538086,
           8.866314888000488
          ],
          [
           "Vevelstad",
           65.71131134033203,
           12.620412826538086
          ],
          [
           "Sørfold",
           67.53303527832031,
           15.386383056640625
          ],
          [
           "Leirfjord",
           66.03285217285156,
           12.877374649047852
          ],
          [
           "Aure",
           63.14974594116211,
           8.128549575805664
          ],
          [
           "Hammerfest",
           70.58053588867188,
           23.67609977722168
          ],
          [
           "Lindås",
           60.63263702392578,
           5.495230197906494
          ],
          [
           "Osen",
           64.29718017578125,
           10.3934326171875
          ],
          [
           "Torsken",
           69.19186401367188,
           17.038389205932617
          ],
          [
           "Tysnes",
           60.07663345336914,
           5.467066764831543
          ],
          [
           "Vågan",
           68.32526397705078,
           15.202300071716309
          ],
          [
           "Austevoll",
           60.139068603515625,
           5.112782955169678
          ],
          [
           "Fitjar",
           59.92851638793945,
           5.2307000160217285
          ],
          [
           "Gulen",
           60.95026779174805,
           4.919899940490723
          ],
          [
           "Ballangen",
           68.40231323242188,
           16.85926628112793
          ],
          [
           "Skånland",
           68.69226837158203,
           17.05223274230957
          ],
          [
           "Finnøy",
           59.23888397216797,
           5.740616798400879
          ],
          [
           "Gildeskål",
           67.02670288085938,
           14.126282691955566
          ],
          [
           "Engerdal",
           62.07606887817383,
           12.168867111206055
          ],
          [
           "Flekkefjord",
           58.21965026855469,
           6.652166843414307
          ],
          [
           "Austevoll",
           60.09941864013672,
           5.117883205413818
          ],
          [
           "Kvalsund",
           70.38597869873047,
           23.472270965576172
          ],
          [
           "Haugesund",
           59.44091796875,
           5.092766761779785
          ],
          [
           "Åfjord",
           63.995033264160156,
           9.871282577514648
          ],
          [
           "Vikna",
           64.81714630126953,
           10.742500305175781
          ],
          [
           "Bindal",
           65.06438446044922,
           12.051799774169922
          ],
          [
           "Solund",
           61.04518127441406,
           4.725032806396484
          ],
          [
           "Risør",
           58.725833892822266,
           9.211099624633789
          ],
          [
           "Fjell",
           60.40290069580078,
           5.063716888427734
          ],
          [
           "Loppa",
           70.15170288085938,
           22.312667846679688
          ],
          [
           "Kvinnherad",
           59.833133697509766,
           5.709167003631592
          ],
          [
           "Bjørnafjorden",
           60.227699279785156,
           5.876767158508301
          ],
          [
           "Bømlo",
           59.847782135009766,
           5.236682891845703
          ],
          [
           "Tysvær",
           59.298301696777344,
           5.7133331298828125
          ],
          [
           "Hitra",
           63.41583251953125,
           8.47933292388916
          ],
          [
           "Austevoll",
           60.03818130493164,
           5.11441707611084
          ],
          [
           "Averøy",
           62.95220184326172,
           7.569217205047607
          ],
          [
           "Randaberg",
           59.02186965942383,
           5.618478775024414
          ],
          [
           "Rødøy",
           66.58036041259766,
           13.015637397766113
          ],
          [
           "Bømlo",
           59.81256866455078,
           5.110083103179932
          ],
          [
           "Senja",
           69.5385513305664,
           17.67354965209961
          ],
          [
           "Osen",
           64.29536437988281,
           10.397482872009277
          ],
          [
           "Skånland",
           68.69226837158203,
           17.05223274230957
          ],
          [
           "Høyanger",
           61.093448638916016,
           5.8231329917907715
          ],
          [
           "Volda",
           62.14531707763672,
           5.9454498291015625
          ],
          [
           "Tysvær",
           59.42776870727539,
           5.788416862487793
          ],
          [
           "Hemne",
           63.45838165283203,
           8.955682754516602
          ],
          [
           "Bømlo",
           59.598846435546875,
           5.191829204559326
          ],
          [
           "Ørsta",
           62.27488327026367,
           6.00285005569458
          ],
          [
           "Namsos",
           64.45946502685547,
           11.196800231933594
          ],
          [
           "Fitjar",
           59.93320083618164,
           5.239467144012451
          ],
          [
           "Kvinnherad",
           60.10041427612305,
           6.032164096832275
          ],
          [
           "Høyanger",
           61.10511779785156,
           5.853882789611816
          ],
          [
           "Fosnes",
           64.66378021240234,
           11.359416961669922
          ],
          [
           "Halsa",
           63.07673263549805,
           8.19314956665039
          ],
          [
           "Bjørnafjorden",
           60.2265625,
           5.8750081062316895
          ],
          [
           "Alta",
           69.9480972290039,
           23.09233283996582
          ],
          [
           "Hitra",
           63.47181701660156,
           8.676921844482422
          ],
          [
           "Sund",
           60.22006607055664,
           5.214550018310547
          ],
          [
           "Fusa",
           60.16983413696289,
           5.696450233459473
          ],
          [
           "Forsand",
           58.95783996582031,
           6.172616958618164
          ],
          [
           "Haugesund",
           59.429298400878906,
           5.114482879638672
          ],
          [
           "Frøya",
           63.793617248535156,
           8.85456657409668
          ],
          [
           "Øksnes",
           68.93614959716797,
           15.022366523742676
          ],
          [
           "Tvedestrand",
           58.631282806396484,
           9.111183166503906
          ],
          [
           "Vardø",
           70.36083221435547,
           31.037588119506836
          ],
          [
           "Leka",
           65.20317077636719,
           11.569000244140625
          ],
          [
           "Heim",
           63.333534240722656,
           9.180583000183105
          ],
          [
           "Gulen",
           60.99773406982422,
           5.030399799346924
          ],
          [
           "Gildeskål",
           67.03316497802734,
           13.967350006103516
          ],
          [
           "Austevoll",
           60.02091598510742,
           5.081517219543457
          ],
          [
           "Namsos",
           64.45946502685547,
           11.196800231933594
          ],
          [
           "Flekkefjord",
           58.22308349609375,
           6.6354169845581055
          ],
          [
           "Unjargga-Nesseby",
           70.01513671875,
           29.26729965209961
          ],
          [
           "Øygarden",
           60.419315338134766,
           4.909432888031006
          ],
          [
           "Brønnøy",
           65.42511749267578,
           12.473998069763184
          ],
          [
           "Åfjord",
           63.92580032348633,
           10.036849975585938
          ],
          [
           "Vanylven",
           62.17563247680664,
           5.694766998291016
          ],
          [
           "Namsos",
           64.58270263671875,
           11.20199966430664
          ],
          [
           "Hamarøy",
           67.96810913085938,
           15.92687702178955
          ],
          [
           "Nord-Aurdal",
           60.97628402709961,
           9.2924165725708
          ],
          [
           "Tysnes",
           60.03581619262695,
           5.342216968536377
          ],
          [
           "Lurøy",
           66.36730194091797,
           12.371417045593262
          ],
          [
           "Nord-Aurdal",
           60.97645568847656,
           9.291913032531738
          ],
          [
           "Hadsel",
           68.5725326538086,
           15.328967094421387
          ],
          [
           "Rødøy",
           66.53784942626953,
           13.325182914733887
          ],
          [
           "Sveio",
           59.588844299316406,
           5.476589202880859
          ],
          [
           "Loppa",
           70.14144897460938,
           22.35420036315918
          ],
          [
           "Karlsøy",
           69.95137023925781,
           19.587867736816406
          ],
          [
           "Lurøy",
           66.4195327758789,
           13.017566680908203
          ],
          [
           "Brønnøy",
           65.47138214111328,
           12.135000228881836
          ],
          [
           "Fitjar",
           59.88064956665039,
           5.102932929992676
          ],
          [
           "Alta",
           70.08586883544922,
           22.661800384521484
          ],
          [
           "Fitjar",
           59.88064956665039,
           5.102932929992676
          ],
          [
           "Steigen",
           67.97492980957031,
           15.31076717376709
          ],
          [
           "Hitra",
           63.608028411865234,
           8.494632720947266
          ],
          [
           "Brønnøy",
           65.44093322753906,
           12.626916885375977
          ],
          [
           "Frøya",
           63.7453498840332,
           8.881616592407227
          ],
          [
           "Osterøy",
           60.47978210449219,
           5.443633079528809
          ],
          [
           "Bø I Nordland",
           68.79173278808594,
           14.697954177856445
          ],
          [
           "Askvoll",
           61.370384216308594,
           5.018499851226807
          ],
          [
           "Sula",
           62.439918518066406,
           6.240266799926758
          ],
          [
           "Harstad",
           68.9117660522461,
           16.289033889770508
          ],
          [
           "Gjesdal",
           58.83861541748047,
           6.184203147888184
          ],
          [
           "Lebesby",
           70.60191345214844,
           26.954139709472656
          ],
          [
           "Flora",
           61.49726867675781,
           5.102982997894287
          ],
          [
           "Vågan",
           68.24809265136719,
           14.277009010314941
          ],
          [
           "Sør-Varanger",
           69.90965270996094,
           29.680700302124023
          ],
          [
           "Suldal",
           59.31800079345703,
           6.287483215332031
          ],
          [
           "Bodø",
           67.41639709472656,
           14.428667068481445
          ],
          [
           "Bodø",
           67.1855697631836,
           14.388433456420898
          ],
          [
           "Suldal",
           59.41041564941406,
           6.086299896240234
          ],
          [
           "Lindås",
           60.72309875488281,
           5.325450897216797
          ],
          [
           "Kvinnherad",
           60.11243438720703,
           6.042482852935791
          ],
          [
           "Bømlo",
           59.84510040283203,
           5.261366844177246
          ],
          [
           "Hemne",
           63.33155059814453,
           9.123100280761719
          ],
          [
           "Sørfold",
           67.45848846435547,
           15.51158332824707
          ],
          [
           "Radøy",
           60.75148391723633,
           4.88528299331665
          ],
          [
           "Tysnes",
           60.07626724243164,
           5.466533184051514
          ],
          [
           "Lillesand",
           58.2093505859375,
           8.292366981506348
          ],
          [
           "Lurøy",
           66.42008209228516,
           13.018033027648926
          ],
          [
           "Kvinnherad",
           60.12611770629883,
           5.930500030517578
          ],
          [
           "Lindås",
           60.74523162841797,
           5.27006721496582
          ],
          [
           "Lebesby",
           70.50503540039062,
           26.871126174926758
          ],
          [
           "Kvam",
           60.41365051269531,
           6.401199817657471
          ],
          [
           "Lurøy",
           66.5784683227539,
           12.69106674194336
          ],
          [
           "Nærøy",
           64.98375701904297,
           11.766383171081543
          ],
          [
           "Lenvik",
           69.50056457519531,
           17.919017791748047
          ],
          [
           "Dønna",
           66.16404724121094,
           12.40076732635498
          ],
          [
           "Vanylven",
           62.18406677246094,
           5.787567138671875
          ],
          [
           "Sørfold",
           67.35479736328125,
           15.583700180053711
          ],
          [
           "Hitra",
           63.47578430175781,
           9.109800338745117
          ],
          [
           "Fitjar",
           59.970001220703125,
           5.331367015838623
          ],
          [
           "Surnadal",
           63.00053405761719,
           8.32563304901123
          ],
          [
           "Sande I Møre Og Romsdal",
           62.23341751098633,
           5.486116886138916
          ],
          [
           "Høyanger",
           61.19314956665039,
           5.81831693649292
          ],
          [
           "Fusa",
           60.22308349609375,
           5.641167163848877
          ],
          [
           "Askvoll",
           61.37411880493164,
           4.963683128356934
          ],
          [
           "Gjesdal",
           58.86176681518555,
           6.107399940490723
          ],
          [
           "Steigen",
           67.76294708251953,
           15.678016662597656
          ],
          [
           "Øygarden",
           60.518096923828125,
           4.907372951507568
          ],
          [
           "Hitra",
           63.6552848815918,
           9.156794548034668
          ],
          [
           "Nærøy",
           64.9289321899414,
           11.912917137145996
          ],
          [
           "Bjørnafjorden",
           60.26190185546875,
           5.5632500648498535
          ],
          [
           "Kvænangen",
           69.90454864501953,
           21.876832962036133
          ],
          [
           "Øygarden",
           60.69499969482422,
           4.761116981506348
          ],
          [
           "Åmot",
           61.163719177246094,
           11.453601837158203
          ],
          [
           "Askvoll",
           61.36899948120117,
           5.018967151641846
          ],
          [
           "Ibestad",
           68.72760009765625,
           16.91046714782715
          ],
          [
           "Vestre Slidre",
           61.06456756591797,
           9.020116806030273
          ],
          [
           "Halsa",
           63.0489501953125,
           8.216349601745605
          ],
          [
           "Kvam",
           60.31814956665039,
           6.183183193206787
          ],
          [
           "Kvalsund",
           70.56365203857422,
           24.11906623840332
          ],
          [
           "Steigen",
           67.95877075195312,
           15.171667098999023
          ],
          [
           "Austevoll",
           60.07151794433594,
           5.30638313293457
          ],
          [
           "Rødøy",
           66.6180191040039,
           12.954667091369629
          ],
          [
           "Kvinnherad",
           59.870750427246094,
           5.725017070770264
          ],
          [
           "Hemne",
           63.333534240722656,
           9.180583000183105
          ],
          [
           "Bjørnafjorden",
           60.07109832763672,
           5.7368669509887695
          ],
          [
           "Sørfold",
           67.59193420410156,
           15.866867065429688
          ],
          [
           "Åfjord",
           64.18451690673828,
           10.122200012207031
          ],
          [
           "Hadsel",
           68.57418060302734,
           14.958867073059082
          ],
          [
           "Smøla",
           63.25651550292969,
           7.928067207336426
          ],
          [
           "Skjervøy",
           70.06591796875,
           20.80121612548828
          ],
          [
           "Lurøy",
           66.35649871826172,
           12.53011703491211
          ],
          [
           "Nord-Aurdal",
           60.96574020385742,
           9.262264251708984
          ],
          [
           "Rauma",
           62.71648406982422,
           7.730116844177246
          ],
          [
           "Torsken",
           69.3684310913086,
           17.028099060058594
          ],
          [
           "Bømlo",
           59.787899017333984,
           5.1005330085754395
          ],
          [
           "Kristiansund",
           63.077667236328125,
           7.903450012207031
          ],
          [
           "Vindafjord",
           59.47406768798828,
           5.976432800292969
          ],
          [
           "Måsøy",
           70.87483215332031,
           24.616966247558594
          ],
          [
           "Vevelstad",
           65.70821380615234,
           12.58881664276123
          ],
          [
           "Roan",
           64.2433853149414,
           10.264450073242188
          ],
          [
           "Sørfold",
           67.53131866455078,
           15.443567276000977
          ],
          [
           "Masfjorden",
           60.74237823486328,
           5.391121864318848
          ],
          [
           "Jondal",
           60.32421875,
           6.31898307800293
          ],
          [
           "Åfjord",
           64.15689849853516,
           10.008916854858398
          ],
          [
           "Harstad Før 2013",
           68.876953125,
           16.287382125854492
          ],
          [
           "Sør-Odal",
           60.124507904052734,
           11.76832389831543
          ],
          [
           "Lyngdal",
           58.08741760253906,
           7.0091328620910645
          ],
          [
           "Kvam",
           60.260074615478516,
           6.142477989196777
          ],
          [
           "Porsanger",
           70.36676788330078,
           25.466510772705078
          ],
          [
           "Frøya",
           63.728633880615234,
           8.629449844360352
          ],
          [
           "Tysfjord",
           68.09066772460938,
           16.36412811279297
          ],
          [
           "Kvalsund",
           70.6710205078125,
           24.487232208251953
          ],
          [
           "Vindafjord",
           59.539405822753906,
           5.543704032897949
          ],
          [
           "Tingvoll",
           63.07768630981445,
           8.143622398376465
          ],
          [
           "Tysvær",
           59.278751373291016,
           5.508749961853027
          ],
          [
           "Finnøy",
           59.211368560791016,
           5.953199863433838
          ],
          [
           "Finnøy",
           59.17093276977539,
           5.876633167266846
          ],
          [
           "Fjell",
           60.30716323852539,
           5.037103176116943
          ],
          [
           "Herøy I Nordland",
           66.0006332397461,
           12.26656723022461
          ],
          [
           "Skånland",
           68.65782928466797,
           17.20916748046875
          ],
          [
           "Kvinnherad",
           59.83303451538086,
           5.709016799926758
          ],
          [
           "Vindafjord",
           59.67843246459961,
           5.614817142486572
          ],
          [
           "Gulen",
           61.0678825378418,
           5.563833236694336
          ],
          [
           "Kvitsøy",
           59.073768615722656,
           5.432783126831055
          ],
          [
           "Brønnøy",
           65.4468002319336,
           12.5603666305542
          ],
          [
           "Hasvik",
           70.6634521484375,
           22.621732711791992
          ],
          [
           "Hamarøy",
           67.8924331665039,
           16.236717224121094
          ],
          [
           "Hitra",
           63.64500045776367,
           8.879483222961426
          ],
          [
           "Tysvær",
           59.42776870727539,
           5.788416862487793
          ],
          [
           "Vefsn",
           65.80648040771484,
           12.619767189025879
          ],
          [
           "Flekkefjord",
           58.207401275634766,
           6.635049819946289
          ],
          [
           "Værøy",
           67.65460205078125,
           12.682232856750488
          ],
          [
           "Vågan",
           68.16802978515625,
           14.235383033752441
          ],
          [
           "Sørreisa",
           69.15143585205078,
           17.956199645996094
          ],
          [
           "Fjaler",
           61.31643295288086,
           5.156300067901611
          ],
          [
           "Tysnes",
           59.95363235473633,
           5.451399803161621
          ],
          [
           "Lyngdal",
           58.04971694946289,
           6.982150077819824
          ],
          [
           "Hustadvika",
           62.968467712402344,
           7.371232986450195
          ],
          [
           "Tysvær",
           59.3446159362793,
           5.894599914550781
          ],
          [
           "Flora",
           61.61293411254883,
           5.086231231689453
          ],
          [
           "Gulen",
           60.884033203125,
           4.857749938964844
          ],
          [
           "Tysfjord",
           68.19824981689453,
           16.134117126464844
          ],
          [
           "Tysvær",
           59.40546798706055,
           5.863100051879883
          ],
          [
           "Frøya",
           63.793399810791016,
           8.851845741271973
          ],
          [
           "Rennesøy",
           59.027618408203125,
           5.664933204650879
          ],
          [
           "Høyanger",
           61.10844039916992,
           5.756114959716797
          ],
          [
           "Kinn",
           61.53488540649414,
           4.938267230987549
          ],
          [
           "Eide",
           62.928531646728516,
           7.580516815185547
          ],
          [
           "Sortland",
           68.7040023803711,
           15.016667366027832
          ],
          [
           "Fjell",
           60.40290069580078,
           5.063716888427734
          ],
          [
           "Øygarden",
           60.688316345214844,
           4.734416961669922
          ],
          [
           "Stavanger",
           59.08641815185547,
           5.680616855621338
          ],
          [
           "Bokn",
           59.182884216308594,
           5.422176837921143
          ],
          [
           "Meløy",
           66.80679321289062,
           13.111177444458008
          ],
          [
           "Høyanger",
           61.193599700927734,
           5.80161714553833
          ],
          [
           "Senja",
           69.18711853027344,
           17.01508331298828
          ],
          [
           "Inderøy",
           63.84762954711914,
           10.738733291625977
          ],
          [
           "Smøla",
           63.25651550292969,
           7.928067207336426
          ],
          [
           "Røros",
           62.56350326538086,
           11.4767427444458
          ],
          [
           "Gloppen",
           61.78593444824219,
           5.977232933044434
          ],
          [
           "Skjervøy",
           70.03453063964844,
           20.9906005859375
          ],
          [
           "Frogn",
           59.61578369140625,
           10.652649879455566
          ],
          [
           "Frøya",
           63.806209564208984,
           8.567418098449707
          ],
          [
           "Frøya",
           63.86961364746094,
           8.603133201599121
          ],
          [
           "Frøya",
           63.793399810791016,
           8.851845741271973
          ],
          [
           "Bjugn",
           63.8247184753418,
           9.753250122070312
          ],
          [
           "Kvinnherad",
           59.950382232666016,
           5.820483207702637
          ],
          [
           "Hadsel",
           68.67398071289062,
           14.98248291015625
          ],
          [
           "Fjaler",
           61.3068733215332,
           5.229158878326416
          ],
          [
           "Gulen",
           61.00969314575195,
           5.473717212677002
          ],
          [
           "Øksnes",
           68.86299896240234,
           15.08728313446045
          ],
          [
           "Bodø",
           67.4215316772461,
           14.031682968139648
          ],
          [
           "Kvænangen",
           69.84944152832031,
           21.82974624633789
          ],
          [
           "Flora",
           61.631900787353516,
           4.863432884216309
          ],
          [
           "Gulen",
           60.9452018737793,
           4.846049785614014
          ],
          [
           "Kvitsøy",
           59.048099517822266,
           5.423733234405518
          ],
          [
           "Lenvik",
           69.47433471679688,
           17.87868309020996
          ],
          [
           "Kvam",
           60.43012619018555,
           6.41835880279541
          ],
          [
           "Sveio",
           59.6917839050293,
           5.543716907501221
          ],
          [
           "Salangen",
           68.90876770019531,
           17.716949462890625
          ],
          [
           "Vestnes",
           62.55780029296875,
           7.15291690826416
          ],
          [
           "Sogndal",
           61.19990539550781,
           7.1243181228637695
          ],
          [
           "Karmøy",
           59.31733322143555,
           5.383266925811768
          ],
          [
           "Meløy",
           66.8078842163086,
           13.565750122070312
          ],
          [
           "Hjelmeland",
           59.14666748046875,
           6.181666851043701
          ],
          [
           "Rødøy",
           66.58399963378906,
           13.00393295288086
          ],
          [
           "Finnøy",
           59.19205093383789,
           5.870067119598389
          ],
          [
           "Nordreisa",
           69.81611633300781,
           20.717817306518555
          ],
          [
           "Vindafjord",
           59.5181999206543,
           5.819867134094238
          ],
          [
           "Alstahaug",
           66.00704956054688,
           12.7052001953125
          ],
          [
           "Vik",
           61.0081901550293,
           6.3493242263793945
          ],
          [
           "Alta",
           70.32111358642578,
           22.896516799926758
          ],
          [
           "Narvik",
           68.48615264892578,
           17.339332580566406
          ],
          [
           "Aure",
           63.415565490722656,
           8.71226692199707
          ],
          [
           "Gildeskål",
           67.13213348388672,
           14.312549591064453
          ],
          [
           "Høyanger",
           61.079498291015625,
           5.809899806976318
          ],
          [
           "Gildeskål",
           67.03495025634766,
           14.018050193786621
          ],
          [
           "Gulen",
           60.87630081176758,
           5.028049945831299
          ],
          [
           "Hjelmeland",
           59.2320671081543,
           6.008316993713379
          ],
          [
           "Fjaler",
           61.37283706665039,
           5.442217826843262
          ],
          [
           "Rødøy",
           66.73304748535156,
           13.331832885742188
          ],
          [
           "Torsken",
           69.18692016601562,
           17.01373291015625
          ],
          [
           "Lenvik",
           69.50056457519531,
           17.919017791748047
          ],
          [
           "Tromsø",
           69.6953353881836,
           18.17026710510254
          ],
          [
           "Lødingen",
           68.525634765625,
           16.123666763305664
          ],
          [
           "Tvedestrand",
           58.6151008605957,
           9.044750213623047
          ],
          [
           "Vågan",
           68.26828002929688,
           15.104117393493652
          ],
          [
           "Hattfjelldal",
           65.69340515136719,
           14.331592559814453
          ],
          [
           "Namsos",
           64.547607421875,
           11.44663143157959
          ],
          [
           "Gildeskål",
           67.14678192138672,
           14.016532897949219
          ],
          [
           "Karlsøy",
           70.10643005371094,
           19.583866119384766
          ],
          [
           "Kvinnherad",
           59.7176513671875,
           5.722050189971924
          ],
          [
           "Øksnes",
           68.90270233154297,
           15.286749839782715
          ],
          [
           "Skjervøy",
           69.94661712646484,
           20.75276756286621
          ],
          [
           "Bømlo",
           59.79916763305664,
           5.13111686706543
          ],
          [
           "Torsken",
           69.2466812133789,
           17.02568244934082
          ],
          [
           "Rissa",
           63.51093292236328,
           9.92691707611084
          ],
          [
           "Averøy",
           63.05730056762695,
           7.514200210571289
          ],
          [
           "Sørfold",
           67.59193420410156,
           15.866867065429688
          ],
          [
           "Øygarden",
           60.339881896972656,
           4.967549800872803
          ],
          [
           "Hitra",
           63.506065368652344,
           9.190750122070312
          ],
          [
           "Vikna",
           64.81714630126953,
           10.742500305175781
          ],
          [
           "Rødøy",
           66.76948547363281,
           13.171382904052734
          ],
          [
           "Kvam",
           60.39276885986328,
           6.3045501708984375
          ],
          [
           "Høylandet",
           64.88411712646484,
           12.43615436553955
          ],
          [
           "Rana",
           66.30838012695312,
           13.43239974975586
          ],
          [
           "Karlsøy",
           70.24053192138672,
           19.49774932861328
          ],
          [
           "Vanylven",
           62.16654968261719,
           5.595399856567383
          ],
          [
           "Austevoll",
           60.0865364074707,
           5.177029132843018
          ],
          [
           "Rauma",
           62.59785079956055,
           7.3677167892456055
          ],
          [
           "Nærøysund",
           64.81864929199219,
           10.935216903686523
          ],
          [
           "Ørland",
           63.871849060058594,
           9.76984977722168
          ],
          [
           "Agdenes",
           63.51477813720703,
           9.807916641235352
          ],
          [
           "Fjell",
           60.34006118774414,
           4.995020866394043
          ],
          [
           "Vindafjord",
           59.4786262512207,
           5.993310928344727
          ],
          [
           "Frøya",
           63.81734848022461,
           8.462483406066895
          ],
          [
           "Sømna",
           65.22750091552734,
           12.14383316040039
          ],
          [
           "Porsanger",
           70.36676788330078,
           25.466510772705078
          ],
          [
           "Frosta",
           63.587867736816406,
           10.675116539001465
          ],
          [
           "Forsand",
           58.9359016418457,
           6.029716968536377
          ],
          [
           "Gulen",
           60.96886444091797,
           5.19533109664917
          ],
          [
           "Aure",
           63.190467834472656,
           8.578633308410645
          ],
          [
           "Salangen",
           68.82191467285156,
           17.535316467285156
          ],
          [
           "Alta",
           70.34088134765625,
           22.804866790771484
          ],
          [
           "Øygarden",
           60.57356643676758,
           4.81850004196167
          ],
          [
           "Bindal",
           65.18414306640625,
           12.392212867736816
          ],
          [
           "Osterøy",
           60.50959777832031,
           5.526431083679199
          ],
          [
           "Hitra",
           63.63571548461914,
           9.186467170715332
          ],
          [
           "Skjervøy",
           70.09026336669922,
           20.758750915527344
          ],
          [
           "Vevelstad",
           65.73370361328125,
           12.535699844360352
          ],
          [
           "Moskenes",
           67.95034790039062,
           13.077716827392578
          ],
          [
           "Sogndal",
           61.21023178100586,
           7.0920538902282715
          ],
          [
           "Fusa",
           60.20909881591797,
           5.836371898651123
          ],
          [
           "Rauma",
           62.64158248901367,
           7.448583126068115
          ],
          [
           "Flora",
           61.57034683227539,
           5.332888126373291
          ],
          [
           "Lurøy",
           66.52848052978516,
           12.880749702453613
          ],
          [
           "Nærøy",
           64.78656768798828,
           11.727916717529297
          ],
          [
           "Hammerfest",
           70.5753402709961,
           23.034439086914062
          ],
          [
           "Rødøy",
           66.53784942626953,
           13.32509994506836
          ],
          [
           "Nærøysund",
           64.98480224609375,
           11.135466575622559
          ],
          [
           "Kinn",
           61.58774948120117,
           5.335849761962891
          ],
          [
           "Åfjord",
           63.93095016479492,
           10.196967124938965
          ],
          [
           "Frøya",
           63.853816986083984,
           8.63151741027832
          ],
          [
           "Austevoll",
           60.162017822265625,
           5.205566883087158
          ],
          [
           "Bømlo",
           59.873268127441406,
           5.1090168952941895
          ],
          [
           "Fitjar",
           59.89383316040039,
           5.095966815948486
          ],
          [
           "Radøy",
           60.6878662109375,
           4.909732818603516
          ],
          [
           "Steigen",
           67.95877075195312,
           15.171667098999023
          ],
          [
           "Fitjar",
           59.88064956665039,
           5.102932929992676
          ],
          [
           "Hjelmeland",
           59.26988220214844,
           6.142867088317871
          ],
          [
           "Måsøy",
           70.82859802246094,
           24.45181655883789
          ],
          [
           "Bindal",
           65.19000244140625,
           12.419421195983887
          ],
          [
           "Skjervøy",
           69.961669921875,
           20.97694969177246
          ],
          [
           "Fjell",
           60.33253479003906,
           4.942782878875732
          ],
          [
           "Alstahaug",
           65.81574249267578,
           12.582308769226074
          ],
          [
           "Solund",
           61.129234313964844,
           4.900926113128662
          ],
          [
           "Alta",
           70.32066345214844,
           22.89715003967285
          ],
          [
           "Frøya",
           63.711734771728516,
           8.561182975769043
          ],
          [
           "Tysvær",
           59.405433654785156,
           5.7108330726623535
          ],
          [
           "Arendal",
           58.541831970214844,
           8.950682640075684
          ],
          [
           "Tranøy",
           69.14633178710938,
           17.64601707458496
          ],
          [
           "Flora",
           61.58403396606445,
           5.133633136749268
          ],
          [
           "Senja",
           69.41946411132812,
           17.287567138671875
          ],
          [
           "Vevelstad",
           65.70610046386719,
           12.622733116149902
          ],
          [
           "Aure",
           63.299617767333984,
           8.418299674987793
          ],
          [
           "Loppa",
           70.14955139160156,
           22.416749954223633
          ],
          [
           "Tysvær",
           59.40546798706055,
           5.863100051879883
          ],
          [
           "Gildeskål",
           67.02670288085938,
           14.126282691955566
          ],
          [
           "Lødingen",
           68.525634765625,
           16.123666763305664
          ],
          [
           "Kvam",
           60.2595329284668,
           6.141300201416016
          ],
          [
           "Kvam",
           60.179351806640625,
           5.959917068481445
          ],
          [
           "Finnøy",
           59.17093276977539,
           5.876633167266846
          ],
          [
           "Averøy",
           63.06010055541992,
           7.511167049407959
          ],
          [
           "Masfjorden",
           60.74237823486328,
           5.391121864318848
          ],
          [
           "Nordreisa",
           69.8897476196289,
           20.76901626586914
          ],
          [
           "Gildeskål",
           66.9888687133789,
           14.16016674041748
          ],
          [
           "Solund",
           61.129234313964844,
           4.900926113128662
          ],
          [
           "Ørland",
           63.8620491027832,
           9.861967086791992
          ],
          [
           "Leirfjord",
           66.02183532714844,
           12.807550430297852
          ],
          [
           "Øygarden",
           60.518096923828125,
           4.907372951507568
          ],
          [
           "Vestre Slidre",
           61.12329864501953,
           8.881632804870605
          ],
          [
           "Gamvik",
           70.79817962646484,
           28.07943344116211
          ],
          [
           "Båtsfjord",
           70.6272964477539,
           29.697717666625977
          ],
          [
           "Flatanger",
           64.50596618652344,
           10.84453296661377
          ],
          [
           "Flakstad",
           68.05000305175781,
           13.353667259216309
          ],
          [
           "Kvam",
           60.191017150878906,
           5.967617034912109
          ],
          [
           "Tysfjord",
           68.0566177368164,
           16.20418357849121
          ],
          [
           "Karlsøy",
           70.10643005371094,
           19.583866119384766
          ],
          [
           "Ibestad",
           68.75851440429688,
           17.1525821685791
          ],
          [
           "Sørfold",
           67.63176727294922,
           15.262249946594238
          ],
          [
           "Bokn",
           59.23128128051758,
           5.551466941833496
          ],
          [
           "Austrheim",
           60.77486801147461,
           4.853532791137695
          ],
          [
           "Bremanger",
           61.818851470947266,
           4.940267086029053
          ],
          [
           "Nærøy",
           64.94988250732422,
           11.5733003616333
          ],
          [
           "Måsøy",
           70.82859802246094,
           24.45181655883789
          ],
          [
           "Kristiansund",
           63.0767822265625,
           7.904600143432617
          ],
          [
           "Brønnøy",
           65.33622741699219,
           12.518989562988281
          ],
          [
           "Rennesøy",
           59.06428146362305,
           5.722617149353027
          ],
          [
           "Hemne",
           63.333534240722656,
           9.180583000183105
          ],
          [
           "Gloppen",
           61.840450286865234,
           6.100550174713135
          ],
          [
           "Bjørnafjorden",
           60.226497650146484,
           5.8735671043396
          ],
          [
           "Osterøy",
           60.43658447265625,
           5.564833164215088
          ],
          [
           "Åfjord",
           64.15689849853516,
           10.008916854858398
          ],
          [
           "Brønnøy",
           65.52424621582031,
           12.5465669631958
          ],
          [
           "Jondal",
           60.198768615722656,
           6.0968499183654785
          ],
          [
           "Lurøy",
           66.40106964111328,
           12.417383193969727
          ],
          [
           "Ibestad",
           68.9254150390625,
           17.148950576782227
          ],
          [
           "Steigen",
           67.7364730834961,
           14.782402038574219
          ],
          [
           "Radøy",
           60.66986846923828,
           4.917200088500977
          ],
          [
           "Kvinnherad",
           59.785850524902344,
           5.956299781799316
          ],
          [
           "Bømlo",
           59.763301849365234,
           5.235766887664795
          ],
          [
           "Sveio",
           59.50471878051758,
           5.240182876586914
          ],
          [
           "Finnøy",
           59.11676788330078,
           5.854499816894531
          ],
          [
           "Tysnes",
           60.08403396606445,
           5.638667106628418
          ],
          [
           "Bømlo",
           59.73188400268555,
           5.313666820526123
          ],
          [
           "Bømlo",
           59.83253479003906,
           5.079249858856201
          ],
          [
           "Hemne",
           63.35548400878906,
           9.133583068847656
          ],
          [
           "Gildeskål",
           67.14679718017578,
           14.016400337219238
          ],
          [
           "Vestvågøy",
           68.08553314208984,
           13.633417129516602
          ],
          [
           "Kinn",
           61.57709884643555,
           5.237382888793945
          ],
          [
           "Askøy",
           60.4326171875,
           5.061916828155518
          ],
          [
           "Aukra",
           62.783416748046875,
           6.926050186157227
          ],
          [
           "Kvinnherad",
           60.12601852416992,
           5.931333065032959
          ],
          [
           "Haugesund",
           59.44219970703125,
           5.100949764251709
          ],
          [
           "Vindafjord",
           59.47988510131836,
           6.12920618057251
          ],
          [
           "Bømlo",
           59.67171859741211,
           5.167316913604736
          ],
          [
           "Lillesand",
           58.14250183105469,
           8.26751708984375
          ],
          [
           "Tysvær",
           59.42776870727539,
           5.788416862487793
          ],
          [
           "Lurøy",
           66.36833190917969,
           12.585283279418945
          ],
          [
           "Hammerfest",
           70.53804779052734,
           23.55853271484375
          ],
          [
           "Kinn",
           61.68484878540039,
           4.915633201599121
          ],
          [
           "Evenes",
           68.52278137207031,
           17.003883361816406
          ],
          [
           "Dønna",
           66.16404724121094,
           12.40076732635498
          ],
          [
           "Bømlo",
           59.61326599121094,
           5.245266914367676
          ],
          [
           "Vanylven",
           62.17466735839844,
           5.692583084106445
          ],
          [
           "Hitra",
           63.617183685302734,
           8.994132995605469
          ],
          [
           "Gulen",
           60.89378356933594,
           4.837100028991699
          ],
          [
           "Tysfjord",
           68.03398132324219,
           16.253482818603516
          ],
          [
           "Ullensvang",
           60.146217346191406,
           6.121132850646973
          ],
          [
           "Øygarden",
           60.505699157714844,
           4.930200099945068
          ],
          [
           "Surnadal",
           63.00053405761719,
           8.32563304901123
          ],
          [
           "Nærøysund",
           64.96802520751953,
           11.665157318115234
          ],
          [
           "Selje",
           61.97100067138672,
           5.286016941070557
          ],
          [
           "Dønna",
           66.11672973632812,
           12.36728286743164
          ],
          [
           "Flora",
           61.63174819946289,
           4.863616943359375
          ],
          [
           "Tysvær",
           59.39231872558594,
           5.883333206176758
          ],
          [
           "Bindal",
           65.04654693603516,
           12.127866744995117
          ],
          [
           "Namsos",
           64.59609985351562,
           11.273417472839355
          ],
          [
           "Stord",
           59.75111770629883,
           5.488249778747559
          ],
          [
           "Sirdal",
           58.65299987792969,
           6.701333045959473
          ],
          [
           "Frøya",
           63.87358474731445,
           8.471400260925293
          ],
          [
           "Nærøy",
           65.01318359375,
           11.616832733154297
          ],
          [
           "Brønnøy",
           65.49330139160156,
           12.169217109680176
          ],
          [
           "Heim",
           63.33155059814453,
           9.123100280761719
          ],
          [
           "Nærøysund",
           64.96772003173828,
           12.126299858093262
          ],
          [
           "Gildeskål",
           67.08391571044922,
           13.856849670410156
          ],
          [
           "Bergen",
           60.38119888305664,
           5.33253288269043
          ],
          [
           "Rana",
           66.30638122558594,
           14.183771133422852
          ],
          [
           "Kinn",
           61.902217864990234,
           5.209232807159424
          ],
          [
           "Bømlo",
           59.787899017333984,
           5.1005330085754395
          ],
          [
           "Halsa",
           63.105018615722656,
           8.170516967773438
          ],
          [
           "Torsken",
           69.18692016601562,
           17.01373291015625
          ],
          [
           "Leirfjord",
           66.11821746826172,
           12.814350128173828
          ],
          [
           "Gulen",
           60.92863464355469,
           5.015867233276367
          ],
          [
           "Namsos",
           64.77713012695312,
           11.639766693115234
          ],
          [
           "Hyllestad",
           61.110084533691406,
           5.34048318862915
          ],
          [
           "Aure",
           63.21536636352539,
           8.24036693572998
          ],
          [
           "Lurøy",
           66.43863677978516,
           13.127400398254395
          ],
          [
           "Rennesøy",
           59.13158416748047,
           5.721650123596191
          ],
          [
           "Nærøysund",
           64.95704650878906,
           12.168732643127441
          ],
          [
           "Herøy I Nordland",
           65.93496704101562,
           12.13913345336914
          ],
          [
           "Torsken",
           69.18692016601562,
           17.01373291015625
          ],
          [
           "Halsa",
           63.105018615722656,
           8.170516967773438
          ],
          [
           "Kvinnherad",
           59.777549743652344,
           5.829800128936768
          ],
          [
           "Gratangen",
           68.73206329345703,
           17.22606658935547
          ],
          [
           "Fjell",
           60.40476608276367,
           4.939949989318848
          ],
          [
           "Smøla",
           63.33891677856445,
           8.27180004119873
          ],
          [
           "Nærøysund",
           64.85476684570312,
           11.248100280761719
          ],
          [
           "Tysvær",
           59.408748626708984,
           5.6130499839782715
          ],
          [
           "Flora",
           61.582698822021484,
           4.877233028411865
          ],
          [
           "Flatanger",
           64.50596618652344,
           10.84453296661377
          ],
          [
           "Hjelmeland",
           59.22013473510742,
           6.036832809448242
          ],
          [
           "Flakstad",
           68.00900268554688,
           13.170499801635742
          ],
          [
           "Stranda",
           62.30065155029297,
           7.085433006286621
          ],
          [
           "Frøya",
           63.7591667175293,
           8.449132919311523
          ],
          [
           "Rødøy",
           66.53784942626953,
           13.32509994506836
          ],
          [
           "Mandal",
           58.016666412353516,
           7.3572001457214355
          ],
          [
           "Torsken",
           69.19186401367188,
           17.038389205932617
          ],
          [
           "Lødingen",
           68.42756652832031,
           15.85118293762207
          ],
          [
           "Lenvik",
           69.5070571899414,
           17.9058780670166
          ],
          [
           "Kvinnherad",
           59.742610931396484,
           5.722145080566406
          ],
          [
           "Vindafjord",
           59.5181999206543,
           5.819867134094238
          ],
          [
           "Frøya",
           63.67643356323242,
           8.757283210754395
          ],
          [
           "Karlsøy",
           69.93671417236328,
           19.832183837890625
          ],
          [
           "Stavanger",
           59.22661590576172,
           5.853783130645752
          ],
          [
           "Rendalen",
           61.698081970214844,
           11.226550102233887
          ],
          [
           "Rødøy",
           66.53784942626953,
           13.32509994506836
          ],
          [
           "Austevoll",
           60.140499114990234,
           5.095383167266846
          ],
          [
           "Mosvik Før 2012",
           63.89106750488281,
           10.908766746520996
          ],
          [
           "Ørsta",
           62.359981536865234,
           6.263516902923584
          ],
          [
           "Vestre Slidre",
           61.12329864501953,
           8.881632804870605
          ],
          [
           "Torsken",
           69.18692016601562,
           17.01373291015625
          ],
          [
           "Tromsø",
           69.6953353881836,
           18.17026710510254
          ],
          [
           "Brønnøy",
           65.4542007446289,
           12.681300163269043
          ],
          [
           "Gjemnes",
           62.968048095703125,
           7.775199890136719
          ],
          [
           "Frøya",
           63.94256591796875,
           9.131916999816895
          ],
          [
           "Skjervøy",
           69.98715209960938,
           20.66461753845215
          ],
          [
           "Vega",
           65.83141326904297,
           12.07053279876709
          ],
          [
           "Gjemnes",
           62.93254852294922,
           8.098099708557129
          ],
          [
           "Bø I Nordland",
           68.78074645996094,
           14.593732833862305
          ],
          [
           "Namsos",
           64.59609985351562,
           11.273417472839355
          ],
          [
           "Roan",
           64.14814758300781,
           10.159116744995117
          ],
          [
           "Tysnes",
           59.95363235473633,
           5.451399803161621
          ],
          [
           "Kvæfjord",
           68.63746643066406,
           15.854299545288086
          ],
          [
           "Harstad",
           68.93653106689453,
           16.72464942932129
          ],
          [
           "Vikna",
           64.91636657714844,
           11.25113296508789
          ],
          [
           "Vefsn",
           65.80763244628906,
           12.624199867248535
          ],
          [
           "Øygarden",
           60.434181213378906,
           4.94064998626709
          ],
          [
           "Frøya",
           63.761451721191406,
           8.444950103759766
          ],
          [
           "Guovdageaidnu-Kautokeino",
           68.94413757324219,
           22.91871452331543
          ],
          [
           "Øksnes",
           68.96347045898438,
           15.256449699401855
          ],
          [
           "Gratangen",
           68.71309661865234,
           17.42959976196289
          ],
          [
           "Tysvær",
           59.40536880493164,
           5.862617015838623
          ],
          [
           "Solund",
           61.04518127441406,
           4.725032806396484
          ],
          [
           "Kvinnherad",
           60.01762008666992,
           5.833160877227783
          ],
          [
           "Bergen",
           60.40006637573242,
           5.303417205810547
          ],
          [
           "Kvam",
           60.14103317260742,
           5.906932830810547
          ],
          [
           "Heim",
           63.367149353027344,
           9.385333061218262
          ],
          [
           "Åfjord",
           63.953033447265625,
           10.004266738891602
          ],
          [
           "Gratangen",
           68.73133087158203,
           17.234350204467773
          ],
          [
           "Skjervøy",
           69.91571807861328,
           20.601417541503906
          ],
          [
           "Lebesby",
           70.81694793701172,
           27.563716888427734
          ],
          [
           "Nærøy",
           64.96465301513672,
           11.592733383178711
          ],
          [
           "Meløy",
           66.81525421142578,
           13.679729461669922
          ],
          [
           "Alstahaug",
           66.01750183105469,
           12.759833335876465
          ],
          [
           "Roan",
           64.14814758300781,
           10.159116744995117
          ],
          [
           "Frøya",
           63.677818298339844,
           8.66623306274414
          ],
          [
           "Karmøy",
           59.39663314819336,
           5.171082973480225
          ],
          [
           "Sandnes",
           58.922550201416016,
           6.012567043304443
          ],
          [
           "Fjaler",
           61.30595016479492,
           5.072183132171631
          ],
          [
           "Gildeskål",
           67.05783081054688,
           14.025333404541016
          ],
          [
           "Hitra",
           63.65148162841797,
           8.747200012207031
          ],
          [
           "Stranda",
           62.28765106201172,
           6.990333080291748
          ],
          [
           "Askvoll",
           61.46781539916992,
           5.220300197601318
          ],
          [
           "Risør",
           58.73643112182617,
           9.176650047302246
          ],
          [
           "Flora",
           61.60224914550781,
           5.035150051116943
          ],
          [
           "Kvam",
           60.3929328918457,
           6.3072829246521
          ],
          [
           "Tysvær",
           59.3446159362793,
           5.894599914550781
          ],
          [
           "Vik",
           61.0081901550293,
           6.3493242263793945
          ],
          [
           "Kvæfjord",
           68.7800521850586,
           16.09779930114746
          ],
          [
           "Engerdal",
           62.07606887817383,
           12.168867111206055
          ],
          [
           "Aure",
           63.41081237792969,
           8.728090286254883
          ],
          [
           "Averøy",
           63.09303283691406,
           7.675882816314697
          ],
          [
           "Sørreisa",
           69.15143585205078,
           17.956199645996094
          ],
          [
           "Vanylven",
           62.16654968261719,
           5.595399856567383
          ],
          [
           "Måsøy",
           70.96236419677734,
           24.672483444213867
          ],
          [
           "Porsanger",
           70.36676788330078,
           25.466510772705078
          ],
          [
           "Meløy",
           66.80905151367188,
           13.115467071533203
          ],
          [
           "Bømlo",
           59.80098342895508,
           5.248000144958496
          ],
          [
           "Steigen",
           67.71758270263672,
           15.40703296661377
          ],
          [
           "Namdalseid",
           64.47498321533203,
           11.188699722290039
          ],
          [
           "Øksnes",
           68.88853454589844,
           15.06016731262207
          ],
          [
           "Roan",
           64.27811431884766,
           10.334342956542969
          ],
          [
           "Hjelmeland",
           59.22098159790039,
           6.119150161743164
          ],
          [
           "Vindafjord",
           59.56218338012695,
           5.555500030517578
          ],
          [
           "Suldal",
           59.4516487121582,
           5.991917133331299
          ],
          [
           "Værøy",
           67.66157531738281,
           12.665440559387207
          ],
          [
           "Torsken",
           69.25753021240234,
           17.088699340820312
          ],
          [
           "Øksnes",
           68.90959930419922,
           15.076199531555176
          ],
          [
           "Gjemnes",
           62.93254852294922,
           8.098099708557129
          ],
          [
           "Kvinnherad",
           59.83303451538086,
           5.709016799926758
          ],
          [
           "Volda",
           62.00491714477539,
           5.850367069244385
          ],
          [
           "Skodje",
           62.452701568603516,
           6.602482795715332
          ],
          [
           "Sandnes",
           58.900978088378906,
           5.962048053741455
          ],
          [
           "Tysvær",
           59.278751373291016,
           5.508749961853027
          ],
          [
           "Brønnøy",
           65.4468002319336,
           12.5603666305542
          ],
          [
           "Halsa",
           63.07673263549805,
           8.19314956665039
          ],
          [
           "Kvinnherad",
           59.76076889038086,
           5.686767101287842
          ],
          [
           "Hadsel",
           68.33944702148438,
           15.035799980163574
          ],
          [
           "Brønnøy",
           65.47606658935547,
           12.650349617004395
          ],
          [
           "Tromsø",
           69.78865051269531,
           19.1610164642334
          ],
          [
           "Fjaler",
           61.3068733215332,
           5.229158878326416
          ],
          [
           "Lødingen",
           68.37492370605469,
           15.317882537841797
          ],
          [
           "Masfjorden",
           60.88533401489258,
           5.461599826812744
          ],
          [
           "Averøy",
           63.060298919677734,
           7.594283103942871
          ],
          [
           "Flora",
           61.663368225097656,
           4.9206671714782715
          ],
          [
           "Karlsøy",
           69.83116912841797,
           19.520383834838867
          ],
          [
           "Suldal",
           59.313350677490234,
           6.267199993133545
          ],
          [
           "Sande I Møre Og Romsdal",
           62.2528076171875,
           5.485269069671631
          ],
          [
           "Folldal",
           62.09548568725586,
           9.974873542785645
          ],
          [
           "Harstad",
           68.86371612548828,
           16.403032302856445
          ],
          [
           "Austevoll",
           60.100833892822266,
           5.117066860198975
          ],
          [
           "Tysnes",
           59.87576675415039,
           5.638816833496094
          ],
          [
           "Nordkapp",
           70.88541412353516,
           25.4951171875
          ],
          [
           "Lyngdal",
           58.044349670410156,
           7.038217067718506
          ],
          [
           "Salangen",
           68.89478302001953,
           17.69026756286621
          ],
          [
           "Gulen",
           60.965301513671875,
           4.90749979019165
          ],
          [
           "Nærøysund",
           65.02532958984375,
           11.676016807556152
          ],
          [
           "Finnøy",
           59.122318267822266,
           5.9344329833984375
          ],
          [
           "Hadsel",
           68.51184844970703,
           14.95163345336914
          ],
          [
           "Bodø",
           67.57281494140625,
           15.128683090209961
          ],
          [
           "Gildeskål",
           67.1183853149414,
           13.898417472839355
          ],
          [
           "Sørfold",
           67.60568237304688,
           15.36848258972168
          ],
          [
           "Stord",
           59.75111770629883,
           5.488249778747559
          ],
          [
           "Flatanger",
           64.5000228881836,
           10.91193962097168
          ],
          [
           "Kvinnherad",
           60.10585021972656,
           6.205417156219482
          ],
          [
           "Bømlo",
           59.61338424682617,
           5.2459330558776855
          ],
          [
           "Åfjord",
           63.89238357543945,
           9.983149528503418
          ],
          [
           "Fjaler",
           61.3068733215332,
           5.229158878326416
          ],
          [
           "Hammerfest",
           70.70880126953125,
           23.799745559692383
          ],
          [
           "Vestvågøy",
           68.30750274658203,
           13.838712692260742
          ],
          [
           "Bjørnafjorden",
           60.17048263549805,
           5.699283123016357
          ],
          [
           "Osen",
           64.28579711914062,
           10.309049606323242
          ],
          [
           "Bømlo",
           59.62358474731445,
           5.160067081451416
          ],
          [
           "Steigen",
           67.95092010498047,
           15.638667106628418
          ],
          [
           "Kristiansund",
           63.04071807861328,
           7.849699974060059
          ],
          [
           "Karmøy",
           59.41081619262695,
           5.217249870300293
          ],
          [
           "Hemnes",
           66.19539642333984,
           13.54151725769043
          ],
          [
           "Heim",
           63.14458465576172,
           8.459567070007324
          ],
          [
           "Nærøysund",
           65.06466674804688,
           12.042817115783691
          ],
          [
           "Tysfjord",
           68.05713653564453,
           16.2044677734375
          ],
          [
           "Solund",
           61.165618896484375,
           5.052416801452637
          ],
          [
           "Lenvik",
           69.54630279541016,
           17.769699096679688
          ],
          [
           "Namdalseid",
           64.45269775390625,
           11.34179973602295
          ],
          [
           "Brønnøy",
           65.47138214111328,
           12.135000228881836
          ],
          [
           "Agdenes",
           63.5894660949707,
           9.409382820129395
          ],
          [
           "Flora",
           61.64228057861328,
           5.367815017700195
          ],
          [
           "Nordreisa",
           69.791748046875,
           20.600536346435547
          ],
          [
           "Bindal",
           65.04586791992188,
           12.156932830810547
          ],
          [
           "Sandnes",
           58.903709411621094,
           5.963544845581055
          ],
          [
           "Alstahaug",
           65.81574249267578,
           12.582308769226074
          ],
          [
           "Herøy I Nordland",
           65.97871398925781,
           12.16355037689209
          ],
          [
           "Bjugn",
           63.8620491027832,
           9.861967086791992
          ],
          [
           "Rauma",
           62.60734176635742,
           7.29330587387085
          ],
          [
           "Gulen",
           60.99773406982422,
           5.030399799346924
          ],
          [
           "Lebesby",
           70.73723602294922,
           27.317182540893555
          ],
          [
           "Nordreisa",
           69.93111419677734,
           20.955432891845703
          ],
          [
           "Sande I Møre Og Romsdal",
           62.28755187988281,
           5.474833011627197
          ],
          [
           "Brønnøy",
           65.43516540527344,
           12.463932991027832
          ],
          [
           "Namdalseid",
           64.49493408203125,
           11.16433334350586
          ],
          [
           "Austevoll",
           60.11808395385742,
           5.158767223358154
          ],
          [
           "Åfjord",
           63.93095016479492,
           10.196967124938965
          ],
          [
           "Tysvær",
           59.247684478759766,
           5.572432994842529
          ],
          [
           "Masfjorden",
           60.88520050048828,
           5.462082862854004
          ],
          [
           "Sunndal",
           62.878482818603516,
           8.488733291625977
          ],
          [
           "Fjaler",
           61.351688385009766,
           5.322965145111084
          ],
          [
           "Bømlo",
           59.742984771728516,
           5.363633155822754
          ],
          [
           "Sveio",
           59.51831817626953,
           5.244382858276367
          ],
          [
           "Aukra",
           62.845115661621094,
           6.776750087738037
          ],
          [
           "Namsos",
           64.68403625488281,
           11.235516548156738
          ],
          [
           "Flekkefjord",
           58.24148178100586,
           6.595799922943115
          ],
          [
           "Hadsel",
           68.51184844970703,
           14.95163345336914
          ],
          [
           "Sogndal",
           61.184349060058594,
           6.854883193969727
          ],
          [
           "Kristiansund",
           63.030181884765625,
           7.716149806976318
          ],
          [
           "Hyllestad",
           61.201717376708984,
           5.170932769775391
          ],
          [
           "Volda",
           62.1956672668457,
           5.904417037963867
          ],
          [
           "Finnøy",
           59.229034423828125,
           5.824999809265137
          ],
          [
           "Radøy",
           60.68693161010742,
           4.907933235168457
          ],
          [
           "Hamarøy",
           68.03358459472656,
           16.25385093688965
          ],
          [
           "Smøla",
           63.462100982666016,
           7.8562331199646
          ],
          [
           "Trondheim",
           63.43721389770508,
           10.397501945495605
          ],
          [
           "Averøy",
           63.05730056762695,
           7.514200210571289
          ],
          [
           "Ørsta",
           62.30167007446289,
           6.081737995147705
          ],
          [
           "Bjugn",
           63.890621185302734,
           9.953617095947266
          ],
          [
           "Selje",
           61.97100067138672,
           5.286016941070557
          ],
          [
           "Herøy I Nordland",
           65.93428039550781,
           12.071566581726074
          ],
          [
           "Namdalseid",
           64.47498321533203,
           11.188699722290039
          ],
          [
           "Flatanger",
           64.5000228881836,
           10.91193962097168
          ],
          [
           "Steigen",
           67.91831970214844,
           15.353282928466797
          ],
          [
           "Kvæfjord",
           68.6507339477539,
           15.92508316040039
          ],
          [
           "Hyllestad",
           61.076751708984375,
           5.386016845703125
          ],
          [
           "Tromsø",
           69.86808013916016,
           18.931032180786133
          ],
          [
           "Vevelstad",
           65.665283203125,
           12.650016784667969
          ],
          [
           "Smøla",
           63.476348876953125,
           7.951517105102539
          ],
          [
           "Kvam",
           60.234981536865234,
           6.006217002868652
          ],
          [
           "Namsos",
           64.57665252685547,
           11.586000442504883
          ],
          [
           "Bømlo",
           59.67169952392578,
           5.167449951171875
          ],
          [
           "Austevoll",
           60.09138488769531,
           5.222617149353027
          ],
          [
           "Vindafjord",
           59.44160079956055,
           5.747350215911865
          ],
          [
           "Halsa",
           63.14273452758789,
           8.224932670593262
          ],
          [
           "Namsos",
           64.54808044433594,
           11.524717330932617
          ],
          [
           "Lurøy",
           66.39396667480469,
           12.799817085266113
          ],
          [
           "Midsund",
           62.64440155029297,
           6.55679988861084
          ],
          [
           "Tysnes",
           60.07014846801758,
           5.443817138671875
          ],
          [
           "Kvitsøy",
           59.046749114990234,
           5.439549922943115
          ],
          [
           "Midsund",
           62.641998291015625,
           6.5406670570373535
          ],
          [
           "Bodø",
           67.31302642822266,
           14.735136985778809
          ],
          [
           "Nærøy",
           64.85476684570312,
           11.248250007629395
          ],
          [
           "Kvinnherad",
           59.99281692504883,
           5.85841703414917
          ],
          [
           "Risør",
           58.73643112182617,
           9.176650047302246
          ],
          [
           "Øygarden",
           60.268516540527344,
           5.107900142669678
          ],
          [
           "Kvinnherad",
           59.699981689453125,
           5.723617076873779
          ],
          [
           "Bindal",
           65.09483337402344,
           12.024649620056152
          ],
          [
           "Skjervøy",
           70.04613494873047,
           21.282033920288086
          ],
          [
           "Strand",
           59.037349700927734,
           5.928750038146973
          ],
          [
           "Bjugn",
           63.835166931152344,
           9.764567375183105
          ],
          [
           "Tysvær",
           59.39231872558594,
           5.883333206176758
          ],
          [
           "Lurøy",
           66.35845184326172,
           12.485016822814941
          ],
          [
           "Øksnes",
           68.86595153808594,
           14.996549606323242
          ],
          [
           "Frogn",
           59.61578369140625,
           10.652649879455566
          ],
          [
           "Snillfjord",
           63.506065368652344,
           9.190750122070312
          ],
          [
           "Masfjorden",
           60.808998107910156,
           5.2956671714782715
          ],
          [
           "Sørfold",
           67.51316833496094,
           15.570432662963867
          ],
          [
           "Vevelstad",
           65.68866729736328,
           12.668466567993164
          ],
          [
           "Bergen",
           60.35476303100586,
           5.189174175262451
          ],
          [
           "Tromsø",
           69.70953369140625,
           18.363983154296875
          ],
          [
           "Sandnes",
           58.93024826049805,
           5.997250080108643
          ],
          [
           "Steigen",
           67.65619659423828,
           15.11856746673584
          ],
          [
           "Kinn",
           61.63428497314453,
           5.238426208496094
          ],
          [
           "Guovdageaidnu - Kautokeino",
           68.94413757324219,
           22.91871452331543
          ],
          [
           "Bømlo",
           59.77658462524414,
           5.321816921234131
          ],
          [
           "Bømlo",
           59.67118453979492,
           5.312150001525879
          ],
          [
           "Masfjorden",
           60.808998107910156,
           5.2956671714782715
          ],
          [
           "Lurøy",
           66.36540222167969,
           12.37734317779541
          ],
          [
           "Nærøy",
           64.74996948242188,
           11.394183158874512
          ],
          [
           "Sortland",
           68.60053253173828,
           15.344866752624512
          ],
          [
           "Gulen",
           60.968299865722656,
           5.1658501625061035
          ],
          [
           "Bergen",
           60.3866081237793,
           5.330729961395264
          ],
          [
           "Flekkefjord",
           58.207401275634766,
           6.635049819946289
          ],
          [
           "Bømlo",
           59.63650131225586,
           5.247132778167725
          ],
          [
           "Osen",
           64.3646011352539,
           10.439132690429688
          ],
          [
           "Frøya",
           63.767181396484375,
           8.908516883850098
          ],
          [
           "Aure",
           63.13776779174805,
           8.030150413513184
          ],
          [
           "Øksnes",
           68.90959930419922,
           15.076199531555176
          ],
          [
           "Kvinesdal",
           58.27705764770508,
           6.887324810028076
          ],
          [
           "Kvæfjord",
           68.76692962646484,
           16.064849853515625
          ],
          [
           "Tvedestrand",
           58.603816986083984,
           9.013833045959473
          ],
          [
           "Averøy",
           63.099517822265625,
           7.670332908630371
          ],
          [
           "Herøy I Nordland",
           65.93446350097656,
           12.135017395019531
          ],
          [
           "Austevoll",
           60.09433364868164,
           5.242166996002197
          ],
          [
           "Masfjorden",
           60.86750030517578,
           5.552149772644043
          ],
          [
           "Strand",
           58.97471618652344,
           5.935949802398682
          ],
          [
           "Dønna",
           66.24348449707031,
           12.294182777404785
          ],
          [
           "Hadsel",
           68.56843566894531,
           15.330050468444824
          ],
          [
           "Kvænangen",
           70.06378173828125,
           21.90345001220703
          ],
          [
           "Aure",
           63.29966735839844,
           8.418333053588867
          ],
          [
           "Askvoll",
           61.475284576416016,
           5.278367042541504
          ],
          [
           "Senja",
           69.33533477783203,
           17.09353256225586
          ],
          [
           "Finnøy",
           59.17091751098633,
           5.87641716003418
          ],
          [
           "Fitjar",
           59.839317321777344,
           5.30495023727417
          ],
          [
           "Fosnes",
           64.64395141601562,
           11.388327598571777
          ],
          [
           "Lurøy",
           66.35896301269531,
           12.476412773132324
          ],
          [
           "Høyanger",
           61.15266799926758,
           6.116700172424316
          ],
          [
           "Øksnes",
           68.94046783447266,
           15.30483341217041
          ],
          [
           "Skjervøy",
           69.94661712646484,
           20.75276756286621
          ],
          [
           "Sortland",
           68.60588073730469,
           15.379133224487305
          ],
          [
           "Bindal",
           65.06204223632812,
           12.099989891052246
          ],
          [
           "Fusa",
           60.24711608886719,
           5.634749889373779
          ],
          [
           "Bømlo",
           59.81256866455078,
           5.110083103179932
          ],
          [
           "Hitra",
           63.608028411865234,
           8.494632720947266
          ],
          [
           "Unjargga-Nesseby",
           70.06449890136719,
           29.034700393676758
          ],
          [
           "Rauma",
           62.60734176635742,
           7.29330587387085
          ],
          [
           "Smøla",
           63.462100982666016,
           7.8562331199646
          ],
          [
           "Nærøy",
           64.7926025390625,
           11.473250389099121
          ],
          [
           "Nærøy",
           64.75084686279297,
           11.189032554626465
          ],
          [
           "Nærøy",
           64.77393341064453,
           11.44087028503418
          ],
          [
           "Roan",
           64.10333251953125,
           10.250450134277344
          ],
          [
           "Stord",
           59.86499786376953,
           5.5528340339660645
          ],
          [
           "Ullensvang",
           60.21649932861328,
           6.1578497886657715
          ],
          [
           "Torsken",
           69.1958999633789,
           16.915950775146484
          ],
          [
           "Høyanger",
           61.09998321533203,
           5.72996711730957
          ],
          [
           "Kvitsøy",
           59.046749114990234,
           5.439549922943115
          ],
          [
           "Gulen",
           60.987831115722656,
           5.483182907104492
          ],
          [
           "Volda",
           62.13511657714844,
           6.021432876586914
          ],
          [
           "Averøy",
           63.03598403930664,
           7.678116798400879
          ],
          [
           "Frøya",
           63.66360092163086,
           8.432267189025879
          ],
          [
           "Sørfold",
           67.57548522949219,
           15.878083229064941
          ],
          [
           "Senja",
           69.25753021240234,
           17.088699340820312
          ],
          [
           "Hadsel",
           68.44508361816406,
           14.819382667541504
          ],
          [
           "Nærøy",
           65.04754638671875,
           11.8785400390625
          ],
          [
           "Senja",
           69.36811828613281,
           17.028099060058594
          ],
          [
           "Sund",
           60.22006607055664,
           5.214550018310547
          ],
          [
           "Rauma",
           62.61561584472656,
           7.276500225067139
          ],
          [
           "Selje",
           62.14121627807617,
           5.326749801635742
          ],
          [
           "Åfjord",
           63.95418167114258,
           10.085183143615723
          ],
          [
           "Askvoll",
           61.3205680847168,
           4.941116809844971
          ],
          [
           "Heim",
           63.367149353027344,
           9.385333061218262
          ],
          [
           "Hamarøy",
           68.19824981689453,
           16.134117126464844
          ],
          [
           "Namsos",
           64.61541748046875,
           11.62844467163086
          ],
          [
           "Bømlo",
           59.67118453979492,
           5.312150001525879
          ],
          [
           "Åfjord",
           63.93748474121094,
           10.141532897949219
          ],
          [
           "Nærøy",
           64.97163391113281,
           11.723933219909668
          ],
          [
           "Lurøy",
           66.39396667480469,
           12.799817085266113
          ],
          [
           "Tingvoll",
           62.979217529296875,
           8.242420196533203
          ],
          [
           "Aure",
           63.411720275878906,
           8.732087135314941
          ],
          [
           "Aure",
           63.21297073364258,
           8.542588233947754
          ],
          [
           "Sande I Møre Og Romsdal",
           62.2528076171875,
           5.485269069671631
          ],
          [
           "Gildeskål",
           67.03693389892578,
           13.967766761779785
          ],
          [
           "Brønnøy",
           65.54651641845703,
           12.12796688079834
          ],
          [
           "Gildeskål",
           67.06884765625,
           14.076132774353027
          ],
          [
           "Vardø",
           70.36083221435547,
           31.037588119506836
          ],
          [
           "Sortland",
           68.6969985961914,
           14.963382720947266
          ],
          [
           "Osterøy",
           60.43658447265625,
           5.564833164215088
          ],
          [
           "Meløy",
           66.8079833984375,
           13.919882774353027
          ],
          [
           "Ibestad",
           68.85321807861328,
           17.065750122070312
          ],
          [
           "Hitra",
           63.47156524658203,
           8.678916931152344
          ],
          [
           "Folldal",
           62.0935173034668,
           9.97366714477539
          ],
          [
           "Molde",
           62.673946380615234,
           7.307048797607422
          ],
          [
           "Tysvær",
           59.329097747802734,
           5.612596035003662
          ],
          [
           "Stad",
           62.141334533691406,
           5.339700222015381
          ],
          [
           "Bømlo",
           59.743499755859375,
           5.204782962799072
          ],
          [
           "Flekkefjord",
           58.238765716552734,
           6.656650066375732
          ],
          [
           "Fusa",
           60.24711608886719,
           5.634749889373779
          ],
          [
           "Selje",
           62.05561828613281,
           5.4832000732421875
          ],
          [
           "Forsand",
           58.93507766723633,
           6.037278175354004
          ],
          [
           "Finnøy",
           59.09728240966797,
           5.835916996002197
          ],
          [
           "Bardu",
           68.8029556274414,
           18.526195526123047
          ],
          [
           "Fosnes",
           64.73399353027344,
           11.522297859191895
          ],
          [
           "Averøy",
           63.06010055541992,
           7.511167049407959
          ],
          [
           "Solund",
           61.101951599121094,
           4.711382865905762
          ],
          [
           "Austevoll",
           60.004615783691406,
           5.227632999420166
          ],
          [
           "Engerdal",
           61.84993362426758,
           12.000967025756836
          ],
          [
           "Fosnes",
           64.66378021240234,
           11.359416961669922
          ],
          [
           "Namsos",
           64.57173919677734,
           11.166874885559082
          ],
          [
           "Lindås",
           60.67298126220703,
           5.397417068481445
          ],
          [
           "Bodø",
           67.53316497802734,
           15.165582656860352
          ],
          [
           "Sørfold",
           67.63265228271484,
           15.263250350952148
          ],
          [
           "Snillfjord",
           63.47719192504883,
           9.13320541381836
          ],
          [
           "Gulen",
           60.996734619140625,
           4.8956499099731445
          ],
          [
           "Nordkapp",
           71.0093994140625,
           25.912368774414062
          ],
          [
           "Kvæfjord",
           68.7800521850586,
           16.09779930114746
          ],
          [
           "Austevoll",
           60.14951705932617,
           5.155582904815674
          ],
          [
           "Askøy",
           60.5308837890625,
           4.973249912261963
          ],
          [
           "Randaberg",
           59.02186965942383,
           5.618478775024414
          ],
          [
           "Heim",
           63.29534912109375,
           9.087754249572754
          ],
          [
           "Alver",
           60.66437530517578,
           5.235020160675049
          ],
          [
           "Høyanger",
           61.10559844970703,
           5.853600025177002
          ],
          [
           "Frøya",
           63.76186752319336,
           8.445182800292969
          ],
          [
           "Måsøy",
           70.95816802978516,
           24.611982345581055
          ],
          [
           "Dønna",
           66.11311340332031,
           12.487683296203613
          ],
          [
           "Gildeskål",
           67.10784912109375,
           14.269017219543457
          ],
          [
           "Leka",
           65.13483428955078,
           11.515982627868652
          ],
          [
           "Gratangen",
           68.72921752929688,
           17.30706787109375
          ],
          [
           "Evenes",
           68.47486877441406,
           17.303932189941406
          ],
          [
           "Ullensvang",
           60.22133255004883,
           6.140132904052734
          ],
          [
           "Øksnes",
           68.89766693115234,
           15.00629997253418
          ],
          [
           "Vestvågøy",
           68.05756378173828,
           13.541885375976562
          ],
          [
           "Sveio",
           59.6083984375,
           5.311916828155518
          ],
          [
           "Bodø",
           67.57281494140625,
           15.128683090209961
          ],
          [
           "Vega",
           65.68620300292969,
           12.139166831970215
          ],
          [
           "Vikna",
           64.76349639892578,
           10.807332992553711
          ],
          [
           "Vestvågøy",
           68.11054992675781,
           13.743049621582031
          ],
          [
           "Namsos",
           64.547607421875,
           11.44663143157959
          ],
          [
           "Rødøy",
           66.61817932128906,
           12.95518684387207
          ],
          [
           "Åfjord",
           63.92353439331055,
           10.111742973327637
          ],
          [
           "Fusa",
           60.20188522338867,
           5.873170852661133
          ],
          [
           "Ibestad",
           68.88618469238281,
           17.109216690063477
          ],
          [
           "Bodø",
           67.27811431884766,
           14.55685043334961
          ],
          [
           "Tysnes",
           60.07626724243164,
           5.466533184051514
          ],
          [
           "Fosnes",
           64.73399353027344,
           11.522297859191895
          ],
          [
           "Tromsø",
           69.75446319580078,
           19.03048324584961
          ],
          [
           "Hemne",
           63.35548400878906,
           9.133583068847656
          ],
          [
           "Steigen",
           67.65619659423828,
           15.11856746673584
          ],
          [
           "Høyanger",
           61.10844039916992,
           5.756114959716797
          ],
          [
           "Gjemnes",
           62.94240188598633,
           8.075599670410156
          ],
          [
           "Halsa",
           63.141231536865234,
           8.213749885559082
          ],
          [
           "Gloppen",
           61.78593444824219,
           5.977232933044434
          ],
          [
           "Agdenes",
           63.51477813720703,
           9.807916641235352
          ],
          [
           "Tysnes",
           59.94047927856445,
           5.518125057220459
          ],
          [
           "Fosnes",
           64.60482025146484,
           11.440032958984375
          ],
          [
           "Hjelmeland",
           59.215431213378906,
           6.097567081451416
          ],
          [
           "Vestre Slidre",
           61.12329864501953,
           8.881632804870605
          ],
          [
           "Vågan",
           68.31538391113281,
           15.140132904052734
          ],
          [
           "Radøy",
           60.752532958984375,
           4.884616851806641
          ],
          [
           "Narvik",
           68.41753387451172,
           16.791349411010742
          ],
          [
           "Vestnes",
           62.652034759521484,
           6.811049938201904
          ],
          [
           "Flekkefjord",
           58.22343444824219,
           6.636149883270264
          ],
          [
           "Hareid",
           62.33176803588867,
           6.073432922363281
          ],
          [
           "Meløy",
           66.8079833984375,
           13.919882774353027
          ],
          [
           "Måsøy",
           70.91780090332031,
           25.006250381469727
          ]
         ],
         "hovertemplate": "<b>%{hovertext}</b><br><br>lat=%{customdata[1]}<br>lon=%{customdata[2]}<br>municipality=%{customdata[0]}<extra></extra>",
         "hovertext": [
          "Innerbrokløysa",
          "Kjeøya V",
          "Bergsøy",
          "Sørlandsbukta",
          "Sagvik",
          "Æsøya",
          "Rotvik",
          "Båfjorden",
          "Rutlebekk",
          "Øyerhamn",
          "Finnvika Sør",
          "Kvalnesbukta",
          "Ferisfjorden",
          "Mefaldskjæret",
          "Dåfjorden",
          "Skarvestein",
          "Meøypollen",
          "Alsvåg",
          "Haapollen",
          "Selvågen",
          "Breidvik",
          "Gården Melleby",
          "Hogsneset N",
          "Gisløy S",
          "Salangslia",
          "Juvika",
          "Garvik",
          "Torgerhaugen",
          "Krabbholmen",
          "Røneset",
          "Ursbakken",
          "Voldnes",
          "Grimsholmen",
          "Hondskår",
          "Reiråklakken",
          "Bota Oksefjorden",
          "Bergvikodden",
          "Ljøsnes",
          "Digerneset",
          "Uføro",
          "Oksebåsen V",
          "Bryggelandsholmane",
          "Lubben",
          "Nordnes",
          "Torskavika",
          "Langskjæran",
          "Anevik",
          "Gjerdinga",
          "Sauøy Ø",
          "Elveneset",
          "Oksskardvika",
          "Oterholman Sø",
          "Sydnessund",
          "Store Kvalfjord",
          "Dirdal",
          "Skitneset",
          "Indre Kårvik (Land)",
          "Djupvika",
          "Breivika Sør",
          "Rogndalen",
          "Stakkvika",
          "Grasholman",
          "Djupvik I",
          "Krekvikbogen",
          "Or",
          "Reinvika",
          "Bøøy",
          "Bogelva",
          "Holandselv",
          "Sørvær Øst",
          "Eidesvik",
          "Nøklan",
          "Indre Lokkarfjord",
          "Hjortholman",
          "Langavika",
          "Bakka",
          "Øksengård",
          "Neset",
          "Låderskjera",
          "Nesevågen",
          "Stakkvika",
          "Hausvik",
          "Reinsnesøya",
          "Slettnesfjord",
          "Salatskjæra",
          "Klavelandet",
          "Olstind",
          "Kvernaneset",
          "Skjervika",
          "Flatskjæret",
          "Sortevika",
          "Forvik",
          "Fjellbukt",
          "Linesvika",
          "Eidemolla",
          "Tytlandsvik",
          "Trosnavåg",
          "Vassvika",
          "Tømmervika",
          "Kleven",
          "Hasvik",
          "Ystadneset",
          "Øyerhamn",
          "Grøttingsøy",
          "Langneset",
          "Skauholmen",
          "Gamskjæran",
          "Vullum",
          "Skittenelv",
          "Saltholmen",
          "Helsøya",
          "Torjulvågen",
          "Dåfjorden",
          "Stretarneset",
          "Melkøya",
          "Flåtegrunnen",
          "Kraknes",
          "Oppmyrbogen",
          "Æsøya",
          "Engeløysundet N",
          "Kvernavika",
          "Mjåneset",
          "Rataren II",
          "Klauvnes",
          "Jamnungen",
          "Trettøy",
          "Draugen Varoddbroa",
          "Kvarvaneset",
          "Svartfjell",
          "Smørhamn II",
          "Persholmen",
          "Heggbærvika",
          "Flatøymarka Ø",
          "Forsan",
          "Kvernen Gård",
          "Bryggelandsholmane",
          "Lofoss Mølle",
          "Aunvågen Visten",
          "Bjørnsvik",
          "Selvågen",
          "Segelråa",
          "Grøtnes N",
          "Bjørsvik",
          "Breidvika",
          "Flakstadvåg Havn",
          "Midtflua",
          "Storfjell",
          "Naveide",
          "Dyrholmen Vest",
          "Flatøyna",
          "Hesjeholmen",
          "Ystevika",
          "Andreggrunnen",
          "Leirvik",
          "Valdalen",
          "Djupevika",
          "Horgefjorden",
          "Olderfjord",
          "Suggevågen",
          "Slåttøya",
          "Bondøya",
          "Saglifossen",
          "Langøy",
          "Lindvika",
          "Kelvesteinen",
          "Steinviknes",
          "Sunde",
          "Skogseidvatnet III",
          "Håpollen Aga",
          "Langøyna Ø",
          "Værøya Ø",
          "Kalsøyflu",
          "Mork II",
          "Mekjarvik",
          "Breivika",
          "Hillesøy",
          "Husastranda",
          "Breidvika",
          "Ystevika",
          "Bjønnspjotneset II",
          "Kvangardsnes",
          "Smørdalsvika",
          "Hausan",
          "Eidesvik",
          "Bjørndal",
          "Huken Hoddøy",
          "Dyrholmen Øst",
          "Åkersholmen",
          "Eidesberget",
          "Lakshammervika",
          "Skåren",
          "Skogseidvatnet II",
          "Ytre Simanes",
          "Laksåvatnet Laksåvik",
          "Buarøy",
          "Håvikvågen S",
          "Eiane",
          "Flatholmen",
          "Raskjæret",
          "Høydalsvika",
          "Steinsøya",
          "Svartnes",
          "Kvingra",
          "Stokkvika",
          "Mjånes",
          "Midt Femris",
          "Buholmen",
          "Huken/Hoddøy",
          "Salvågvika",
          "Brennelvbukt",
          "Kjeholmen",
          "Langskjæret Ø",
          "Rånes/Mindebukta",
          "Syvdsnes-Stranda",
          "Lennavika",
          "Innhavet",
          "Fossbråten",
          "Djupevika",
          "Naustholmen",
          "Fossbråten",
          "Valbeinneset",
          "Linesvika",
          "Liervatnet",
          "Auskarnes Ø",
          "Futnes",
          "Ørnes",
          "Lamholmen",
          "Sørvik",
          "Rivarbukt",
          "Sørvik",
          "Oksøy",
          "Lille Torsøy II",
          "Råkneset",
          "Måsskjæra",
          "Litletveitholane",
          "Møkland",
          "Trellevika",
          "Holsneset",
          "Toppsund V",
          "Dirdal",
          "Store Brattholmen",
          "Marøysundet II",
          "Framnes",
          "Oterfjorden",
          "Kilavågen Sjø",
          "Bjørnøya",
          "Storevika",
          "Marvik",
          "Rekeviki",
          "Åkre",
          "Aga Ø",
          "Trøan/Bjørklibukta",
          "Nedre Kvarv",
          "Jibbersholmane",
          "Midtflua",
          "Langholmen",
          "Ørnes",
          "Hisdalen",
          "Ospeneset",
          "Rypøya",
          "Tveitnes",
          "Korsvika",
          "Lonet I Naustbukta",
          "Finnvika Sør",
          "Havstein Sør",
          "Videild",
          "Trollbukta",
          "Fugløya",
          "Vikane",
          "Urda",
          "Voravika",
          "Hovdeurane",
          "Gjerdeviksflua",
          "Høyvika",
          "Selvikstakk",
          "Ånderbakk Alge",
          "Ivarsholmen V",
          "Svellungen",
          "Storvikbukta",
          "Lønningdal II",
          "Fjellbukt",
          "Vadholmen",
          "Løpet Settef.Anl.",
          "Trellevika",
          "Enkeltstein",
          "Nedre Hande",
          "Vullum",
          "Saltkjelen I",
          "Enkeneset",
          "Hammer",
          "Gjengane",
          "Stangholmen",
          "Nebbo",
          "Stokkvika",
          "Skiftesneset N",
          "Elvkroken",
          "Farmannsøya",
          "Børøya Slaktemerd",
          "Fjordprakken",
          "Sommerfjøssletta",
          "Leirholmen",
          "Kleivgard",
          "Geilbukta",
          "Barbogen",
          "Krossholmen",
          "Bogen",
          "Lindvik",
          "Bakfjorden",
          "Kilvågen Y",
          "Sandøya III",
          "Jektvika I",
          "Kvinge S",
          "Svåsandneset",
          "Buholmen",
          "Elgen",
          "Skårilldammen",
          "Kjerringa N",
          "Ljonesvågen",
          "Holmfjord Sjøbruk",
          "Tverrvågen",
          "Kjøpsneset Industriområde",
          "Danielsvika",
          "Trovåg",
          "Halsbukta",
          "Iglamyr, Kårstø",
          "Kunes",
          "Judaberg",
          "Nordvika",
          "Hestøy",
          "Hellaren",
          "Sunde",
          "Utbjoa Land",
          "Indre Oppedal",
          "Nordre Hestholmen S",
          "Istervika",
          "Klubben",
          "Tjajneluokta",
          "Flesa",
          "Smørdalsvika",
          "Skonseng",
          "Buksevika",
          "Sørlandsvika 2",
          "Ausa Vest I",
          "Bjørga",
          "Kyravika",
          "Hestabyneset",
          "Hausvik II",
          "Ørjavik",
          "Smedholmen",
          "Botnaneset",
          "Kjeneset",
          "Stormneset",
          "Ringja",
          "Raskjæret",
          "Persholmen",
          "Midtneset",
          "Storekrok I",
          "Krekvikbogen",
          "Trolløya Sv",
          "Kelvesteinen",
          "Staksvåg",
          "Voll II",
          "Hognaland",
          "Rotholmen",
          "Floteneset",
          "Flakstadvåg",
          "Skalnestangen V",
          "Fjordprakken",
          "Pinsti",
          "Kleppeneset",
          "Skjervøy",
          "Solbergstrand",
          "Lyngvær Ø II",
          "Mausund",
          "Raskjæret",
          "Hatlan",
          "Skorpo Nv",
          "Stretarneset",
          "Gjølanger",
          "Hellersgrova",
          "Lønskog",
          "Helligvær Ø",
          "Karvika",
          "Langeråa",
          "Bårøy",
          "Fluarholmen Ø",
          "Skog",
          "Bjølvefossen",
          "Loddetå",
          "Salangsverket",
          "Daugstad",
          "Svarteberget",
          "Hellevik S",
          "Vassdalsvik",
          "Årdal",
          "Ørnstolen",
          "Kjeringå",
          "Klokkstein",
          "Torsneset",
          "Kjerringskjæret Nø",
          "Arnafjord",
          "Store Kvalfjord",
          "Gammelveggen",
          "Tjeldbergodden Biopark",
          "Hammarvika",
          "Oslandsurda",
          "Øya",
          "Storeneset",
          "Langavika",
          "Kvamen",
          "Djupvik",
          "Flakstadvåg",
          "Finnvika Sør",
          "Angstauren",
          "Fiskefjorden",
          "Halsholmene",
          "Engeløysundet N",
          "Krutåga",
          "Veso Vikan",
          "Hestholmen N",
          "Mjønes",
          "Dyrnes",
          "Alsvåg",
          "Kågen",
          "Øklandsvåg II",
          "Flesen",
          "Hulu",
          "Hendneset",
          "Elvkroken",
          "Giljeholmen",
          "Storskogøya",
          "Bondøya",
          "Svinvær",
          "Varaneset",
          "Kongsmoelva",
          "Buktodden Nø",
          "Torsvåg",
          "Bjørlykkestranda",
          "Litle Flatøy",
          "Skarbukta",
          "Lyngøy",
          "Tranøya N",
          "Lensvik",
          "Skålvik",
          "Imslandsjøen",
          "Valøyan",
          "Laksvika",
          "Holmfjord Sjøbruk",
          "Karihove",
          "Lerangsvågen",
          "Pøyla",
          "Russholmen",
          "Reite",
          "Pollen",
          "Knappen",
          "Lekvika",
          "Sagelva",
          "Varden",
          "Skaret",
          "Storurdvika",
          "Olstind",
          "Skjersnes I",
          "Drageide",
          "Lybergsvika",
          "Storevatnet",
          "Movikodden",
          "Digerneset",
          "Hamnefjord",
          "Linesvika",
          "Hjortøya",
          "Barlindbotn",
          "Møriholmen",
          "Skogsøya",
          "Kyrholmen S",
          "Vikøya S",
          "Torget",
          "Otterholmen",
          "Hammer",
          "Sørvik",
          "Fosså",
          "Fartøyvika",
          "Klubben",
          "Skognes",
          "Skorpeosen",
          "Flatøymarka Ø",
          "Storevatn",
          "Store Kvalfjord",
          "Nordskag",
          "Stølsvik",
          "Finskot",
          "Kvitfloget",
          "Ålvora",
          "Ytre Lavollsfjord",
          "Aunholmen Ø",
          "Gjerde",
          "Storvik",
          "Ringja",
          "Leirvik",
          "Fiskefjorden",
          "Ljonesvågen",
          "Teigland I",
          "Judaberg",
          "Hendneset",
          "Kvinge S",
          "Russelva",
          "Sundsfjord II",
          "Storevatn",
          "Leikvangbukta Land",
          "Kvalvågen",
          "Ivarsholmen V",
          "Lomen Slidrefjorden",
          "Breivika",
          "Neptunbruket",
          "Kjærsundet V",
          "Nusfjord",
          "Dysvik",
          "Hulløyhamn Ø",
          "Mjønes",
          "Breivoll",
          "Movik",
          "Nautøya",
          "Allersholmen",
          "Bakjestranda",
          "Båfjorden",
          "Fartøyvika",
          "Bogen",
          "Fugllielva",
          "Rossholmen N",
          "Stokkvika",
          "Haneholmen",
          "Eidestø",
          "Blom",
          "Buholmen",
          "Slåttvika",
          "Kysnes",
          "Store Bukkøy N",
          "Ånderkleiva",
          "Nygård",
          "Toska N",
          "Krabbaneset",
          "Gjæravågen",
          "Trettøy",
          "Prestholmane",
          "Lindarholmen",
          "Tungeneset",
          "Trettholmosen",
          "Bringberget",
          "Hestholmen N",
          "Mortsund",
          "Seljeset",
          "Ramsøy S",
          "Aukrasanden",
          "Hisdalen",
          "Røvær",
          "Vågafossen",
          "Grutlefjorden",
          "Risholmen",
          "Smørdalsvika",
          "Moflaget",
          "Kleppenes N",
          "Grunnsøya",
          "Slaggen",
          "Havstein Sør",
          "Langevågen",
          "Syvdsnesstranda",
          "Kåholmen",
          "Nesevågen",
          "Salaluokta",
          "Apalvikneset",
          "Rongøyna III",
          "Urda",
          "Kvitneset",
          "Vetrhusstranda",
          "Gjesøya",
          "Langeråa",
          "Halsavika",
          "Jupvik",
          "Årnes",
          "Eldøyane",
          "Rutlebekk",
          "Flatøyan",
          "Lille Kvitholmen",
          "Lismåsøy",
          "Trøan Bjørklibukta",
          "Stevika",
          "Nordfugløy",
          "Industrilab.,Hib",
          "Mo Industripark",
          "Verpeide",
          "Krossholmen",
          "Hønsvikgulen",
          "Flakstadvåg",
          "Juvika",
          "Risholmen",
          "Ternskjæret II",
          "Tveit",
          "Nordheim",
          "Olvika",
          "Rennaren",
          "Kålåstranda",
          "Ytre Vassholmen",
          "Flakstadvåg",
          "Hønsvikgulen",
          "Høylandssund",
          "Skjærvika",
          "Haverøy",
          "Nørholmen",
          "Marøya",
          "Neset",
          "Hestøya",
          "Kjærsundet V",
          "Breidvik",
          "Mølnarodden",
          "Overåneset V",
          "Ørnøya II",
          "Linesvika",
          "Grønnvika",
          "Flakstadvåg Havn",
          "Storøy Nv",
          "Huken",
          "Sydnessund",
          "Torsneset",
          "Måøydraga",
          "Lubben",
          "Helgøy",
          "Åkrestrømmen",
          "Linesvika",
          "Steinneset",
          "Rundhaugen",
          "Barstadvik",
          "Lomen Slidrefjorden",
          "Flakstadvåg",
          "Angstauren",
          "Ramnbergvikan",
          "Onsøyholmen",
          "Håbranden",
          "Vorterøyskagen",
          "Skogsholmen",
          "Gagnat",
          "Vindhammeren",
          "Årnes",
          "Kråkøy Slakteri",
          "Hestabyneset",
          "Forøy",
          "Mollvika",
          "Flerengstrand",
          "Skonseng",
          "Oksen",
          "Ørnøya",
          "Adjetjohka",
          "Gisløy Nv",
          "Brattberg",
          "Ringja",
          "Langøy",
          "Hyttevågen",
          "Nordnes",
          "Sagvik",
          "Skorilla",
          "Bromsen",
          "Skjervika",
          "Follesøy",
          "Bondejorda",
          "Båfjordstranda",
          "Isbergan",
          "Blåbærvika",
          "Kråkøy Slakteri",
          "Espnestaren",
          "Kvaløy Øst",
          "Ådnøy",
          "Furevika",
          "Langholmen",
          "Kalvøya",
          "Opshaugvik",
          "Kviteskjeret",
          "Trettodden",
          "Hesteneset",
          "Vardanes",
          "Smedholmen",
          "Arnafjord",
          "Hilderkleiva",
          "Valdalen",
          "Leddalsvatn",
          "Hogsnes",
          "Bjørga",
          "Bjørlykkestranda",
          "Eiterfjordbotn",
          "Holmfjord Sjøbruk",
          "Rotholmen",
          "Innvær",
          "Vinkfjorden Alge",
          "Breidvika",
          "Oppmyrbogen",
          "Drogsholmen",
          "Hundsnes",
          "Buholmen",
          "Bjelkavik",
          "Sørlandsbukta",
          "Lavika",
          "Lassetangen",
          "Gagnat",
          "Sunde",
          "Steinsvik",
          "Gudmundset",
          "Ims IV",
          "Iglamyr, Kårstø",
          "Istervika",
          "Skåren",
          "Maradalen",
          "Finnkjerka S",
          "Skavika",
          "Skulgambukt",
          "Gjølanger",
          "Hallvardøy",
          "Knappen,Solheim",
          "Aukan",
          "Vaulen",
          "Solheim",
          "Kilaneset",
          "Korsneset",
          "Aasen Gård",
          "Toppsund Ø",
          "Horgefjorden",
          "Skorpo",
          "Misjona",
          "Hundingsland Ø",
          "Rotvika",
          "Vatnøy",
          "Dolma N",
          "Kobbavika",
          "Steilo",
          "Tårnvika",
          "Langskjæran",
          "Reinvika",
          "Eldøyane",
          "Lauvsnes",
          "Tveitnesvik",
          "Langevågen",
          "Kjørem",
          "Gjølanger",
          "Havbrukstasjonen",
          "Valbergene",
          "Håvikvågen S",
          "Indre Skjervøy",
          "Gissøysundet S",
          "Forsan",
          "Or",
          "Dalsvåg Nv",
          "Storsteinvika",
          "Fætten",
          "Svaberget",
          "Hulløyhamn Ø",
          "Fureneset",
          "Baltsfjord",
          "Svartåsen",
          "Lamholmen",
          "Nord Leksa",
          "Norddal",
          "Kjempebakken",
          "Aarsand",
          "Ims II",
          "Flatøymarka Ø",
          "Brennholmen",
          "Leikvangbukta-Land",
          "Reistad",
          "Mjånes",
          "Mårøyfjord",
          "Hamneidet",
          "Klovholmane",
          "Kobbskjæret",
          "Saltbuodden",
          "Haugsnesvåg",
          "Møriholmen",
          "Brattholmskjæret",
          "Knappen Solheim",
          "Rykkjem",
          "Stivika",
          "Nappeholmane",
          "Brattholmen S",
          "Rindarøy",
          "Brakstadsundet",
          "Skipningsdalen",
          "Steilo",
          "Hermansverk",
          "Endresetbukta",
          "Storlia",
          "Sandvika",
          "Notaholmen Øsø",
          "Otterholmen",
          "Salaluokta",
          "Hjortholman 2",
          "Brattørkaia",
          "Hendneset",
          "Storelva",
          "Oldøya N",
          "Vetrhusstranda",
          "Seiskjæret",
          "Breidvika",
          "Lauvsnes",
          "Dyping",
          "Lysålandet",
          "Bekksneset",
          "Indre Kårvik (Land)",
          "Stakkvika",
          "Gråøya",
          "Bakka",
          "Blikengfjorden",
          "Grutlefjorden",
          "Storebø",
          "Raunes I",
          "Korsneset",
          "Landfallvika",
          "Kalvøya",
          "Dryna",
          "Toneset",
          "Kåregrunnane Ø",
          "Terningen",
          "Hopen",
          "Marøya",
          "Ulveneset",
          "Trettodden",
          "Skaganeset",
          "Mælen",
          "Sandvika",
          "Haukøya Ø",
          "Solbakk",
          "Svartholbakken",
          "Halsavika",
          "Vardskjær Ø",
          "Kaldhammaren Ø",
          "Solbergstrand",
          "Storskogøya",
          "Duesund",
          "Kalvik",
          "Storsteinsvika",
          "Alvøen",
          "Klokkardalen",
          "Aspøy Ø",
          "Hjartøy Ø",
          "Haukå",
          "Adjetjohka",
          "Holevik",
          "Breivik S",
          "Duesund",
          "Naustholmen",
          "Klungset",
          "Djupvik",
          "Djupevika I",
          "Høgskolen I Bergen",
          "Buksevika",
          "Andal",
          "Raudøya",
          "Seiballskjæret",
          "Hagahammaren",
          "Lassetangen",
          "Øye",
          "Haug",
          "Sønningen",
          "Hogsneset Nord",
          "Ytre Vassholmen",
          "Storebøvågen Ø",
          "Smørdalen",
          "Kalhag",
          "Ramnøya N",
          "Langneset",
          "Hjelnes",
          "Gjerde",
          "Storevik",
          "Værnes",
          "Judaberg II",
          "Storevikholmen",
          "Kjelneset",
          "Vardskjær V",
          "Måren",
          "Gisløy S",
          "Kågen",
          "Litleøya S",
          "Varvassvika",
          "Altaneset",
          "Hillesøy",
          "Lille Torsøy II",
          "Latvika",
          "Reistad",
          "Hjortholman 2",
          "Hattholmen",
          "Geitryggen",
          "Hindholmen",
          "Tysvika",
          "Huglaneset",
          "Gangdal",
          "Årberg",
          "Sørevik",
          "Kåregrunnane Ø",
          "Instefjord",
          "Rønstad",
          "Leite",
          "Ilsøya",
          "Sørfjorden Stamfiskanlegg",
          "Lavika",
          "Grøttøy",
          "Årseth",
          "Barbogen",
          "Buarøy",
          "Kormeset",
          "Beitveit",
          "Eidskjæra Nø",
          "Klubbenes",
          "Skorilla",
          "Stormneset",
          "Røyklibotn",
          "Breivik S",
          "Tjuvholmen-Strandh.",
          "Eiterfjorden",
          "Kalvøya",
          "Torjulvågen",
          "Kjørsvikbugen",
          "Storvik",
          "Korsneset",
          "Midt Femris",
          "Varholmen",
          "Stigvika",
          "Svartnes",
          "Daljorda",
          "Blom",
          "Glomfjord I",
          "Jekteberget",
          "Laksåvatnet Laksåvik",
          "Aasen Gård",
          "Seterneset",
          "Fora (Land)",
          "Beitveit",
          "Vordnesholmen",
          "Abelsnes",
          "Altaneset",
          "Stokkeneset",
          "Lerangsvågen Land",
          "Langholmen",
          "Kallbekken Går",
          "Kvernvikvatnet",
          "Hendneset",
          "Olderøy",
          "Hjartholmosen",
          "Gårdsbruket Skog",
          "Lakshammervika",
          "Skorstad",
          "Øvreås",
          "Vindvika",
          "Movik",
          "Småskjæra",
          "Kuøyna",
          "Seibukta",
          "Hilderkleiva",
          "Stegavåg",
          "Storoksen",
          "Mekjarvik",
          "Vestseøra",
          "Nesfossen",
          "Søreide",
          "Ørnøya",
          "Høyholmen",
          "Bollhaugen",
          "Kjerkvika",
          "Steinflesa",
          "Skardbergvika",
          "Tjukkeneset",
          "Straumneset",
          "Jurneset",
          "Sandholman",
          "Hillersvik",
          "Tårnvika",
          "Igerøy Ø",
          "Kyrøyene",
          "Gamskjæran",
          "Veso Vikan",
          "Stangholmen",
          "Gjøvika",
          "Skogseidvatnet",
          "Bjørnstein",
          "Mørkvedbukta",
          "Midtflua",
          "Kvernvikvatnet",
          "Kraknes II",
          "Bringberget",
          "Hjartøy Ø",
          "Midtneset",
          "Naustneset",
          "Korsneset 2",
          "Kleppeneset",
          "Lensvik",
          "Flatråker",
          "Bonstranda",
          "Vassvik",
          "Lomen Slidrefjorden",
          "Pollan",
          "Jibbersholmane",
          "Pundsvik",
          "Dragneset",
          "Salvågvika",
          "Lågåsen",
          "Glomfjord I",
          "Elvevika Ny"
         ],
         "lat": [
          68.63044738769531,
          68.08343505859375,
          67.89718627929688,
          67.66157531738281,
          60.14103317260742,
          68.10486602783203,
          68.86687469482422,
          64.94988250732422,
          58.65299987792969,
          60.159515380859375,
          69.50056457519531,
          67.23898315429688,
          61.03691482543945,
          65.85144805908203,
          59.80928421020508,
          69.99361419677734,
          68.1258316040039,
          68.90270233154297,
          59.84476089477539,
          66.03285217285156,
          59.22013473510742,
          59.696632385253906,
          63.09993362426758,
          68.94143676757812,
          68.86039733886719,
          61.104766845703125,
          61.32008361816406,
          64.89313507080078,
          63.94438171386719,
          62.45123291015625,
          64.77224731445312,
          62.20970153808594,
          59.6573486328125,
          60.107418060302734,
          63.449951171875,
          58.578250885009766,
          68.57475280761719,
          60.554141998291016,
          64.78656768798828,
          59.87834930419922,
          62.517398834228516,
          59.42878341674805,
          69.93671417236328,
          60.40006637573242,
          59.40826416015625,
          67.1183853149414,
          68.00592041015625,
          64.94640350341797,
          60.59233474731445,
          61.20600128173828,
          64.60980224609375,
          66.08927154541016,
          59.742610931396484,
          70.32066345214844,
          58.8387336730957,
          67.1849365234375,
          69.86808013916016,
          64.62273406982422,
          66.15809631347656,
          69.78656768798828,
          65.665283203125,
          66.3487319946289,
          62.05933380126953,
          62.928531646728516,
          63.04071807861328,
          67.60568237304688,
          60.727882385253906,
          68.65650177001953,
          68.6991195678711,
          67.4020004272461,
          59.598846435546875,
          69.90727996826172,
          70.21558380126953,
          63.457733154296875,
          59.2320671081543,
          60.234981536865234,
          67.13742065429688,
          59.408748626708984,
          59.19496536254883,
          60.89378356933594,
          65.665283203125,
          58.051368713378906,
          68.77283477783203,
          70.62551879882812,
          63.904850006103516,
          61.60395050048828,
          67.95034790039062,
          59.68531799316406,
          68.73133087158203,
          64.93387603759766,
          69.018798828125,
          65.72323608398438,
          69.90454864501953,
          66.53775024414062,
          70.6717300415039,
          59.2686653137207,
          59.21616744995117,
          69.10623168945312,
          60.136165618896484,
          63.06938171386719,
          70.48149871826172,
          59.97793197631836,
          60.159515380859375,
          63.87946701049805,
          68.56863403320312,
          67.13766479492188,
          68.11054992675781,
          63.04964828491211,
          69.77559661865234,
          69.63764953613281,
          63.54533386230469,
          62.979217529296875,
          59.80928421020508,
          68.67398071289062,
          66.08231353759766,
          61.576148986816406,
          69.75338745117188,
          68.88853454589844,
          68.10486602783203,
          68.26828002929688,
          60.217586517333984,
          60.17599868774414,
          63.78238296508789,
          69.89971923828125,
          63.80076599121094,
          59.50471878051758,
          58.16168212890625,
          59.87801742553711,
          67.93948364257812,
          61.78144836425781,
          59.027618408203125,
          63.93603515625,
          65.81574249267578,
          67.95092010498047,
          61.0756721496582,
          59.42901611328125,
          61.13381576538086,
          65.71131134033203,
          67.53303527832031,
          66.03285217285156,
          63.14974594116211,
          70.58053588867188,
          60.63263702392578,
          64.29718017578125,
          69.19186401367188,
          60.07663345336914,
          68.32526397705078,
          60.139068603515625,
          59.92851638793945,
          60.95026779174805,
          68.40231323242188,
          68.69226837158203,
          59.23888397216797,
          67.02670288085938,
          62.07606887817383,
          58.21965026855469,
          60.09941864013672,
          70.38597869873047,
          59.44091796875,
          63.995033264160156,
          64.81714630126953,
          65.06438446044922,
          61.04518127441406,
          58.725833892822266,
          60.40290069580078,
          70.15170288085938,
          59.833133697509766,
          60.227699279785156,
          59.847782135009766,
          59.298301696777344,
          63.41583251953125,
          60.03818130493164,
          62.95220184326172,
          59.02186965942383,
          66.58036041259766,
          59.81256866455078,
          69.5385513305664,
          64.29536437988281,
          68.69226837158203,
          61.093448638916016,
          62.14531707763672,
          59.42776870727539,
          63.45838165283203,
          59.598846435546875,
          62.27488327026367,
          64.45946502685547,
          59.93320083618164,
          60.10041427612305,
          61.10511779785156,
          64.66378021240234,
          63.07673263549805,
          60.2265625,
          69.9480972290039,
          63.47181701660156,
          60.22006607055664,
          60.16983413696289,
          58.95783996582031,
          59.429298400878906,
          63.793617248535156,
          68.93614959716797,
          58.631282806396484,
          70.36083221435547,
          65.20317077636719,
          63.333534240722656,
          60.99773406982422,
          67.03316497802734,
          60.02091598510742,
          64.45946502685547,
          58.22308349609375,
          70.01513671875,
          60.419315338134766,
          65.42511749267578,
          63.92580032348633,
          62.17563247680664,
          64.58270263671875,
          67.96810913085938,
          60.97628402709961,
          60.03581619262695,
          66.36730194091797,
          60.97645568847656,
          68.5725326538086,
          66.53784942626953,
          59.588844299316406,
          70.14144897460938,
          69.95137023925781,
          66.4195327758789,
          65.47138214111328,
          59.88064956665039,
          70.08586883544922,
          59.88064956665039,
          67.97492980957031,
          63.608028411865234,
          65.44093322753906,
          63.7453498840332,
          60.47978210449219,
          68.79173278808594,
          61.370384216308594,
          62.439918518066406,
          68.9117660522461,
          58.83861541748047,
          70.60191345214844,
          61.49726867675781,
          68.24809265136719,
          69.90965270996094,
          59.31800079345703,
          67.41639709472656,
          67.1855697631836,
          59.41041564941406,
          60.72309875488281,
          60.11243438720703,
          59.84510040283203,
          63.33155059814453,
          67.45848846435547,
          60.75148391723633,
          60.07626724243164,
          58.2093505859375,
          66.42008209228516,
          60.12611770629883,
          60.74523162841797,
          70.50503540039062,
          60.41365051269531,
          66.5784683227539,
          64.98375701904297,
          69.50056457519531,
          66.16404724121094,
          62.18406677246094,
          67.35479736328125,
          63.47578430175781,
          59.970001220703125,
          63.00053405761719,
          62.23341751098633,
          61.19314956665039,
          60.22308349609375,
          61.37411880493164,
          58.86176681518555,
          67.76294708251953,
          60.518096923828125,
          63.6552848815918,
          64.9289321899414,
          60.26190185546875,
          69.90454864501953,
          60.69499969482422,
          61.163719177246094,
          61.36899948120117,
          68.72760009765625,
          61.06456756591797,
          63.0489501953125,
          60.31814956665039,
          70.56365203857422,
          67.95877075195312,
          60.07151794433594,
          66.6180191040039,
          59.870750427246094,
          63.333534240722656,
          60.07109832763672,
          67.59193420410156,
          64.18451690673828,
          68.57418060302734,
          63.25651550292969,
          70.06591796875,
          66.35649871826172,
          60.96574020385742,
          62.71648406982422,
          69.3684310913086,
          59.787899017333984,
          63.077667236328125,
          59.47406768798828,
          70.87483215332031,
          65.70821380615234,
          64.2433853149414,
          67.53131866455078,
          60.74237823486328,
          60.32421875,
          64.15689849853516,
          68.876953125,
          60.124507904052734,
          58.08741760253906,
          60.260074615478516,
          70.36676788330078,
          63.728633880615234,
          68.09066772460938,
          70.6710205078125,
          59.539405822753906,
          63.07768630981445,
          59.278751373291016,
          59.211368560791016,
          59.17093276977539,
          60.30716323852539,
          66.0006332397461,
          68.65782928466797,
          59.83303451538086,
          59.67843246459961,
          61.0678825378418,
          59.073768615722656,
          65.4468002319336,
          70.6634521484375,
          67.8924331665039,
          63.64500045776367,
          59.42776870727539,
          65.80648040771484,
          58.207401275634766,
          67.65460205078125,
          68.16802978515625,
          69.15143585205078,
          61.31643295288086,
          59.95363235473633,
          58.04971694946289,
          62.968467712402344,
          59.3446159362793,
          61.61293411254883,
          60.884033203125,
          68.19824981689453,
          59.40546798706055,
          63.793399810791016,
          59.027618408203125,
          61.10844039916992,
          61.53488540649414,
          62.928531646728516,
          68.7040023803711,
          60.40290069580078,
          60.688316345214844,
          59.08641815185547,
          59.182884216308594,
          66.80679321289062,
          61.193599700927734,
          69.18711853027344,
          63.84762954711914,
          63.25651550292969,
          62.56350326538086,
          61.78593444824219,
          70.03453063964844,
          59.61578369140625,
          63.806209564208984,
          63.86961364746094,
          63.793399810791016,
          63.8247184753418,
          59.950382232666016,
          68.67398071289062,
          61.3068733215332,
          61.00969314575195,
          68.86299896240234,
          67.4215316772461,
          69.84944152832031,
          61.631900787353516,
          60.9452018737793,
          59.048099517822266,
          69.47433471679688,
          60.43012619018555,
          59.6917839050293,
          68.90876770019531,
          62.55780029296875,
          61.19990539550781,
          59.31733322143555,
          66.8078842163086,
          59.14666748046875,
          66.58399963378906,
          59.19205093383789,
          69.81611633300781,
          59.5181999206543,
          66.00704956054688,
          61.0081901550293,
          70.32111358642578,
          68.48615264892578,
          63.415565490722656,
          67.13213348388672,
          61.079498291015625,
          67.03495025634766,
          60.87630081176758,
          59.2320671081543,
          61.37283706665039,
          66.73304748535156,
          69.18692016601562,
          69.50056457519531,
          69.6953353881836,
          68.525634765625,
          58.6151008605957,
          68.26828002929688,
          65.69340515136719,
          64.547607421875,
          67.14678192138672,
          70.10643005371094,
          59.7176513671875,
          68.90270233154297,
          69.94661712646484,
          59.79916763305664,
          69.2466812133789,
          63.51093292236328,
          63.05730056762695,
          67.59193420410156,
          60.339881896972656,
          63.506065368652344,
          64.81714630126953,
          66.76948547363281,
          60.39276885986328,
          64.88411712646484,
          66.30838012695312,
          70.24053192138672,
          62.16654968261719,
          60.0865364074707,
          62.59785079956055,
          64.81864929199219,
          63.871849060058594,
          63.51477813720703,
          60.34006118774414,
          59.4786262512207,
          63.81734848022461,
          65.22750091552734,
          70.36676788330078,
          63.587867736816406,
          58.9359016418457,
          60.96886444091797,
          63.190467834472656,
          68.82191467285156,
          70.34088134765625,
          60.57356643676758,
          65.18414306640625,
          60.50959777832031,
          63.63571548461914,
          70.09026336669922,
          65.73370361328125,
          67.95034790039062,
          61.21023178100586,
          60.20909881591797,
          62.64158248901367,
          61.57034683227539,
          66.52848052978516,
          64.78656768798828,
          70.5753402709961,
          66.53784942626953,
          64.98480224609375,
          61.58774948120117,
          63.93095016479492,
          63.853816986083984,
          60.162017822265625,
          59.873268127441406,
          59.89383316040039,
          60.6878662109375,
          67.95877075195312,
          59.88064956665039,
          59.26988220214844,
          70.82859802246094,
          65.19000244140625,
          69.961669921875,
          60.33253479003906,
          65.81574249267578,
          61.129234313964844,
          70.32066345214844,
          63.711734771728516,
          59.405433654785156,
          58.541831970214844,
          69.14633178710938,
          61.58403396606445,
          69.41946411132812,
          65.70610046386719,
          63.299617767333984,
          70.14955139160156,
          59.40546798706055,
          67.02670288085938,
          68.525634765625,
          60.2595329284668,
          60.179351806640625,
          59.17093276977539,
          63.06010055541992,
          60.74237823486328,
          69.8897476196289,
          66.9888687133789,
          61.129234313964844,
          63.8620491027832,
          66.02183532714844,
          60.518096923828125,
          61.12329864501953,
          70.79817962646484,
          70.6272964477539,
          64.50596618652344,
          68.05000305175781,
          60.191017150878906,
          68.0566177368164,
          70.10643005371094,
          68.75851440429688,
          67.63176727294922,
          59.23128128051758,
          60.77486801147461,
          61.818851470947266,
          64.94988250732422,
          70.82859802246094,
          63.0767822265625,
          65.33622741699219,
          59.06428146362305,
          63.333534240722656,
          61.840450286865234,
          60.226497650146484,
          60.43658447265625,
          64.15689849853516,
          65.52424621582031,
          60.198768615722656,
          66.40106964111328,
          68.9254150390625,
          67.7364730834961,
          60.66986846923828,
          59.785850524902344,
          59.763301849365234,
          59.50471878051758,
          59.11676788330078,
          60.08403396606445,
          59.73188400268555,
          59.83253479003906,
          63.35548400878906,
          67.14679718017578,
          68.08553314208984,
          61.57709884643555,
          60.4326171875,
          62.783416748046875,
          60.12601852416992,
          59.44219970703125,
          59.47988510131836,
          59.67171859741211,
          58.14250183105469,
          59.42776870727539,
          66.36833190917969,
          70.53804779052734,
          61.68484878540039,
          68.52278137207031,
          66.16404724121094,
          59.61326599121094,
          62.17466735839844,
          63.617183685302734,
          60.89378356933594,
          68.03398132324219,
          60.146217346191406,
          60.505699157714844,
          63.00053405761719,
          64.96802520751953,
          61.97100067138672,
          66.11672973632812,
          61.63174819946289,
          59.39231872558594,
          65.04654693603516,
          64.59609985351562,
          59.75111770629883,
          58.65299987792969,
          63.87358474731445,
          65.01318359375,
          65.49330139160156,
          63.33155059814453,
          64.96772003173828,
          67.08391571044922,
          60.38119888305664,
          66.30638122558594,
          61.902217864990234,
          59.787899017333984,
          63.105018615722656,
          69.18692016601562,
          66.11821746826172,
          60.92863464355469,
          64.77713012695312,
          61.110084533691406,
          63.21536636352539,
          66.43863677978516,
          59.13158416748047,
          64.95704650878906,
          65.93496704101562,
          69.18692016601562,
          63.105018615722656,
          59.777549743652344,
          68.73206329345703,
          60.40476608276367,
          63.33891677856445,
          64.85476684570312,
          59.408748626708984,
          61.582698822021484,
          64.50596618652344,
          59.22013473510742,
          68.00900268554688,
          62.30065155029297,
          63.7591667175293,
          66.53784942626953,
          58.016666412353516,
          69.19186401367188,
          68.42756652832031,
          69.5070571899414,
          59.742610931396484,
          59.5181999206543,
          63.67643356323242,
          69.93671417236328,
          59.22661590576172,
          61.698081970214844,
          66.53784942626953,
          60.140499114990234,
          63.89106750488281,
          62.359981536865234,
          61.12329864501953,
          69.18692016601562,
          69.6953353881836,
          65.4542007446289,
          62.968048095703125,
          63.94256591796875,
          69.98715209960938,
          65.83141326904297,
          62.93254852294922,
          68.78074645996094,
          64.59609985351562,
          64.14814758300781,
          59.95363235473633,
          68.63746643066406,
          68.93653106689453,
          64.91636657714844,
          65.80763244628906,
          60.434181213378906,
          63.761451721191406,
          68.94413757324219,
          68.96347045898438,
          68.71309661865234,
          59.40536880493164,
          61.04518127441406,
          60.01762008666992,
          60.40006637573242,
          60.14103317260742,
          63.367149353027344,
          63.953033447265625,
          68.73133087158203,
          69.91571807861328,
          70.81694793701172,
          64.96465301513672,
          66.81525421142578,
          66.01750183105469,
          64.14814758300781,
          63.677818298339844,
          59.39663314819336,
          58.922550201416016,
          61.30595016479492,
          67.05783081054688,
          63.65148162841797,
          62.28765106201172,
          61.46781539916992,
          58.73643112182617,
          61.60224914550781,
          60.3929328918457,
          59.3446159362793,
          61.0081901550293,
          68.7800521850586,
          62.07606887817383,
          63.41081237792969,
          63.09303283691406,
          69.15143585205078,
          62.16654968261719,
          70.96236419677734,
          70.36676788330078,
          66.80905151367188,
          59.80098342895508,
          67.71758270263672,
          64.47498321533203,
          68.88853454589844,
          64.27811431884766,
          59.22098159790039,
          59.56218338012695,
          59.4516487121582,
          67.66157531738281,
          69.25753021240234,
          68.90959930419922,
          62.93254852294922,
          59.83303451538086,
          62.00491714477539,
          62.452701568603516,
          58.900978088378906,
          59.278751373291016,
          65.4468002319336,
          63.07673263549805,
          59.76076889038086,
          68.33944702148438,
          65.47606658935547,
          69.78865051269531,
          61.3068733215332,
          68.37492370605469,
          60.88533401489258,
          63.060298919677734,
          61.663368225097656,
          69.83116912841797,
          59.313350677490234,
          62.2528076171875,
          62.09548568725586,
          68.86371612548828,
          60.100833892822266,
          59.87576675415039,
          70.88541412353516,
          58.044349670410156,
          68.89478302001953,
          60.965301513671875,
          65.02532958984375,
          59.122318267822266,
          68.51184844970703,
          67.57281494140625,
          67.1183853149414,
          67.60568237304688,
          59.75111770629883,
          64.5000228881836,
          60.10585021972656,
          59.61338424682617,
          63.89238357543945,
          61.3068733215332,
          70.70880126953125,
          68.30750274658203,
          60.17048263549805,
          64.28579711914062,
          59.62358474731445,
          67.95092010498047,
          63.04071807861328,
          59.41081619262695,
          66.19539642333984,
          63.14458465576172,
          65.06466674804688,
          68.05713653564453,
          61.165618896484375,
          69.54630279541016,
          64.45269775390625,
          65.47138214111328,
          63.5894660949707,
          61.64228057861328,
          69.791748046875,
          65.04586791992188,
          58.903709411621094,
          65.81574249267578,
          65.97871398925781,
          63.8620491027832,
          62.60734176635742,
          60.99773406982422,
          70.73723602294922,
          69.93111419677734,
          62.28755187988281,
          65.43516540527344,
          64.49493408203125,
          60.11808395385742,
          63.93095016479492,
          59.247684478759766,
          60.88520050048828,
          62.878482818603516,
          61.351688385009766,
          59.742984771728516,
          59.51831817626953,
          62.845115661621094,
          64.68403625488281,
          58.24148178100586,
          68.51184844970703,
          61.184349060058594,
          63.030181884765625,
          61.201717376708984,
          62.1956672668457,
          59.229034423828125,
          60.68693161010742,
          68.03358459472656,
          63.462100982666016,
          63.43721389770508,
          63.05730056762695,
          62.30167007446289,
          63.890621185302734,
          61.97100067138672,
          65.93428039550781,
          64.47498321533203,
          64.5000228881836,
          67.91831970214844,
          68.6507339477539,
          61.076751708984375,
          69.86808013916016,
          65.665283203125,
          63.476348876953125,
          60.234981536865234,
          64.57665252685547,
          59.67169952392578,
          60.09138488769531,
          59.44160079956055,
          63.14273452758789,
          64.54808044433594,
          66.39396667480469,
          62.64440155029297,
          60.07014846801758,
          59.046749114990234,
          62.641998291015625,
          67.31302642822266,
          64.85476684570312,
          59.99281692504883,
          58.73643112182617,
          60.268516540527344,
          59.699981689453125,
          65.09483337402344,
          70.04613494873047,
          59.037349700927734,
          63.835166931152344,
          59.39231872558594,
          66.35845184326172,
          68.86595153808594,
          59.61578369140625,
          63.506065368652344,
          60.808998107910156,
          67.51316833496094,
          65.68866729736328,
          60.35476303100586,
          69.70953369140625,
          58.93024826049805,
          67.65619659423828,
          61.63428497314453,
          68.94413757324219,
          59.77658462524414,
          59.67118453979492,
          60.808998107910156,
          66.36540222167969,
          64.74996948242188,
          68.60053253173828,
          60.968299865722656,
          60.3866081237793,
          58.207401275634766,
          59.63650131225586,
          64.3646011352539,
          63.767181396484375,
          63.13776779174805,
          68.90959930419922,
          58.27705764770508,
          68.76692962646484,
          58.603816986083984,
          63.099517822265625,
          65.93446350097656,
          60.09433364868164,
          60.86750030517578,
          58.97471618652344,
          66.24348449707031,
          68.56843566894531,
          70.06378173828125,
          63.29966735839844,
          61.475284576416016,
          69.33533477783203,
          59.17091751098633,
          59.839317321777344,
          64.64395141601562,
          66.35896301269531,
          61.15266799926758,
          68.94046783447266,
          69.94661712646484,
          68.60588073730469,
          65.06204223632812,
          60.24711608886719,
          59.81256866455078,
          63.608028411865234,
          70.06449890136719,
          62.60734176635742,
          63.462100982666016,
          64.7926025390625,
          64.75084686279297,
          64.77393341064453,
          64.10333251953125,
          59.86499786376953,
          60.21649932861328,
          69.1958999633789,
          61.09998321533203,
          59.046749114990234,
          60.987831115722656,
          62.13511657714844,
          63.03598403930664,
          63.66360092163086,
          67.57548522949219,
          69.25753021240234,
          68.44508361816406,
          65.04754638671875,
          69.36811828613281,
          60.22006607055664,
          62.61561584472656,
          62.14121627807617,
          63.95418167114258,
          61.3205680847168,
          63.367149353027344,
          68.19824981689453,
          64.61541748046875,
          59.67118453979492,
          63.93748474121094,
          64.97163391113281,
          66.39396667480469,
          62.979217529296875,
          63.411720275878906,
          63.21297073364258,
          62.2528076171875,
          67.03693389892578,
          65.54651641845703,
          67.06884765625,
          70.36083221435547,
          68.6969985961914,
          60.43658447265625,
          66.8079833984375,
          68.85321807861328,
          63.47156524658203,
          62.0935173034668,
          62.673946380615234,
          59.329097747802734,
          62.141334533691406,
          59.743499755859375,
          58.238765716552734,
          60.24711608886719,
          62.05561828613281,
          58.93507766723633,
          59.09728240966797,
          68.8029556274414,
          64.73399353027344,
          63.06010055541992,
          61.101951599121094,
          60.004615783691406,
          61.84993362426758,
          64.66378021240234,
          64.57173919677734,
          60.67298126220703,
          67.53316497802734,
          67.63265228271484,
          63.47719192504883,
          60.996734619140625,
          71.0093994140625,
          68.7800521850586,
          60.14951705932617,
          60.5308837890625,
          59.02186965942383,
          63.29534912109375,
          60.66437530517578,
          61.10559844970703,
          63.76186752319336,
          70.95816802978516,
          66.11311340332031,
          67.10784912109375,
          65.13483428955078,
          68.72921752929688,
          68.47486877441406,
          60.22133255004883,
          68.89766693115234,
          68.05756378173828,
          59.6083984375,
          67.57281494140625,
          65.68620300292969,
          64.76349639892578,
          68.11054992675781,
          64.547607421875,
          66.61817932128906,
          63.92353439331055,
          60.20188522338867,
          68.88618469238281,
          67.27811431884766,
          60.07626724243164,
          64.73399353027344,
          69.75446319580078,
          63.35548400878906,
          67.65619659423828,
          61.10844039916992,
          62.94240188598633,
          63.141231536865234,
          61.78593444824219,
          63.51477813720703,
          59.94047927856445,
          64.60482025146484,
          59.215431213378906,
          61.12329864501953,
          68.31538391113281,
          60.752532958984375,
          68.41753387451172,
          62.652034759521484,
          58.22343444824219,
          62.33176803588867,
          66.8079833984375,
          70.91780090332031
         ],
         "legendgroup": "",
         "lon": [
          15.482067108154297,
          13.56725025177002,
          15.158883094787598,
          12.665440559387207,
          5.906932830810547,
          13.790066719055176,
          17.86150360107422,
          11.5733003616333,
          6.701333045959473,
          5.983567237854004,
          17.919017791748047,
          14.836899757385254,
          9.048128128051758,
          12.287199974060059,
          5.3572001457214355,
          20.711149215698242,
          13.77331256866455,
          15.286749839782715,
          5.24055290222168,
          12.877374649047852,
          6.036832809448242,
          11.315208435058594,
          7.670267105102539,
          15.307450294494629,
          17.521883010864258,
          5.0184831619262695,
          4.978967189788818,
          11.762832641601562,
          9.880666732788086,
          6.73371696472168,
          11.178333282470703,
          5.784900188446045,
          5.404167175292969,
          5.939833164215088,
          8.167133331298828,
          8.987783432006836,
          14.850882530212402,
          4.88090181350708,
          11.727916717529297,
          5.526916980743408,
          6.158050060272217,
          5.098949909210205,
          19.832183837890625,
          5.303417205810547,
          5.721049785614014,
          13.898417472839355,
          15.26433277130127,
          11.462300300598145,
          4.857832908630371,
          5.131732940673828,
          11.280850410461426,
          12.24434757232666,
          5.722145080566406,
          22.89715003967285,
          6.18464994430542,
          14.386500358581543,
          18.931032180786133,
          11.417733192443848,
          12.68201732635498,
          18.650667190551758,
          12.650016784667969,
          12.779417037963867,
          6.305850028991699,
          7.580516815185547,
          7.849699974060059,
          15.36848258972168,
          4.864099979400635,
          15.900349617004395,
          15.978933334350586,
          13.910882949829102,
          5.191829204559326,
          21.82976722717285,
          22.626583099365234,
          7.856100082397461,
          6.008316993713379,
          6.006217002868652,
          15.405082702636719,
          5.6130499839782715,
          5.478617191314697,
          4.837100028991699,
          12.650016784667969,
          6.999149799346924,
          15.446582794189453,
          23.107933044433594,
          8.589133262634277,
          5.186532974243164,
          13.077716827392578,
          5.431099891662598,
          17.234350204467773,
          11.409242630004883,
          17.52006721496582,
          12.475317001342773,
          21.876832962036133,
          13.3242826461792,
          27.133949279785156,
          6.334667205810547,
          5.390638828277588,
          17.280282974243164,
          6.146032810211182,
          7.601916790008545,
          22.1560001373291,
          5.7756500244140625,
          5.983567237854004,
          8.543083190917969,
          15.328619956970215,
          13.981200218200684,
          13.743049621582031,
          8.21619987487793,
          19.367366790771484,
          18.038816452026367,
          8.383091926574707,
          8.242420196533203,
          5.3572001457214355,
          14.98248291015625,
          12.201167106628418,
          4.807332992553711,
          19.029321670532227,
          15.06016731262207,
          13.790066719055176,
          15.104117393493652,
          5.047933101654053,
          5.724400043487549,
          8.526350021362305,
          20.73430061340332,
          8.650500297546387,
          5.240182876586914,
          8.054383277893066,
          5.575517177581787,
          15.503168106079102,
          4.947717189788818,
          5.664933204650879,
          10.209362983703613,
          12.582308769226074,
          15.638667106628418,
          11.354072570800781,
          5.09641695022583,
          8.866314888000488,
          12.620412826538086,
          15.386383056640625,
          12.877374649047852,
          8.128549575805664,
          23.67609977722168,
          5.495230197906494,
          10.3934326171875,
          17.038389205932617,
          5.467066764831543,
          15.202300071716309,
          5.112782955169678,
          5.2307000160217285,
          4.919899940490723,
          16.85926628112793,
          17.05223274230957,
          5.740616798400879,
          14.126282691955566,
          12.168867111206055,
          6.652166843414307,
          5.117883205413818,
          23.472270965576172,
          5.092766761779785,
          9.871282577514648,
          10.742500305175781,
          12.051799774169922,
          4.725032806396484,
          9.211099624633789,
          5.063716888427734,
          22.312667846679688,
          5.709167003631592,
          5.876767158508301,
          5.236682891845703,
          5.7133331298828125,
          8.47933292388916,
          5.11441707611084,
          7.569217205047607,
          5.618478775024414,
          13.015637397766113,
          5.110083103179932,
          17.67354965209961,
          10.397482872009277,
          17.05223274230957,
          5.8231329917907715,
          5.9454498291015625,
          5.788416862487793,
          8.955682754516602,
          5.191829204559326,
          6.00285005569458,
          11.196800231933594,
          5.239467144012451,
          6.032164096832275,
          5.853882789611816,
          11.359416961669922,
          8.19314956665039,
          5.8750081062316895,
          23.09233283996582,
          8.676921844482422,
          5.214550018310547,
          5.696450233459473,
          6.172616958618164,
          5.114482879638672,
          8.85456657409668,
          15.022366523742676,
          9.111183166503906,
          31.037588119506836,
          11.569000244140625,
          9.180583000183105,
          5.030399799346924,
          13.967350006103516,
          5.081517219543457,
          11.196800231933594,
          6.6354169845581055,
          29.26729965209961,
          4.909432888031006,
          12.473998069763184,
          10.036849975585938,
          5.694766998291016,
          11.20199966430664,
          15.92687702178955,
          9.2924165725708,
          5.342216968536377,
          12.371417045593262,
          9.291913032531738,
          15.328967094421387,
          13.325182914733887,
          5.476589202880859,
          22.35420036315918,
          19.587867736816406,
          13.017566680908203,
          12.135000228881836,
          5.102932929992676,
          22.661800384521484,
          5.102932929992676,
          15.31076717376709,
          8.494632720947266,
          12.626916885375977,
          8.881616592407227,
          5.443633079528809,
          14.697954177856445,
          5.018499851226807,
          6.240266799926758,
          16.289033889770508,
          6.184203147888184,
          26.954139709472656,
          5.102982997894287,
          14.277009010314941,
          29.680700302124023,
          6.287483215332031,
          14.428667068481445,
          14.388433456420898,
          6.086299896240234,
          5.325450897216797,
          6.042482852935791,
          5.261366844177246,
          9.123100280761719,
          15.51158332824707,
          4.88528299331665,
          5.466533184051514,
          8.292366981506348,
          13.018033027648926,
          5.930500030517578,
          5.27006721496582,
          26.871126174926758,
          6.401199817657471,
          12.69106674194336,
          11.766383171081543,
          17.919017791748047,
          12.40076732635498,
          5.787567138671875,
          15.583700180053711,
          9.109800338745117,
          5.331367015838623,
          8.32563304901123,
          5.486116886138916,
          5.81831693649292,
          5.641167163848877,
          4.963683128356934,
          6.107399940490723,
          15.678016662597656,
          4.907372951507568,
          9.156794548034668,
          11.912917137145996,
          5.5632500648498535,
          21.876832962036133,
          4.761116981506348,
          11.453601837158203,
          5.018967151641846,
          16.91046714782715,
          9.020116806030273,
          8.216349601745605,
          6.183183193206787,
          24.11906623840332,
          15.171667098999023,
          5.30638313293457,
          12.954667091369629,
          5.725017070770264,
          9.180583000183105,
          5.7368669509887695,
          15.866867065429688,
          10.122200012207031,
          14.958867073059082,
          7.928067207336426,
          20.80121612548828,
          12.53011703491211,
          9.262264251708984,
          7.730116844177246,
          17.028099060058594,
          5.1005330085754395,
          7.903450012207031,
          5.976432800292969,
          24.616966247558594,
          12.58881664276123,
          10.264450073242188,
          15.443567276000977,
          5.391121864318848,
          6.31898307800293,
          10.008916854858398,
          16.287382125854492,
          11.76832389831543,
          7.0091328620910645,
          6.142477989196777,
          25.466510772705078,
          8.629449844360352,
          16.36412811279297,
          24.487232208251953,
          5.543704032897949,
          8.143622398376465,
          5.508749961853027,
          5.953199863433838,
          5.876633167266846,
          5.037103176116943,
          12.26656723022461,
          17.20916748046875,
          5.709016799926758,
          5.614817142486572,
          5.563833236694336,
          5.432783126831055,
          12.5603666305542,
          22.621732711791992,
          16.236717224121094,
          8.879483222961426,
          5.788416862487793,
          12.619767189025879,
          6.635049819946289,
          12.682232856750488,
          14.235383033752441,
          17.956199645996094,
          5.156300067901611,
          5.451399803161621,
          6.982150077819824,
          7.371232986450195,
          5.894599914550781,
          5.086231231689453,
          4.857749938964844,
          16.134117126464844,
          5.863100051879883,
          8.851845741271973,
          5.664933204650879,
          5.756114959716797,
          4.938267230987549,
          7.580516815185547,
          15.016667366027832,
          5.063716888427734,
          4.734416961669922,
          5.680616855621338,
          5.422176837921143,
          13.111177444458008,
          5.80161714553833,
          17.01508331298828,
          10.738733291625977,
          7.928067207336426,
          11.4767427444458,
          5.977232933044434,
          20.9906005859375,
          10.652649879455566,
          8.567418098449707,
          8.603133201599121,
          8.851845741271973,
          9.753250122070312,
          5.820483207702637,
          14.98248291015625,
          5.229158878326416,
          5.473717212677002,
          15.08728313446045,
          14.031682968139648,
          21.82974624633789,
          4.863432884216309,
          4.846049785614014,
          5.423733234405518,
          17.87868309020996,
          6.41835880279541,
          5.543716907501221,
          17.716949462890625,
          7.15291690826416,
          7.1243181228637695,
          5.383266925811768,
          13.565750122070312,
          6.181666851043701,
          13.00393295288086,
          5.870067119598389,
          20.717817306518555,
          5.819867134094238,
          12.7052001953125,
          6.3493242263793945,
          22.896516799926758,
          17.339332580566406,
          8.71226692199707,
          14.312549591064453,
          5.809899806976318,
          14.018050193786621,
          5.028049945831299,
          6.008316993713379,
          5.442217826843262,
          13.331832885742188,
          17.01373291015625,
          17.919017791748047,
          18.17026710510254,
          16.123666763305664,
          9.044750213623047,
          15.104117393493652,
          14.331592559814453,
          11.44663143157959,
          14.016532897949219,
          19.583866119384766,
          5.722050189971924,
          15.286749839782715,
          20.75276756286621,
          5.13111686706543,
          17.02568244934082,
          9.92691707611084,
          7.514200210571289,
          15.866867065429688,
          4.967549800872803,
          9.190750122070312,
          10.742500305175781,
          13.171382904052734,
          6.3045501708984375,
          12.43615436553955,
          13.43239974975586,
          19.49774932861328,
          5.595399856567383,
          5.177029132843018,
          7.3677167892456055,
          10.935216903686523,
          9.76984977722168,
          9.807916641235352,
          4.995020866394043,
          5.993310928344727,
          8.462483406066895,
          12.14383316040039,
          25.466510772705078,
          10.675116539001465,
          6.029716968536377,
          5.19533109664917,
          8.578633308410645,
          17.535316467285156,
          22.804866790771484,
          4.81850004196167,
          12.392212867736816,
          5.526431083679199,
          9.186467170715332,
          20.758750915527344,
          12.535699844360352,
          13.077716827392578,
          7.0920538902282715,
          5.836371898651123,
          7.448583126068115,
          5.332888126373291,
          12.880749702453613,
          11.727916717529297,
          23.034439086914062,
          13.32509994506836,
          11.135466575622559,
          5.335849761962891,
          10.196967124938965,
          8.63151741027832,
          5.205566883087158,
          5.1090168952941895,
          5.095966815948486,
          4.909732818603516,
          15.171667098999023,
          5.102932929992676,
          6.142867088317871,
          24.45181655883789,
          12.419421195983887,
          20.97694969177246,
          4.942782878875732,
          12.582308769226074,
          4.900926113128662,
          22.89715003967285,
          8.561182975769043,
          5.7108330726623535,
          8.950682640075684,
          17.64601707458496,
          5.133633136749268,
          17.287567138671875,
          12.622733116149902,
          8.418299674987793,
          22.416749954223633,
          5.863100051879883,
          14.126282691955566,
          16.123666763305664,
          6.141300201416016,
          5.959917068481445,
          5.876633167266846,
          7.511167049407959,
          5.391121864318848,
          20.76901626586914,
          14.16016674041748,
          4.900926113128662,
          9.861967086791992,
          12.807550430297852,
          4.907372951507568,
          8.881632804870605,
          28.07943344116211,
          29.697717666625977,
          10.84453296661377,
          13.353667259216309,
          5.967617034912109,
          16.20418357849121,
          19.583866119384766,
          17.1525821685791,
          15.262249946594238,
          5.551466941833496,
          4.853532791137695,
          4.940267086029053,
          11.5733003616333,
          24.45181655883789,
          7.904600143432617,
          12.518989562988281,
          5.722617149353027,
          9.180583000183105,
          6.100550174713135,
          5.8735671043396,
          5.564833164215088,
          10.008916854858398,
          12.5465669631958,
          6.0968499183654785,
          12.417383193969727,
          17.148950576782227,
          14.782402038574219,
          4.917200088500977,
          5.956299781799316,
          5.235766887664795,
          5.240182876586914,
          5.854499816894531,
          5.638667106628418,
          5.313666820526123,
          5.079249858856201,
          9.133583068847656,
          14.016400337219238,
          13.633417129516602,
          5.237382888793945,
          5.061916828155518,
          6.926050186157227,
          5.931333065032959,
          5.100949764251709,
          6.12920618057251,
          5.167316913604736,
          8.26751708984375,
          5.788416862487793,
          12.585283279418945,
          23.55853271484375,
          4.915633201599121,
          17.003883361816406,
          12.40076732635498,
          5.245266914367676,
          5.692583084106445,
          8.994132995605469,
          4.837100028991699,
          16.253482818603516,
          6.121132850646973,
          4.930200099945068,
          8.32563304901123,
          11.665157318115234,
          5.286016941070557,
          12.36728286743164,
          4.863616943359375,
          5.883333206176758,
          12.127866744995117,
          11.273417472839355,
          5.488249778747559,
          6.701333045959473,
          8.471400260925293,
          11.616832733154297,
          12.169217109680176,
          9.123100280761719,
          12.126299858093262,
          13.856849670410156,
          5.33253288269043,
          14.183771133422852,
          5.209232807159424,
          5.1005330085754395,
          8.170516967773438,
          17.01373291015625,
          12.814350128173828,
          5.015867233276367,
          11.639766693115234,
          5.34048318862915,
          8.24036693572998,
          13.127400398254395,
          5.721650123596191,
          12.168732643127441,
          12.13913345336914,
          17.01373291015625,
          8.170516967773438,
          5.829800128936768,
          17.22606658935547,
          4.939949989318848,
          8.27180004119873,
          11.248100280761719,
          5.6130499839782715,
          4.877233028411865,
          10.84453296661377,
          6.036832809448242,
          13.170499801635742,
          7.085433006286621,
          8.449132919311523,
          13.32509994506836,
          7.3572001457214355,
          17.038389205932617,
          15.85118293762207,
          17.9058780670166,
          5.722145080566406,
          5.819867134094238,
          8.757283210754395,
          19.832183837890625,
          5.853783130645752,
          11.226550102233887,
          13.32509994506836,
          5.095383167266846,
          10.908766746520996,
          6.263516902923584,
          8.881632804870605,
          17.01373291015625,
          18.17026710510254,
          12.681300163269043,
          7.775199890136719,
          9.131916999816895,
          20.66461753845215,
          12.07053279876709,
          8.098099708557129,
          14.593732833862305,
          11.273417472839355,
          10.159116744995117,
          5.451399803161621,
          15.854299545288086,
          16.72464942932129,
          11.25113296508789,
          12.624199867248535,
          4.94064998626709,
          8.444950103759766,
          22.91871452331543,
          15.256449699401855,
          17.42959976196289,
          5.862617015838623,
          4.725032806396484,
          5.833160877227783,
          5.303417205810547,
          5.906932830810547,
          9.385333061218262,
          10.004266738891602,
          17.234350204467773,
          20.601417541503906,
          27.563716888427734,
          11.592733383178711,
          13.679729461669922,
          12.759833335876465,
          10.159116744995117,
          8.66623306274414,
          5.171082973480225,
          6.012567043304443,
          5.072183132171631,
          14.025333404541016,
          8.747200012207031,
          6.990333080291748,
          5.220300197601318,
          9.176650047302246,
          5.035150051116943,
          6.3072829246521,
          5.894599914550781,
          6.3493242263793945,
          16.09779930114746,
          12.168867111206055,
          8.728090286254883,
          7.675882816314697,
          17.956199645996094,
          5.595399856567383,
          24.672483444213867,
          25.466510772705078,
          13.115467071533203,
          5.248000144958496,
          15.40703296661377,
          11.188699722290039,
          15.06016731262207,
          10.334342956542969,
          6.119150161743164,
          5.555500030517578,
          5.991917133331299,
          12.665440559387207,
          17.088699340820312,
          15.076199531555176,
          8.098099708557129,
          5.709016799926758,
          5.850367069244385,
          6.602482795715332,
          5.962048053741455,
          5.508749961853027,
          12.5603666305542,
          8.19314956665039,
          5.686767101287842,
          15.035799980163574,
          12.650349617004395,
          19.1610164642334,
          5.229158878326416,
          15.317882537841797,
          5.461599826812744,
          7.594283103942871,
          4.9206671714782715,
          19.520383834838867,
          6.267199993133545,
          5.485269069671631,
          9.974873542785645,
          16.403032302856445,
          5.117066860198975,
          5.638816833496094,
          25.4951171875,
          7.038217067718506,
          17.69026756286621,
          4.90749979019165,
          11.676016807556152,
          5.9344329833984375,
          14.95163345336914,
          15.128683090209961,
          13.898417472839355,
          15.36848258972168,
          5.488249778747559,
          10.91193962097168,
          6.205417156219482,
          5.2459330558776855,
          9.983149528503418,
          5.229158878326416,
          23.799745559692383,
          13.838712692260742,
          5.699283123016357,
          10.309049606323242,
          5.160067081451416,
          15.638667106628418,
          7.849699974060059,
          5.217249870300293,
          13.54151725769043,
          8.459567070007324,
          12.042817115783691,
          16.2044677734375,
          5.052416801452637,
          17.769699096679688,
          11.34179973602295,
          12.135000228881836,
          9.409382820129395,
          5.367815017700195,
          20.600536346435547,
          12.156932830810547,
          5.963544845581055,
          12.582308769226074,
          12.16355037689209,
          9.861967086791992,
          7.29330587387085,
          5.030399799346924,
          27.317182540893555,
          20.955432891845703,
          5.474833011627197,
          12.463932991027832,
          11.16433334350586,
          5.158767223358154,
          10.196967124938965,
          5.572432994842529,
          5.462082862854004,
          8.488733291625977,
          5.322965145111084,
          5.363633155822754,
          5.244382858276367,
          6.776750087738037,
          11.235516548156738,
          6.595799922943115,
          14.95163345336914,
          6.854883193969727,
          7.716149806976318,
          5.170932769775391,
          5.904417037963867,
          5.824999809265137,
          4.907933235168457,
          16.25385093688965,
          7.8562331199646,
          10.397501945495605,
          7.514200210571289,
          6.081737995147705,
          9.953617095947266,
          5.286016941070557,
          12.071566581726074,
          11.188699722290039,
          10.91193962097168,
          15.353282928466797,
          15.92508316040039,
          5.386016845703125,
          18.931032180786133,
          12.650016784667969,
          7.951517105102539,
          6.006217002868652,
          11.586000442504883,
          5.167449951171875,
          5.222617149353027,
          5.747350215911865,
          8.224932670593262,
          11.524717330932617,
          12.799817085266113,
          6.55679988861084,
          5.443817138671875,
          5.439549922943115,
          6.5406670570373535,
          14.735136985778809,
          11.248250007629395,
          5.85841703414917,
          9.176650047302246,
          5.107900142669678,
          5.723617076873779,
          12.024649620056152,
          21.282033920288086,
          5.928750038146973,
          9.764567375183105,
          5.883333206176758,
          12.485016822814941,
          14.996549606323242,
          10.652649879455566,
          9.190750122070312,
          5.2956671714782715,
          15.570432662963867,
          12.668466567993164,
          5.189174175262451,
          18.363983154296875,
          5.997250080108643,
          15.11856746673584,
          5.238426208496094,
          22.91871452331543,
          5.321816921234131,
          5.312150001525879,
          5.2956671714782715,
          12.37734317779541,
          11.394183158874512,
          15.344866752624512,
          5.1658501625061035,
          5.330729961395264,
          6.635049819946289,
          5.247132778167725,
          10.439132690429688,
          8.908516883850098,
          8.030150413513184,
          15.076199531555176,
          6.887324810028076,
          16.064849853515625,
          9.013833045959473,
          7.670332908630371,
          12.135017395019531,
          5.242166996002197,
          5.552149772644043,
          5.935949802398682,
          12.294182777404785,
          15.330050468444824,
          21.90345001220703,
          8.418333053588867,
          5.278367042541504,
          17.09353256225586,
          5.87641716003418,
          5.30495023727417,
          11.388327598571777,
          12.476412773132324,
          6.116700172424316,
          15.30483341217041,
          20.75276756286621,
          15.379133224487305,
          12.099989891052246,
          5.634749889373779,
          5.110083103179932,
          8.494632720947266,
          29.034700393676758,
          7.29330587387085,
          7.8562331199646,
          11.473250389099121,
          11.189032554626465,
          11.44087028503418,
          10.250450134277344,
          5.5528340339660645,
          6.1578497886657715,
          16.915950775146484,
          5.72996711730957,
          5.439549922943115,
          5.483182907104492,
          6.021432876586914,
          7.678116798400879,
          8.432267189025879,
          15.878083229064941,
          17.088699340820312,
          14.819382667541504,
          11.8785400390625,
          17.028099060058594,
          5.214550018310547,
          7.276500225067139,
          5.326749801635742,
          10.085183143615723,
          4.941116809844971,
          9.385333061218262,
          16.134117126464844,
          11.62844467163086,
          5.312150001525879,
          10.141532897949219,
          11.723933219909668,
          12.799817085266113,
          8.242420196533203,
          8.732087135314941,
          8.542588233947754,
          5.485269069671631,
          13.967766761779785,
          12.12796688079834,
          14.076132774353027,
          31.037588119506836,
          14.963382720947266,
          5.564833164215088,
          13.919882774353027,
          17.065750122070312,
          8.678916931152344,
          9.97366714477539,
          7.307048797607422,
          5.612596035003662,
          5.339700222015381,
          5.204782962799072,
          6.656650066375732,
          5.634749889373779,
          5.4832000732421875,
          6.037278175354004,
          5.835916996002197,
          18.526195526123047,
          11.522297859191895,
          7.511167049407959,
          4.711382865905762,
          5.227632999420166,
          12.000967025756836,
          11.359416961669922,
          11.166874885559082,
          5.397417068481445,
          15.165582656860352,
          15.263250350952148,
          9.13320541381836,
          4.8956499099731445,
          25.912368774414062,
          16.09779930114746,
          5.155582904815674,
          4.973249912261963,
          5.618478775024414,
          9.087754249572754,
          5.235020160675049,
          5.853600025177002,
          8.445182800292969,
          24.611982345581055,
          12.487683296203613,
          14.269017219543457,
          11.515982627868652,
          17.30706787109375,
          17.303932189941406,
          6.140132904052734,
          15.00629997253418,
          13.541885375976562,
          5.311916828155518,
          15.128683090209961,
          12.139166831970215,
          10.807332992553711,
          13.743049621582031,
          11.44663143157959,
          12.95518684387207,
          10.111742973327637,
          5.873170852661133,
          17.109216690063477,
          14.55685043334961,
          5.466533184051514,
          11.522297859191895,
          19.03048324584961,
          9.133583068847656,
          15.11856746673584,
          5.756114959716797,
          8.075599670410156,
          8.213749885559082,
          5.977232933044434,
          9.807916641235352,
          5.518125057220459,
          11.440032958984375,
          6.097567081451416,
          8.881632804870605,
          15.140132904052734,
          4.884616851806641,
          16.791349411010742,
          6.811049938201904,
          6.636149883270264,
          6.073432922363281,
          13.919882774353027,
          25.006250381469727
         ],
         "marker": {
          "color": "darkgreen",
          "size": 5
         },
         "mode": "markers",
         "name": "",
         "showlegend": false,
         "subplot": "mapbox",
         "type": "scattermapbox"
        }
       ],
       "layout": {
        "height": 600,
        "legend": {
         "tracegroupgap": 0
        },
        "mapbox": {
         "center": {
          "lat": 63.867835998535156,
          "lon": 10.49783992767334
         },
         "domain": {
          "x": [
           0,
           1
          ],
          "y": [
           0,
           1
          ]
         },
         "style": "open-street-map",
         "zoom": 14
        },
        "margin": {
         "b": 0,
         "l": 0,
         "r": 0,
         "t": 0
        },
        "template": {
         "data": {
          "bar": [
           {
            "error_x": {
             "color": "#2a3f5f"
            },
            "error_y": {
             "color": "#2a3f5f"
            },
            "marker": {
             "line": {
              "color": "#E5ECF6",
              "width": 0.5
             },
             "pattern": {
              "fillmode": "overlay",
              "size": 10,
              "solidity": 0.2
             }
            },
            "type": "bar"
           }
          ],
          "barpolar": [
           {
            "marker": {
             "line": {
              "color": "#E5ECF6",
              "width": 0.5
             },
             "pattern": {
              "fillmode": "overlay",
              "size": 10,
              "solidity": 0.2
             }
            },
            "type": "barpolar"
           }
          ],
          "carpet": [
           {
            "aaxis": {
             "endlinecolor": "#2a3f5f",
             "gridcolor": "white",
             "linecolor": "white",
             "minorgridcolor": "white",
             "startlinecolor": "#2a3f5f"
            },
            "baxis": {
             "endlinecolor": "#2a3f5f",
             "gridcolor": "white",
             "linecolor": "white",
             "minorgridcolor": "white",
             "startlinecolor": "#2a3f5f"
            },
            "type": "carpet"
           }
          ],
          "choropleth": [
           {
            "colorbar": {
             "outlinewidth": 0,
             "ticks": ""
            },
            "type": "choropleth"
           }
          ],
          "contour": [
           {
            "colorbar": {
             "outlinewidth": 0,
             "ticks": ""
            },
            "colorscale": [
             [
              0,
              "#0d0887"
             ],
             [
              0.1111111111111111,
              "#46039f"
             ],
             [
              0.2222222222222222,
              "#7201a8"
             ],
             [
              0.3333333333333333,
              "#9c179e"
             ],
             [
              0.4444444444444444,
              "#bd3786"
             ],
             [
              0.5555555555555556,
              "#d8576b"
             ],
             [
              0.6666666666666666,
              "#ed7953"
             ],
             [
              0.7777777777777778,
              "#fb9f3a"
             ],
             [
              0.8888888888888888,
              "#fdca26"
             ],
             [
              1,
              "#f0f921"
             ]
            ],
            "type": "contour"
           }
          ],
          "contourcarpet": [
           {
            "colorbar": {
             "outlinewidth": 0,
             "ticks": ""
            },
            "type": "contourcarpet"
           }
          ],
          "heatmap": [
           {
            "colorbar": {
             "outlinewidth": 0,
             "ticks": ""
            },
            "colorscale": [
             [
              0,
              "#0d0887"
             ],
             [
              0.1111111111111111,
              "#46039f"
             ],
             [
              0.2222222222222222,
              "#7201a8"
             ],
             [
              0.3333333333333333,
              "#9c179e"
             ],
             [
              0.4444444444444444,
              "#bd3786"
             ],
             [
              0.5555555555555556,
              "#d8576b"
             ],
             [
              0.6666666666666666,
              "#ed7953"
             ],
             [
              0.7777777777777778,
              "#fb9f3a"
             ],
             [
              0.8888888888888888,
              "#fdca26"
             ],
             [
              1,
              "#f0f921"
             ]
            ],
            "type": "heatmap"
           }
          ],
          "heatmapgl": [
           {
            "colorbar": {
             "outlinewidth": 0,
             "ticks": ""
            },
            "colorscale": [
             [
              0,
              "#0d0887"
             ],
             [
              0.1111111111111111,
              "#46039f"
             ],
             [
              0.2222222222222222,
              "#7201a8"
             ],
             [
              0.3333333333333333,
              "#9c179e"
             ],
             [
              0.4444444444444444,
              "#bd3786"
             ],
             [
              0.5555555555555556,
              "#d8576b"
             ],
             [
              0.6666666666666666,
              "#ed7953"
             ],
             [
              0.7777777777777778,
              "#fb9f3a"
             ],
             [
              0.8888888888888888,
              "#fdca26"
             ],
             [
              1,
              "#f0f921"
             ]
            ],
            "type": "heatmapgl"
           }
          ],
          "histogram": [
           {
            "marker": {
             "pattern": {
              "fillmode": "overlay",
              "size": 10,
              "solidity": 0.2
             }
            },
            "type": "histogram"
           }
          ],
          "histogram2d": [
           {
            "colorbar": {
             "outlinewidth": 0,
             "ticks": ""
            },
            "colorscale": [
             [
              0,
              "#0d0887"
             ],
             [
              0.1111111111111111,
              "#46039f"
             ],
             [
              0.2222222222222222,
              "#7201a8"
             ],
             [
              0.3333333333333333,
              "#9c179e"
             ],
             [
              0.4444444444444444,
              "#bd3786"
             ],
             [
              0.5555555555555556,
              "#d8576b"
             ],
             [
              0.6666666666666666,
              "#ed7953"
             ],
             [
              0.7777777777777778,
              "#fb9f3a"
             ],
             [
              0.8888888888888888,
              "#fdca26"
             ],
             [
              1,
              "#f0f921"
             ]
            ],
            "type": "histogram2d"
           }
          ],
          "histogram2dcontour": [
           {
            "colorbar": {
             "outlinewidth": 0,
             "ticks": ""
            },
            "colorscale": [
             [
              0,
              "#0d0887"
             ],
             [
              0.1111111111111111,
              "#46039f"
             ],
             [
              0.2222222222222222,
              "#7201a8"
             ],
             [
              0.3333333333333333,
              "#9c179e"
             ],
             [
              0.4444444444444444,
              "#bd3786"
             ],
             [
              0.5555555555555556,
              "#d8576b"
             ],
             [
              0.6666666666666666,
              "#ed7953"
             ],
             [
              0.7777777777777778,
              "#fb9f3a"
             ],
             [
              0.8888888888888888,
              "#fdca26"
             ],
             [
              1,
              "#f0f921"
             ]
            ],
            "type": "histogram2dcontour"
           }
          ],
          "mesh3d": [
           {
            "colorbar": {
             "outlinewidth": 0,
             "ticks": ""
            },
            "type": "mesh3d"
           }
          ],
          "parcoords": [
           {
            "line": {
             "colorbar": {
              "outlinewidth": 0,
              "ticks": ""
             }
            },
            "type": "parcoords"
           }
          ],
          "pie": [
           {
            "automargin": true,
            "type": "pie"
           }
          ],
          "scatter": [
           {
            "fillpattern": {
             "fillmode": "overlay",
             "size": 10,
             "solidity": 0.2
            },
            "type": "scatter"
           }
          ],
          "scatter3d": [
           {
            "line": {
             "colorbar": {
              "outlinewidth": 0,
              "ticks": ""
             }
            },
            "marker": {
             "colorbar": {
              "outlinewidth": 0,
              "ticks": ""
             }
            },
            "type": "scatter3d"
           }
          ],
          "scattercarpet": [
           {
            "marker": {
             "colorbar": {
              "outlinewidth": 0,
              "ticks": ""
             }
            },
            "type": "scattercarpet"
           }
          ],
          "scattergeo": [
           {
            "marker": {
             "colorbar": {
              "outlinewidth": 0,
              "ticks": ""
             }
            },
            "type": "scattergeo"
           }
          ],
          "scattergl": [
           {
            "marker": {
             "colorbar": {
              "outlinewidth": 0,
              "ticks": ""
             }
            },
            "type": "scattergl"
           }
          ],
          "scattermapbox": [
           {
            "marker": {
             "colorbar": {
              "outlinewidth": 0,
              "ticks": ""
             }
            },
            "type": "scattermapbox"
           }
          ],
          "scatterpolar": [
           {
            "marker": {
             "colorbar": {
              "outlinewidth": 0,
              "ticks": ""
             }
            },
            "type": "scatterpolar"
           }
          ],
          "scatterpolargl": [
           {
            "marker": {
             "colorbar": {
              "outlinewidth": 0,
              "ticks": ""
             }
            },
            "type": "scatterpolargl"
           }
          ],
          "scatterternary": [
           {
            "marker": {
             "colorbar": {
              "outlinewidth": 0,
              "ticks": ""
             }
            },
            "type": "scatterternary"
           }
          ],
          "surface": [
           {
            "colorbar": {
             "outlinewidth": 0,
             "ticks": ""
            },
            "colorscale": [
             [
              0,
              "#0d0887"
             ],
             [
              0.1111111111111111,
              "#46039f"
             ],
             [
              0.2222222222222222,
              "#7201a8"
             ],
             [
              0.3333333333333333,
              "#9c179e"
             ],
             [
              0.4444444444444444,
              "#bd3786"
             ],
             [
              0.5555555555555556,
              "#d8576b"
             ],
             [
              0.6666666666666666,
              "#ed7953"
             ],
             [
              0.7777777777777778,
              "#fb9f3a"
             ],
             [
              0.8888888888888888,
              "#fdca26"
             ],
             [
              1,
              "#f0f921"
             ]
            ],
            "type": "surface"
           }
          ],
          "table": [
           {
            "cells": {
             "fill": {
              "color": "#EBF0F8"
             },
             "line": {
              "color": "white"
             }
            },
            "header": {
             "fill": {
              "color": "#C8D4E3"
             },
             "line": {
              "color": "white"
             }
            },
            "type": "table"
           }
          ]
         },
         "layout": {
          "annotationdefaults": {
           "arrowcolor": "#2a3f5f",
           "arrowhead": 0,
           "arrowwidth": 1
          },
          "autotypenumbers": "strict",
          "coloraxis": {
           "colorbar": {
            "outlinewidth": 0,
            "ticks": ""
           }
          },
          "colorscale": {
           "diverging": [
            [
             0,
             "#8e0152"
            ],
            [
             0.1,
             "#c51b7d"
            ],
            [
             0.2,
             "#de77ae"
            ],
            [
             0.3,
             "#f1b6da"
            ],
            [
             0.4,
             "#fde0ef"
            ],
            [
             0.5,
             "#f7f7f7"
            ],
            [
             0.6,
             "#e6f5d0"
            ],
            [
             0.7,
             "#b8e186"
            ],
            [
             0.8,
             "#7fbc41"
            ],
            [
             0.9,
             "#4d9221"
            ],
            [
             1,
             "#276419"
            ]
           ],
           "sequential": [
            [
             0,
             "#0d0887"
            ],
            [
             0.1111111111111111,
             "#46039f"
            ],
            [
             0.2222222222222222,
             "#7201a8"
            ],
            [
             0.3333333333333333,
             "#9c179e"
            ],
            [
             0.4444444444444444,
             "#bd3786"
            ],
            [
             0.5555555555555556,
             "#d8576b"
            ],
            [
             0.6666666666666666,
             "#ed7953"
            ],
            [
             0.7777777777777778,
             "#fb9f3a"
            ],
            [
             0.8888888888888888,
             "#fdca26"
            ],
            [
             1,
             "#f0f921"
            ]
           ],
           "sequentialminus": [
            [
             0,
             "#0d0887"
            ],
            [
             0.1111111111111111,
             "#46039f"
            ],
            [
             0.2222222222222222,
             "#7201a8"
            ],
            [
             0.3333333333333333,
             "#9c179e"
            ],
            [
             0.4444444444444444,
             "#bd3786"
            ],
            [
             0.5555555555555556,
             "#d8576b"
            ],
            [
             0.6666666666666666,
             "#ed7953"
            ],
            [
             0.7777777777777778,
             "#fb9f3a"
            ],
            [
             0.8888888888888888,
             "#fdca26"
            ],
            [
             1,
             "#f0f921"
            ]
           ]
          },
          "colorway": [
           "#636efa",
           "#EF553B",
           "#00cc96",
           "#ab63fa",
           "#FFA15A",
           "#19d3f3",
           "#FF6692",
           "#B6E880",
           "#FF97FF",
           "#FECB52"
          ],
          "font": {
           "color": "#2a3f5f"
          },
          "geo": {
           "bgcolor": "white",
           "lakecolor": "white",
           "landcolor": "#E5ECF6",
           "showlakes": true,
           "showland": true,
           "subunitcolor": "white"
          },
          "hoverlabel": {
           "align": "left"
          },
          "hovermode": "closest",
          "mapbox": {
           "style": "light"
          },
          "paper_bgcolor": "white",
          "plot_bgcolor": "#E5ECF6",
          "polar": {
           "angularaxis": {
            "gridcolor": "white",
            "linecolor": "white",
            "ticks": ""
           },
           "bgcolor": "#E5ECF6",
           "radialaxis": {
            "gridcolor": "white",
            "linecolor": "white",
            "ticks": ""
           }
          },
          "scene": {
           "xaxis": {
            "backgroundcolor": "#E5ECF6",
            "gridcolor": "white",
            "gridwidth": 2,
            "linecolor": "white",
            "showbackground": true,
            "ticks": "",
            "zerolinecolor": "white"
           },
           "yaxis": {
            "backgroundcolor": "#E5ECF6",
            "gridcolor": "white",
            "gridwidth": 2,
            "linecolor": "white",
            "showbackground": true,
            "ticks": "",
            "zerolinecolor": "white"
           },
           "zaxis": {
            "backgroundcolor": "#E5ECF6",
            "gridcolor": "white",
            "gridwidth": 2,
            "linecolor": "white",
            "showbackground": true,
            "ticks": "",
            "zerolinecolor": "white"
           }
          },
          "shapedefaults": {
           "line": {
            "color": "#2a3f5f"
           }
          },
          "ternary": {
           "aaxis": {
            "gridcolor": "white",
            "linecolor": "white",
            "ticks": ""
           },
           "baxis": {
            "gridcolor": "white",
            "linecolor": "white",
            "ticks": ""
           },
           "bgcolor": "#E5ECF6",
           "caxis": {
            "gridcolor": "white",
            "linecolor": "white",
            "ticks": ""
           }
          },
          "title": {
           "x": 0.05
          },
          "xaxis": {
           "automargin": true,
           "gridcolor": "white",
           "linecolor": "white",
           "ticks": "",
           "title": {
            "standoff": 15
           },
           "zerolinecolor": "white",
           "zerolinewidth": 2
          },
          "yaxis": {
           "automargin": true,
           "gridcolor": "white",
           "linecolor": "white",
           "ticks": "",
           "title": {
            "standoff": 15
           },
           "zerolinecolor": "white",
           "zerolinewidth": 2
          }
         }
        },
        "width": 700
       }
      }
     },
     "metadata": {},
     "output_type": "display_data"
    }
   ],
   "source": [
    "import plotly.express as px\n",
    "\n",
    "fig_fish = px.scatter_mapbox(\n",
    "fish_data_10,\n",
    "lat=\"lat\",\n",
    "lon=\"lon\",\n",
    "hover_name=\"name\",\n",
    "hover_data=[\"municipality\",\"lat\",\"lon\"],\n",
    "color_discrete_sequence=[\"darkgreen\"],\n",
    "zoom=14,\n",
    "height=600,\n",
    "width=700,\n",
    ")\n",
    "overlay = fig_fish['data'][0]\n",
    "overlay['marker']['size'] = 5\n",
    "fig_fish.update_layout(mapbox_style=\"open-street-map\")\n",
    "fig_fish.update_layout(margin={\"r\": 0, \"t\": 0, \"l\": 0, \"b\": 0})"
   ]
  },
  {
   "cell_type": "code",
   "execution_count": 23,
   "metadata": {},
   "outputs": [],
   "source": [
    "# list fig_fish contents\n",
    "\n",
    "current_viewport = fig_fish.layout.mapbox"
   ]
  },
  {
   "cell_type": "code",
   "execution_count": 24,
   "metadata": {},
   "outputs": [],
   "source": [
    "import plotly.express as px\n",
    "\n",
    "new_fig_fish = px.scatter_mapbox(\n",
    "fish_data_10,\n",
    "lat=\"lat\",\n",
    "lon=\"lon\",\n",
    "hover_name=\"name\",\n",
    "hover_data=[\"municipality\",\"lat\",\"lon\"],\n",
    "color_discrete_sequence=[\"darkgreen\"],\n",
    "zoom=14,\n",
    "height=600,\n",
    "width=700,\n",
    ")\n",
    "overlay = fig_fish['data'][0]\n",
    "overlay['marker']['size'] = 5\n",
    "new_fig_fish.update_layout(mapbox_style=\"open-street-map\")\n",
    "new_fig_fish.update_layout(margin={\"r\": 0, \"t\": 0, \"l\": 0, \"b\": 0})\n",
    "new_fig_fish.layout.mapbox = current_viewport"
   ]
  },
  {
   "cell_type": "code",
   "execution_count": 25,
   "metadata": {},
   "outputs": [
    {
     "data": {
      "application/vnd.plotly.v1+json": {
       "config": {
        "plotlyServerURL": "https://plot.ly"
       },
       "data": [
        {
         "customdata": [
          [
           "Sortland",
           68.63044738769531,
           15.482067108154297
          ],
          [
           "Vestvågøy",
           68.08343505859375,
           13.56725025177002
          ],
          [
           "Steigen",
           67.89718627929688,
           15.158883094787598
          ],
          [
           "Værøy",
           67.66157531738281,
           12.665440559387207
          ],
          [
           "Kvam",
           60.14103317260742,
           5.906932830810547
          ],
          [
           "Vestvågøy",
           68.10486602783203,
           13.790066719055176
          ],
          [
           "Salangen",
           68.86687469482422,
           17.86150360107422
          ],
          [
           "Nærøy",
           64.94988250732422,
           11.5733003616333
          ],
          [
           "Sirdal",
           58.65299987792969,
           6.701333045959473
          ],
          [
           "Kvinnherad",
           60.159515380859375,
           5.983567237854004
          ],
          [
           "Lenvik",
           69.50056457519531,
           17.919017791748047
          ],
          [
           "Bodø",
           67.23898315429688,
           14.836899757385254
          ],
          [
           "Vestre Slidre",
           61.03691482543945,
           9.048128128051758
          ],
          [
           "Alstahaug",
           65.85144805908203,
           12.287199974060059
          ],
          [
           "Stord",
           59.80928421020508,
           5.3572001457214355
          ],
          [
           "Skjervøy",
           69.99361419677734,
           20.711149215698242
          ],
          [
           "Vestvågøy",
           68.1258316040039,
           13.77331256866455
          ],
          [
           "Øksnes",
           68.90270233154297,
           15.286749839782715
          ],
          [
           "Fitjar",
           59.84476089477539,
           5.24055290222168
          ],
          [
           "Leirfjord",
           66.03285217285156,
           12.877374649047852
          ],
          [
           "Hjelmeland",
           59.22013473510742,
           6.036832809448242
          ],
          [
           "Eidsberg",
           59.696632385253906,
           11.315208435058594
          ],
          [
           "Averøy",
           63.09993362426758,
           7.670267105102539
          ],
          [
           "Øksnes",
           68.94143676757812,
           15.307450294494629
          ],
          [
           "Salangen",
           68.86039733886719,
           17.521883010864258
          ],
          [
           "Solund",
           61.104766845703125,
           5.0184831619262695
          ],
          [
           "Askvoll",
           61.32008361816406,
           4.978967189788818
          ],
          [
           "Nærøy",
           64.89313507080078,
           11.762832641601562
          ],
          [
           "Åfjord",
           63.94438171386719,
           9.880666732788086
          ],
          [
           "Sykkylven",
           62.45123291015625,
           6.73371696472168
          ],
          [
           "Nærøy",
           64.77224731445312,
           11.178333282470703
          ],
          [
           "Herøy I Møre Og Romsdal",
           62.20970153808594,
           5.784900188446045
          ],
          [
           "Sveio",
           59.6573486328125,
           5.404167175292969
          ],
          [
           "Kvinnherad",
           60.107418060302734,
           5.939833164215088
          ],
          [
           "Smøla",
           63.449951171875,
           8.167133331298828
          ],
          [
           "Arendal",
           58.578250885009766,
           8.987783432006836
          ],
          [
           "Hadsel",
           68.57475280761719,
           14.850882530212402
          ],
          [
           "Øygarden",
           60.554141998291016,
           4.88090181350708
          ],
          [
           "Nærøy",
           64.78656768798828,
           11.727916717529297
          ],
          [
           "Stord",
           59.87834930419922,
           5.526916980743408
          ],
          [
           "Giske",
           62.517398834228516,
           6.158050060272217
          ],
          [
           "Haugesund",
           59.42878341674805,
           5.098949909210205
          ],
          [
           "Karlsøy",
           69.93671417236328,
           19.832183837890625
          ],
          [
           "Bergen",
           60.40006637573242,
           5.303417205810547
          ],
          [
           "Tysvær",
           59.40826416015625,
           5.721049785614014
          ],
          [
           "Gildeskål",
           67.1183853149414,
           13.898417472839355
          ],
          [
           "Steigen",
           68.00592041015625,
           15.26433277130127
          ],
          [
           "Nærøy",
           64.94640350341797,
           11.462300300598145
          ],
          [
           "Øygarden",
           60.59233474731445,
           4.857832908630371
          ],
          [
           "Hyllestad",
           61.20600128173828,
           5.131732940673828
          ],
          [
           "Namsos",
           64.60980224609375,
           11.280850410461426
          ],
          [
           "Herøy I Nordland",
           66.08927154541016,
           12.24434757232666
          ],
          [
           "Kvinnherad",
           59.742610931396484,
           5.722145080566406
          ],
          [
           "Alta",
           70.32066345214844,
           22.89715003967285
          ],
          [
           "Gjesdal",
           58.8387336730957,
           6.18464994430542
          ],
          [
           "Bodø",
           67.1849365234375,
           14.386500358581543
          ],
          [
           "Tromsø",
           69.86808013916016,
           18.931032180786133
          ],
          [
           "Namsos",
           64.62273406982422,
           11.417733192443848
          ],
          [
           "Dønna",
           66.15809631347656,
           12.68201732635498
          ],
          [
           "Tromsø",
           69.78656768798828,
           18.650667190551758
          ],
          [
           "Vevelstad",
           65.665283203125,
           12.650016784667969
          ],
          [
           "Lurøy",
           66.3487319946289,
           12.779417037963867
          ],
          [
           "Volda",
           62.05933380126953,
           6.305850028991699
          ],
          [
           "Eide",
           62.928531646728516,
           7.580516815185547
          ],
          [
           "Kristiansund",
           63.04071807861328,
           7.849699974060059
          ],
          [
           "Sørfold",
           67.60568237304688,
           15.36848258972168
          ],
          [
           "Alver",
           60.727882385253906,
           4.864099979400635
          ],
          [
           "Kvæfjord",
           68.65650177001953,
           15.900349617004395
          ],
          [
           "Kvæfjord",
           68.6991195678711,
           15.978933334350586
          ],
          [
           "Bodø",
           67.4020004272461,
           13.910882949829102
          ],
          [
           "Bømlo",
           59.598846435546875,
           5.191829204559326
          ],
          [
           "Kvænangen",
           69.90727996826172,
           21.82976722717285
          ],
          [
           "Alta",
           70.21558380126953,
           22.626583099365234
          ],
          [
           "Smøla",
           63.457733154296875,
           7.856100082397461
          ],
          [
           "Hjelmeland",
           59.2320671081543,
           6.008316993713379
          ],
          [
           "Kvam",
           60.234981536865234,
           6.006217002868652
          ],
          [
           "Saltdal",
           67.13742065429688,
           15.405082702636719
          ],
          [
           "Tysvær",
           59.408748626708984,
           5.6130499839782715
          ],
          [
           "Bokn",
           59.19496536254883,
           5.478617191314697
          ],
          [
           "Gulen",
           60.89378356933594,
           4.837100028991699
          ],
          [
           "Vevelstad",
           65.665283203125,
           12.650016784667969
          ],
          [
           "Lyngdal",
           58.051368713378906,
           6.999149799346924
          ],
          [
           "Sortland",
           68.77283477783203,
           15.446582794189453
          ],
          [
           "Hammerfest",
           70.62551879882812,
           23.107933044433594
          ],
          [
           "Frøya",
           63.904850006103516,
           8.589133262634277
          ],
          [
           "Flora",
           61.60395050048828,
           5.186532974243164
          ],
          [
           "Moskenes",
           67.95034790039062,
           13.077716827392578
          ],
          [
           "Sveio",
           59.68531799316406,
           5.431099891662598
          ],
          [
           "Gratangen",
           68.73133087158203,
           17.234350204467773
          ],
          [
           "Nærøy",
           64.93387603759766,
           11.409242630004883
          ],
          [
           "Dyrøy",
           69.018798828125,
           17.52006721496582
          ],
          [
           "Vevelstad",
           65.72323608398438,
           12.475317001342773
          ],
          [
           "Kvænangen",
           69.90454864501953,
           21.876832962036133
          ],
          [
           "Rødøy",
           66.53775024414062,
           13.3242826461792
          ],
          [
           "Lebesby",
           70.6717300415039,
           27.133949279785156
          ],
          [
           "Hjelmeland",
           59.2686653137207,
           6.334667205810547
          ],
          [
           "Bokn",
           59.21616744995117,
           5.390638828277588
          ],
          [
           "Tranøy",
           69.10623168945312,
           17.280282974243164
          ],
          [
           "Kvinnherad",
           60.136165618896484,
           6.146032810211182
          ],
          [
           "Averøy",
           63.06938171386719,
           7.601916790008545
          ],
          [
           "Hasvik",
           70.48149871826172,
           22.1560001373291
          ],
          [
           "Kvinnherad",
           59.97793197631836,
           5.7756500244140625
          ],
          [
           "Kvinnherad",
           60.159515380859375,
           5.983567237854004
          ],
          [
           "Frøya",
           63.87946701049805,
           8.543083190917969
          ],
          [
           "Hadsel",
           68.56863403320312,
           15.328619956970215
          ],
          [
           "Gildeskål",
           67.13766479492188,
           13.981200218200684
          ],
          [
           "Vestvågøy",
           68.11054992675781,
           13.743049621582031
          ],
          [
           "Heim",
           63.04964828491211,
           8.21619987487793
          ],
          [
           "Tromsø",
           69.77559661865234,
           19.367366790771484
          ],
          [
           "Tromsø",
           69.63764953613281,
           18.038816452026367
          ],
          [
           "Hitra",
           63.54533386230469,
           8.383091926574707
          ],
          [
           "Tingvoll",
           62.979217529296875,
           8.242420196533203
          ],
          [
           "Stord",
           59.80928421020508,
           5.3572001457214355
          ],
          [
           "Hadsel",
           68.67398071289062,
           14.98248291015625
          ],
          [
           "Herøy I Nordland",
           66.08231353759766,
           12.201167106628418
          ],
          [
           "Flora",
           61.576148986816406,
           4.807332992553711
          ],
          [
           "Tromsø",
           69.75338745117188,
           19.029321670532227
          ],
          [
           "Øksnes",
           68.88853454589844,
           15.06016731262207
          ],
          [
           "Vestvågøy",
           68.10486602783203,
           13.790066719055176
          ],
          [
           "Vågan",
           68.26828002929688,
           15.104117393493652
          ],
          [
           "Sund",
           60.217586517333984,
           5.047933101654053
          ],
          [
           "Fusa",
           60.17599868774414,
           5.724400043487549
          ],
          [
           "Frøya",
           63.78238296508789,
           8.526350021362305
          ],
          [
           "Skjervøy",
           69.89971923828125,
           20.73430061340332
          ],
          [
           "Frøya",
           63.80076599121094,
           8.650500297546387
          ],
          [
           "Sveio",
           59.50471878051758,
           5.240182876586914
          ],
          [
           "Kristiansand",
           58.16168212890625,
           8.054383277893066
          ],
          [
           "Stord",
           59.87801742553711,
           5.575517177581787
          ],
          [
           "Steigen",
           67.93948364257812,
           15.503168106079102
          ],
          [
           "Bremanger",
           61.78144836425781,
           4.947717189788818
          ],
          [
           "Rennesøy",
           59.027618408203125,
           5.664933204650879
          ],
          [
           "Åfjord",
           63.93603515625,
           10.209362983703613
          ],
          [
           "Alstahaug",
           65.81574249267578,
           12.582308769226074
          ],
          [
           "Steigen",
           67.95092010498047,
           15.638667106628418
          ],
          [
           "Åmot",
           61.0756721496582,
           11.354072570800781
          ],
          [
           "Haugesund",
           59.42901611328125,
           5.09641695022583
          ],
          [
           "Vestre Slidre",
           61.13381576538086,
           8.866314888000488
          ],
          [
           "Vevelstad",
           65.71131134033203,
           12.620412826538086
          ],
          [
           "Sørfold",
           67.53303527832031,
           15.386383056640625
          ],
          [
           "Leirfjord",
           66.03285217285156,
           12.877374649047852
          ],
          [
           "Aure",
           63.14974594116211,
           8.128549575805664
          ],
          [
           "Hammerfest",
           70.58053588867188,
           23.67609977722168
          ],
          [
           "Lindås",
           60.63263702392578,
           5.495230197906494
          ],
          [
           "Osen",
           64.29718017578125,
           10.3934326171875
          ],
          [
           "Torsken",
           69.19186401367188,
           17.038389205932617
          ],
          [
           "Tysnes",
           60.07663345336914,
           5.467066764831543
          ],
          [
           "Vågan",
           68.32526397705078,
           15.202300071716309
          ],
          [
           "Austevoll",
           60.139068603515625,
           5.112782955169678
          ],
          [
           "Fitjar",
           59.92851638793945,
           5.2307000160217285
          ],
          [
           "Gulen",
           60.95026779174805,
           4.919899940490723
          ],
          [
           "Ballangen",
           68.40231323242188,
           16.85926628112793
          ],
          [
           "Skånland",
           68.69226837158203,
           17.05223274230957
          ],
          [
           "Finnøy",
           59.23888397216797,
           5.740616798400879
          ],
          [
           "Gildeskål",
           67.02670288085938,
           14.126282691955566
          ],
          [
           "Engerdal",
           62.07606887817383,
           12.168867111206055
          ],
          [
           "Flekkefjord",
           58.21965026855469,
           6.652166843414307
          ],
          [
           "Austevoll",
           60.09941864013672,
           5.117883205413818
          ],
          [
           "Kvalsund",
           70.38597869873047,
           23.472270965576172
          ],
          [
           "Haugesund",
           59.44091796875,
           5.092766761779785
          ],
          [
           "Åfjord",
           63.995033264160156,
           9.871282577514648
          ],
          [
           "Vikna",
           64.81714630126953,
           10.742500305175781
          ],
          [
           "Bindal",
           65.06438446044922,
           12.051799774169922
          ],
          [
           "Solund",
           61.04518127441406,
           4.725032806396484
          ],
          [
           "Risør",
           58.725833892822266,
           9.211099624633789
          ],
          [
           "Fjell",
           60.40290069580078,
           5.063716888427734
          ],
          [
           "Loppa",
           70.15170288085938,
           22.312667846679688
          ],
          [
           "Kvinnherad",
           59.833133697509766,
           5.709167003631592
          ],
          [
           "Bjørnafjorden",
           60.227699279785156,
           5.876767158508301
          ],
          [
           "Bømlo",
           59.847782135009766,
           5.236682891845703
          ],
          [
           "Tysvær",
           59.298301696777344,
           5.7133331298828125
          ],
          [
           "Hitra",
           63.41583251953125,
           8.47933292388916
          ],
          [
           "Austevoll",
           60.03818130493164,
           5.11441707611084
          ],
          [
           "Averøy",
           62.95220184326172,
           7.569217205047607
          ],
          [
           "Randaberg",
           59.02186965942383,
           5.618478775024414
          ],
          [
           "Rødøy",
           66.58036041259766,
           13.015637397766113
          ],
          [
           "Bømlo",
           59.81256866455078,
           5.110083103179932
          ],
          [
           "Senja",
           69.5385513305664,
           17.67354965209961
          ],
          [
           "Osen",
           64.29536437988281,
           10.397482872009277
          ],
          [
           "Skånland",
           68.69226837158203,
           17.05223274230957
          ],
          [
           "Høyanger",
           61.093448638916016,
           5.8231329917907715
          ],
          [
           "Volda",
           62.14531707763672,
           5.9454498291015625
          ],
          [
           "Tysvær",
           59.42776870727539,
           5.788416862487793
          ],
          [
           "Hemne",
           63.45838165283203,
           8.955682754516602
          ],
          [
           "Bømlo",
           59.598846435546875,
           5.191829204559326
          ],
          [
           "Ørsta",
           62.27488327026367,
           6.00285005569458
          ],
          [
           "Namsos",
           64.45946502685547,
           11.196800231933594
          ],
          [
           "Fitjar",
           59.93320083618164,
           5.239467144012451
          ],
          [
           "Kvinnherad",
           60.10041427612305,
           6.032164096832275
          ],
          [
           "Høyanger",
           61.10511779785156,
           5.853882789611816
          ],
          [
           "Fosnes",
           64.66378021240234,
           11.359416961669922
          ],
          [
           "Halsa",
           63.07673263549805,
           8.19314956665039
          ],
          [
           "Bjørnafjorden",
           60.2265625,
           5.8750081062316895
          ],
          [
           "Alta",
           69.9480972290039,
           23.09233283996582
          ],
          [
           "Hitra",
           63.47181701660156,
           8.676921844482422
          ],
          [
           "Sund",
           60.22006607055664,
           5.214550018310547
          ],
          [
           "Fusa",
           60.16983413696289,
           5.696450233459473
          ],
          [
           "Forsand",
           58.95783996582031,
           6.172616958618164
          ],
          [
           "Haugesund",
           59.429298400878906,
           5.114482879638672
          ],
          [
           "Frøya",
           63.793617248535156,
           8.85456657409668
          ],
          [
           "Øksnes",
           68.93614959716797,
           15.022366523742676
          ],
          [
           "Tvedestrand",
           58.631282806396484,
           9.111183166503906
          ],
          [
           "Vardø",
           70.36083221435547,
           31.037588119506836
          ],
          [
           "Leka",
           65.20317077636719,
           11.569000244140625
          ],
          [
           "Heim",
           63.333534240722656,
           9.180583000183105
          ],
          [
           "Gulen",
           60.99773406982422,
           5.030399799346924
          ],
          [
           "Gildeskål",
           67.03316497802734,
           13.967350006103516
          ],
          [
           "Austevoll",
           60.02091598510742,
           5.081517219543457
          ],
          [
           "Namsos",
           64.45946502685547,
           11.196800231933594
          ],
          [
           "Flekkefjord",
           58.22308349609375,
           6.6354169845581055
          ],
          [
           "Unjargga-Nesseby",
           70.01513671875,
           29.26729965209961
          ],
          [
           "Øygarden",
           60.419315338134766,
           4.909432888031006
          ],
          [
           "Brønnøy",
           65.42511749267578,
           12.473998069763184
          ],
          [
           "Åfjord",
           63.92580032348633,
           10.036849975585938
          ],
          [
           "Vanylven",
           62.17563247680664,
           5.694766998291016
          ],
          [
           "Namsos",
           64.58270263671875,
           11.20199966430664
          ],
          [
           "Hamarøy",
           67.96810913085938,
           15.92687702178955
          ],
          [
           "Nord-Aurdal",
           60.97628402709961,
           9.2924165725708
          ],
          [
           "Tysnes",
           60.03581619262695,
           5.342216968536377
          ],
          [
           "Lurøy",
           66.36730194091797,
           12.371417045593262
          ],
          [
           "Nord-Aurdal",
           60.97645568847656,
           9.291913032531738
          ],
          [
           "Hadsel",
           68.5725326538086,
           15.328967094421387
          ],
          [
           "Rødøy",
           66.53784942626953,
           13.325182914733887
          ],
          [
           "Sveio",
           59.588844299316406,
           5.476589202880859
          ],
          [
           "Loppa",
           70.14144897460938,
           22.35420036315918
          ],
          [
           "Karlsøy",
           69.95137023925781,
           19.587867736816406
          ],
          [
           "Lurøy",
           66.4195327758789,
           13.017566680908203
          ],
          [
           "Brønnøy",
           65.47138214111328,
           12.135000228881836
          ],
          [
           "Fitjar",
           59.88064956665039,
           5.102932929992676
          ],
          [
           "Alta",
           70.08586883544922,
           22.661800384521484
          ],
          [
           "Fitjar",
           59.88064956665039,
           5.102932929992676
          ],
          [
           "Steigen",
           67.97492980957031,
           15.31076717376709
          ],
          [
           "Hitra",
           63.608028411865234,
           8.494632720947266
          ],
          [
           "Brønnøy",
           65.44093322753906,
           12.626916885375977
          ],
          [
           "Frøya",
           63.7453498840332,
           8.881616592407227
          ],
          [
           "Osterøy",
           60.47978210449219,
           5.443633079528809
          ],
          [
           "Bø I Nordland",
           68.79173278808594,
           14.697954177856445
          ],
          [
           "Askvoll",
           61.370384216308594,
           5.018499851226807
          ],
          [
           "Sula",
           62.439918518066406,
           6.240266799926758
          ],
          [
           "Harstad",
           68.9117660522461,
           16.289033889770508
          ],
          [
           "Gjesdal",
           58.83861541748047,
           6.184203147888184
          ],
          [
           "Lebesby",
           70.60191345214844,
           26.954139709472656
          ],
          [
           "Flora",
           61.49726867675781,
           5.102982997894287
          ],
          [
           "Vågan",
           68.24809265136719,
           14.277009010314941
          ],
          [
           "Sør-Varanger",
           69.90965270996094,
           29.680700302124023
          ],
          [
           "Suldal",
           59.31800079345703,
           6.287483215332031
          ],
          [
           "Bodø",
           67.41639709472656,
           14.428667068481445
          ],
          [
           "Bodø",
           67.1855697631836,
           14.388433456420898
          ],
          [
           "Suldal",
           59.41041564941406,
           6.086299896240234
          ],
          [
           "Lindås",
           60.72309875488281,
           5.325450897216797
          ],
          [
           "Kvinnherad",
           60.11243438720703,
           6.042482852935791
          ],
          [
           "Bømlo",
           59.84510040283203,
           5.261366844177246
          ],
          [
           "Hemne",
           63.33155059814453,
           9.123100280761719
          ],
          [
           "Sørfold",
           67.45848846435547,
           15.51158332824707
          ],
          [
           "Radøy",
           60.75148391723633,
           4.88528299331665
          ],
          [
           "Tysnes",
           60.07626724243164,
           5.466533184051514
          ],
          [
           "Lillesand",
           58.2093505859375,
           8.292366981506348
          ],
          [
           "Lurøy",
           66.42008209228516,
           13.018033027648926
          ],
          [
           "Kvinnherad",
           60.12611770629883,
           5.930500030517578
          ],
          [
           "Lindås",
           60.74523162841797,
           5.27006721496582
          ],
          [
           "Lebesby",
           70.50503540039062,
           26.871126174926758
          ],
          [
           "Kvam",
           60.41365051269531,
           6.401199817657471
          ],
          [
           "Lurøy",
           66.5784683227539,
           12.69106674194336
          ],
          [
           "Nærøy",
           64.98375701904297,
           11.766383171081543
          ],
          [
           "Lenvik",
           69.50056457519531,
           17.919017791748047
          ],
          [
           "Dønna",
           66.16404724121094,
           12.40076732635498
          ],
          [
           "Vanylven",
           62.18406677246094,
           5.787567138671875
          ],
          [
           "Sørfold",
           67.35479736328125,
           15.583700180053711
          ],
          [
           "Hitra",
           63.47578430175781,
           9.109800338745117
          ],
          [
           "Fitjar",
           59.970001220703125,
           5.331367015838623
          ],
          [
           "Surnadal",
           63.00053405761719,
           8.32563304901123
          ],
          [
           "Sande I Møre Og Romsdal",
           62.23341751098633,
           5.486116886138916
          ],
          [
           "Høyanger",
           61.19314956665039,
           5.81831693649292
          ],
          [
           "Fusa",
           60.22308349609375,
           5.641167163848877
          ],
          [
           "Askvoll",
           61.37411880493164,
           4.963683128356934
          ],
          [
           "Gjesdal",
           58.86176681518555,
           6.107399940490723
          ],
          [
           "Steigen",
           67.76294708251953,
           15.678016662597656
          ],
          [
           "Øygarden",
           60.518096923828125,
           4.907372951507568
          ],
          [
           "Hitra",
           63.6552848815918,
           9.156794548034668
          ],
          [
           "Nærøy",
           64.9289321899414,
           11.912917137145996
          ],
          [
           "Bjørnafjorden",
           60.26190185546875,
           5.5632500648498535
          ],
          [
           "Kvænangen",
           69.90454864501953,
           21.876832962036133
          ],
          [
           "Øygarden",
           60.69499969482422,
           4.761116981506348
          ],
          [
           "Åmot",
           61.163719177246094,
           11.453601837158203
          ],
          [
           "Askvoll",
           61.36899948120117,
           5.018967151641846
          ],
          [
           "Ibestad",
           68.72760009765625,
           16.91046714782715
          ],
          [
           "Vestre Slidre",
           61.06456756591797,
           9.020116806030273
          ],
          [
           "Halsa",
           63.0489501953125,
           8.216349601745605
          ],
          [
           "Kvam",
           60.31814956665039,
           6.183183193206787
          ],
          [
           "Kvalsund",
           70.56365203857422,
           24.11906623840332
          ],
          [
           "Steigen",
           67.95877075195312,
           15.171667098999023
          ],
          [
           "Austevoll",
           60.07151794433594,
           5.30638313293457
          ],
          [
           "Rødøy",
           66.6180191040039,
           12.954667091369629
          ],
          [
           "Kvinnherad",
           59.870750427246094,
           5.725017070770264
          ],
          [
           "Hemne",
           63.333534240722656,
           9.180583000183105
          ],
          [
           "Bjørnafjorden",
           60.07109832763672,
           5.7368669509887695
          ],
          [
           "Sørfold",
           67.59193420410156,
           15.866867065429688
          ],
          [
           "Åfjord",
           64.18451690673828,
           10.122200012207031
          ],
          [
           "Hadsel",
           68.57418060302734,
           14.958867073059082
          ],
          [
           "Smøla",
           63.25651550292969,
           7.928067207336426
          ],
          [
           "Skjervøy",
           70.06591796875,
           20.80121612548828
          ],
          [
           "Lurøy",
           66.35649871826172,
           12.53011703491211
          ],
          [
           "Nord-Aurdal",
           60.96574020385742,
           9.262264251708984
          ],
          [
           "Rauma",
           62.71648406982422,
           7.730116844177246
          ],
          [
           "Torsken",
           69.3684310913086,
           17.028099060058594
          ],
          [
           "Bømlo",
           59.787899017333984,
           5.1005330085754395
          ],
          [
           "Kristiansund",
           63.077667236328125,
           7.903450012207031
          ],
          [
           "Vindafjord",
           59.47406768798828,
           5.976432800292969
          ],
          [
           "Måsøy",
           70.87483215332031,
           24.616966247558594
          ],
          [
           "Vevelstad",
           65.70821380615234,
           12.58881664276123
          ],
          [
           "Roan",
           64.2433853149414,
           10.264450073242188
          ],
          [
           "Sørfold",
           67.53131866455078,
           15.443567276000977
          ],
          [
           "Masfjorden",
           60.74237823486328,
           5.391121864318848
          ],
          [
           "Jondal",
           60.32421875,
           6.31898307800293
          ],
          [
           "Åfjord",
           64.15689849853516,
           10.008916854858398
          ],
          [
           "Harstad Før 2013",
           68.876953125,
           16.287382125854492
          ],
          [
           "Sør-Odal",
           60.124507904052734,
           11.76832389831543
          ],
          [
           "Lyngdal",
           58.08741760253906,
           7.0091328620910645
          ],
          [
           "Kvam",
           60.260074615478516,
           6.142477989196777
          ],
          [
           "Porsanger",
           70.36676788330078,
           25.466510772705078
          ],
          [
           "Frøya",
           63.728633880615234,
           8.629449844360352
          ],
          [
           "Tysfjord",
           68.09066772460938,
           16.36412811279297
          ],
          [
           "Kvalsund",
           70.6710205078125,
           24.487232208251953
          ],
          [
           "Vindafjord",
           59.539405822753906,
           5.543704032897949
          ],
          [
           "Tingvoll",
           63.07768630981445,
           8.143622398376465
          ],
          [
           "Tysvær",
           59.278751373291016,
           5.508749961853027
          ],
          [
           "Finnøy",
           59.211368560791016,
           5.953199863433838
          ],
          [
           "Finnøy",
           59.17093276977539,
           5.876633167266846
          ],
          [
           "Fjell",
           60.30716323852539,
           5.037103176116943
          ],
          [
           "Herøy I Nordland",
           66.0006332397461,
           12.26656723022461
          ],
          [
           "Skånland",
           68.65782928466797,
           17.20916748046875
          ],
          [
           "Kvinnherad",
           59.83303451538086,
           5.709016799926758
          ],
          [
           "Vindafjord",
           59.67843246459961,
           5.614817142486572
          ],
          [
           "Gulen",
           61.0678825378418,
           5.563833236694336
          ],
          [
           "Kvitsøy",
           59.073768615722656,
           5.432783126831055
          ],
          [
           "Brønnøy",
           65.4468002319336,
           12.5603666305542
          ],
          [
           "Hasvik",
           70.6634521484375,
           22.621732711791992
          ],
          [
           "Hamarøy",
           67.8924331665039,
           16.236717224121094
          ],
          [
           "Hitra",
           63.64500045776367,
           8.879483222961426
          ],
          [
           "Tysvær",
           59.42776870727539,
           5.788416862487793
          ],
          [
           "Vefsn",
           65.80648040771484,
           12.619767189025879
          ],
          [
           "Flekkefjord",
           58.207401275634766,
           6.635049819946289
          ],
          [
           "Værøy",
           67.65460205078125,
           12.682232856750488
          ],
          [
           "Vågan",
           68.16802978515625,
           14.235383033752441
          ],
          [
           "Sørreisa",
           69.15143585205078,
           17.956199645996094
          ],
          [
           "Fjaler",
           61.31643295288086,
           5.156300067901611
          ],
          [
           "Tysnes",
           59.95363235473633,
           5.451399803161621
          ],
          [
           "Lyngdal",
           58.04971694946289,
           6.982150077819824
          ],
          [
           "Hustadvika",
           62.968467712402344,
           7.371232986450195
          ],
          [
           "Tysvær",
           59.3446159362793,
           5.894599914550781
          ],
          [
           "Flora",
           61.61293411254883,
           5.086231231689453
          ],
          [
           "Gulen",
           60.884033203125,
           4.857749938964844
          ],
          [
           "Tysfjord",
           68.19824981689453,
           16.134117126464844
          ],
          [
           "Tysvær",
           59.40546798706055,
           5.863100051879883
          ],
          [
           "Frøya",
           63.793399810791016,
           8.851845741271973
          ],
          [
           "Rennesøy",
           59.027618408203125,
           5.664933204650879
          ],
          [
           "Høyanger",
           61.10844039916992,
           5.756114959716797
          ],
          [
           "Kinn",
           61.53488540649414,
           4.938267230987549
          ],
          [
           "Eide",
           62.928531646728516,
           7.580516815185547
          ],
          [
           "Sortland",
           68.7040023803711,
           15.016667366027832
          ],
          [
           "Fjell",
           60.40290069580078,
           5.063716888427734
          ],
          [
           "Øygarden",
           60.688316345214844,
           4.734416961669922
          ],
          [
           "Stavanger",
           59.08641815185547,
           5.680616855621338
          ],
          [
           "Bokn",
           59.182884216308594,
           5.422176837921143
          ],
          [
           "Meløy",
           66.80679321289062,
           13.111177444458008
          ],
          [
           "Høyanger",
           61.193599700927734,
           5.80161714553833
          ],
          [
           "Senja",
           69.18711853027344,
           17.01508331298828
          ],
          [
           "Inderøy",
           63.84762954711914,
           10.738733291625977
          ],
          [
           "Smøla",
           63.25651550292969,
           7.928067207336426
          ],
          [
           "Røros",
           62.56350326538086,
           11.4767427444458
          ],
          [
           "Gloppen",
           61.78593444824219,
           5.977232933044434
          ],
          [
           "Skjervøy",
           70.03453063964844,
           20.9906005859375
          ],
          [
           "Frogn",
           59.61578369140625,
           10.652649879455566
          ],
          [
           "Frøya",
           63.806209564208984,
           8.567418098449707
          ],
          [
           "Frøya",
           63.86961364746094,
           8.603133201599121
          ],
          [
           "Frøya",
           63.793399810791016,
           8.851845741271973
          ],
          [
           "Bjugn",
           63.8247184753418,
           9.753250122070312
          ],
          [
           "Kvinnherad",
           59.950382232666016,
           5.820483207702637
          ],
          [
           "Hadsel",
           68.67398071289062,
           14.98248291015625
          ],
          [
           "Fjaler",
           61.3068733215332,
           5.229158878326416
          ],
          [
           "Gulen",
           61.00969314575195,
           5.473717212677002
          ],
          [
           "Øksnes",
           68.86299896240234,
           15.08728313446045
          ],
          [
           "Bodø",
           67.4215316772461,
           14.031682968139648
          ],
          [
           "Kvænangen",
           69.84944152832031,
           21.82974624633789
          ],
          [
           "Flora",
           61.631900787353516,
           4.863432884216309
          ],
          [
           "Gulen",
           60.9452018737793,
           4.846049785614014
          ],
          [
           "Kvitsøy",
           59.048099517822266,
           5.423733234405518
          ],
          [
           "Lenvik",
           69.47433471679688,
           17.87868309020996
          ],
          [
           "Kvam",
           60.43012619018555,
           6.41835880279541
          ],
          [
           "Sveio",
           59.6917839050293,
           5.543716907501221
          ],
          [
           "Salangen",
           68.90876770019531,
           17.716949462890625
          ],
          [
           "Vestnes",
           62.55780029296875,
           7.15291690826416
          ],
          [
           "Sogndal",
           61.19990539550781,
           7.1243181228637695
          ],
          [
           "Karmøy",
           59.31733322143555,
           5.383266925811768
          ],
          [
           "Meløy",
           66.8078842163086,
           13.565750122070312
          ],
          [
           "Hjelmeland",
           59.14666748046875,
           6.181666851043701
          ],
          [
           "Rødøy",
           66.58399963378906,
           13.00393295288086
          ],
          [
           "Finnøy",
           59.19205093383789,
           5.870067119598389
          ],
          [
           "Nordreisa",
           69.81611633300781,
           20.717817306518555
          ],
          [
           "Vindafjord",
           59.5181999206543,
           5.819867134094238
          ],
          [
           "Alstahaug",
           66.00704956054688,
           12.7052001953125
          ],
          [
           "Vik",
           61.0081901550293,
           6.3493242263793945
          ],
          [
           "Alta",
           70.32111358642578,
           22.896516799926758
          ],
          [
           "Narvik",
           68.48615264892578,
           17.339332580566406
          ],
          [
           "Aure",
           63.415565490722656,
           8.71226692199707
          ],
          [
           "Gildeskål",
           67.13213348388672,
           14.312549591064453
          ],
          [
           "Høyanger",
           61.079498291015625,
           5.809899806976318
          ],
          [
           "Gildeskål",
           67.03495025634766,
           14.018050193786621
          ],
          [
           "Gulen",
           60.87630081176758,
           5.028049945831299
          ],
          [
           "Hjelmeland",
           59.2320671081543,
           6.008316993713379
          ],
          [
           "Fjaler",
           61.37283706665039,
           5.442217826843262
          ],
          [
           "Rødøy",
           66.73304748535156,
           13.331832885742188
          ],
          [
           "Torsken",
           69.18692016601562,
           17.01373291015625
          ],
          [
           "Lenvik",
           69.50056457519531,
           17.919017791748047
          ],
          [
           "Tromsø",
           69.6953353881836,
           18.17026710510254
          ],
          [
           "Lødingen",
           68.525634765625,
           16.123666763305664
          ],
          [
           "Tvedestrand",
           58.6151008605957,
           9.044750213623047
          ],
          [
           "Vågan",
           68.26828002929688,
           15.104117393493652
          ],
          [
           "Hattfjelldal",
           65.69340515136719,
           14.331592559814453
          ],
          [
           "Namsos",
           64.547607421875,
           11.44663143157959
          ],
          [
           "Gildeskål",
           67.14678192138672,
           14.016532897949219
          ],
          [
           "Karlsøy",
           70.10643005371094,
           19.583866119384766
          ],
          [
           "Kvinnherad",
           59.7176513671875,
           5.722050189971924
          ],
          [
           "Øksnes",
           68.90270233154297,
           15.286749839782715
          ],
          [
           "Skjervøy",
           69.94661712646484,
           20.75276756286621
          ],
          [
           "Bømlo",
           59.79916763305664,
           5.13111686706543
          ],
          [
           "Torsken",
           69.2466812133789,
           17.02568244934082
          ],
          [
           "Rissa",
           63.51093292236328,
           9.92691707611084
          ],
          [
           "Averøy",
           63.05730056762695,
           7.514200210571289
          ],
          [
           "Sørfold",
           67.59193420410156,
           15.866867065429688
          ],
          [
           "Øygarden",
           60.339881896972656,
           4.967549800872803
          ],
          [
           "Hitra",
           63.506065368652344,
           9.190750122070312
          ],
          [
           "Vikna",
           64.81714630126953,
           10.742500305175781
          ],
          [
           "Rødøy",
           66.76948547363281,
           13.171382904052734
          ],
          [
           "Kvam",
           60.39276885986328,
           6.3045501708984375
          ],
          [
           "Høylandet",
           64.88411712646484,
           12.43615436553955
          ],
          [
           "Rana",
           66.30838012695312,
           13.43239974975586
          ],
          [
           "Karlsøy",
           70.24053192138672,
           19.49774932861328
          ],
          [
           "Vanylven",
           62.16654968261719,
           5.595399856567383
          ],
          [
           "Austevoll",
           60.0865364074707,
           5.177029132843018
          ],
          [
           "Rauma",
           62.59785079956055,
           7.3677167892456055
          ],
          [
           "Nærøysund",
           64.81864929199219,
           10.935216903686523
          ],
          [
           "Ørland",
           63.871849060058594,
           9.76984977722168
          ],
          [
           "Agdenes",
           63.51477813720703,
           9.807916641235352
          ],
          [
           "Fjell",
           60.34006118774414,
           4.995020866394043
          ],
          [
           "Vindafjord",
           59.4786262512207,
           5.993310928344727
          ],
          [
           "Frøya",
           63.81734848022461,
           8.462483406066895
          ],
          [
           "Sømna",
           65.22750091552734,
           12.14383316040039
          ],
          [
           "Porsanger",
           70.36676788330078,
           25.466510772705078
          ],
          [
           "Frosta",
           63.587867736816406,
           10.675116539001465
          ],
          [
           "Forsand",
           58.9359016418457,
           6.029716968536377
          ],
          [
           "Gulen",
           60.96886444091797,
           5.19533109664917
          ],
          [
           "Aure",
           63.190467834472656,
           8.578633308410645
          ],
          [
           "Salangen",
           68.82191467285156,
           17.535316467285156
          ],
          [
           "Alta",
           70.34088134765625,
           22.804866790771484
          ],
          [
           "Øygarden",
           60.57356643676758,
           4.81850004196167
          ],
          [
           "Bindal",
           65.18414306640625,
           12.392212867736816
          ],
          [
           "Osterøy",
           60.50959777832031,
           5.526431083679199
          ],
          [
           "Hitra",
           63.63571548461914,
           9.186467170715332
          ],
          [
           "Skjervøy",
           70.09026336669922,
           20.758750915527344
          ],
          [
           "Vevelstad",
           65.73370361328125,
           12.535699844360352
          ],
          [
           "Moskenes",
           67.95034790039062,
           13.077716827392578
          ],
          [
           "Sogndal",
           61.21023178100586,
           7.0920538902282715
          ],
          [
           "Fusa",
           60.20909881591797,
           5.836371898651123
          ],
          [
           "Rauma",
           62.64158248901367,
           7.448583126068115
          ],
          [
           "Flora",
           61.57034683227539,
           5.332888126373291
          ],
          [
           "Lurøy",
           66.52848052978516,
           12.880749702453613
          ],
          [
           "Nærøy",
           64.78656768798828,
           11.727916717529297
          ],
          [
           "Hammerfest",
           70.5753402709961,
           23.034439086914062
          ],
          [
           "Rødøy",
           66.53784942626953,
           13.32509994506836
          ],
          [
           "Nærøysund",
           64.98480224609375,
           11.135466575622559
          ],
          [
           "Kinn",
           61.58774948120117,
           5.335849761962891
          ],
          [
           "Åfjord",
           63.93095016479492,
           10.196967124938965
          ],
          [
           "Frøya",
           63.853816986083984,
           8.63151741027832
          ],
          [
           "Austevoll",
           60.162017822265625,
           5.205566883087158
          ],
          [
           "Bømlo",
           59.873268127441406,
           5.1090168952941895
          ],
          [
           "Fitjar",
           59.89383316040039,
           5.095966815948486
          ],
          [
           "Radøy",
           60.6878662109375,
           4.909732818603516
          ],
          [
           "Steigen",
           67.95877075195312,
           15.171667098999023
          ],
          [
           "Fitjar",
           59.88064956665039,
           5.102932929992676
          ],
          [
           "Hjelmeland",
           59.26988220214844,
           6.142867088317871
          ],
          [
           "Måsøy",
           70.82859802246094,
           24.45181655883789
          ],
          [
           "Bindal",
           65.19000244140625,
           12.419421195983887
          ],
          [
           "Skjervøy",
           69.961669921875,
           20.97694969177246
          ],
          [
           "Fjell",
           60.33253479003906,
           4.942782878875732
          ],
          [
           "Alstahaug",
           65.81574249267578,
           12.582308769226074
          ],
          [
           "Solund",
           61.129234313964844,
           4.900926113128662
          ],
          [
           "Alta",
           70.32066345214844,
           22.89715003967285
          ],
          [
           "Frøya",
           63.711734771728516,
           8.561182975769043
          ],
          [
           "Tysvær",
           59.405433654785156,
           5.7108330726623535
          ],
          [
           "Arendal",
           58.541831970214844,
           8.950682640075684
          ],
          [
           "Tranøy",
           69.14633178710938,
           17.64601707458496
          ],
          [
           "Flora",
           61.58403396606445,
           5.133633136749268
          ],
          [
           "Senja",
           69.41946411132812,
           17.287567138671875
          ],
          [
           "Vevelstad",
           65.70610046386719,
           12.622733116149902
          ],
          [
           "Aure",
           63.299617767333984,
           8.418299674987793
          ],
          [
           "Loppa",
           70.14955139160156,
           22.416749954223633
          ],
          [
           "Tysvær",
           59.40546798706055,
           5.863100051879883
          ],
          [
           "Gildeskål",
           67.02670288085938,
           14.126282691955566
          ],
          [
           "Lødingen",
           68.525634765625,
           16.123666763305664
          ],
          [
           "Kvam",
           60.2595329284668,
           6.141300201416016
          ],
          [
           "Kvam",
           60.179351806640625,
           5.959917068481445
          ],
          [
           "Finnøy",
           59.17093276977539,
           5.876633167266846
          ],
          [
           "Averøy",
           63.06010055541992,
           7.511167049407959
          ],
          [
           "Masfjorden",
           60.74237823486328,
           5.391121864318848
          ],
          [
           "Nordreisa",
           69.8897476196289,
           20.76901626586914
          ],
          [
           "Gildeskål",
           66.9888687133789,
           14.16016674041748
          ],
          [
           "Solund",
           61.129234313964844,
           4.900926113128662
          ],
          [
           "Ørland",
           63.8620491027832,
           9.861967086791992
          ],
          [
           "Leirfjord",
           66.02183532714844,
           12.807550430297852
          ],
          [
           "Øygarden",
           60.518096923828125,
           4.907372951507568
          ],
          [
           "Vestre Slidre",
           61.12329864501953,
           8.881632804870605
          ],
          [
           "Gamvik",
           70.79817962646484,
           28.07943344116211
          ],
          [
           "Båtsfjord",
           70.6272964477539,
           29.697717666625977
          ],
          [
           "Flatanger",
           64.50596618652344,
           10.84453296661377
          ],
          [
           "Flakstad",
           68.05000305175781,
           13.353667259216309
          ],
          [
           "Kvam",
           60.191017150878906,
           5.967617034912109
          ],
          [
           "Tysfjord",
           68.0566177368164,
           16.20418357849121
          ],
          [
           "Karlsøy",
           70.10643005371094,
           19.583866119384766
          ],
          [
           "Ibestad",
           68.75851440429688,
           17.1525821685791
          ],
          [
           "Sørfold",
           67.63176727294922,
           15.262249946594238
          ],
          [
           "Bokn",
           59.23128128051758,
           5.551466941833496
          ],
          [
           "Austrheim",
           60.77486801147461,
           4.853532791137695
          ],
          [
           "Bremanger",
           61.818851470947266,
           4.940267086029053
          ],
          [
           "Nærøy",
           64.94988250732422,
           11.5733003616333
          ],
          [
           "Måsøy",
           70.82859802246094,
           24.45181655883789
          ],
          [
           "Kristiansund",
           63.0767822265625,
           7.904600143432617
          ],
          [
           "Brønnøy",
           65.33622741699219,
           12.518989562988281
          ],
          [
           "Rennesøy",
           59.06428146362305,
           5.722617149353027
          ],
          [
           "Hemne",
           63.333534240722656,
           9.180583000183105
          ],
          [
           "Gloppen",
           61.840450286865234,
           6.100550174713135
          ],
          [
           "Bjørnafjorden",
           60.226497650146484,
           5.8735671043396
          ],
          [
           "Osterøy",
           60.43658447265625,
           5.564833164215088
          ],
          [
           "Åfjord",
           64.15689849853516,
           10.008916854858398
          ],
          [
           "Brønnøy",
           65.52424621582031,
           12.5465669631958
          ],
          [
           "Jondal",
           60.198768615722656,
           6.0968499183654785
          ],
          [
           "Lurøy",
           66.40106964111328,
           12.417383193969727
          ],
          [
           "Ibestad",
           68.9254150390625,
           17.148950576782227
          ],
          [
           "Steigen",
           67.7364730834961,
           14.782402038574219
          ],
          [
           "Radøy",
           60.66986846923828,
           4.917200088500977
          ],
          [
           "Kvinnherad",
           59.785850524902344,
           5.956299781799316
          ],
          [
           "Bømlo",
           59.763301849365234,
           5.235766887664795
          ],
          [
           "Sveio",
           59.50471878051758,
           5.240182876586914
          ],
          [
           "Finnøy",
           59.11676788330078,
           5.854499816894531
          ],
          [
           "Tysnes",
           60.08403396606445,
           5.638667106628418
          ],
          [
           "Bømlo",
           59.73188400268555,
           5.313666820526123
          ],
          [
           "Bømlo",
           59.83253479003906,
           5.079249858856201
          ],
          [
           "Hemne",
           63.35548400878906,
           9.133583068847656
          ],
          [
           "Gildeskål",
           67.14679718017578,
           14.016400337219238
          ],
          [
           "Vestvågøy",
           68.08553314208984,
           13.633417129516602
          ],
          [
           "Kinn",
           61.57709884643555,
           5.237382888793945
          ],
          [
           "Askøy",
           60.4326171875,
           5.061916828155518
          ],
          [
           "Aukra",
           62.783416748046875,
           6.926050186157227
          ],
          [
           "Kvinnherad",
           60.12601852416992,
           5.931333065032959
          ],
          [
           "Haugesund",
           59.44219970703125,
           5.100949764251709
          ],
          [
           "Vindafjord",
           59.47988510131836,
           6.12920618057251
          ],
          [
           "Bømlo",
           59.67171859741211,
           5.167316913604736
          ],
          [
           "Lillesand",
           58.14250183105469,
           8.26751708984375
          ],
          [
           "Tysvær",
           59.42776870727539,
           5.788416862487793
          ],
          [
           "Lurøy",
           66.36833190917969,
           12.585283279418945
          ],
          [
           "Hammerfest",
           70.53804779052734,
           23.55853271484375
          ],
          [
           "Kinn",
           61.68484878540039,
           4.915633201599121
          ],
          [
           "Evenes",
           68.52278137207031,
           17.003883361816406
          ],
          [
           "Dønna",
           66.16404724121094,
           12.40076732635498
          ],
          [
           "Bømlo",
           59.61326599121094,
           5.245266914367676
          ],
          [
           "Vanylven",
           62.17466735839844,
           5.692583084106445
          ],
          [
           "Hitra",
           63.617183685302734,
           8.994132995605469
          ],
          [
           "Gulen",
           60.89378356933594,
           4.837100028991699
          ],
          [
           "Tysfjord",
           68.03398132324219,
           16.253482818603516
          ],
          [
           "Ullensvang",
           60.146217346191406,
           6.121132850646973
          ],
          [
           "Øygarden",
           60.505699157714844,
           4.930200099945068
          ],
          [
           "Surnadal",
           63.00053405761719,
           8.32563304901123
          ],
          [
           "Nærøysund",
           64.96802520751953,
           11.665157318115234
          ],
          [
           "Selje",
           61.97100067138672,
           5.286016941070557
          ],
          [
           "Dønna",
           66.11672973632812,
           12.36728286743164
          ],
          [
           "Flora",
           61.63174819946289,
           4.863616943359375
          ],
          [
           "Tysvær",
           59.39231872558594,
           5.883333206176758
          ],
          [
           "Bindal",
           65.04654693603516,
           12.127866744995117
          ],
          [
           "Namsos",
           64.59609985351562,
           11.273417472839355
          ],
          [
           "Stord",
           59.75111770629883,
           5.488249778747559
          ],
          [
           "Sirdal",
           58.65299987792969,
           6.701333045959473
          ],
          [
           "Frøya",
           63.87358474731445,
           8.471400260925293
          ],
          [
           "Nærøy",
           65.01318359375,
           11.616832733154297
          ],
          [
           "Brønnøy",
           65.49330139160156,
           12.169217109680176
          ],
          [
           "Heim",
           63.33155059814453,
           9.123100280761719
          ],
          [
           "Nærøysund",
           64.96772003173828,
           12.126299858093262
          ],
          [
           "Gildeskål",
           67.08391571044922,
           13.856849670410156
          ],
          [
           "Bergen",
           60.38119888305664,
           5.33253288269043
          ],
          [
           "Rana",
           66.30638122558594,
           14.183771133422852
          ],
          [
           "Kinn",
           61.902217864990234,
           5.209232807159424
          ],
          [
           "Bømlo",
           59.787899017333984,
           5.1005330085754395
          ],
          [
           "Halsa",
           63.105018615722656,
           8.170516967773438
          ],
          [
           "Torsken",
           69.18692016601562,
           17.01373291015625
          ],
          [
           "Leirfjord",
           66.11821746826172,
           12.814350128173828
          ],
          [
           "Gulen",
           60.92863464355469,
           5.015867233276367
          ],
          [
           "Namsos",
           64.77713012695312,
           11.639766693115234
          ],
          [
           "Hyllestad",
           61.110084533691406,
           5.34048318862915
          ],
          [
           "Aure",
           63.21536636352539,
           8.24036693572998
          ],
          [
           "Lurøy",
           66.43863677978516,
           13.127400398254395
          ],
          [
           "Rennesøy",
           59.13158416748047,
           5.721650123596191
          ],
          [
           "Nærøysund",
           64.95704650878906,
           12.168732643127441
          ],
          [
           "Herøy I Nordland",
           65.93496704101562,
           12.13913345336914
          ],
          [
           "Torsken",
           69.18692016601562,
           17.01373291015625
          ],
          [
           "Halsa",
           63.105018615722656,
           8.170516967773438
          ],
          [
           "Kvinnherad",
           59.777549743652344,
           5.829800128936768
          ],
          [
           "Gratangen",
           68.73206329345703,
           17.22606658935547
          ],
          [
           "Fjell",
           60.40476608276367,
           4.939949989318848
          ],
          [
           "Smøla",
           63.33891677856445,
           8.27180004119873
          ],
          [
           "Nærøysund",
           64.85476684570312,
           11.248100280761719
          ],
          [
           "Tysvær",
           59.408748626708984,
           5.6130499839782715
          ],
          [
           "Flora",
           61.582698822021484,
           4.877233028411865
          ],
          [
           "Flatanger",
           64.50596618652344,
           10.84453296661377
          ],
          [
           "Hjelmeland",
           59.22013473510742,
           6.036832809448242
          ],
          [
           "Flakstad",
           68.00900268554688,
           13.170499801635742
          ],
          [
           "Stranda",
           62.30065155029297,
           7.085433006286621
          ],
          [
           "Frøya",
           63.7591667175293,
           8.449132919311523
          ],
          [
           "Rødøy",
           66.53784942626953,
           13.32509994506836
          ],
          [
           "Mandal",
           58.016666412353516,
           7.3572001457214355
          ],
          [
           "Torsken",
           69.19186401367188,
           17.038389205932617
          ],
          [
           "Lødingen",
           68.42756652832031,
           15.85118293762207
          ],
          [
           "Lenvik",
           69.5070571899414,
           17.9058780670166
          ],
          [
           "Kvinnherad",
           59.742610931396484,
           5.722145080566406
          ],
          [
           "Vindafjord",
           59.5181999206543,
           5.819867134094238
          ],
          [
           "Frøya",
           63.67643356323242,
           8.757283210754395
          ],
          [
           "Karlsøy",
           69.93671417236328,
           19.832183837890625
          ],
          [
           "Stavanger",
           59.22661590576172,
           5.853783130645752
          ],
          [
           "Rendalen",
           61.698081970214844,
           11.226550102233887
          ],
          [
           "Rødøy",
           66.53784942626953,
           13.32509994506836
          ],
          [
           "Austevoll",
           60.140499114990234,
           5.095383167266846
          ],
          [
           "Mosvik Før 2012",
           63.89106750488281,
           10.908766746520996
          ],
          [
           "Ørsta",
           62.359981536865234,
           6.263516902923584
          ],
          [
           "Vestre Slidre",
           61.12329864501953,
           8.881632804870605
          ],
          [
           "Torsken",
           69.18692016601562,
           17.01373291015625
          ],
          [
           "Tromsø",
           69.6953353881836,
           18.17026710510254
          ],
          [
           "Brønnøy",
           65.4542007446289,
           12.681300163269043
          ],
          [
           "Gjemnes",
           62.968048095703125,
           7.775199890136719
          ],
          [
           "Frøya",
           63.94256591796875,
           9.131916999816895
          ],
          [
           "Skjervøy",
           69.98715209960938,
           20.66461753845215
          ],
          [
           "Vega",
           65.83141326904297,
           12.07053279876709
          ],
          [
           "Gjemnes",
           62.93254852294922,
           8.098099708557129
          ],
          [
           "Bø I Nordland",
           68.78074645996094,
           14.593732833862305
          ],
          [
           "Namsos",
           64.59609985351562,
           11.273417472839355
          ],
          [
           "Roan",
           64.14814758300781,
           10.159116744995117
          ],
          [
           "Tysnes",
           59.95363235473633,
           5.451399803161621
          ],
          [
           "Kvæfjord",
           68.63746643066406,
           15.854299545288086
          ],
          [
           "Harstad",
           68.93653106689453,
           16.72464942932129
          ],
          [
           "Vikna",
           64.91636657714844,
           11.25113296508789
          ],
          [
           "Vefsn",
           65.80763244628906,
           12.624199867248535
          ],
          [
           "Øygarden",
           60.434181213378906,
           4.94064998626709
          ],
          [
           "Frøya",
           63.761451721191406,
           8.444950103759766
          ],
          [
           "Guovdageaidnu-Kautokeino",
           68.94413757324219,
           22.91871452331543
          ],
          [
           "Øksnes",
           68.96347045898438,
           15.256449699401855
          ],
          [
           "Gratangen",
           68.71309661865234,
           17.42959976196289
          ],
          [
           "Tysvær",
           59.40536880493164,
           5.862617015838623
          ],
          [
           "Solund",
           61.04518127441406,
           4.725032806396484
          ],
          [
           "Kvinnherad",
           60.01762008666992,
           5.833160877227783
          ],
          [
           "Bergen",
           60.40006637573242,
           5.303417205810547
          ],
          [
           "Kvam",
           60.14103317260742,
           5.906932830810547
          ],
          [
           "Heim",
           63.367149353027344,
           9.385333061218262
          ],
          [
           "Åfjord",
           63.953033447265625,
           10.004266738891602
          ],
          [
           "Gratangen",
           68.73133087158203,
           17.234350204467773
          ],
          [
           "Skjervøy",
           69.91571807861328,
           20.601417541503906
          ],
          [
           "Lebesby",
           70.81694793701172,
           27.563716888427734
          ],
          [
           "Nærøy",
           64.96465301513672,
           11.592733383178711
          ],
          [
           "Meløy",
           66.81525421142578,
           13.679729461669922
          ],
          [
           "Alstahaug",
           66.01750183105469,
           12.759833335876465
          ],
          [
           "Roan",
           64.14814758300781,
           10.159116744995117
          ],
          [
           "Frøya",
           63.677818298339844,
           8.66623306274414
          ],
          [
           "Karmøy",
           59.39663314819336,
           5.171082973480225
          ],
          [
           "Sandnes",
           58.922550201416016,
           6.012567043304443
          ],
          [
           "Fjaler",
           61.30595016479492,
           5.072183132171631
          ],
          [
           "Gildeskål",
           67.05783081054688,
           14.025333404541016
          ],
          [
           "Hitra",
           63.65148162841797,
           8.747200012207031
          ],
          [
           "Stranda",
           62.28765106201172,
           6.990333080291748
          ],
          [
           "Askvoll",
           61.46781539916992,
           5.220300197601318
          ],
          [
           "Risør",
           58.73643112182617,
           9.176650047302246
          ],
          [
           "Flora",
           61.60224914550781,
           5.035150051116943
          ],
          [
           "Kvam",
           60.3929328918457,
           6.3072829246521
          ],
          [
           "Tysvær",
           59.3446159362793,
           5.894599914550781
          ],
          [
           "Vik",
           61.0081901550293,
           6.3493242263793945
          ],
          [
           "Kvæfjord",
           68.7800521850586,
           16.09779930114746
          ],
          [
           "Engerdal",
           62.07606887817383,
           12.168867111206055
          ],
          [
           "Aure",
           63.41081237792969,
           8.728090286254883
          ],
          [
           "Averøy",
           63.09303283691406,
           7.675882816314697
          ],
          [
           "Sørreisa",
           69.15143585205078,
           17.956199645996094
          ],
          [
           "Vanylven",
           62.16654968261719,
           5.595399856567383
          ],
          [
           "Måsøy",
           70.96236419677734,
           24.672483444213867
          ],
          [
           "Porsanger",
           70.36676788330078,
           25.466510772705078
          ],
          [
           "Meløy",
           66.80905151367188,
           13.115467071533203
          ],
          [
           "Bømlo",
           59.80098342895508,
           5.248000144958496
          ],
          [
           "Steigen",
           67.71758270263672,
           15.40703296661377
          ],
          [
           "Namdalseid",
           64.47498321533203,
           11.188699722290039
          ],
          [
           "Øksnes",
           68.88853454589844,
           15.06016731262207
          ],
          [
           "Roan",
           64.27811431884766,
           10.334342956542969
          ],
          [
           "Hjelmeland",
           59.22098159790039,
           6.119150161743164
          ],
          [
           "Vindafjord",
           59.56218338012695,
           5.555500030517578
          ],
          [
           "Suldal",
           59.4516487121582,
           5.991917133331299
          ],
          [
           "Værøy",
           67.66157531738281,
           12.665440559387207
          ],
          [
           "Torsken",
           69.25753021240234,
           17.088699340820312
          ],
          [
           "Øksnes",
           68.90959930419922,
           15.076199531555176
          ],
          [
           "Gjemnes",
           62.93254852294922,
           8.098099708557129
          ],
          [
           "Kvinnherad",
           59.83303451538086,
           5.709016799926758
          ],
          [
           "Volda",
           62.00491714477539,
           5.850367069244385
          ],
          [
           "Skodje",
           62.452701568603516,
           6.602482795715332
          ],
          [
           "Sandnes",
           58.900978088378906,
           5.962048053741455
          ],
          [
           "Tysvær",
           59.278751373291016,
           5.508749961853027
          ],
          [
           "Brønnøy",
           65.4468002319336,
           12.5603666305542
          ],
          [
           "Halsa",
           63.07673263549805,
           8.19314956665039
          ],
          [
           "Kvinnherad",
           59.76076889038086,
           5.686767101287842
          ],
          [
           "Hadsel",
           68.33944702148438,
           15.035799980163574
          ],
          [
           "Brønnøy",
           65.47606658935547,
           12.650349617004395
          ],
          [
           "Tromsø",
           69.78865051269531,
           19.1610164642334
          ],
          [
           "Fjaler",
           61.3068733215332,
           5.229158878326416
          ],
          [
           "Lødingen",
           68.37492370605469,
           15.317882537841797
          ],
          [
           "Masfjorden",
           60.88533401489258,
           5.461599826812744
          ],
          [
           "Averøy",
           63.060298919677734,
           7.594283103942871
          ],
          [
           "Flora",
           61.663368225097656,
           4.9206671714782715
          ],
          [
           "Karlsøy",
           69.83116912841797,
           19.520383834838867
          ],
          [
           "Suldal",
           59.313350677490234,
           6.267199993133545
          ],
          [
           "Sande I Møre Og Romsdal",
           62.2528076171875,
           5.485269069671631
          ],
          [
           "Folldal",
           62.09548568725586,
           9.974873542785645
          ],
          [
           "Harstad",
           68.86371612548828,
           16.403032302856445
          ],
          [
           "Austevoll",
           60.100833892822266,
           5.117066860198975
          ],
          [
           "Tysnes",
           59.87576675415039,
           5.638816833496094
          ],
          [
           "Nordkapp",
           70.88541412353516,
           25.4951171875
          ],
          [
           "Lyngdal",
           58.044349670410156,
           7.038217067718506
          ],
          [
           "Salangen",
           68.89478302001953,
           17.69026756286621
          ],
          [
           "Gulen",
           60.965301513671875,
           4.90749979019165
          ],
          [
           "Nærøysund",
           65.02532958984375,
           11.676016807556152
          ],
          [
           "Finnøy",
           59.122318267822266,
           5.9344329833984375
          ],
          [
           "Hadsel",
           68.51184844970703,
           14.95163345336914
          ],
          [
           "Bodø",
           67.57281494140625,
           15.128683090209961
          ],
          [
           "Gildeskål",
           67.1183853149414,
           13.898417472839355
          ],
          [
           "Sørfold",
           67.60568237304688,
           15.36848258972168
          ],
          [
           "Stord",
           59.75111770629883,
           5.488249778747559
          ],
          [
           "Flatanger",
           64.5000228881836,
           10.91193962097168
          ],
          [
           "Kvinnherad",
           60.10585021972656,
           6.205417156219482
          ],
          [
           "Bømlo",
           59.61338424682617,
           5.2459330558776855
          ],
          [
           "Åfjord",
           63.89238357543945,
           9.983149528503418
          ],
          [
           "Fjaler",
           61.3068733215332,
           5.229158878326416
          ],
          [
           "Hammerfest",
           70.70880126953125,
           23.799745559692383
          ],
          [
           "Vestvågøy",
           68.30750274658203,
           13.838712692260742
          ],
          [
           "Bjørnafjorden",
           60.17048263549805,
           5.699283123016357
          ],
          [
           "Osen",
           64.28579711914062,
           10.309049606323242
          ],
          [
           "Bømlo",
           59.62358474731445,
           5.160067081451416
          ],
          [
           "Steigen",
           67.95092010498047,
           15.638667106628418
          ],
          [
           "Kristiansund",
           63.04071807861328,
           7.849699974060059
          ],
          [
           "Karmøy",
           59.41081619262695,
           5.217249870300293
          ],
          [
           "Hemnes",
           66.19539642333984,
           13.54151725769043
          ],
          [
           "Heim",
           63.14458465576172,
           8.459567070007324
          ],
          [
           "Nærøysund",
           65.06466674804688,
           12.042817115783691
          ],
          [
           "Tysfjord",
           68.05713653564453,
           16.2044677734375
          ],
          [
           "Solund",
           61.165618896484375,
           5.052416801452637
          ],
          [
           "Lenvik",
           69.54630279541016,
           17.769699096679688
          ],
          [
           "Namdalseid",
           64.45269775390625,
           11.34179973602295
          ],
          [
           "Brønnøy",
           65.47138214111328,
           12.135000228881836
          ],
          [
           "Agdenes",
           63.5894660949707,
           9.409382820129395
          ],
          [
           "Flora",
           61.64228057861328,
           5.367815017700195
          ],
          [
           "Nordreisa",
           69.791748046875,
           20.600536346435547
          ],
          [
           "Bindal",
           65.04586791992188,
           12.156932830810547
          ],
          [
           "Sandnes",
           58.903709411621094,
           5.963544845581055
          ],
          [
           "Alstahaug",
           65.81574249267578,
           12.582308769226074
          ],
          [
           "Herøy I Nordland",
           65.97871398925781,
           12.16355037689209
          ],
          [
           "Bjugn",
           63.8620491027832,
           9.861967086791992
          ],
          [
           "Rauma",
           62.60734176635742,
           7.29330587387085
          ],
          [
           "Gulen",
           60.99773406982422,
           5.030399799346924
          ],
          [
           "Lebesby",
           70.73723602294922,
           27.317182540893555
          ],
          [
           "Nordreisa",
           69.93111419677734,
           20.955432891845703
          ],
          [
           "Sande I Møre Og Romsdal",
           62.28755187988281,
           5.474833011627197
          ],
          [
           "Brønnøy",
           65.43516540527344,
           12.463932991027832
          ],
          [
           "Namdalseid",
           64.49493408203125,
           11.16433334350586
          ],
          [
           "Austevoll",
           60.11808395385742,
           5.158767223358154
          ],
          [
           "Åfjord",
           63.93095016479492,
           10.196967124938965
          ],
          [
           "Tysvær",
           59.247684478759766,
           5.572432994842529
          ],
          [
           "Masfjorden",
           60.88520050048828,
           5.462082862854004
          ],
          [
           "Sunndal",
           62.878482818603516,
           8.488733291625977
          ],
          [
           "Fjaler",
           61.351688385009766,
           5.322965145111084
          ],
          [
           "Bømlo",
           59.742984771728516,
           5.363633155822754
          ],
          [
           "Sveio",
           59.51831817626953,
           5.244382858276367
          ],
          [
           "Aukra",
           62.845115661621094,
           6.776750087738037
          ],
          [
           "Namsos",
           64.68403625488281,
           11.235516548156738
          ],
          [
           "Flekkefjord",
           58.24148178100586,
           6.595799922943115
          ],
          [
           "Hadsel",
           68.51184844970703,
           14.95163345336914
          ],
          [
           "Sogndal",
           61.184349060058594,
           6.854883193969727
          ],
          [
           "Kristiansund",
           63.030181884765625,
           7.716149806976318
          ],
          [
           "Hyllestad",
           61.201717376708984,
           5.170932769775391
          ],
          [
           "Volda",
           62.1956672668457,
           5.904417037963867
          ],
          [
           "Finnøy",
           59.229034423828125,
           5.824999809265137
          ],
          [
           "Radøy",
           60.68693161010742,
           4.907933235168457
          ],
          [
           "Hamarøy",
           68.03358459472656,
           16.25385093688965
          ],
          [
           "Smøla",
           63.462100982666016,
           7.8562331199646
          ],
          [
           "Trondheim",
           63.43721389770508,
           10.397501945495605
          ],
          [
           "Averøy",
           63.05730056762695,
           7.514200210571289
          ],
          [
           "Ørsta",
           62.30167007446289,
           6.081737995147705
          ],
          [
           "Bjugn",
           63.890621185302734,
           9.953617095947266
          ],
          [
           "Selje",
           61.97100067138672,
           5.286016941070557
          ],
          [
           "Herøy I Nordland",
           65.93428039550781,
           12.071566581726074
          ],
          [
           "Namdalseid",
           64.47498321533203,
           11.188699722290039
          ],
          [
           "Flatanger",
           64.5000228881836,
           10.91193962097168
          ],
          [
           "Steigen",
           67.91831970214844,
           15.353282928466797
          ],
          [
           "Kvæfjord",
           68.6507339477539,
           15.92508316040039
          ],
          [
           "Hyllestad",
           61.076751708984375,
           5.386016845703125
          ],
          [
           "Tromsø",
           69.86808013916016,
           18.931032180786133
          ],
          [
           "Vevelstad",
           65.665283203125,
           12.650016784667969
          ],
          [
           "Smøla",
           63.476348876953125,
           7.951517105102539
          ],
          [
           "Kvam",
           60.234981536865234,
           6.006217002868652
          ],
          [
           "Namsos",
           64.57665252685547,
           11.586000442504883
          ],
          [
           "Bømlo",
           59.67169952392578,
           5.167449951171875
          ],
          [
           "Austevoll",
           60.09138488769531,
           5.222617149353027
          ],
          [
           "Vindafjord",
           59.44160079956055,
           5.747350215911865
          ],
          [
           "Halsa",
           63.14273452758789,
           8.224932670593262
          ],
          [
           "Namsos",
           64.54808044433594,
           11.524717330932617
          ],
          [
           "Lurøy",
           66.39396667480469,
           12.799817085266113
          ],
          [
           "Midsund",
           62.64440155029297,
           6.55679988861084
          ],
          [
           "Tysnes",
           60.07014846801758,
           5.443817138671875
          ],
          [
           "Kvitsøy",
           59.046749114990234,
           5.439549922943115
          ],
          [
           "Midsund",
           62.641998291015625,
           6.5406670570373535
          ],
          [
           "Bodø",
           67.31302642822266,
           14.735136985778809
          ],
          [
           "Nærøy",
           64.85476684570312,
           11.248250007629395
          ],
          [
           "Kvinnherad",
           59.99281692504883,
           5.85841703414917
          ],
          [
           "Risør",
           58.73643112182617,
           9.176650047302246
          ],
          [
           "Øygarden",
           60.268516540527344,
           5.107900142669678
          ],
          [
           "Kvinnherad",
           59.699981689453125,
           5.723617076873779
          ],
          [
           "Bindal",
           65.09483337402344,
           12.024649620056152
          ],
          [
           "Skjervøy",
           70.04613494873047,
           21.282033920288086
          ],
          [
           "Strand",
           59.037349700927734,
           5.928750038146973
          ],
          [
           "Bjugn",
           63.835166931152344,
           9.764567375183105
          ],
          [
           "Tysvær",
           59.39231872558594,
           5.883333206176758
          ],
          [
           "Lurøy",
           66.35845184326172,
           12.485016822814941
          ],
          [
           "Øksnes",
           68.86595153808594,
           14.996549606323242
          ],
          [
           "Frogn",
           59.61578369140625,
           10.652649879455566
          ],
          [
           "Snillfjord",
           63.506065368652344,
           9.190750122070312
          ],
          [
           "Masfjorden",
           60.808998107910156,
           5.2956671714782715
          ],
          [
           "Sørfold",
           67.51316833496094,
           15.570432662963867
          ],
          [
           "Vevelstad",
           65.68866729736328,
           12.668466567993164
          ],
          [
           "Bergen",
           60.35476303100586,
           5.189174175262451
          ],
          [
           "Tromsø",
           69.70953369140625,
           18.363983154296875
          ],
          [
           "Sandnes",
           58.93024826049805,
           5.997250080108643
          ],
          [
           "Steigen",
           67.65619659423828,
           15.11856746673584
          ],
          [
           "Kinn",
           61.63428497314453,
           5.238426208496094
          ],
          [
           "Guovdageaidnu - Kautokeino",
           68.94413757324219,
           22.91871452331543
          ],
          [
           "Bømlo",
           59.77658462524414,
           5.321816921234131
          ],
          [
           "Bømlo",
           59.67118453979492,
           5.312150001525879
          ],
          [
           "Masfjorden",
           60.808998107910156,
           5.2956671714782715
          ],
          [
           "Lurøy",
           66.36540222167969,
           12.37734317779541
          ],
          [
           "Nærøy",
           64.74996948242188,
           11.394183158874512
          ],
          [
           "Sortland",
           68.60053253173828,
           15.344866752624512
          ],
          [
           "Gulen",
           60.968299865722656,
           5.1658501625061035
          ],
          [
           "Bergen",
           60.3866081237793,
           5.330729961395264
          ],
          [
           "Flekkefjord",
           58.207401275634766,
           6.635049819946289
          ],
          [
           "Bømlo",
           59.63650131225586,
           5.247132778167725
          ],
          [
           "Osen",
           64.3646011352539,
           10.439132690429688
          ],
          [
           "Frøya",
           63.767181396484375,
           8.908516883850098
          ],
          [
           "Aure",
           63.13776779174805,
           8.030150413513184
          ],
          [
           "Øksnes",
           68.90959930419922,
           15.076199531555176
          ],
          [
           "Kvinesdal",
           58.27705764770508,
           6.887324810028076
          ],
          [
           "Kvæfjord",
           68.76692962646484,
           16.064849853515625
          ],
          [
           "Tvedestrand",
           58.603816986083984,
           9.013833045959473
          ],
          [
           "Averøy",
           63.099517822265625,
           7.670332908630371
          ],
          [
           "Herøy I Nordland",
           65.93446350097656,
           12.135017395019531
          ],
          [
           "Austevoll",
           60.09433364868164,
           5.242166996002197
          ],
          [
           "Masfjorden",
           60.86750030517578,
           5.552149772644043
          ],
          [
           "Strand",
           58.97471618652344,
           5.935949802398682
          ],
          [
           "Dønna",
           66.24348449707031,
           12.294182777404785
          ],
          [
           "Hadsel",
           68.56843566894531,
           15.330050468444824
          ],
          [
           "Kvænangen",
           70.06378173828125,
           21.90345001220703
          ],
          [
           "Aure",
           63.29966735839844,
           8.418333053588867
          ],
          [
           "Askvoll",
           61.475284576416016,
           5.278367042541504
          ],
          [
           "Senja",
           69.33533477783203,
           17.09353256225586
          ],
          [
           "Finnøy",
           59.17091751098633,
           5.87641716003418
          ],
          [
           "Fitjar",
           59.839317321777344,
           5.30495023727417
          ],
          [
           "Fosnes",
           64.64395141601562,
           11.388327598571777
          ],
          [
           "Lurøy",
           66.35896301269531,
           12.476412773132324
          ],
          [
           "Høyanger",
           61.15266799926758,
           6.116700172424316
          ],
          [
           "Øksnes",
           68.94046783447266,
           15.30483341217041
          ],
          [
           "Skjervøy",
           69.94661712646484,
           20.75276756286621
          ],
          [
           "Sortland",
           68.60588073730469,
           15.379133224487305
          ],
          [
           "Bindal",
           65.06204223632812,
           12.099989891052246
          ],
          [
           "Fusa",
           60.24711608886719,
           5.634749889373779
          ],
          [
           "Bømlo",
           59.81256866455078,
           5.110083103179932
          ],
          [
           "Hitra",
           63.608028411865234,
           8.494632720947266
          ],
          [
           "Unjargga-Nesseby",
           70.06449890136719,
           29.034700393676758
          ],
          [
           "Rauma",
           62.60734176635742,
           7.29330587387085
          ],
          [
           "Smøla",
           63.462100982666016,
           7.8562331199646
          ],
          [
           "Nærøy",
           64.7926025390625,
           11.473250389099121
          ],
          [
           "Nærøy",
           64.75084686279297,
           11.189032554626465
          ],
          [
           "Nærøy",
           64.77393341064453,
           11.44087028503418
          ],
          [
           "Roan",
           64.10333251953125,
           10.250450134277344
          ],
          [
           "Stord",
           59.86499786376953,
           5.5528340339660645
          ],
          [
           "Ullensvang",
           60.21649932861328,
           6.1578497886657715
          ],
          [
           "Torsken",
           69.1958999633789,
           16.915950775146484
          ],
          [
           "Høyanger",
           61.09998321533203,
           5.72996711730957
          ],
          [
           "Kvitsøy",
           59.046749114990234,
           5.439549922943115
          ],
          [
           "Gulen",
           60.987831115722656,
           5.483182907104492
          ],
          [
           "Volda",
           62.13511657714844,
           6.021432876586914
          ],
          [
           "Averøy",
           63.03598403930664,
           7.678116798400879
          ],
          [
           "Frøya",
           63.66360092163086,
           8.432267189025879
          ],
          [
           "Sørfold",
           67.57548522949219,
           15.878083229064941
          ],
          [
           "Senja",
           69.25753021240234,
           17.088699340820312
          ],
          [
           "Hadsel",
           68.44508361816406,
           14.819382667541504
          ],
          [
           "Nærøy",
           65.04754638671875,
           11.8785400390625
          ],
          [
           "Senja",
           69.36811828613281,
           17.028099060058594
          ],
          [
           "Sund",
           60.22006607055664,
           5.214550018310547
          ],
          [
           "Rauma",
           62.61561584472656,
           7.276500225067139
          ],
          [
           "Selje",
           62.14121627807617,
           5.326749801635742
          ],
          [
           "Åfjord",
           63.95418167114258,
           10.085183143615723
          ],
          [
           "Askvoll",
           61.3205680847168,
           4.941116809844971
          ],
          [
           "Heim",
           63.367149353027344,
           9.385333061218262
          ],
          [
           "Hamarøy",
           68.19824981689453,
           16.134117126464844
          ],
          [
           "Namsos",
           64.61541748046875,
           11.62844467163086
          ],
          [
           "Bømlo",
           59.67118453979492,
           5.312150001525879
          ],
          [
           "Åfjord",
           63.93748474121094,
           10.141532897949219
          ],
          [
           "Nærøy",
           64.97163391113281,
           11.723933219909668
          ],
          [
           "Lurøy",
           66.39396667480469,
           12.799817085266113
          ],
          [
           "Tingvoll",
           62.979217529296875,
           8.242420196533203
          ],
          [
           "Aure",
           63.411720275878906,
           8.732087135314941
          ],
          [
           "Aure",
           63.21297073364258,
           8.542588233947754
          ],
          [
           "Sande I Møre Og Romsdal",
           62.2528076171875,
           5.485269069671631
          ],
          [
           "Gildeskål",
           67.03693389892578,
           13.967766761779785
          ],
          [
           "Brønnøy",
           65.54651641845703,
           12.12796688079834
          ],
          [
           "Gildeskål",
           67.06884765625,
           14.076132774353027
          ],
          [
           "Vardø",
           70.36083221435547,
           31.037588119506836
          ],
          [
           "Sortland",
           68.6969985961914,
           14.963382720947266
          ],
          [
           "Osterøy",
           60.43658447265625,
           5.564833164215088
          ],
          [
           "Meløy",
           66.8079833984375,
           13.919882774353027
          ],
          [
           "Ibestad",
           68.85321807861328,
           17.065750122070312
          ],
          [
           "Hitra",
           63.47156524658203,
           8.678916931152344
          ],
          [
           "Folldal",
           62.0935173034668,
           9.97366714477539
          ],
          [
           "Molde",
           62.673946380615234,
           7.307048797607422
          ],
          [
           "Tysvær",
           59.329097747802734,
           5.612596035003662
          ],
          [
           "Stad",
           62.141334533691406,
           5.339700222015381
          ],
          [
           "Bømlo",
           59.743499755859375,
           5.204782962799072
          ],
          [
           "Flekkefjord",
           58.238765716552734,
           6.656650066375732
          ],
          [
           "Fusa",
           60.24711608886719,
           5.634749889373779
          ],
          [
           "Selje",
           62.05561828613281,
           5.4832000732421875
          ],
          [
           "Forsand",
           58.93507766723633,
           6.037278175354004
          ],
          [
           "Finnøy",
           59.09728240966797,
           5.835916996002197
          ],
          [
           "Bardu",
           68.8029556274414,
           18.526195526123047
          ],
          [
           "Fosnes",
           64.73399353027344,
           11.522297859191895
          ],
          [
           "Averøy",
           63.06010055541992,
           7.511167049407959
          ],
          [
           "Solund",
           61.101951599121094,
           4.711382865905762
          ],
          [
           "Austevoll",
           60.004615783691406,
           5.227632999420166
          ],
          [
           "Engerdal",
           61.84993362426758,
           12.000967025756836
          ],
          [
           "Fosnes",
           64.66378021240234,
           11.359416961669922
          ],
          [
           "Namsos",
           64.57173919677734,
           11.166874885559082
          ],
          [
           "Lindås",
           60.67298126220703,
           5.397417068481445
          ],
          [
           "Bodø",
           67.53316497802734,
           15.165582656860352
          ],
          [
           "Sørfold",
           67.63265228271484,
           15.263250350952148
          ],
          [
           "Snillfjord",
           63.47719192504883,
           9.13320541381836
          ],
          [
           "Gulen",
           60.996734619140625,
           4.8956499099731445
          ],
          [
           "Nordkapp",
           71.0093994140625,
           25.912368774414062
          ],
          [
           "Kvæfjord",
           68.7800521850586,
           16.09779930114746
          ],
          [
           "Austevoll",
           60.14951705932617,
           5.155582904815674
          ],
          [
           "Askøy",
           60.5308837890625,
           4.973249912261963
          ],
          [
           "Randaberg",
           59.02186965942383,
           5.618478775024414
          ],
          [
           "Heim",
           63.29534912109375,
           9.087754249572754
          ],
          [
           "Alver",
           60.66437530517578,
           5.235020160675049
          ],
          [
           "Høyanger",
           61.10559844970703,
           5.853600025177002
          ],
          [
           "Frøya",
           63.76186752319336,
           8.445182800292969
          ],
          [
           "Måsøy",
           70.95816802978516,
           24.611982345581055
          ],
          [
           "Dønna",
           66.11311340332031,
           12.487683296203613
          ],
          [
           "Gildeskål",
           67.10784912109375,
           14.269017219543457
          ],
          [
           "Leka",
           65.13483428955078,
           11.515982627868652
          ],
          [
           "Gratangen",
           68.72921752929688,
           17.30706787109375
          ],
          [
           "Evenes",
           68.47486877441406,
           17.303932189941406
          ],
          [
           "Ullensvang",
           60.22133255004883,
           6.140132904052734
          ],
          [
           "Øksnes",
           68.89766693115234,
           15.00629997253418
          ],
          [
           "Vestvågøy",
           68.05756378173828,
           13.541885375976562
          ],
          [
           "Sveio",
           59.6083984375,
           5.311916828155518
          ],
          [
           "Bodø",
           67.57281494140625,
           15.128683090209961
          ],
          [
           "Vega",
           65.68620300292969,
           12.139166831970215
          ],
          [
           "Vikna",
           64.76349639892578,
           10.807332992553711
          ],
          [
           "Vestvågøy",
           68.11054992675781,
           13.743049621582031
          ],
          [
           "Namsos",
           64.547607421875,
           11.44663143157959
          ],
          [
           "Rødøy",
           66.61817932128906,
           12.95518684387207
          ],
          [
           "Åfjord",
           63.92353439331055,
           10.111742973327637
          ],
          [
           "Fusa",
           60.20188522338867,
           5.873170852661133
          ],
          [
           "Ibestad",
           68.88618469238281,
           17.109216690063477
          ],
          [
           "Bodø",
           67.27811431884766,
           14.55685043334961
          ],
          [
           "Tysnes",
           60.07626724243164,
           5.466533184051514
          ],
          [
           "Fosnes",
           64.73399353027344,
           11.522297859191895
          ],
          [
           "Tromsø",
           69.75446319580078,
           19.03048324584961
          ],
          [
           "Hemne",
           63.35548400878906,
           9.133583068847656
          ],
          [
           "Steigen",
           67.65619659423828,
           15.11856746673584
          ],
          [
           "Høyanger",
           61.10844039916992,
           5.756114959716797
          ],
          [
           "Gjemnes",
           62.94240188598633,
           8.075599670410156
          ],
          [
           "Halsa",
           63.141231536865234,
           8.213749885559082
          ],
          [
           "Gloppen",
           61.78593444824219,
           5.977232933044434
          ],
          [
           "Agdenes",
           63.51477813720703,
           9.807916641235352
          ],
          [
           "Tysnes",
           59.94047927856445,
           5.518125057220459
          ],
          [
           "Fosnes",
           64.60482025146484,
           11.440032958984375
          ],
          [
           "Hjelmeland",
           59.215431213378906,
           6.097567081451416
          ],
          [
           "Vestre Slidre",
           61.12329864501953,
           8.881632804870605
          ],
          [
           "Vågan",
           68.31538391113281,
           15.140132904052734
          ],
          [
           "Radøy",
           60.752532958984375,
           4.884616851806641
          ],
          [
           "Narvik",
           68.41753387451172,
           16.791349411010742
          ],
          [
           "Vestnes",
           62.652034759521484,
           6.811049938201904
          ],
          [
           "Flekkefjord",
           58.22343444824219,
           6.636149883270264
          ],
          [
           "Hareid",
           62.33176803588867,
           6.073432922363281
          ],
          [
           "Meløy",
           66.8079833984375,
           13.919882774353027
          ],
          [
           "Måsøy",
           70.91780090332031,
           25.006250381469727
          ]
         ],
         "hovertemplate": "<b>%{hovertext}</b><br><br>lat=%{customdata[1]}<br>lon=%{customdata[2]}<br>municipality=%{customdata[0]}<extra></extra>",
         "hovertext": [
          "Innerbrokløysa",
          "Kjeøya V",
          "Bergsøy",
          "Sørlandsbukta",
          "Sagvik",
          "Æsøya",
          "Rotvik",
          "Båfjorden",
          "Rutlebekk",
          "Øyerhamn",
          "Finnvika Sør",
          "Kvalnesbukta",
          "Ferisfjorden",
          "Mefaldskjæret",
          "Dåfjorden",
          "Skarvestein",
          "Meøypollen",
          "Alsvåg",
          "Haapollen",
          "Selvågen",
          "Breidvik",
          "Gården Melleby",
          "Hogsneset N",
          "Gisløy S",
          "Salangslia",
          "Juvika",
          "Garvik",
          "Torgerhaugen",
          "Krabbholmen",
          "Røneset",
          "Ursbakken",
          "Voldnes",
          "Grimsholmen",
          "Hondskår",
          "Reiråklakken",
          "Bota Oksefjorden",
          "Bergvikodden",
          "Ljøsnes",
          "Digerneset",
          "Uføro",
          "Oksebåsen V",
          "Bryggelandsholmane",
          "Lubben",
          "Nordnes",
          "Torskavika",
          "Langskjæran",
          "Anevik",
          "Gjerdinga",
          "Sauøy Ø",
          "Elveneset",
          "Oksskardvika",
          "Oterholman Sø",
          "Sydnessund",
          "Store Kvalfjord",
          "Dirdal",
          "Skitneset",
          "Indre Kårvik (Land)",
          "Djupvika",
          "Breivika Sør",
          "Rogndalen",
          "Stakkvika",
          "Grasholman",
          "Djupvik I",
          "Krekvikbogen",
          "Or",
          "Reinvika",
          "Bøøy",
          "Bogelva",
          "Holandselv",
          "Sørvær Øst",
          "Eidesvik",
          "Nøklan",
          "Indre Lokkarfjord",
          "Hjortholman",
          "Langavika",
          "Bakka",
          "Øksengård",
          "Neset",
          "Låderskjera",
          "Nesevågen",
          "Stakkvika",
          "Hausvik",
          "Reinsnesøya",
          "Slettnesfjord",
          "Salatskjæra",
          "Klavelandet",
          "Olstind",
          "Kvernaneset",
          "Skjervika",
          "Flatskjæret",
          "Sortevika",
          "Forvik",
          "Fjellbukt",
          "Linesvika",
          "Eidemolla",
          "Tytlandsvik",
          "Trosnavåg",
          "Vassvika",
          "Tømmervika",
          "Kleven",
          "Hasvik",
          "Ystadneset",
          "Øyerhamn",
          "Grøttingsøy",
          "Langneset",
          "Skauholmen",
          "Gamskjæran",
          "Vullum",
          "Skittenelv",
          "Saltholmen",
          "Helsøya",
          "Torjulvågen",
          "Dåfjorden",
          "Stretarneset",
          "Melkøya",
          "Flåtegrunnen",
          "Kraknes",
          "Oppmyrbogen",
          "Æsøya",
          "Engeløysundet N",
          "Kvernavika",
          "Mjåneset",
          "Rataren II",
          "Klauvnes",
          "Jamnungen",
          "Trettøy",
          "Draugen Varoddbroa",
          "Kvarvaneset",
          "Svartfjell",
          "Smørhamn II",
          "Persholmen",
          "Heggbærvika",
          "Flatøymarka Ø",
          "Forsan",
          "Kvernen Gård",
          "Bryggelandsholmane",
          "Lofoss Mølle",
          "Aunvågen Visten",
          "Bjørnsvik",
          "Selvågen",
          "Segelråa",
          "Grøtnes N",
          "Bjørsvik",
          "Breidvika",
          "Flakstadvåg Havn",
          "Midtflua",
          "Storfjell",
          "Naveide",
          "Dyrholmen Vest",
          "Flatøyna",
          "Hesjeholmen",
          "Ystevika",
          "Andreggrunnen",
          "Leirvik",
          "Valdalen",
          "Djupevika",
          "Horgefjorden",
          "Olderfjord",
          "Suggevågen",
          "Slåttøya",
          "Bondøya",
          "Saglifossen",
          "Langøy",
          "Lindvika",
          "Kelvesteinen",
          "Steinviknes",
          "Sunde",
          "Skogseidvatnet III",
          "Håpollen Aga",
          "Langøyna Ø",
          "Værøya Ø",
          "Kalsøyflu",
          "Mork II",
          "Mekjarvik",
          "Breivika",
          "Hillesøy",
          "Husastranda",
          "Breidvika",
          "Ystevika",
          "Bjønnspjotneset II",
          "Kvangardsnes",
          "Smørdalsvika",
          "Hausan",
          "Eidesvik",
          "Bjørndal",
          "Huken Hoddøy",
          "Dyrholmen Øst",
          "Åkersholmen",
          "Eidesberget",
          "Lakshammervika",
          "Skåren",
          "Skogseidvatnet II",
          "Ytre Simanes",
          "Laksåvatnet Laksåvik",
          "Buarøy",
          "Håvikvågen S",
          "Eiane",
          "Flatholmen",
          "Raskjæret",
          "Høydalsvika",
          "Steinsøya",
          "Svartnes",
          "Kvingra",
          "Stokkvika",
          "Mjånes",
          "Midt Femris",
          "Buholmen",
          "Huken/Hoddøy",
          "Salvågvika",
          "Brennelvbukt",
          "Kjeholmen",
          "Langskjæret Ø",
          "Rånes/Mindebukta",
          "Syvdsnes-Stranda",
          "Lennavika",
          "Innhavet",
          "Fossbråten",
          "Djupevika",
          "Naustholmen",
          "Fossbråten",
          "Valbeinneset",
          "Linesvika",
          "Liervatnet",
          "Auskarnes Ø",
          "Futnes",
          "Ørnes",
          "Lamholmen",
          "Sørvik",
          "Rivarbukt",
          "Sørvik",
          "Oksøy",
          "Lille Torsøy II",
          "Råkneset",
          "Måsskjæra",
          "Litletveitholane",
          "Møkland",
          "Trellevika",
          "Holsneset",
          "Toppsund V",
          "Dirdal",
          "Store Brattholmen",
          "Marøysundet II",
          "Framnes",
          "Oterfjorden",
          "Kilavågen Sjø",
          "Bjørnøya",
          "Storevika",
          "Marvik",
          "Rekeviki",
          "Åkre",
          "Aga Ø",
          "Trøan/Bjørklibukta",
          "Nedre Kvarv",
          "Jibbersholmane",
          "Midtflua",
          "Langholmen",
          "Ørnes",
          "Hisdalen",
          "Ospeneset",
          "Rypøya",
          "Tveitnes",
          "Korsvika",
          "Lonet I Naustbukta",
          "Finnvika Sør",
          "Havstein Sør",
          "Videild",
          "Trollbukta",
          "Fugløya",
          "Vikane",
          "Urda",
          "Voravika",
          "Hovdeurane",
          "Gjerdeviksflua",
          "Høyvika",
          "Selvikstakk",
          "Ånderbakk Alge",
          "Ivarsholmen V",
          "Svellungen",
          "Storvikbukta",
          "Lønningdal II",
          "Fjellbukt",
          "Vadholmen",
          "Løpet Settef.Anl.",
          "Trellevika",
          "Enkeltstein",
          "Nedre Hande",
          "Vullum",
          "Saltkjelen I",
          "Enkeneset",
          "Hammer",
          "Gjengane",
          "Stangholmen",
          "Nebbo",
          "Stokkvika",
          "Skiftesneset N",
          "Elvkroken",
          "Farmannsøya",
          "Børøya Slaktemerd",
          "Fjordprakken",
          "Sommerfjøssletta",
          "Leirholmen",
          "Kleivgard",
          "Geilbukta",
          "Barbogen",
          "Krossholmen",
          "Bogen",
          "Lindvik",
          "Bakfjorden",
          "Kilvågen Y",
          "Sandøya III",
          "Jektvika I",
          "Kvinge S",
          "Svåsandneset",
          "Buholmen",
          "Elgen",
          "Skårilldammen",
          "Kjerringa N",
          "Ljonesvågen",
          "Holmfjord Sjøbruk",
          "Tverrvågen",
          "Kjøpsneset Industriområde",
          "Danielsvika",
          "Trovåg",
          "Halsbukta",
          "Iglamyr, Kårstø",
          "Kunes",
          "Judaberg",
          "Nordvika",
          "Hestøy",
          "Hellaren",
          "Sunde",
          "Utbjoa Land",
          "Indre Oppedal",
          "Nordre Hestholmen S",
          "Istervika",
          "Klubben",
          "Tjajneluokta",
          "Flesa",
          "Smørdalsvika",
          "Skonseng",
          "Buksevika",
          "Sørlandsvika 2",
          "Ausa Vest I",
          "Bjørga",
          "Kyravika",
          "Hestabyneset",
          "Hausvik II",
          "Ørjavik",
          "Smedholmen",
          "Botnaneset",
          "Kjeneset",
          "Stormneset",
          "Ringja",
          "Raskjæret",
          "Persholmen",
          "Midtneset",
          "Storekrok I",
          "Krekvikbogen",
          "Trolløya Sv",
          "Kelvesteinen",
          "Staksvåg",
          "Voll II",
          "Hognaland",
          "Rotholmen",
          "Floteneset",
          "Flakstadvåg",
          "Skalnestangen V",
          "Fjordprakken",
          "Pinsti",
          "Kleppeneset",
          "Skjervøy",
          "Solbergstrand",
          "Lyngvær Ø II",
          "Mausund",
          "Raskjæret",
          "Hatlan",
          "Skorpo Nv",
          "Stretarneset",
          "Gjølanger",
          "Hellersgrova",
          "Lønskog",
          "Helligvær Ø",
          "Karvika",
          "Langeråa",
          "Bårøy",
          "Fluarholmen Ø",
          "Skog",
          "Bjølvefossen",
          "Loddetå",
          "Salangsverket",
          "Daugstad",
          "Svarteberget",
          "Hellevik S",
          "Vassdalsvik",
          "Årdal",
          "Ørnstolen",
          "Kjeringå",
          "Klokkstein",
          "Torsneset",
          "Kjerringskjæret Nø",
          "Arnafjord",
          "Store Kvalfjord",
          "Gammelveggen",
          "Tjeldbergodden Biopark",
          "Hammarvika",
          "Oslandsurda",
          "Øya",
          "Storeneset",
          "Langavika",
          "Kvamen",
          "Djupvik",
          "Flakstadvåg",
          "Finnvika Sør",
          "Angstauren",
          "Fiskefjorden",
          "Halsholmene",
          "Engeløysundet N",
          "Krutåga",
          "Veso Vikan",
          "Hestholmen N",
          "Mjønes",
          "Dyrnes",
          "Alsvåg",
          "Kågen",
          "Øklandsvåg II",
          "Flesen",
          "Hulu",
          "Hendneset",
          "Elvkroken",
          "Giljeholmen",
          "Storskogøya",
          "Bondøya",
          "Svinvær",
          "Varaneset",
          "Kongsmoelva",
          "Buktodden Nø",
          "Torsvåg",
          "Bjørlykkestranda",
          "Litle Flatøy",
          "Skarbukta",
          "Lyngøy",
          "Tranøya N",
          "Lensvik",
          "Skålvik",
          "Imslandsjøen",
          "Valøyan",
          "Laksvika",
          "Holmfjord Sjøbruk",
          "Karihove",
          "Lerangsvågen",
          "Pøyla",
          "Russholmen",
          "Reite",
          "Pollen",
          "Knappen",
          "Lekvika",
          "Sagelva",
          "Varden",
          "Skaret",
          "Storurdvika",
          "Olstind",
          "Skjersnes I",
          "Drageide",
          "Lybergsvika",
          "Storevatnet",
          "Movikodden",
          "Digerneset",
          "Hamnefjord",
          "Linesvika",
          "Hjortøya",
          "Barlindbotn",
          "Møriholmen",
          "Skogsøya",
          "Kyrholmen S",
          "Vikøya S",
          "Torget",
          "Otterholmen",
          "Hammer",
          "Sørvik",
          "Fosså",
          "Fartøyvika",
          "Klubben",
          "Skognes",
          "Skorpeosen",
          "Flatøymarka Ø",
          "Storevatn",
          "Store Kvalfjord",
          "Nordskag",
          "Stølsvik",
          "Finskot",
          "Kvitfloget",
          "Ålvora",
          "Ytre Lavollsfjord",
          "Aunholmen Ø",
          "Gjerde",
          "Storvik",
          "Ringja",
          "Leirvik",
          "Fiskefjorden",
          "Ljonesvågen",
          "Teigland I",
          "Judaberg",
          "Hendneset",
          "Kvinge S",
          "Russelva",
          "Sundsfjord II",
          "Storevatn",
          "Leikvangbukta Land",
          "Kvalvågen",
          "Ivarsholmen V",
          "Lomen Slidrefjorden",
          "Breivika",
          "Neptunbruket",
          "Kjærsundet V",
          "Nusfjord",
          "Dysvik",
          "Hulløyhamn Ø",
          "Mjønes",
          "Breivoll",
          "Movik",
          "Nautøya",
          "Allersholmen",
          "Bakjestranda",
          "Båfjorden",
          "Fartøyvika",
          "Bogen",
          "Fugllielva",
          "Rossholmen N",
          "Stokkvika",
          "Haneholmen",
          "Eidestø",
          "Blom",
          "Buholmen",
          "Slåttvika",
          "Kysnes",
          "Store Bukkøy N",
          "Ånderkleiva",
          "Nygård",
          "Toska N",
          "Krabbaneset",
          "Gjæravågen",
          "Trettøy",
          "Prestholmane",
          "Lindarholmen",
          "Tungeneset",
          "Trettholmosen",
          "Bringberget",
          "Hestholmen N",
          "Mortsund",
          "Seljeset",
          "Ramsøy S",
          "Aukrasanden",
          "Hisdalen",
          "Røvær",
          "Vågafossen",
          "Grutlefjorden",
          "Risholmen",
          "Smørdalsvika",
          "Moflaget",
          "Kleppenes N",
          "Grunnsøya",
          "Slaggen",
          "Havstein Sør",
          "Langevågen",
          "Syvdsnesstranda",
          "Kåholmen",
          "Nesevågen",
          "Salaluokta",
          "Apalvikneset",
          "Rongøyna III",
          "Urda",
          "Kvitneset",
          "Vetrhusstranda",
          "Gjesøya",
          "Langeråa",
          "Halsavika",
          "Jupvik",
          "Årnes",
          "Eldøyane",
          "Rutlebekk",
          "Flatøyan",
          "Lille Kvitholmen",
          "Lismåsøy",
          "Trøan Bjørklibukta",
          "Stevika",
          "Nordfugløy",
          "Industrilab.,Hib",
          "Mo Industripark",
          "Verpeide",
          "Krossholmen",
          "Hønsvikgulen",
          "Flakstadvåg",
          "Juvika",
          "Risholmen",
          "Ternskjæret II",
          "Tveit",
          "Nordheim",
          "Olvika",
          "Rennaren",
          "Kålåstranda",
          "Ytre Vassholmen",
          "Flakstadvåg",
          "Hønsvikgulen",
          "Høylandssund",
          "Skjærvika",
          "Haverøy",
          "Nørholmen",
          "Marøya",
          "Neset",
          "Hestøya",
          "Kjærsundet V",
          "Breidvik",
          "Mølnarodden",
          "Overåneset V",
          "Ørnøya II",
          "Linesvika",
          "Grønnvika",
          "Flakstadvåg Havn",
          "Storøy Nv",
          "Huken",
          "Sydnessund",
          "Torsneset",
          "Måøydraga",
          "Lubben",
          "Helgøy",
          "Åkrestrømmen",
          "Linesvika",
          "Steinneset",
          "Rundhaugen",
          "Barstadvik",
          "Lomen Slidrefjorden",
          "Flakstadvåg",
          "Angstauren",
          "Ramnbergvikan",
          "Onsøyholmen",
          "Håbranden",
          "Vorterøyskagen",
          "Skogsholmen",
          "Gagnat",
          "Vindhammeren",
          "Årnes",
          "Kråkøy Slakteri",
          "Hestabyneset",
          "Forøy",
          "Mollvika",
          "Flerengstrand",
          "Skonseng",
          "Oksen",
          "Ørnøya",
          "Adjetjohka",
          "Gisløy Nv",
          "Brattberg",
          "Ringja",
          "Langøy",
          "Hyttevågen",
          "Nordnes",
          "Sagvik",
          "Skorilla",
          "Bromsen",
          "Skjervika",
          "Follesøy",
          "Bondejorda",
          "Båfjordstranda",
          "Isbergan",
          "Blåbærvika",
          "Kråkøy Slakteri",
          "Espnestaren",
          "Kvaløy Øst",
          "Ådnøy",
          "Furevika",
          "Langholmen",
          "Kalvøya",
          "Opshaugvik",
          "Kviteskjeret",
          "Trettodden",
          "Hesteneset",
          "Vardanes",
          "Smedholmen",
          "Arnafjord",
          "Hilderkleiva",
          "Valdalen",
          "Leddalsvatn",
          "Hogsnes",
          "Bjørga",
          "Bjørlykkestranda",
          "Eiterfjordbotn",
          "Holmfjord Sjøbruk",
          "Rotholmen",
          "Innvær",
          "Vinkfjorden Alge",
          "Breidvika",
          "Oppmyrbogen",
          "Drogsholmen",
          "Hundsnes",
          "Buholmen",
          "Bjelkavik",
          "Sørlandsbukta",
          "Lavika",
          "Lassetangen",
          "Gagnat",
          "Sunde",
          "Steinsvik",
          "Gudmundset",
          "Ims IV",
          "Iglamyr, Kårstø",
          "Istervika",
          "Skåren",
          "Maradalen",
          "Finnkjerka S",
          "Skavika",
          "Skulgambukt",
          "Gjølanger",
          "Hallvardøy",
          "Knappen,Solheim",
          "Aukan",
          "Vaulen",
          "Solheim",
          "Kilaneset",
          "Korsneset",
          "Aasen Gård",
          "Toppsund Ø",
          "Horgefjorden",
          "Skorpo",
          "Misjona",
          "Hundingsland Ø",
          "Rotvika",
          "Vatnøy",
          "Dolma N",
          "Kobbavika",
          "Steilo",
          "Tårnvika",
          "Langskjæran",
          "Reinvika",
          "Eldøyane",
          "Lauvsnes",
          "Tveitnesvik",
          "Langevågen",
          "Kjørem",
          "Gjølanger",
          "Havbrukstasjonen",
          "Valbergene",
          "Håvikvågen S",
          "Indre Skjervøy",
          "Gissøysundet S",
          "Forsan",
          "Or",
          "Dalsvåg Nv",
          "Storsteinvika",
          "Fætten",
          "Svaberget",
          "Hulløyhamn Ø",
          "Fureneset",
          "Baltsfjord",
          "Svartåsen",
          "Lamholmen",
          "Nord Leksa",
          "Norddal",
          "Kjempebakken",
          "Aarsand",
          "Ims II",
          "Flatøymarka Ø",
          "Brennholmen",
          "Leikvangbukta-Land",
          "Reistad",
          "Mjånes",
          "Mårøyfjord",
          "Hamneidet",
          "Klovholmane",
          "Kobbskjæret",
          "Saltbuodden",
          "Haugsnesvåg",
          "Møriholmen",
          "Brattholmskjæret",
          "Knappen Solheim",
          "Rykkjem",
          "Stivika",
          "Nappeholmane",
          "Brattholmen S",
          "Rindarøy",
          "Brakstadsundet",
          "Skipningsdalen",
          "Steilo",
          "Hermansverk",
          "Endresetbukta",
          "Storlia",
          "Sandvika",
          "Notaholmen Øsø",
          "Otterholmen",
          "Salaluokta",
          "Hjortholman 2",
          "Brattørkaia",
          "Hendneset",
          "Storelva",
          "Oldøya N",
          "Vetrhusstranda",
          "Seiskjæret",
          "Breidvika",
          "Lauvsnes",
          "Dyping",
          "Lysålandet",
          "Bekksneset",
          "Indre Kårvik (Land)",
          "Stakkvika",
          "Gråøya",
          "Bakka",
          "Blikengfjorden",
          "Grutlefjorden",
          "Storebø",
          "Raunes I",
          "Korsneset",
          "Landfallvika",
          "Kalvøya",
          "Dryna",
          "Toneset",
          "Kåregrunnane Ø",
          "Terningen",
          "Hopen",
          "Marøya",
          "Ulveneset",
          "Trettodden",
          "Skaganeset",
          "Mælen",
          "Sandvika",
          "Haukøya Ø",
          "Solbakk",
          "Svartholbakken",
          "Halsavika",
          "Vardskjær Ø",
          "Kaldhammaren Ø",
          "Solbergstrand",
          "Storskogøya",
          "Duesund",
          "Kalvik",
          "Storsteinsvika",
          "Alvøen",
          "Klokkardalen",
          "Aspøy Ø",
          "Hjartøy Ø",
          "Haukå",
          "Adjetjohka",
          "Holevik",
          "Breivik S",
          "Duesund",
          "Naustholmen",
          "Klungset",
          "Djupvik",
          "Djupevika I",
          "Høgskolen I Bergen",
          "Buksevika",
          "Andal",
          "Raudøya",
          "Seiballskjæret",
          "Hagahammaren",
          "Lassetangen",
          "Øye",
          "Haug",
          "Sønningen",
          "Hogsneset Nord",
          "Ytre Vassholmen",
          "Storebøvågen Ø",
          "Smørdalen",
          "Kalhag",
          "Ramnøya N",
          "Langneset",
          "Hjelnes",
          "Gjerde",
          "Storevik",
          "Værnes",
          "Judaberg II",
          "Storevikholmen",
          "Kjelneset",
          "Vardskjær V",
          "Måren",
          "Gisløy S",
          "Kågen",
          "Litleøya S",
          "Varvassvika",
          "Altaneset",
          "Hillesøy",
          "Lille Torsøy II",
          "Latvika",
          "Reistad",
          "Hjortholman 2",
          "Hattholmen",
          "Geitryggen",
          "Hindholmen",
          "Tysvika",
          "Huglaneset",
          "Gangdal",
          "Årberg",
          "Sørevik",
          "Kåregrunnane Ø",
          "Instefjord",
          "Rønstad",
          "Leite",
          "Ilsøya",
          "Sørfjorden Stamfiskanlegg",
          "Lavika",
          "Grøttøy",
          "Årseth",
          "Barbogen",
          "Buarøy",
          "Kormeset",
          "Beitveit",
          "Eidskjæra Nø",
          "Klubbenes",
          "Skorilla",
          "Stormneset",
          "Røyklibotn",
          "Breivik S",
          "Tjuvholmen-Strandh.",
          "Eiterfjorden",
          "Kalvøya",
          "Torjulvågen",
          "Kjørsvikbugen",
          "Storvik",
          "Korsneset",
          "Midt Femris",
          "Varholmen",
          "Stigvika",
          "Svartnes",
          "Daljorda",
          "Blom",
          "Glomfjord I",
          "Jekteberget",
          "Laksåvatnet Laksåvik",
          "Aasen Gård",
          "Seterneset",
          "Fora (Land)",
          "Beitveit",
          "Vordnesholmen",
          "Abelsnes",
          "Altaneset",
          "Stokkeneset",
          "Lerangsvågen Land",
          "Langholmen",
          "Kallbekken Går",
          "Kvernvikvatnet",
          "Hendneset",
          "Olderøy",
          "Hjartholmosen",
          "Gårdsbruket Skog",
          "Lakshammervika",
          "Skorstad",
          "Øvreås",
          "Vindvika",
          "Movik",
          "Småskjæra",
          "Kuøyna",
          "Seibukta",
          "Hilderkleiva",
          "Stegavåg",
          "Storoksen",
          "Mekjarvik",
          "Vestseøra",
          "Nesfossen",
          "Søreide",
          "Ørnøya",
          "Høyholmen",
          "Bollhaugen",
          "Kjerkvika",
          "Steinflesa",
          "Skardbergvika",
          "Tjukkeneset",
          "Straumneset",
          "Jurneset",
          "Sandholman",
          "Hillersvik",
          "Tårnvika",
          "Igerøy Ø",
          "Kyrøyene",
          "Gamskjæran",
          "Veso Vikan",
          "Stangholmen",
          "Gjøvika",
          "Skogseidvatnet",
          "Bjørnstein",
          "Mørkvedbukta",
          "Midtflua",
          "Kvernvikvatnet",
          "Kraknes II",
          "Bringberget",
          "Hjartøy Ø",
          "Midtneset",
          "Naustneset",
          "Korsneset 2",
          "Kleppeneset",
          "Lensvik",
          "Flatråker",
          "Bonstranda",
          "Vassvik",
          "Lomen Slidrefjorden",
          "Pollan",
          "Jibbersholmane",
          "Pundsvik",
          "Dragneset",
          "Salvågvika",
          "Lågåsen",
          "Glomfjord I",
          "Elvevika Ny"
         ],
         "lat": [
          68.63044738769531,
          68.08343505859375,
          67.89718627929688,
          67.66157531738281,
          60.14103317260742,
          68.10486602783203,
          68.86687469482422,
          64.94988250732422,
          58.65299987792969,
          60.159515380859375,
          69.50056457519531,
          67.23898315429688,
          61.03691482543945,
          65.85144805908203,
          59.80928421020508,
          69.99361419677734,
          68.1258316040039,
          68.90270233154297,
          59.84476089477539,
          66.03285217285156,
          59.22013473510742,
          59.696632385253906,
          63.09993362426758,
          68.94143676757812,
          68.86039733886719,
          61.104766845703125,
          61.32008361816406,
          64.89313507080078,
          63.94438171386719,
          62.45123291015625,
          64.77224731445312,
          62.20970153808594,
          59.6573486328125,
          60.107418060302734,
          63.449951171875,
          58.578250885009766,
          68.57475280761719,
          60.554141998291016,
          64.78656768798828,
          59.87834930419922,
          62.517398834228516,
          59.42878341674805,
          69.93671417236328,
          60.40006637573242,
          59.40826416015625,
          67.1183853149414,
          68.00592041015625,
          64.94640350341797,
          60.59233474731445,
          61.20600128173828,
          64.60980224609375,
          66.08927154541016,
          59.742610931396484,
          70.32066345214844,
          58.8387336730957,
          67.1849365234375,
          69.86808013916016,
          64.62273406982422,
          66.15809631347656,
          69.78656768798828,
          65.665283203125,
          66.3487319946289,
          62.05933380126953,
          62.928531646728516,
          63.04071807861328,
          67.60568237304688,
          60.727882385253906,
          68.65650177001953,
          68.6991195678711,
          67.4020004272461,
          59.598846435546875,
          69.90727996826172,
          70.21558380126953,
          63.457733154296875,
          59.2320671081543,
          60.234981536865234,
          67.13742065429688,
          59.408748626708984,
          59.19496536254883,
          60.89378356933594,
          65.665283203125,
          58.051368713378906,
          68.77283477783203,
          70.62551879882812,
          63.904850006103516,
          61.60395050048828,
          67.95034790039062,
          59.68531799316406,
          68.73133087158203,
          64.93387603759766,
          69.018798828125,
          65.72323608398438,
          69.90454864501953,
          66.53775024414062,
          70.6717300415039,
          59.2686653137207,
          59.21616744995117,
          69.10623168945312,
          60.136165618896484,
          63.06938171386719,
          70.48149871826172,
          59.97793197631836,
          60.159515380859375,
          63.87946701049805,
          68.56863403320312,
          67.13766479492188,
          68.11054992675781,
          63.04964828491211,
          69.77559661865234,
          69.63764953613281,
          63.54533386230469,
          62.979217529296875,
          59.80928421020508,
          68.67398071289062,
          66.08231353759766,
          61.576148986816406,
          69.75338745117188,
          68.88853454589844,
          68.10486602783203,
          68.26828002929688,
          60.217586517333984,
          60.17599868774414,
          63.78238296508789,
          69.89971923828125,
          63.80076599121094,
          59.50471878051758,
          58.16168212890625,
          59.87801742553711,
          67.93948364257812,
          61.78144836425781,
          59.027618408203125,
          63.93603515625,
          65.81574249267578,
          67.95092010498047,
          61.0756721496582,
          59.42901611328125,
          61.13381576538086,
          65.71131134033203,
          67.53303527832031,
          66.03285217285156,
          63.14974594116211,
          70.58053588867188,
          60.63263702392578,
          64.29718017578125,
          69.19186401367188,
          60.07663345336914,
          68.32526397705078,
          60.139068603515625,
          59.92851638793945,
          60.95026779174805,
          68.40231323242188,
          68.69226837158203,
          59.23888397216797,
          67.02670288085938,
          62.07606887817383,
          58.21965026855469,
          60.09941864013672,
          70.38597869873047,
          59.44091796875,
          63.995033264160156,
          64.81714630126953,
          65.06438446044922,
          61.04518127441406,
          58.725833892822266,
          60.40290069580078,
          70.15170288085938,
          59.833133697509766,
          60.227699279785156,
          59.847782135009766,
          59.298301696777344,
          63.41583251953125,
          60.03818130493164,
          62.95220184326172,
          59.02186965942383,
          66.58036041259766,
          59.81256866455078,
          69.5385513305664,
          64.29536437988281,
          68.69226837158203,
          61.093448638916016,
          62.14531707763672,
          59.42776870727539,
          63.45838165283203,
          59.598846435546875,
          62.27488327026367,
          64.45946502685547,
          59.93320083618164,
          60.10041427612305,
          61.10511779785156,
          64.66378021240234,
          63.07673263549805,
          60.2265625,
          69.9480972290039,
          63.47181701660156,
          60.22006607055664,
          60.16983413696289,
          58.95783996582031,
          59.429298400878906,
          63.793617248535156,
          68.93614959716797,
          58.631282806396484,
          70.36083221435547,
          65.20317077636719,
          63.333534240722656,
          60.99773406982422,
          67.03316497802734,
          60.02091598510742,
          64.45946502685547,
          58.22308349609375,
          70.01513671875,
          60.419315338134766,
          65.42511749267578,
          63.92580032348633,
          62.17563247680664,
          64.58270263671875,
          67.96810913085938,
          60.97628402709961,
          60.03581619262695,
          66.36730194091797,
          60.97645568847656,
          68.5725326538086,
          66.53784942626953,
          59.588844299316406,
          70.14144897460938,
          69.95137023925781,
          66.4195327758789,
          65.47138214111328,
          59.88064956665039,
          70.08586883544922,
          59.88064956665039,
          67.97492980957031,
          63.608028411865234,
          65.44093322753906,
          63.7453498840332,
          60.47978210449219,
          68.79173278808594,
          61.370384216308594,
          62.439918518066406,
          68.9117660522461,
          58.83861541748047,
          70.60191345214844,
          61.49726867675781,
          68.24809265136719,
          69.90965270996094,
          59.31800079345703,
          67.41639709472656,
          67.1855697631836,
          59.41041564941406,
          60.72309875488281,
          60.11243438720703,
          59.84510040283203,
          63.33155059814453,
          67.45848846435547,
          60.75148391723633,
          60.07626724243164,
          58.2093505859375,
          66.42008209228516,
          60.12611770629883,
          60.74523162841797,
          70.50503540039062,
          60.41365051269531,
          66.5784683227539,
          64.98375701904297,
          69.50056457519531,
          66.16404724121094,
          62.18406677246094,
          67.35479736328125,
          63.47578430175781,
          59.970001220703125,
          63.00053405761719,
          62.23341751098633,
          61.19314956665039,
          60.22308349609375,
          61.37411880493164,
          58.86176681518555,
          67.76294708251953,
          60.518096923828125,
          63.6552848815918,
          64.9289321899414,
          60.26190185546875,
          69.90454864501953,
          60.69499969482422,
          61.163719177246094,
          61.36899948120117,
          68.72760009765625,
          61.06456756591797,
          63.0489501953125,
          60.31814956665039,
          70.56365203857422,
          67.95877075195312,
          60.07151794433594,
          66.6180191040039,
          59.870750427246094,
          63.333534240722656,
          60.07109832763672,
          67.59193420410156,
          64.18451690673828,
          68.57418060302734,
          63.25651550292969,
          70.06591796875,
          66.35649871826172,
          60.96574020385742,
          62.71648406982422,
          69.3684310913086,
          59.787899017333984,
          63.077667236328125,
          59.47406768798828,
          70.87483215332031,
          65.70821380615234,
          64.2433853149414,
          67.53131866455078,
          60.74237823486328,
          60.32421875,
          64.15689849853516,
          68.876953125,
          60.124507904052734,
          58.08741760253906,
          60.260074615478516,
          70.36676788330078,
          63.728633880615234,
          68.09066772460938,
          70.6710205078125,
          59.539405822753906,
          63.07768630981445,
          59.278751373291016,
          59.211368560791016,
          59.17093276977539,
          60.30716323852539,
          66.0006332397461,
          68.65782928466797,
          59.83303451538086,
          59.67843246459961,
          61.0678825378418,
          59.073768615722656,
          65.4468002319336,
          70.6634521484375,
          67.8924331665039,
          63.64500045776367,
          59.42776870727539,
          65.80648040771484,
          58.207401275634766,
          67.65460205078125,
          68.16802978515625,
          69.15143585205078,
          61.31643295288086,
          59.95363235473633,
          58.04971694946289,
          62.968467712402344,
          59.3446159362793,
          61.61293411254883,
          60.884033203125,
          68.19824981689453,
          59.40546798706055,
          63.793399810791016,
          59.027618408203125,
          61.10844039916992,
          61.53488540649414,
          62.928531646728516,
          68.7040023803711,
          60.40290069580078,
          60.688316345214844,
          59.08641815185547,
          59.182884216308594,
          66.80679321289062,
          61.193599700927734,
          69.18711853027344,
          63.84762954711914,
          63.25651550292969,
          62.56350326538086,
          61.78593444824219,
          70.03453063964844,
          59.61578369140625,
          63.806209564208984,
          63.86961364746094,
          63.793399810791016,
          63.8247184753418,
          59.950382232666016,
          68.67398071289062,
          61.3068733215332,
          61.00969314575195,
          68.86299896240234,
          67.4215316772461,
          69.84944152832031,
          61.631900787353516,
          60.9452018737793,
          59.048099517822266,
          69.47433471679688,
          60.43012619018555,
          59.6917839050293,
          68.90876770019531,
          62.55780029296875,
          61.19990539550781,
          59.31733322143555,
          66.8078842163086,
          59.14666748046875,
          66.58399963378906,
          59.19205093383789,
          69.81611633300781,
          59.5181999206543,
          66.00704956054688,
          61.0081901550293,
          70.32111358642578,
          68.48615264892578,
          63.415565490722656,
          67.13213348388672,
          61.079498291015625,
          67.03495025634766,
          60.87630081176758,
          59.2320671081543,
          61.37283706665039,
          66.73304748535156,
          69.18692016601562,
          69.50056457519531,
          69.6953353881836,
          68.525634765625,
          58.6151008605957,
          68.26828002929688,
          65.69340515136719,
          64.547607421875,
          67.14678192138672,
          70.10643005371094,
          59.7176513671875,
          68.90270233154297,
          69.94661712646484,
          59.79916763305664,
          69.2466812133789,
          63.51093292236328,
          63.05730056762695,
          67.59193420410156,
          60.339881896972656,
          63.506065368652344,
          64.81714630126953,
          66.76948547363281,
          60.39276885986328,
          64.88411712646484,
          66.30838012695312,
          70.24053192138672,
          62.16654968261719,
          60.0865364074707,
          62.59785079956055,
          64.81864929199219,
          63.871849060058594,
          63.51477813720703,
          60.34006118774414,
          59.4786262512207,
          63.81734848022461,
          65.22750091552734,
          70.36676788330078,
          63.587867736816406,
          58.9359016418457,
          60.96886444091797,
          63.190467834472656,
          68.82191467285156,
          70.34088134765625,
          60.57356643676758,
          65.18414306640625,
          60.50959777832031,
          63.63571548461914,
          70.09026336669922,
          65.73370361328125,
          67.95034790039062,
          61.21023178100586,
          60.20909881591797,
          62.64158248901367,
          61.57034683227539,
          66.52848052978516,
          64.78656768798828,
          70.5753402709961,
          66.53784942626953,
          64.98480224609375,
          61.58774948120117,
          63.93095016479492,
          63.853816986083984,
          60.162017822265625,
          59.873268127441406,
          59.89383316040039,
          60.6878662109375,
          67.95877075195312,
          59.88064956665039,
          59.26988220214844,
          70.82859802246094,
          65.19000244140625,
          69.961669921875,
          60.33253479003906,
          65.81574249267578,
          61.129234313964844,
          70.32066345214844,
          63.711734771728516,
          59.405433654785156,
          58.541831970214844,
          69.14633178710938,
          61.58403396606445,
          69.41946411132812,
          65.70610046386719,
          63.299617767333984,
          70.14955139160156,
          59.40546798706055,
          67.02670288085938,
          68.525634765625,
          60.2595329284668,
          60.179351806640625,
          59.17093276977539,
          63.06010055541992,
          60.74237823486328,
          69.8897476196289,
          66.9888687133789,
          61.129234313964844,
          63.8620491027832,
          66.02183532714844,
          60.518096923828125,
          61.12329864501953,
          70.79817962646484,
          70.6272964477539,
          64.50596618652344,
          68.05000305175781,
          60.191017150878906,
          68.0566177368164,
          70.10643005371094,
          68.75851440429688,
          67.63176727294922,
          59.23128128051758,
          60.77486801147461,
          61.818851470947266,
          64.94988250732422,
          70.82859802246094,
          63.0767822265625,
          65.33622741699219,
          59.06428146362305,
          63.333534240722656,
          61.840450286865234,
          60.226497650146484,
          60.43658447265625,
          64.15689849853516,
          65.52424621582031,
          60.198768615722656,
          66.40106964111328,
          68.9254150390625,
          67.7364730834961,
          60.66986846923828,
          59.785850524902344,
          59.763301849365234,
          59.50471878051758,
          59.11676788330078,
          60.08403396606445,
          59.73188400268555,
          59.83253479003906,
          63.35548400878906,
          67.14679718017578,
          68.08553314208984,
          61.57709884643555,
          60.4326171875,
          62.783416748046875,
          60.12601852416992,
          59.44219970703125,
          59.47988510131836,
          59.67171859741211,
          58.14250183105469,
          59.42776870727539,
          66.36833190917969,
          70.53804779052734,
          61.68484878540039,
          68.52278137207031,
          66.16404724121094,
          59.61326599121094,
          62.17466735839844,
          63.617183685302734,
          60.89378356933594,
          68.03398132324219,
          60.146217346191406,
          60.505699157714844,
          63.00053405761719,
          64.96802520751953,
          61.97100067138672,
          66.11672973632812,
          61.63174819946289,
          59.39231872558594,
          65.04654693603516,
          64.59609985351562,
          59.75111770629883,
          58.65299987792969,
          63.87358474731445,
          65.01318359375,
          65.49330139160156,
          63.33155059814453,
          64.96772003173828,
          67.08391571044922,
          60.38119888305664,
          66.30638122558594,
          61.902217864990234,
          59.787899017333984,
          63.105018615722656,
          69.18692016601562,
          66.11821746826172,
          60.92863464355469,
          64.77713012695312,
          61.110084533691406,
          63.21536636352539,
          66.43863677978516,
          59.13158416748047,
          64.95704650878906,
          65.93496704101562,
          69.18692016601562,
          63.105018615722656,
          59.777549743652344,
          68.73206329345703,
          60.40476608276367,
          63.33891677856445,
          64.85476684570312,
          59.408748626708984,
          61.582698822021484,
          64.50596618652344,
          59.22013473510742,
          68.00900268554688,
          62.30065155029297,
          63.7591667175293,
          66.53784942626953,
          58.016666412353516,
          69.19186401367188,
          68.42756652832031,
          69.5070571899414,
          59.742610931396484,
          59.5181999206543,
          63.67643356323242,
          69.93671417236328,
          59.22661590576172,
          61.698081970214844,
          66.53784942626953,
          60.140499114990234,
          63.89106750488281,
          62.359981536865234,
          61.12329864501953,
          69.18692016601562,
          69.6953353881836,
          65.4542007446289,
          62.968048095703125,
          63.94256591796875,
          69.98715209960938,
          65.83141326904297,
          62.93254852294922,
          68.78074645996094,
          64.59609985351562,
          64.14814758300781,
          59.95363235473633,
          68.63746643066406,
          68.93653106689453,
          64.91636657714844,
          65.80763244628906,
          60.434181213378906,
          63.761451721191406,
          68.94413757324219,
          68.96347045898438,
          68.71309661865234,
          59.40536880493164,
          61.04518127441406,
          60.01762008666992,
          60.40006637573242,
          60.14103317260742,
          63.367149353027344,
          63.953033447265625,
          68.73133087158203,
          69.91571807861328,
          70.81694793701172,
          64.96465301513672,
          66.81525421142578,
          66.01750183105469,
          64.14814758300781,
          63.677818298339844,
          59.39663314819336,
          58.922550201416016,
          61.30595016479492,
          67.05783081054688,
          63.65148162841797,
          62.28765106201172,
          61.46781539916992,
          58.73643112182617,
          61.60224914550781,
          60.3929328918457,
          59.3446159362793,
          61.0081901550293,
          68.7800521850586,
          62.07606887817383,
          63.41081237792969,
          63.09303283691406,
          69.15143585205078,
          62.16654968261719,
          70.96236419677734,
          70.36676788330078,
          66.80905151367188,
          59.80098342895508,
          67.71758270263672,
          64.47498321533203,
          68.88853454589844,
          64.27811431884766,
          59.22098159790039,
          59.56218338012695,
          59.4516487121582,
          67.66157531738281,
          69.25753021240234,
          68.90959930419922,
          62.93254852294922,
          59.83303451538086,
          62.00491714477539,
          62.452701568603516,
          58.900978088378906,
          59.278751373291016,
          65.4468002319336,
          63.07673263549805,
          59.76076889038086,
          68.33944702148438,
          65.47606658935547,
          69.78865051269531,
          61.3068733215332,
          68.37492370605469,
          60.88533401489258,
          63.060298919677734,
          61.663368225097656,
          69.83116912841797,
          59.313350677490234,
          62.2528076171875,
          62.09548568725586,
          68.86371612548828,
          60.100833892822266,
          59.87576675415039,
          70.88541412353516,
          58.044349670410156,
          68.89478302001953,
          60.965301513671875,
          65.02532958984375,
          59.122318267822266,
          68.51184844970703,
          67.57281494140625,
          67.1183853149414,
          67.60568237304688,
          59.75111770629883,
          64.5000228881836,
          60.10585021972656,
          59.61338424682617,
          63.89238357543945,
          61.3068733215332,
          70.70880126953125,
          68.30750274658203,
          60.17048263549805,
          64.28579711914062,
          59.62358474731445,
          67.95092010498047,
          63.04071807861328,
          59.41081619262695,
          66.19539642333984,
          63.14458465576172,
          65.06466674804688,
          68.05713653564453,
          61.165618896484375,
          69.54630279541016,
          64.45269775390625,
          65.47138214111328,
          63.5894660949707,
          61.64228057861328,
          69.791748046875,
          65.04586791992188,
          58.903709411621094,
          65.81574249267578,
          65.97871398925781,
          63.8620491027832,
          62.60734176635742,
          60.99773406982422,
          70.73723602294922,
          69.93111419677734,
          62.28755187988281,
          65.43516540527344,
          64.49493408203125,
          60.11808395385742,
          63.93095016479492,
          59.247684478759766,
          60.88520050048828,
          62.878482818603516,
          61.351688385009766,
          59.742984771728516,
          59.51831817626953,
          62.845115661621094,
          64.68403625488281,
          58.24148178100586,
          68.51184844970703,
          61.184349060058594,
          63.030181884765625,
          61.201717376708984,
          62.1956672668457,
          59.229034423828125,
          60.68693161010742,
          68.03358459472656,
          63.462100982666016,
          63.43721389770508,
          63.05730056762695,
          62.30167007446289,
          63.890621185302734,
          61.97100067138672,
          65.93428039550781,
          64.47498321533203,
          64.5000228881836,
          67.91831970214844,
          68.6507339477539,
          61.076751708984375,
          69.86808013916016,
          65.665283203125,
          63.476348876953125,
          60.234981536865234,
          64.57665252685547,
          59.67169952392578,
          60.09138488769531,
          59.44160079956055,
          63.14273452758789,
          64.54808044433594,
          66.39396667480469,
          62.64440155029297,
          60.07014846801758,
          59.046749114990234,
          62.641998291015625,
          67.31302642822266,
          64.85476684570312,
          59.99281692504883,
          58.73643112182617,
          60.268516540527344,
          59.699981689453125,
          65.09483337402344,
          70.04613494873047,
          59.037349700927734,
          63.835166931152344,
          59.39231872558594,
          66.35845184326172,
          68.86595153808594,
          59.61578369140625,
          63.506065368652344,
          60.808998107910156,
          67.51316833496094,
          65.68866729736328,
          60.35476303100586,
          69.70953369140625,
          58.93024826049805,
          67.65619659423828,
          61.63428497314453,
          68.94413757324219,
          59.77658462524414,
          59.67118453979492,
          60.808998107910156,
          66.36540222167969,
          64.74996948242188,
          68.60053253173828,
          60.968299865722656,
          60.3866081237793,
          58.207401275634766,
          59.63650131225586,
          64.3646011352539,
          63.767181396484375,
          63.13776779174805,
          68.90959930419922,
          58.27705764770508,
          68.76692962646484,
          58.603816986083984,
          63.099517822265625,
          65.93446350097656,
          60.09433364868164,
          60.86750030517578,
          58.97471618652344,
          66.24348449707031,
          68.56843566894531,
          70.06378173828125,
          63.29966735839844,
          61.475284576416016,
          69.33533477783203,
          59.17091751098633,
          59.839317321777344,
          64.64395141601562,
          66.35896301269531,
          61.15266799926758,
          68.94046783447266,
          69.94661712646484,
          68.60588073730469,
          65.06204223632812,
          60.24711608886719,
          59.81256866455078,
          63.608028411865234,
          70.06449890136719,
          62.60734176635742,
          63.462100982666016,
          64.7926025390625,
          64.75084686279297,
          64.77393341064453,
          64.10333251953125,
          59.86499786376953,
          60.21649932861328,
          69.1958999633789,
          61.09998321533203,
          59.046749114990234,
          60.987831115722656,
          62.13511657714844,
          63.03598403930664,
          63.66360092163086,
          67.57548522949219,
          69.25753021240234,
          68.44508361816406,
          65.04754638671875,
          69.36811828613281,
          60.22006607055664,
          62.61561584472656,
          62.14121627807617,
          63.95418167114258,
          61.3205680847168,
          63.367149353027344,
          68.19824981689453,
          64.61541748046875,
          59.67118453979492,
          63.93748474121094,
          64.97163391113281,
          66.39396667480469,
          62.979217529296875,
          63.411720275878906,
          63.21297073364258,
          62.2528076171875,
          67.03693389892578,
          65.54651641845703,
          67.06884765625,
          70.36083221435547,
          68.6969985961914,
          60.43658447265625,
          66.8079833984375,
          68.85321807861328,
          63.47156524658203,
          62.0935173034668,
          62.673946380615234,
          59.329097747802734,
          62.141334533691406,
          59.743499755859375,
          58.238765716552734,
          60.24711608886719,
          62.05561828613281,
          58.93507766723633,
          59.09728240966797,
          68.8029556274414,
          64.73399353027344,
          63.06010055541992,
          61.101951599121094,
          60.004615783691406,
          61.84993362426758,
          64.66378021240234,
          64.57173919677734,
          60.67298126220703,
          67.53316497802734,
          67.63265228271484,
          63.47719192504883,
          60.996734619140625,
          71.0093994140625,
          68.7800521850586,
          60.14951705932617,
          60.5308837890625,
          59.02186965942383,
          63.29534912109375,
          60.66437530517578,
          61.10559844970703,
          63.76186752319336,
          70.95816802978516,
          66.11311340332031,
          67.10784912109375,
          65.13483428955078,
          68.72921752929688,
          68.47486877441406,
          60.22133255004883,
          68.89766693115234,
          68.05756378173828,
          59.6083984375,
          67.57281494140625,
          65.68620300292969,
          64.76349639892578,
          68.11054992675781,
          64.547607421875,
          66.61817932128906,
          63.92353439331055,
          60.20188522338867,
          68.88618469238281,
          67.27811431884766,
          60.07626724243164,
          64.73399353027344,
          69.75446319580078,
          63.35548400878906,
          67.65619659423828,
          61.10844039916992,
          62.94240188598633,
          63.141231536865234,
          61.78593444824219,
          63.51477813720703,
          59.94047927856445,
          64.60482025146484,
          59.215431213378906,
          61.12329864501953,
          68.31538391113281,
          60.752532958984375,
          68.41753387451172,
          62.652034759521484,
          58.22343444824219,
          62.33176803588867,
          66.8079833984375,
          70.91780090332031
         ],
         "legendgroup": "",
         "lon": [
          15.482067108154297,
          13.56725025177002,
          15.158883094787598,
          12.665440559387207,
          5.906932830810547,
          13.790066719055176,
          17.86150360107422,
          11.5733003616333,
          6.701333045959473,
          5.983567237854004,
          17.919017791748047,
          14.836899757385254,
          9.048128128051758,
          12.287199974060059,
          5.3572001457214355,
          20.711149215698242,
          13.77331256866455,
          15.286749839782715,
          5.24055290222168,
          12.877374649047852,
          6.036832809448242,
          11.315208435058594,
          7.670267105102539,
          15.307450294494629,
          17.521883010864258,
          5.0184831619262695,
          4.978967189788818,
          11.762832641601562,
          9.880666732788086,
          6.73371696472168,
          11.178333282470703,
          5.784900188446045,
          5.404167175292969,
          5.939833164215088,
          8.167133331298828,
          8.987783432006836,
          14.850882530212402,
          4.88090181350708,
          11.727916717529297,
          5.526916980743408,
          6.158050060272217,
          5.098949909210205,
          19.832183837890625,
          5.303417205810547,
          5.721049785614014,
          13.898417472839355,
          15.26433277130127,
          11.462300300598145,
          4.857832908630371,
          5.131732940673828,
          11.280850410461426,
          12.24434757232666,
          5.722145080566406,
          22.89715003967285,
          6.18464994430542,
          14.386500358581543,
          18.931032180786133,
          11.417733192443848,
          12.68201732635498,
          18.650667190551758,
          12.650016784667969,
          12.779417037963867,
          6.305850028991699,
          7.580516815185547,
          7.849699974060059,
          15.36848258972168,
          4.864099979400635,
          15.900349617004395,
          15.978933334350586,
          13.910882949829102,
          5.191829204559326,
          21.82976722717285,
          22.626583099365234,
          7.856100082397461,
          6.008316993713379,
          6.006217002868652,
          15.405082702636719,
          5.6130499839782715,
          5.478617191314697,
          4.837100028991699,
          12.650016784667969,
          6.999149799346924,
          15.446582794189453,
          23.107933044433594,
          8.589133262634277,
          5.186532974243164,
          13.077716827392578,
          5.431099891662598,
          17.234350204467773,
          11.409242630004883,
          17.52006721496582,
          12.475317001342773,
          21.876832962036133,
          13.3242826461792,
          27.133949279785156,
          6.334667205810547,
          5.390638828277588,
          17.280282974243164,
          6.146032810211182,
          7.601916790008545,
          22.1560001373291,
          5.7756500244140625,
          5.983567237854004,
          8.543083190917969,
          15.328619956970215,
          13.981200218200684,
          13.743049621582031,
          8.21619987487793,
          19.367366790771484,
          18.038816452026367,
          8.383091926574707,
          8.242420196533203,
          5.3572001457214355,
          14.98248291015625,
          12.201167106628418,
          4.807332992553711,
          19.029321670532227,
          15.06016731262207,
          13.790066719055176,
          15.104117393493652,
          5.047933101654053,
          5.724400043487549,
          8.526350021362305,
          20.73430061340332,
          8.650500297546387,
          5.240182876586914,
          8.054383277893066,
          5.575517177581787,
          15.503168106079102,
          4.947717189788818,
          5.664933204650879,
          10.209362983703613,
          12.582308769226074,
          15.638667106628418,
          11.354072570800781,
          5.09641695022583,
          8.866314888000488,
          12.620412826538086,
          15.386383056640625,
          12.877374649047852,
          8.128549575805664,
          23.67609977722168,
          5.495230197906494,
          10.3934326171875,
          17.038389205932617,
          5.467066764831543,
          15.202300071716309,
          5.112782955169678,
          5.2307000160217285,
          4.919899940490723,
          16.85926628112793,
          17.05223274230957,
          5.740616798400879,
          14.126282691955566,
          12.168867111206055,
          6.652166843414307,
          5.117883205413818,
          23.472270965576172,
          5.092766761779785,
          9.871282577514648,
          10.742500305175781,
          12.051799774169922,
          4.725032806396484,
          9.211099624633789,
          5.063716888427734,
          22.312667846679688,
          5.709167003631592,
          5.876767158508301,
          5.236682891845703,
          5.7133331298828125,
          8.47933292388916,
          5.11441707611084,
          7.569217205047607,
          5.618478775024414,
          13.015637397766113,
          5.110083103179932,
          17.67354965209961,
          10.397482872009277,
          17.05223274230957,
          5.8231329917907715,
          5.9454498291015625,
          5.788416862487793,
          8.955682754516602,
          5.191829204559326,
          6.00285005569458,
          11.196800231933594,
          5.239467144012451,
          6.032164096832275,
          5.853882789611816,
          11.359416961669922,
          8.19314956665039,
          5.8750081062316895,
          23.09233283996582,
          8.676921844482422,
          5.214550018310547,
          5.696450233459473,
          6.172616958618164,
          5.114482879638672,
          8.85456657409668,
          15.022366523742676,
          9.111183166503906,
          31.037588119506836,
          11.569000244140625,
          9.180583000183105,
          5.030399799346924,
          13.967350006103516,
          5.081517219543457,
          11.196800231933594,
          6.6354169845581055,
          29.26729965209961,
          4.909432888031006,
          12.473998069763184,
          10.036849975585938,
          5.694766998291016,
          11.20199966430664,
          15.92687702178955,
          9.2924165725708,
          5.342216968536377,
          12.371417045593262,
          9.291913032531738,
          15.328967094421387,
          13.325182914733887,
          5.476589202880859,
          22.35420036315918,
          19.587867736816406,
          13.017566680908203,
          12.135000228881836,
          5.102932929992676,
          22.661800384521484,
          5.102932929992676,
          15.31076717376709,
          8.494632720947266,
          12.626916885375977,
          8.881616592407227,
          5.443633079528809,
          14.697954177856445,
          5.018499851226807,
          6.240266799926758,
          16.289033889770508,
          6.184203147888184,
          26.954139709472656,
          5.102982997894287,
          14.277009010314941,
          29.680700302124023,
          6.287483215332031,
          14.428667068481445,
          14.388433456420898,
          6.086299896240234,
          5.325450897216797,
          6.042482852935791,
          5.261366844177246,
          9.123100280761719,
          15.51158332824707,
          4.88528299331665,
          5.466533184051514,
          8.292366981506348,
          13.018033027648926,
          5.930500030517578,
          5.27006721496582,
          26.871126174926758,
          6.401199817657471,
          12.69106674194336,
          11.766383171081543,
          17.919017791748047,
          12.40076732635498,
          5.787567138671875,
          15.583700180053711,
          9.109800338745117,
          5.331367015838623,
          8.32563304901123,
          5.486116886138916,
          5.81831693649292,
          5.641167163848877,
          4.963683128356934,
          6.107399940490723,
          15.678016662597656,
          4.907372951507568,
          9.156794548034668,
          11.912917137145996,
          5.5632500648498535,
          21.876832962036133,
          4.761116981506348,
          11.453601837158203,
          5.018967151641846,
          16.91046714782715,
          9.020116806030273,
          8.216349601745605,
          6.183183193206787,
          24.11906623840332,
          15.171667098999023,
          5.30638313293457,
          12.954667091369629,
          5.725017070770264,
          9.180583000183105,
          5.7368669509887695,
          15.866867065429688,
          10.122200012207031,
          14.958867073059082,
          7.928067207336426,
          20.80121612548828,
          12.53011703491211,
          9.262264251708984,
          7.730116844177246,
          17.028099060058594,
          5.1005330085754395,
          7.903450012207031,
          5.976432800292969,
          24.616966247558594,
          12.58881664276123,
          10.264450073242188,
          15.443567276000977,
          5.391121864318848,
          6.31898307800293,
          10.008916854858398,
          16.287382125854492,
          11.76832389831543,
          7.0091328620910645,
          6.142477989196777,
          25.466510772705078,
          8.629449844360352,
          16.36412811279297,
          24.487232208251953,
          5.543704032897949,
          8.143622398376465,
          5.508749961853027,
          5.953199863433838,
          5.876633167266846,
          5.037103176116943,
          12.26656723022461,
          17.20916748046875,
          5.709016799926758,
          5.614817142486572,
          5.563833236694336,
          5.432783126831055,
          12.5603666305542,
          22.621732711791992,
          16.236717224121094,
          8.879483222961426,
          5.788416862487793,
          12.619767189025879,
          6.635049819946289,
          12.682232856750488,
          14.235383033752441,
          17.956199645996094,
          5.156300067901611,
          5.451399803161621,
          6.982150077819824,
          7.371232986450195,
          5.894599914550781,
          5.086231231689453,
          4.857749938964844,
          16.134117126464844,
          5.863100051879883,
          8.851845741271973,
          5.664933204650879,
          5.756114959716797,
          4.938267230987549,
          7.580516815185547,
          15.016667366027832,
          5.063716888427734,
          4.734416961669922,
          5.680616855621338,
          5.422176837921143,
          13.111177444458008,
          5.80161714553833,
          17.01508331298828,
          10.738733291625977,
          7.928067207336426,
          11.4767427444458,
          5.977232933044434,
          20.9906005859375,
          10.652649879455566,
          8.567418098449707,
          8.603133201599121,
          8.851845741271973,
          9.753250122070312,
          5.820483207702637,
          14.98248291015625,
          5.229158878326416,
          5.473717212677002,
          15.08728313446045,
          14.031682968139648,
          21.82974624633789,
          4.863432884216309,
          4.846049785614014,
          5.423733234405518,
          17.87868309020996,
          6.41835880279541,
          5.543716907501221,
          17.716949462890625,
          7.15291690826416,
          7.1243181228637695,
          5.383266925811768,
          13.565750122070312,
          6.181666851043701,
          13.00393295288086,
          5.870067119598389,
          20.717817306518555,
          5.819867134094238,
          12.7052001953125,
          6.3493242263793945,
          22.896516799926758,
          17.339332580566406,
          8.71226692199707,
          14.312549591064453,
          5.809899806976318,
          14.018050193786621,
          5.028049945831299,
          6.008316993713379,
          5.442217826843262,
          13.331832885742188,
          17.01373291015625,
          17.919017791748047,
          18.17026710510254,
          16.123666763305664,
          9.044750213623047,
          15.104117393493652,
          14.331592559814453,
          11.44663143157959,
          14.016532897949219,
          19.583866119384766,
          5.722050189971924,
          15.286749839782715,
          20.75276756286621,
          5.13111686706543,
          17.02568244934082,
          9.92691707611084,
          7.514200210571289,
          15.866867065429688,
          4.967549800872803,
          9.190750122070312,
          10.742500305175781,
          13.171382904052734,
          6.3045501708984375,
          12.43615436553955,
          13.43239974975586,
          19.49774932861328,
          5.595399856567383,
          5.177029132843018,
          7.3677167892456055,
          10.935216903686523,
          9.76984977722168,
          9.807916641235352,
          4.995020866394043,
          5.993310928344727,
          8.462483406066895,
          12.14383316040039,
          25.466510772705078,
          10.675116539001465,
          6.029716968536377,
          5.19533109664917,
          8.578633308410645,
          17.535316467285156,
          22.804866790771484,
          4.81850004196167,
          12.392212867736816,
          5.526431083679199,
          9.186467170715332,
          20.758750915527344,
          12.535699844360352,
          13.077716827392578,
          7.0920538902282715,
          5.836371898651123,
          7.448583126068115,
          5.332888126373291,
          12.880749702453613,
          11.727916717529297,
          23.034439086914062,
          13.32509994506836,
          11.135466575622559,
          5.335849761962891,
          10.196967124938965,
          8.63151741027832,
          5.205566883087158,
          5.1090168952941895,
          5.095966815948486,
          4.909732818603516,
          15.171667098999023,
          5.102932929992676,
          6.142867088317871,
          24.45181655883789,
          12.419421195983887,
          20.97694969177246,
          4.942782878875732,
          12.582308769226074,
          4.900926113128662,
          22.89715003967285,
          8.561182975769043,
          5.7108330726623535,
          8.950682640075684,
          17.64601707458496,
          5.133633136749268,
          17.287567138671875,
          12.622733116149902,
          8.418299674987793,
          22.416749954223633,
          5.863100051879883,
          14.126282691955566,
          16.123666763305664,
          6.141300201416016,
          5.959917068481445,
          5.876633167266846,
          7.511167049407959,
          5.391121864318848,
          20.76901626586914,
          14.16016674041748,
          4.900926113128662,
          9.861967086791992,
          12.807550430297852,
          4.907372951507568,
          8.881632804870605,
          28.07943344116211,
          29.697717666625977,
          10.84453296661377,
          13.353667259216309,
          5.967617034912109,
          16.20418357849121,
          19.583866119384766,
          17.1525821685791,
          15.262249946594238,
          5.551466941833496,
          4.853532791137695,
          4.940267086029053,
          11.5733003616333,
          24.45181655883789,
          7.904600143432617,
          12.518989562988281,
          5.722617149353027,
          9.180583000183105,
          6.100550174713135,
          5.8735671043396,
          5.564833164215088,
          10.008916854858398,
          12.5465669631958,
          6.0968499183654785,
          12.417383193969727,
          17.148950576782227,
          14.782402038574219,
          4.917200088500977,
          5.956299781799316,
          5.235766887664795,
          5.240182876586914,
          5.854499816894531,
          5.638667106628418,
          5.313666820526123,
          5.079249858856201,
          9.133583068847656,
          14.016400337219238,
          13.633417129516602,
          5.237382888793945,
          5.061916828155518,
          6.926050186157227,
          5.931333065032959,
          5.100949764251709,
          6.12920618057251,
          5.167316913604736,
          8.26751708984375,
          5.788416862487793,
          12.585283279418945,
          23.55853271484375,
          4.915633201599121,
          17.003883361816406,
          12.40076732635498,
          5.245266914367676,
          5.692583084106445,
          8.994132995605469,
          4.837100028991699,
          16.253482818603516,
          6.121132850646973,
          4.930200099945068,
          8.32563304901123,
          11.665157318115234,
          5.286016941070557,
          12.36728286743164,
          4.863616943359375,
          5.883333206176758,
          12.127866744995117,
          11.273417472839355,
          5.488249778747559,
          6.701333045959473,
          8.471400260925293,
          11.616832733154297,
          12.169217109680176,
          9.123100280761719,
          12.126299858093262,
          13.856849670410156,
          5.33253288269043,
          14.183771133422852,
          5.209232807159424,
          5.1005330085754395,
          8.170516967773438,
          17.01373291015625,
          12.814350128173828,
          5.015867233276367,
          11.639766693115234,
          5.34048318862915,
          8.24036693572998,
          13.127400398254395,
          5.721650123596191,
          12.168732643127441,
          12.13913345336914,
          17.01373291015625,
          8.170516967773438,
          5.829800128936768,
          17.22606658935547,
          4.939949989318848,
          8.27180004119873,
          11.248100280761719,
          5.6130499839782715,
          4.877233028411865,
          10.84453296661377,
          6.036832809448242,
          13.170499801635742,
          7.085433006286621,
          8.449132919311523,
          13.32509994506836,
          7.3572001457214355,
          17.038389205932617,
          15.85118293762207,
          17.9058780670166,
          5.722145080566406,
          5.819867134094238,
          8.757283210754395,
          19.832183837890625,
          5.853783130645752,
          11.226550102233887,
          13.32509994506836,
          5.095383167266846,
          10.908766746520996,
          6.263516902923584,
          8.881632804870605,
          17.01373291015625,
          18.17026710510254,
          12.681300163269043,
          7.775199890136719,
          9.131916999816895,
          20.66461753845215,
          12.07053279876709,
          8.098099708557129,
          14.593732833862305,
          11.273417472839355,
          10.159116744995117,
          5.451399803161621,
          15.854299545288086,
          16.72464942932129,
          11.25113296508789,
          12.624199867248535,
          4.94064998626709,
          8.444950103759766,
          22.91871452331543,
          15.256449699401855,
          17.42959976196289,
          5.862617015838623,
          4.725032806396484,
          5.833160877227783,
          5.303417205810547,
          5.906932830810547,
          9.385333061218262,
          10.004266738891602,
          17.234350204467773,
          20.601417541503906,
          27.563716888427734,
          11.592733383178711,
          13.679729461669922,
          12.759833335876465,
          10.159116744995117,
          8.66623306274414,
          5.171082973480225,
          6.012567043304443,
          5.072183132171631,
          14.025333404541016,
          8.747200012207031,
          6.990333080291748,
          5.220300197601318,
          9.176650047302246,
          5.035150051116943,
          6.3072829246521,
          5.894599914550781,
          6.3493242263793945,
          16.09779930114746,
          12.168867111206055,
          8.728090286254883,
          7.675882816314697,
          17.956199645996094,
          5.595399856567383,
          24.672483444213867,
          25.466510772705078,
          13.115467071533203,
          5.248000144958496,
          15.40703296661377,
          11.188699722290039,
          15.06016731262207,
          10.334342956542969,
          6.119150161743164,
          5.555500030517578,
          5.991917133331299,
          12.665440559387207,
          17.088699340820312,
          15.076199531555176,
          8.098099708557129,
          5.709016799926758,
          5.850367069244385,
          6.602482795715332,
          5.962048053741455,
          5.508749961853027,
          12.5603666305542,
          8.19314956665039,
          5.686767101287842,
          15.035799980163574,
          12.650349617004395,
          19.1610164642334,
          5.229158878326416,
          15.317882537841797,
          5.461599826812744,
          7.594283103942871,
          4.9206671714782715,
          19.520383834838867,
          6.267199993133545,
          5.485269069671631,
          9.974873542785645,
          16.403032302856445,
          5.117066860198975,
          5.638816833496094,
          25.4951171875,
          7.038217067718506,
          17.69026756286621,
          4.90749979019165,
          11.676016807556152,
          5.9344329833984375,
          14.95163345336914,
          15.128683090209961,
          13.898417472839355,
          15.36848258972168,
          5.488249778747559,
          10.91193962097168,
          6.205417156219482,
          5.2459330558776855,
          9.983149528503418,
          5.229158878326416,
          23.799745559692383,
          13.838712692260742,
          5.699283123016357,
          10.309049606323242,
          5.160067081451416,
          15.638667106628418,
          7.849699974060059,
          5.217249870300293,
          13.54151725769043,
          8.459567070007324,
          12.042817115783691,
          16.2044677734375,
          5.052416801452637,
          17.769699096679688,
          11.34179973602295,
          12.135000228881836,
          9.409382820129395,
          5.367815017700195,
          20.600536346435547,
          12.156932830810547,
          5.963544845581055,
          12.582308769226074,
          12.16355037689209,
          9.861967086791992,
          7.29330587387085,
          5.030399799346924,
          27.317182540893555,
          20.955432891845703,
          5.474833011627197,
          12.463932991027832,
          11.16433334350586,
          5.158767223358154,
          10.196967124938965,
          5.572432994842529,
          5.462082862854004,
          8.488733291625977,
          5.322965145111084,
          5.363633155822754,
          5.244382858276367,
          6.776750087738037,
          11.235516548156738,
          6.595799922943115,
          14.95163345336914,
          6.854883193969727,
          7.716149806976318,
          5.170932769775391,
          5.904417037963867,
          5.824999809265137,
          4.907933235168457,
          16.25385093688965,
          7.8562331199646,
          10.397501945495605,
          7.514200210571289,
          6.081737995147705,
          9.953617095947266,
          5.286016941070557,
          12.071566581726074,
          11.188699722290039,
          10.91193962097168,
          15.353282928466797,
          15.92508316040039,
          5.386016845703125,
          18.931032180786133,
          12.650016784667969,
          7.951517105102539,
          6.006217002868652,
          11.586000442504883,
          5.167449951171875,
          5.222617149353027,
          5.747350215911865,
          8.224932670593262,
          11.524717330932617,
          12.799817085266113,
          6.55679988861084,
          5.443817138671875,
          5.439549922943115,
          6.5406670570373535,
          14.735136985778809,
          11.248250007629395,
          5.85841703414917,
          9.176650047302246,
          5.107900142669678,
          5.723617076873779,
          12.024649620056152,
          21.282033920288086,
          5.928750038146973,
          9.764567375183105,
          5.883333206176758,
          12.485016822814941,
          14.996549606323242,
          10.652649879455566,
          9.190750122070312,
          5.2956671714782715,
          15.570432662963867,
          12.668466567993164,
          5.189174175262451,
          18.363983154296875,
          5.997250080108643,
          15.11856746673584,
          5.238426208496094,
          22.91871452331543,
          5.321816921234131,
          5.312150001525879,
          5.2956671714782715,
          12.37734317779541,
          11.394183158874512,
          15.344866752624512,
          5.1658501625061035,
          5.330729961395264,
          6.635049819946289,
          5.247132778167725,
          10.439132690429688,
          8.908516883850098,
          8.030150413513184,
          15.076199531555176,
          6.887324810028076,
          16.064849853515625,
          9.013833045959473,
          7.670332908630371,
          12.135017395019531,
          5.242166996002197,
          5.552149772644043,
          5.935949802398682,
          12.294182777404785,
          15.330050468444824,
          21.90345001220703,
          8.418333053588867,
          5.278367042541504,
          17.09353256225586,
          5.87641716003418,
          5.30495023727417,
          11.388327598571777,
          12.476412773132324,
          6.116700172424316,
          15.30483341217041,
          20.75276756286621,
          15.379133224487305,
          12.099989891052246,
          5.634749889373779,
          5.110083103179932,
          8.494632720947266,
          29.034700393676758,
          7.29330587387085,
          7.8562331199646,
          11.473250389099121,
          11.189032554626465,
          11.44087028503418,
          10.250450134277344,
          5.5528340339660645,
          6.1578497886657715,
          16.915950775146484,
          5.72996711730957,
          5.439549922943115,
          5.483182907104492,
          6.021432876586914,
          7.678116798400879,
          8.432267189025879,
          15.878083229064941,
          17.088699340820312,
          14.819382667541504,
          11.8785400390625,
          17.028099060058594,
          5.214550018310547,
          7.276500225067139,
          5.326749801635742,
          10.085183143615723,
          4.941116809844971,
          9.385333061218262,
          16.134117126464844,
          11.62844467163086,
          5.312150001525879,
          10.141532897949219,
          11.723933219909668,
          12.799817085266113,
          8.242420196533203,
          8.732087135314941,
          8.542588233947754,
          5.485269069671631,
          13.967766761779785,
          12.12796688079834,
          14.076132774353027,
          31.037588119506836,
          14.963382720947266,
          5.564833164215088,
          13.919882774353027,
          17.065750122070312,
          8.678916931152344,
          9.97366714477539,
          7.307048797607422,
          5.612596035003662,
          5.339700222015381,
          5.204782962799072,
          6.656650066375732,
          5.634749889373779,
          5.4832000732421875,
          6.037278175354004,
          5.835916996002197,
          18.526195526123047,
          11.522297859191895,
          7.511167049407959,
          4.711382865905762,
          5.227632999420166,
          12.000967025756836,
          11.359416961669922,
          11.166874885559082,
          5.397417068481445,
          15.165582656860352,
          15.263250350952148,
          9.13320541381836,
          4.8956499099731445,
          25.912368774414062,
          16.09779930114746,
          5.155582904815674,
          4.973249912261963,
          5.618478775024414,
          9.087754249572754,
          5.235020160675049,
          5.853600025177002,
          8.445182800292969,
          24.611982345581055,
          12.487683296203613,
          14.269017219543457,
          11.515982627868652,
          17.30706787109375,
          17.303932189941406,
          6.140132904052734,
          15.00629997253418,
          13.541885375976562,
          5.311916828155518,
          15.128683090209961,
          12.139166831970215,
          10.807332992553711,
          13.743049621582031,
          11.44663143157959,
          12.95518684387207,
          10.111742973327637,
          5.873170852661133,
          17.109216690063477,
          14.55685043334961,
          5.466533184051514,
          11.522297859191895,
          19.03048324584961,
          9.133583068847656,
          15.11856746673584,
          5.756114959716797,
          8.075599670410156,
          8.213749885559082,
          5.977232933044434,
          9.807916641235352,
          5.518125057220459,
          11.440032958984375,
          6.097567081451416,
          8.881632804870605,
          15.140132904052734,
          4.884616851806641,
          16.791349411010742,
          6.811049938201904,
          6.636149883270264,
          6.073432922363281,
          13.919882774353027,
          25.006250381469727
         ],
         "marker": {
          "color": "darkgreen",
          "size": 5
         },
         "mode": "markers",
         "name": "",
         "showlegend": false,
         "subplot": "mapbox",
         "type": "scattermapbox"
        }
       ],
       "layout": {
        "height": 600,
        "legend": {
         "tracegroupgap": 0
        },
        "mapbox": {
         "center": {
          "lat": 63.867835998535156,
          "lon": 10.49783992767334
         },
         "domain": {
          "x": [
           0,
           1
          ],
          "y": [
           0,
           1
          ]
         },
         "style": "open-street-map",
         "zoom": 14
        },
        "margin": {
         "b": 0,
         "l": 0,
         "r": 0,
         "t": 0
        },
        "template": {
         "data": {
          "bar": [
           {
            "error_x": {
             "color": "#2a3f5f"
            },
            "error_y": {
             "color": "#2a3f5f"
            },
            "marker": {
             "line": {
              "color": "#E5ECF6",
              "width": 0.5
             },
             "pattern": {
              "fillmode": "overlay",
              "size": 10,
              "solidity": 0.2
             }
            },
            "type": "bar"
           }
          ],
          "barpolar": [
           {
            "marker": {
             "line": {
              "color": "#E5ECF6",
              "width": 0.5
             },
             "pattern": {
              "fillmode": "overlay",
              "size": 10,
              "solidity": 0.2
             }
            },
            "type": "barpolar"
           }
          ],
          "carpet": [
           {
            "aaxis": {
             "endlinecolor": "#2a3f5f",
             "gridcolor": "white",
             "linecolor": "white",
             "minorgridcolor": "white",
             "startlinecolor": "#2a3f5f"
            },
            "baxis": {
             "endlinecolor": "#2a3f5f",
             "gridcolor": "white",
             "linecolor": "white",
             "minorgridcolor": "white",
             "startlinecolor": "#2a3f5f"
            },
            "type": "carpet"
           }
          ],
          "choropleth": [
           {
            "colorbar": {
             "outlinewidth": 0,
             "ticks": ""
            },
            "type": "choropleth"
           }
          ],
          "contour": [
           {
            "colorbar": {
             "outlinewidth": 0,
             "ticks": ""
            },
            "colorscale": [
             [
              0,
              "#0d0887"
             ],
             [
              0.1111111111111111,
              "#46039f"
             ],
             [
              0.2222222222222222,
              "#7201a8"
             ],
             [
              0.3333333333333333,
              "#9c179e"
             ],
             [
              0.4444444444444444,
              "#bd3786"
             ],
             [
              0.5555555555555556,
              "#d8576b"
             ],
             [
              0.6666666666666666,
              "#ed7953"
             ],
             [
              0.7777777777777778,
              "#fb9f3a"
             ],
             [
              0.8888888888888888,
              "#fdca26"
             ],
             [
              1,
              "#f0f921"
             ]
            ],
            "type": "contour"
           }
          ],
          "contourcarpet": [
           {
            "colorbar": {
             "outlinewidth": 0,
             "ticks": ""
            },
            "type": "contourcarpet"
           }
          ],
          "heatmap": [
           {
            "colorbar": {
             "outlinewidth": 0,
             "ticks": ""
            },
            "colorscale": [
             [
              0,
              "#0d0887"
             ],
             [
              0.1111111111111111,
              "#46039f"
             ],
             [
              0.2222222222222222,
              "#7201a8"
             ],
             [
              0.3333333333333333,
              "#9c179e"
             ],
             [
              0.4444444444444444,
              "#bd3786"
             ],
             [
              0.5555555555555556,
              "#d8576b"
             ],
             [
              0.6666666666666666,
              "#ed7953"
             ],
             [
              0.7777777777777778,
              "#fb9f3a"
             ],
             [
              0.8888888888888888,
              "#fdca26"
             ],
             [
              1,
              "#f0f921"
             ]
            ],
            "type": "heatmap"
           }
          ],
          "heatmapgl": [
           {
            "colorbar": {
             "outlinewidth": 0,
             "ticks": ""
            },
            "colorscale": [
             [
              0,
              "#0d0887"
             ],
             [
              0.1111111111111111,
              "#46039f"
             ],
             [
              0.2222222222222222,
              "#7201a8"
             ],
             [
              0.3333333333333333,
              "#9c179e"
             ],
             [
              0.4444444444444444,
              "#bd3786"
             ],
             [
              0.5555555555555556,
              "#d8576b"
             ],
             [
              0.6666666666666666,
              "#ed7953"
             ],
             [
              0.7777777777777778,
              "#fb9f3a"
             ],
             [
              0.8888888888888888,
              "#fdca26"
             ],
             [
              1,
              "#f0f921"
             ]
            ],
            "type": "heatmapgl"
           }
          ],
          "histogram": [
           {
            "marker": {
             "pattern": {
              "fillmode": "overlay",
              "size": 10,
              "solidity": 0.2
             }
            },
            "type": "histogram"
           }
          ],
          "histogram2d": [
           {
            "colorbar": {
             "outlinewidth": 0,
             "ticks": ""
            },
            "colorscale": [
             [
              0,
              "#0d0887"
             ],
             [
              0.1111111111111111,
              "#46039f"
             ],
             [
              0.2222222222222222,
              "#7201a8"
             ],
             [
              0.3333333333333333,
              "#9c179e"
             ],
             [
              0.4444444444444444,
              "#bd3786"
             ],
             [
              0.5555555555555556,
              "#d8576b"
             ],
             [
              0.6666666666666666,
              "#ed7953"
             ],
             [
              0.7777777777777778,
              "#fb9f3a"
             ],
             [
              0.8888888888888888,
              "#fdca26"
             ],
             [
              1,
              "#f0f921"
             ]
            ],
            "type": "histogram2d"
           }
          ],
          "histogram2dcontour": [
           {
            "colorbar": {
             "outlinewidth": 0,
             "ticks": ""
            },
            "colorscale": [
             [
              0,
              "#0d0887"
             ],
             [
              0.1111111111111111,
              "#46039f"
             ],
             [
              0.2222222222222222,
              "#7201a8"
             ],
             [
              0.3333333333333333,
              "#9c179e"
             ],
             [
              0.4444444444444444,
              "#bd3786"
             ],
             [
              0.5555555555555556,
              "#d8576b"
             ],
             [
              0.6666666666666666,
              "#ed7953"
             ],
             [
              0.7777777777777778,
              "#fb9f3a"
             ],
             [
              0.8888888888888888,
              "#fdca26"
             ],
             [
              1,
              "#f0f921"
             ]
            ],
            "type": "histogram2dcontour"
           }
          ],
          "mesh3d": [
           {
            "colorbar": {
             "outlinewidth": 0,
             "ticks": ""
            },
            "type": "mesh3d"
           }
          ],
          "parcoords": [
           {
            "line": {
             "colorbar": {
              "outlinewidth": 0,
              "ticks": ""
             }
            },
            "type": "parcoords"
           }
          ],
          "pie": [
           {
            "automargin": true,
            "type": "pie"
           }
          ],
          "scatter": [
           {
            "fillpattern": {
             "fillmode": "overlay",
             "size": 10,
             "solidity": 0.2
            },
            "type": "scatter"
           }
          ],
          "scatter3d": [
           {
            "line": {
             "colorbar": {
              "outlinewidth": 0,
              "ticks": ""
             }
            },
            "marker": {
             "colorbar": {
              "outlinewidth": 0,
              "ticks": ""
             }
            },
            "type": "scatter3d"
           }
          ],
          "scattercarpet": [
           {
            "marker": {
             "colorbar": {
              "outlinewidth": 0,
              "ticks": ""
             }
            },
            "type": "scattercarpet"
           }
          ],
          "scattergeo": [
           {
            "marker": {
             "colorbar": {
              "outlinewidth": 0,
              "ticks": ""
             }
            },
            "type": "scattergeo"
           }
          ],
          "scattergl": [
           {
            "marker": {
             "colorbar": {
              "outlinewidth": 0,
              "ticks": ""
             }
            },
            "type": "scattergl"
           }
          ],
          "scattermapbox": [
           {
            "marker": {
             "colorbar": {
              "outlinewidth": 0,
              "ticks": ""
             }
            },
            "type": "scattermapbox"
           }
          ],
          "scatterpolar": [
           {
            "marker": {
             "colorbar": {
              "outlinewidth": 0,
              "ticks": ""
             }
            },
            "type": "scatterpolar"
           }
          ],
          "scatterpolargl": [
           {
            "marker": {
             "colorbar": {
              "outlinewidth": 0,
              "ticks": ""
             }
            },
            "type": "scatterpolargl"
           }
          ],
          "scatterternary": [
           {
            "marker": {
             "colorbar": {
              "outlinewidth": 0,
              "ticks": ""
             }
            },
            "type": "scatterternary"
           }
          ],
          "surface": [
           {
            "colorbar": {
             "outlinewidth": 0,
             "ticks": ""
            },
            "colorscale": [
             [
              0,
              "#0d0887"
             ],
             [
              0.1111111111111111,
              "#46039f"
             ],
             [
              0.2222222222222222,
              "#7201a8"
             ],
             [
              0.3333333333333333,
              "#9c179e"
             ],
             [
              0.4444444444444444,
              "#bd3786"
             ],
             [
              0.5555555555555556,
              "#d8576b"
             ],
             [
              0.6666666666666666,
              "#ed7953"
             ],
             [
              0.7777777777777778,
              "#fb9f3a"
             ],
             [
              0.8888888888888888,
              "#fdca26"
             ],
             [
              1,
              "#f0f921"
             ]
            ],
            "type": "surface"
           }
          ],
          "table": [
           {
            "cells": {
             "fill": {
              "color": "#EBF0F8"
             },
             "line": {
              "color": "white"
             }
            },
            "header": {
             "fill": {
              "color": "#C8D4E3"
             },
             "line": {
              "color": "white"
             }
            },
            "type": "table"
           }
          ]
         },
         "layout": {
          "annotationdefaults": {
           "arrowcolor": "#2a3f5f",
           "arrowhead": 0,
           "arrowwidth": 1
          },
          "autotypenumbers": "strict",
          "coloraxis": {
           "colorbar": {
            "outlinewidth": 0,
            "ticks": ""
           }
          },
          "colorscale": {
           "diverging": [
            [
             0,
             "#8e0152"
            ],
            [
             0.1,
             "#c51b7d"
            ],
            [
             0.2,
             "#de77ae"
            ],
            [
             0.3,
             "#f1b6da"
            ],
            [
             0.4,
             "#fde0ef"
            ],
            [
             0.5,
             "#f7f7f7"
            ],
            [
             0.6,
             "#e6f5d0"
            ],
            [
             0.7,
             "#b8e186"
            ],
            [
             0.8,
             "#7fbc41"
            ],
            [
             0.9,
             "#4d9221"
            ],
            [
             1,
             "#276419"
            ]
           ],
           "sequential": [
            [
             0,
             "#0d0887"
            ],
            [
             0.1111111111111111,
             "#46039f"
            ],
            [
             0.2222222222222222,
             "#7201a8"
            ],
            [
             0.3333333333333333,
             "#9c179e"
            ],
            [
             0.4444444444444444,
             "#bd3786"
            ],
            [
             0.5555555555555556,
             "#d8576b"
            ],
            [
             0.6666666666666666,
             "#ed7953"
            ],
            [
             0.7777777777777778,
             "#fb9f3a"
            ],
            [
             0.8888888888888888,
             "#fdca26"
            ],
            [
             1,
             "#f0f921"
            ]
           ],
           "sequentialminus": [
            [
             0,
             "#0d0887"
            ],
            [
             0.1111111111111111,
             "#46039f"
            ],
            [
             0.2222222222222222,
             "#7201a8"
            ],
            [
             0.3333333333333333,
             "#9c179e"
            ],
            [
             0.4444444444444444,
             "#bd3786"
            ],
            [
             0.5555555555555556,
             "#d8576b"
            ],
            [
             0.6666666666666666,
             "#ed7953"
            ],
            [
             0.7777777777777778,
             "#fb9f3a"
            ],
            [
             0.8888888888888888,
             "#fdca26"
            ],
            [
             1,
             "#f0f921"
            ]
           ]
          },
          "colorway": [
           "#636efa",
           "#EF553B",
           "#00cc96",
           "#ab63fa",
           "#FFA15A",
           "#19d3f3",
           "#FF6692",
           "#B6E880",
           "#FF97FF",
           "#FECB52"
          ],
          "font": {
           "color": "#2a3f5f"
          },
          "geo": {
           "bgcolor": "white",
           "lakecolor": "white",
           "landcolor": "#E5ECF6",
           "showlakes": true,
           "showland": true,
           "subunitcolor": "white"
          },
          "hoverlabel": {
           "align": "left"
          },
          "hovermode": "closest",
          "mapbox": {
           "style": "light"
          },
          "paper_bgcolor": "white",
          "plot_bgcolor": "#E5ECF6",
          "polar": {
           "angularaxis": {
            "gridcolor": "white",
            "linecolor": "white",
            "ticks": ""
           },
           "bgcolor": "#E5ECF6",
           "radialaxis": {
            "gridcolor": "white",
            "linecolor": "white",
            "ticks": ""
           }
          },
          "scene": {
           "xaxis": {
            "backgroundcolor": "#E5ECF6",
            "gridcolor": "white",
            "gridwidth": 2,
            "linecolor": "white",
            "showbackground": true,
            "ticks": "",
            "zerolinecolor": "white"
           },
           "yaxis": {
            "backgroundcolor": "#E5ECF6",
            "gridcolor": "white",
            "gridwidth": 2,
            "linecolor": "white",
            "showbackground": true,
            "ticks": "",
            "zerolinecolor": "white"
           },
           "zaxis": {
            "backgroundcolor": "#E5ECF6",
            "gridcolor": "white",
            "gridwidth": 2,
            "linecolor": "white",
            "showbackground": true,
            "ticks": "",
            "zerolinecolor": "white"
           }
          },
          "shapedefaults": {
           "line": {
            "color": "#2a3f5f"
           }
          },
          "ternary": {
           "aaxis": {
            "gridcolor": "white",
            "linecolor": "white",
            "ticks": ""
           },
           "baxis": {
            "gridcolor": "white",
            "linecolor": "white",
            "ticks": ""
           },
           "bgcolor": "#E5ECF6",
           "caxis": {
            "gridcolor": "white",
            "linecolor": "white",
            "ticks": ""
           }
          },
          "title": {
           "x": 0.05
          },
          "xaxis": {
           "automargin": true,
           "gridcolor": "white",
           "linecolor": "white",
           "ticks": "",
           "title": {
            "standoff": 15
           },
           "zerolinecolor": "white",
           "zerolinewidth": 2
          },
          "yaxis": {
           "automargin": true,
           "gridcolor": "white",
           "linecolor": "white",
           "ticks": "",
           "title": {
            "standoff": 15
           },
           "zerolinecolor": "white",
           "zerolinewidth": 2
          }
         }
        },
        "width": 700
       }
      }
     },
     "metadata": {},
     "output_type": "display_data"
    }
   ],
   "source": [
    "fig_fish.show()"
   ]
  },
  {
   "cell_type": "code",
   "execution_count": null,
   "metadata": {},
   "outputs": [],
   "source": []
  }
 ],
 "metadata": {
  "kernelspec": {
   "display_name": "IND",
   "language": "python",
   "name": "python3"
  },
  "language_info": {
   "codemirror_mode": {
    "name": "ipython",
    "version": 3
   },
   "file_extension": ".py",
   "mimetype": "text/x-python",
   "name": "python",
   "nbconvert_exporter": "python",
   "pygments_lexer": "ipython3",
   "version": "3.11.5"
  }
 },
 "nbformat": 4,
 "nbformat_minor": 2
}
